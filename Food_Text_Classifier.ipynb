{
 "cells": [
  {
   "cell_type": "markdown",
   "metadata": {},
   "source": [
    "# Imports"
   ]
  },
  {
   "cell_type": "code",
   "execution_count": 1,
   "metadata": {},
   "outputs": [
    {
     "name": "stderr",
     "output_type": "stream",
     "text": [
      "Using TensorFlow backend.\n"
     ]
    }
   ],
   "source": [
    "# Import the required libraries \n",
    "from sklearn.feature_extraction.text import TfidfVectorizer\n",
    "from keras.models import Sequential\n",
    "from keras.layers import Dense, Dropout\n",
    "from keras.utils import np_utils\n",
    "from sklearn import datasets\n",
    "from sklearn.model_selection import train_test_split\n",
    "from sklearn.metrics import accuracy_score\n",
    "import numpy as np"
   ]
  },
  {
   "cell_type": "markdown",
   "metadata": {},
   "source": [
    "## Processing Dataset"
   ]
  },
  {
   "cell_type": "code",
   "execution_count": 2,
   "metadata": {},
   "outputs": [],
   "source": [
    "text_dir = 'D:\\\\Tu Beo\\\\Education\\\\FoodVisor\\\\data\\\\UPMC_Food101\\\\texts_test_txt'"
   ]
  },
  {
   "cell_type": "code",
   "execution_count": 3,
   "metadata": {},
   "outputs": [],
   "source": [
    "all_texts = datasets.load_files(text_dir, \n",
    "            description=None, categories=None, load_content=True, shuffle=False, \n",
    "                                        encoding='utf-8', decode_error='strict', random_state=0)"
   ]
  },
  {
   "cell_type": "code",
   "execution_count": 4,
   "metadata": {},
   "outputs": [
    {
     "data": {
      "text/plain": [
       "dict_keys(['data', 'filenames', 'target_names', 'target', 'DESCR'])"
      ]
     },
     "execution_count": 4,
     "metadata": {},
     "output_type": "execute_result"
    }
   ],
   "source": [
    "all_texts.keys()"
   ]
  },
  {
   "cell_type": "code",
   "execution_count": 5,
   "metadata": {},
   "outputs": [
    {
     "data": {
      "text/plain": [
       "array(['D:\\\\Tu Beo\\\\Education\\\\FoodVisor\\\\data\\\\UPMC_Food101\\\\texts_test_txt\\\\apple_pie\\\\apple_pie_181.txt',\n",
       "       'D:\\\\Tu Beo\\\\Education\\\\FoodVisor\\\\data\\\\UPMC_Food101\\\\texts_test_txt\\\\baklava\\\\baklava_636.txt',\n",
       "       'D:\\\\Tu Beo\\\\Education\\\\FoodVisor\\\\data\\\\UPMC_Food101\\\\texts_test_txt\\\\apple_pie\\\\apple_pie_573.txt',\n",
       "       'D:\\\\Tu Beo\\\\Education\\\\FoodVisor\\\\data\\\\UPMC_Food101\\\\texts_test_txt\\\\apple_pie\\\\apple_pie_493.txt',\n",
       "       'D:\\\\Tu Beo\\\\Education\\\\FoodVisor\\\\data\\\\UPMC_Food101\\\\texts_test_txt\\\\apple_pie\\\\apple_pie_203.txt'],\n",
       "      dtype='<U100')"
      ]
     },
     "execution_count": 5,
     "metadata": {},
     "output_type": "execute_result"
    }
   ],
   "source": [
    "all_texts.filenames[:5]"
   ]
  },
  {
   "cell_type": "code",
   "execution_count": 6,
   "metadata": {},
   "outputs": [
    {
     "data": {
      "text/plain": [
       "['apple_pie', 'baby_back_ribs', 'baklava']"
      ]
     },
     "execution_count": 6,
     "metadata": {},
     "output_type": "execute_result"
    }
   ],
   "source": [
    "all_texts.target_names[:5]"
   ]
  },
  {
   "cell_type": "code",
   "execution_count": 7,
   "metadata": {},
   "outputs": [
    {
     "data": {
      "text/plain": [
       "array([0, 2, 0, 0, 0])"
      ]
     },
     "execution_count": 7,
     "metadata": {},
     "output_type": "execute_result"
    }
   ],
   "source": [
    "all_texts.target[:5]"
   ]
  },
  {
   "cell_type": "markdown",
   "metadata": {},
   "source": [
    "## Preprocessing words"
   ]
  },
  {
   "cell_type": "code",
   "execution_count": 8,
   "metadata": {},
   "outputs": [],
   "source": [
    "all_docs = all_texts.data"
   ]
  },
  {
   "cell_type": "code",
   "execution_count": 9,
   "metadata": {},
   "outputs": [
    {
     "data": {
      "text/plain": [
       "list"
      ]
     },
     "execution_count": 9,
     "metadata": {},
     "output_type": "execute_result"
    }
   ],
   "source": [
    "type(all_docs)"
   ]
  },
  {
   "cell_type": "code",
   "execution_count": 10,
   "metadata": {},
   "outputs": [
    {
     "data": {
      "text/plain": [
       "2635"
      ]
     },
     "execution_count": 10,
     "metadata": {},
     "output_type": "execute_result"
    }
   ],
   "source": [
    "len(all_docs)"
   ]
  },
  {
   "cell_type": "code",
   "execution_count": 13,
   "metadata": {},
   "outputs": [],
   "source": [
    "from nltk.corpus import stopwords \n",
    "from nltk.tokenize import word_tokenize \n",
    "from nltk.stem import PorterStemmer"
   ]
  },
  {
   "cell_type": "code",
   "execution_count": 14,
   "metadata": {},
   "outputs": [],
   "source": [
    "stop_words = set(stopwords.words('english')) \n",
    "porter = PorterStemmer()"
   ]
  },
  {
   "cell_type": "code",
   "execution_count": 200,
   "metadata": {},
   "outputs": [
    {
     "name": "stdout",
     "output_type": "stream",
     "text": [
      "Wall time: 3min 2s\n"
     ]
    }
   ],
   "source": [
    "%%time\n",
    "proc_docs = []\n",
    "\n",
    "for doc in all_docs:\n",
    "    word_tokens = word_tokenize(doc) \n",
    "    processed = [w for w in word_tokens if not w in stop_words]\n",
    "    processed = [porter.stem(w) for w in word_tokens]\n",
    "    proc_docs.append(processed)"
   ]
  },
  {
   "cell_type": "code",
   "execution_count": 18,
   "metadata": {},
   "outputs": [],
   "source": [
    "vocab = dict()\n",
    "for doc in proc_docs:\n",
    "    for w in doc :\n",
    "        vocab[w] = vocab.get(w, 0) + 1"
   ]
  },
  {
   "cell_type": "code",
   "execution_count": 202,
   "metadata": {},
   "outputs": [],
   "source": [
    "vocab_doc = dict()\n",
    "for doc in proc_docs:\n",
    "    doc = set(doc)\n",
    "    for w in doc :\n",
    "        vocab_doc[w] = vocab_doc.get(w, 0) + 1"
   ]
  },
  {
   "cell_type": "code",
   "execution_count": 201,
   "metadata": {},
   "outputs": [
    {
     "data": {
      "text/plain": [
       "67312"
      ]
     },
     "execution_count": 201,
     "metadata": {},
     "output_type": "execute_result"
    }
   ],
   "source": [
    "vocab['recip']"
   ]
  },
  {
   "cell_type": "code",
   "execution_count": 203,
   "metadata": {},
   "outputs": [
    {
     "data": {
      "text/plain": [
       "2554"
      ]
     },
     "execution_count": 203,
     "metadata": {},
     "output_type": "execute_result"
    }
   ],
   "source": [
    "vocab_doc['recip']"
   ]
  },
  {
   "cell_type": "code",
   "execution_count": 206,
   "metadata": {},
   "outputs": [
    {
     "data": {
      "text/plain": [
       "78244"
      ]
     },
     "execution_count": 206,
     "metadata": {},
     "output_type": "execute_result"
    }
   ],
   "source": [
    "len(vocab)"
   ]
  },
  {
   "cell_type": "code",
   "execution_count": 207,
   "metadata": {},
   "outputs": [
    {
     "data": {
      "text/plain": [
       "78244"
      ]
     },
     "execution_count": 207,
     "metadata": {},
     "output_type": "execute_result"
    }
   ],
   "source": [
    "len(vocab_doc)"
   ]
  },
  {
   "cell_type": "code",
   "execution_count": 50,
   "metadata": {},
   "outputs": [],
   "source": [
    "def top_words(count, get = 20, reverse=True) :\n",
    "    c = 0\n",
    "    for w in sorted(count, key=count.get, reverse=reverse):\n",
    "        c += 1\n",
    "        if c > get :\n",
    "            break\n",
    "        print(w,\": \", count[w])"
   ]
  },
  {
   "cell_type": "code",
   "execution_count": 48,
   "metadata": {},
   "outputs": [],
   "source": [
    "def slice_words(count, below, top) :\n",
    "    \"\"\"\n",
    "    Remove words that occur less than (and more than) a number of time  \\n\n",
    "    and return the removed words.\n",
    "    \"\"\"\n",
    "    c = 0\n",
    "    removed_words = []\n",
    "    # bottom up\n",
    "    for w in sorted(count, key=count.get, reverse=False):\n",
    "        if count[w] < below :\n",
    "            c += 1\n",
    "            removed_words.append(w)\n",
    "            # print(w,\": \", count[w])\n",
    "        else:\n",
    "            break\n",
    "    # top down\n",
    "    for w in sorted(count, key=count.get, reverse=True):\n",
    "        if count[w] > top :\n",
    "            c += 1\n",
    "            removed_words.append(w)\n",
    "            # print(w,\": \", count[w])\n",
    "        else:\n",
    "            break\n",
    "    print(c, \" words to be removed.\")\n",
    "    return removed_words"
   ]
  },
  {
   "cell_type": "code",
   "execution_count": 205,
   "metadata": {},
   "outputs": [
    {
     "name": "stdout",
     "output_type": "stream",
     "text": [
      "# :  2573\n",
      ". :  2573\n",
      "to :  2568\n",
      ", :  2566\n",
      "the :  2560\n",
      "and :  2560\n",
      "recip :  2554\n",
      "a :  2543\n",
      "of :  2536\n",
      ": :  2528\n",
      "for :  2527\n",
      "with :  2526\n",
      "* :  2505\n",
      "in :  2483\n",
      "( :  2472\n",
      ") :  2472\n",
      "on :  2457\n",
      "you :  2436\n",
      "about :  2396\n",
      "thi :  2373\n",
      "1 :  2362\n",
      "all :  2347\n",
      "from :  2316\n",
      "your :  2312\n",
      "is :  2299\n",
      "or :  2278\n",
      "2 :  2259\n",
      "! :  2257\n",
      "by :  2224\n",
      "use :  2222\n",
      "'s :  2216\n",
      "make :  2183\n",
      "more :  2177\n",
      "it :  2168\n",
      "home :  2151\n",
      "** :  2127\n",
      "cook :  2119\n",
      "& :  2110\n",
      "are :  2104\n",
      "food :  2090\n",
      "3 :  2086\n",
      "ingredi :  2079\n",
      "at :  2044\n",
      "4 :  2012\n",
      "be :  1984\n",
      "? :  1972\n",
      "bake :  1936\n",
      "top :  1935\n",
      "5 :  1933\n",
      "minut :  1930\n",
      "sugar :  1926\n",
      "that :  1917\n",
      "time :  1913\n",
      "contact :  1906\n",
      "dessert :  1903\n",
      "have :  1889\n",
      "like :  1880\n",
      "not :  1868\n",
      "I :  1862\n",
      "can :  1851\n",
      "up :  1847\n",
      "will :  1845\n",
      "serv :  1837\n",
      "get :  1824\n",
      "add :  1808\n",
      "over :  1807\n",
      "out :  1799\n",
      "email :  1797\n",
      "one :  1791\n",
      "cup :  1788\n",
      "2014 :  1774\n",
      "into :  1768\n",
      "comment :  1761\n",
      "until :  1757\n",
      "post :  1737\n",
      "10 :  1731\n",
      "new :  1724\n",
      "easi :  1722\n",
      "our :  1718\n",
      "right :  1716\n",
      "6 :  1712\n",
      "an :  1711\n",
      "as :  1690\n",
      "how :  1679\n",
      "- :  1671\n",
      "blog :  1659\n",
      "share :  1646\n",
      "In :  1644\n",
      "sweet :  1640\n",
      "search :  1624\n",
      "dish :  1620\n",
      "place :  1603\n",
      "but :  1588\n",
      "A :  1579\n",
      "It :  1576\n",
      "back :  1576\n",
      "here :  1568\n",
      "so :  1565\n",
      "side :  1563\n",
      "just :  1561\n",
      "n't :  1561\n",
      "oven :  1552\n",
      "cut :  1551\n",
      "brown :  1548\n",
      "'' :  1547\n",
      "these :  1544\n",
      "day :  1534\n",
      "pie :  1526\n",
      "8 :  1525\n",
      "best :  1525\n",
      "tri :  1523\n",
      "_ :  1515\n",
      "my :  1508\n",
      "love :  1502\n",
      "privaci :  1499\n",
      "what :  1492\n",
      "delici :  1492\n",
      "facebook :  1490\n",
      "may :  1486\n",
      "favorit :  1486\n",
      "chicken :  1485\n",
      "sauc :  1481\n",
      "see :  1479\n",
      "when :  1478\n",
      "follow :  1474\n",
      "do :  1468\n",
      "site :  1464\n",
      "My :  1461\n",
      "C :  1459\n",
      "now :  1455\n",
      "butter :  1433\n",
      "cinnamon :  1428\n",
      "water :  1427\n",
      "appl :  1426\n",
      "7 :  1419\n",
      "made :  1416\n",
      "hour :  1408\n",
      "| :  1408\n",
      "them :  1399\n",
      "reserv :  1388\n",
      "1/2 :  1386\n",
      "good :  1386\n",
      "juli :  1378\n",
      "cover :  1374\n",
      "15 :  1370\n",
      "mix :  1361\n",
      "most :  1356\n",
      "some :  1353\n",
      "then :  1349\n",
      "other :  1346\n",
      "term :  1333\n",
      "cake :  1329\n",
      "heat :  1328\n",
      "ani :  1325\n",
      "wa :  1323\n",
      "30 :  1321\n",
      "... :  1320\n",
      "Us :  1314\n",
      "tast :  1307\n",
      "way :  1303\n",
      "remov :  1302\n",
      "great :  1299\n",
      "cool :  1292\n",
      "subscrib :  1289\n",
      "find :  1289\n",
      "tablespoon :  1286\n",
      "tip :  1285\n",
      "they :  1281\n",
      "kitchen :  1272\n",
      "first :  1271\n",
      "pan :  1263\n",
      "well :  1262\n",
      "`` :  1262\n",
      "ground :  1259\n",
      "need :  1255\n",
      "if :  1250\n",
      "take :  1244\n",
      "polici :  1244\n",
      "free :  1244\n",
      "advertis :  1239\n",
      "lemon :  1237\n",
      "let :  1235\n",
      "look :  1233\n",
      "also :  1233\n",
      "20 :  1232\n",
      "combin :  1231\n",
      "9 :  1231\n",
      "me :  1226\n",
      "famili :  1221\n",
      "help :  1217\n",
      "mixtur :  1215\n",
      "read :  1215\n",
      "We :  1211\n",
      "leav :  1210\n",
      "If :  1204\n",
      "12 :  1200\n",
      "befor :  1200\n",
      "ha :  1199\n",
      "work :  1198\n",
      "we :  1197\n",
      "popular :  1193\n",
      "each :  1193\n",
      "shop :  1189\n",
      "copyright :  1185\n",
      "; :  1185\n",
      "eat :  1184\n",
      "cream :  1184\n",
      "print :  1183\n",
      "want :  1182\n",
      "teaspoon :  1179\n",
      "fill :  1179\n",
      "juic :  1174\n",
      "bowl :  1173\n",
      "pleas :  1171\n",
      "fresh :  1170\n",
      "set :  1167\n",
      "next :  1166\n",
      "quick :  1165\n",
      "season :  1162\n",
      "sheet :  1161\n",
      "hot :  1158\n",
      "name :  1155\n",
      "chop :  1154\n",
      "chocol :  1151\n",
      "list :  1150\n",
      "salt :  1150\n",
      "go :  1144\n",
      "2013 :  1138\n",
      "year :  1133\n",
      "holiday :  1126\n",
      "twitter :  1124\n",
      "onli :  1123\n",
      "small :  1117\n",
      "save :  1115\n",
      "veri :  1114\n",
      "turn :  1111\n",
      "there :  1110\n",
      "honey :  1109\n",
      "grill :  1109\n",
      "perfect :  1108\n",
      "video :  1108\n",
      "know :  1103\n",
      "appet :  1101\n",
      "direct :  1097\n",
      "salad :  1096\n",
      "pour :  1089\n",
      "idea :  1086\n",
      "flavor :  1086\n",
      "breakfast :  1084\n",
      "pinterest :  1082\n",
      "> :  1082\n",
      "To :  1076\n",
      "togeth :  1075\n",
      "summer :  1074\n",
      "1/4 :  1073\n",
      "give :  1070\n",
      "cancel :  1068\n",
      "bread :  1067\n",
      "simpl :  1063\n",
      "larg :  1061\n",
      "everi :  1059\n",
      "enjoy :  1056\n",
      "review :  1055\n",
      "prepar :  1050\n",
      "main :  1049\n",
      "us :  1044\n",
      "thank :  1040\n",
      "By :  1040\n",
      "keep :  1040\n",
      "two :  1032\n",
      "brush :  1028\n",
      "meal :  1027\n",
      "would :  1027\n",
      "box :  1026\n",
      "categori :  1026\n",
      "soup :  1025\n",
      "littl :  1024\n",
      "babi :  1022\n",
      "11 :  1020\n",
      "slice :  1020\n",
      "again :  1019\n",
      "cooki :  1019\n",
      "photo :  1017\n",
      "click :  1015\n",
      "much :  1013\n",
      "store :  1013\n",
      "preheat :  1012\n",
      "than :  1010\n",
      "come :  1010\n",
      "melt :  1008\n",
      "too :  1006\n",
      "view :  1005\n",
      "golden :  999\n",
      "spice :  998\n",
      "' :  997\n",
      "parti :  997\n",
      "off :  992\n",
      "after :  992\n",
      "dinner :  990\n",
      "websit :  989\n",
      "white :  988\n",
      "'ve :  987\n",
      "relat :  985\n",
      "stir :  983\n",
      "pork :  983\n",
      "'ll :  980\n",
      "start :  978\n",
      "half :  978\n",
      "press :  975\n",
      "healthi :  974\n",
      "thing :  969\n",
      "live :  968\n",
      "featur :  967\n",
      "ice :  967\n",
      "sure :  965\n",
      "been :  965\n",
      "friend :  959\n",
      "put :  956\n",
      "while :  952\n",
      "Do :  947\n",
      "bring :  946\n",
      "link :  943\n",
      "boil :  943\n",
      "did :  943\n",
      "ad :  942\n",
      "down :  941\n",
      "realli :  941\n",
      "total :  939\n",
      "should :  937\n",
      "june :  937\n",
      "syrup :  935\n",
      "last :  935\n",
      "anoth :  933\n",
      "16 :  932\n",
      "fruit :  931\n",
      "even :  930\n",
      "pastri :  929\n",
      "page :  927\n",
      "medium :  926\n",
      "whole :  922\n",
      "sprinkl :  919\n",
      "13 :  915\n",
      "drink :  915\n",
      "creat :  914\n",
      "recent :  914\n",
      "rack :  913\n",
      "requir :  913\n",
      "newslett :  906\n",
      "had :  905\n",
      "veget :  899\n",
      "repli :  895\n",
      "sign :  890\n",
      "kid :  886\n",
      "own :  886\n",
      "no :  883\n",
      "think :  883\n",
      "25 :  883\n",
      "red :  881\n",
      "few :  881\n",
      "rib :  881\n",
      "dri :  880\n",
      "say :  875\n",
      "learn :  874\n",
      "today :  874\n",
      "cours :  873\n",
      "14 :  871\n",
      "ever :  866\n",
      "week :  861\n",
      "am :  861\n",
      "part :  859\n",
      "which :  858\n",
      "egg :  855\n",
      "2012 :  855\n",
      "dough :  854\n",
      "s :  851\n",
      "18 :  851\n",
      "never :  851\n",
      "special :  851\n",
      "homemad :  850\n",
      "» :  847\n",
      "roast :  846\n",
      "check :  845\n",
      "remain :  845\n",
      "under :  844\n",
      "power :  843\n",
      "17 :  842\n",
      "bottom :  842\n",
      "layer :  842\n",
      "refriger :  839\n",
      "who :  838\n",
      "novemb :  836\n",
      "24 :  835\n",
      "through :  834\n",
      "@ :  834\n",
      "complet :  831\n",
      "'re :  829\n",
      "piec :  829\n",
      "better :  824\n",
      "without :  824\n",
      "doe :  819\n",
      "christma :  819\n",
      "mani :  819\n",
      "No :  819\n",
      "roll :  818\n",
      "join :  817\n",
      "garlic :  811\n",
      "'m :  810\n",
      "full :  809\n",
      "meat :  809\n",
      "month :  808\n",
      "fine :  806\n",
      "their :  806\n",
      "peopl :  806\n",
      "april :  805\n",
      "life :  804\n",
      "world :  803\n",
      "room :  803\n",
      "person :  801\n",
      "content :  798\n",
      "chees :  798\n",
      "januari :  795\n",
      "around :  793\n",
      "could :  791\n",
      "rate :  789\n",
      "both :  788\n",
      "low :  783\n",
      "march :  783\n",
      "wine :  782\n",
      "decemb :  781\n",
      "note :  779\n",
      "tradit :  779\n",
      "someth :  778\n",
      "becaus :  777\n",
      "chang :  776\n",
      "februari :  775\n",
      "On :  773\n",
      "vanilla :  773\n",
      "gift :  772\n",
      "product :  771\n",
      "care :  771\n",
      "fall :  771\n",
      "pepper :  771\n",
      "crust :  770\n",
      "beef :  769\n",
      "alway :  765\n",
      "warm :  765\n",
      "close :  764\n",
      "menu :  763\n",
      "light :  762\n",
      "baklava :  759\n",
      "whi :  758\n",
      "end :  757\n",
      "book :  755\n",
      "degre :  754\n",
      "onc :  752\n",
      "black :  751\n",
      "log :  751\n",
      "21 :  748\n",
      "readi :  748\n",
      "pasta :  748\n",
      "[ :  747\n",
      "nut :  746\n",
      "’ :  742\n",
      "] :  742\n",
      "amaz :  740\n",
      "rss :  738\n",
      "potato :  738\n",
      "http :  737\n",
      "fun :  736\n",
      "were :  735\n",
      "green :  734\n",
      "So :  731\n",
      "powder :  731\n",
      "fit :  730\n",
      "where :  729\n",
      "thanksgiv :  729\n",
      "connect :  729\n",
      "allow :  728\n",
      "slow :  727\n",
      "show :  727\n",
      "min :  726\n",
      "simmer :  724\n",
      "peel :  722\n",
      "pot :  721\n",
      "long :  720\n",
      "least :  719\n",
      "instruct :  717\n",
      "treat :  716\n",
      "caramel :  716\n",
      "19 :  714\n",
      "style :  714\n",
      "still :  711\n",
      "tomato :  711\n",
      "22 :  708\n",
      "reduc :  708\n",
      "orang :  707\n",
      "might :  707\n",
      "stick :  706\n",
      "prep :  705\n",
      "rub :  703\n"
     ]
    }
   ],
   "source": [
    "top_words(vocab_doc,500)"
   ]
  },
  {
   "cell_type": "code",
   "execution_count": 208,
   "metadata": {},
   "outputs": [
    {
     "name": "stdout",
     "output_type": "stream",
     "text": [
      "cheddar-al :  1\n",
      "23/14 :  1\n",
      "motivation-encourag :  1\n",
      "16/14 :  1\n",
      "/wp-content/uploads/2012/04/iaoj.blogbtn.png :  1\n",
      "calendars/plann :  1\n",
      "recipes-slow :  1\n",
      "30/14 :  1\n",
      "recipes-allergi :  1\n",
      "travel/auto :  1\n",
      "//orgjunkie.com :  1\n",
      "susan- :  1\n",
      "infomedia :  1\n",
      "expedi :  1\n",
      "mighty… :  1\n",
      "05/23/14 :  1\n",
      "molas :  1\n",
      "karimcge :  1\n",
      "1,714 :  1\n",
      "mins/ :  1\n",
      "three-onion :  1\n",
      "2.88 :  1\n",
      "1.5-ounc :  1\n",
      "27.13 :  1\n",
      "6.69 :  1\n",
      "8.97 :  1\n",
      "5.59 :  1\n",
      "3.72 :  1\n",
      "billington :  1\n",
      "7.18 :  1\n",
      "1.96 :  1\n",
      "aromatica :  1\n",
      "1.81 :  1\n",
      "jitteri :  1\n",
      "injury-fre :  1\n",
      "fetter :  1\n",
      "thapoung :  1\n",
      "narin :  1\n",
      "fitbi :  1\n",
      "kumai :  1\n",
      "blueberry-flavor :  1\n",
      "womenshealthmag :  1\n",
      "keibler :  1\n",
      "fwb :  1\n",
      "volo :  1\n",
      "aleisha :  1\n",
      "presumpt :  1\n",
      "rock-solid :  1\n",
      "pocketbook-friendli :  1\n",
      "WH :  1\n"
     ]
    }
   ],
   "source": [
    "top_words(vocab_doc,50,reverse =False)"
   ]
  },
  {
   "cell_type": "code",
   "execution_count": 213,
   "metadata": {},
   "outputs": [
    {
     "name": "stdout",
     "output_type": "stream",
     "text": [
      "68642  words to be removed.\n"
     ]
    }
   ],
   "source": [
    "removed_words = slice_words(vocab, 15,40000)"
   ]
  },
  {
   "cell_type": "code",
   "execution_count": 212,
   "metadata": {},
   "outputs": [
    {
     "name": "stdout",
     "output_type": "stream",
     "text": [
      "70364  words to be removed.\n"
     ]
    }
   ],
   "source": [
    "removed_words_2 = slice_words(vocab_doc, 15,2000)"
   ]
  },
  {
   "cell_type": "code",
   "execution_count": 214,
   "metadata": {},
   "outputs": [
    {
     "data": {
      "text/plain": [
       "68638"
      ]
     },
     "execution_count": 214,
     "metadata": {},
     "output_type": "execute_result"
    }
   ],
   "source": [
    "len(set(removed_words).intersection(set(removed_words_2)))"
   ]
  },
  {
   "cell_type": "code",
   "execution_count": 215,
   "metadata": {},
   "outputs": [],
   "source": [
    "new_stop_words = stop_words.union(set(removed_words)).union(set(removed_words_2))"
   ]
  },
  {
   "cell_type": "code",
   "execution_count": 219,
   "metadata": {},
   "outputs": [
    {
     "name": "stdout",
     "output_type": "stream",
     "text": [
      "Wall time: 1.04 s\n"
     ]
    }
   ],
   "source": [
    "%%time\n",
    "new_proc_docs = []\n",
    "\n",
    "for doc in proc_docs:\n",
    "    processed = [w for w in doc if not w in new_stop_words]\n",
    "    new_proc_docs.append(processed)"
   ]
  },
  {
   "cell_type": "code",
   "execution_count": 220,
   "metadata": {},
   "outputs": [
    {
     "data": {
      "text/plain": [
       "2635"
      ]
     },
     "execution_count": 220,
     "metadata": {},
     "output_type": "execute_result"
    }
   ],
   "source": [
    "len(new_proc_docs)"
   ]
  },
  {
   "cell_type": "code",
   "execution_count": 67,
   "metadata": {},
   "outputs": [],
   "source": [
    "def words_count(corps):\n",
    "    dic = {}\n",
    "    for doc in corps:\n",
    "        for w in doc :\n",
    "            dic[w] = dic.get(w, 0) + 1\n",
    "    return dic"
   ]
  },
  {
   "cell_type": "code",
   "execution_count": 221,
   "metadata": {},
   "outputs": [],
   "source": [
    "new_vocab = words_count(new_proc_docs)"
   ]
  },
  {
   "cell_type": "code",
   "execution_count": 218,
   "metadata": {},
   "outputs": [
    {
     "data": {
      "text/plain": [
       "12083"
      ]
     },
     "execution_count": 218,
     "metadata": {},
     "output_type": "execute_result"
    }
   ],
   "source": [
    "len(new_vocab)"
   ]
  },
  {
   "cell_type": "code",
   "execution_count": 222,
   "metadata": {},
   "outputs": [
    {
     "data": {
      "text/plain": [
       "7774"
      ]
     },
     "execution_count": 222,
     "metadata": {},
     "output_type": "execute_result"
    }
   ],
   "source": [
    "len(new_vocab)"
   ]
  },
  {
   "cell_type": "code",
   "execution_count": 223,
   "metadata": {},
   "outputs": [
    {
     "name": "stdout",
     "output_type": "stream",
     "text": [
      "peev :  15\n",
      "delish.com :  15\n",
      "juicier :  15\n",
      "15. :  15\n",
      "10:09 :  15\n",
      "9:17 :  15\n",
      "10:25 :  15\n",
      "272 :  15\n",
      "296 :  15\n",
      "317 :  15\n",
      "sudden :  15\n",
      "344 :  15\n",
      "345 :  15\n",
      "352 :  15\n",
      "354 :  15\n",
      "374 :  15\n",
      "384 :  15\n",
      "4:33 :  15\n",
      "391 :  15\n",
      "405 :  15\n"
     ]
    }
   ],
   "source": [
    "top_words(new_vocab, reverse = False)"
   ]
  },
  {
   "cell_type": "code",
   "execution_count": 224,
   "metadata": {},
   "outputs": [],
   "source": [
    "new_proc_texts = []\n",
    "for doc in new_proc_docs:\n",
    "    new_proc_texts.append(\" \".join(doc))"
   ]
  },
  {
   "cell_type": "code",
   "execution_count": 225,
   "metadata": {},
   "outputs": [
    {
     "data": {
      "text/plain": [
       "\"contact Us advertis newslett crock-pot faq store link parti appet beverag bread breakfast dessert dip entre freezer meal sauc side dish soup stew blog announc blog hop freebi giveaway tip trick index box shop list meal planner crock-pot appl pie moonshin By ladi kati novemb 25 2013 In beverag christma thanksgiv 10+ serv ~ 8 hour » categori » beverag » crock-pot appl pie moonshin tradit christma eve beverag husband famili hi grandfath ha made mix drink year men sit basement laugh joke sip drink It also given adult gift savor year long onc open keep refriger drink cold better way last year longer pleas rememb adult beverag strong If care proof valu everclear vodka instead get tast less alcohol everclear 195 proof alcohol 95 % find liquor store local groceri sell If find anoth brand 100 proof clear liquor vodka crock-pot cherri pie moonshin lemonad moonshin print crock-pot appl pie moonshin gallon appl cider liter everclear alcohol cinnamon stick instruct add appl cider cinnamon stick crock-pot low 8 hour turn crock-pot allow cider cool room temp In larg pan larg enough 5 quart mix cider everclear alcohol If crock-pot larg enough onc cider cool 5 pour 5 quart jar bottl choic put lid ring 6 let jar sit cool dark place 30 day allow alcohol take flavor cider 7 shelf stabl kept counter prefer chill refriger 8 note strong adult beverag serv size one shot glass 2.5 http //crockpotladies.com/crockpot-apple-pie-moonshine/ If enjoy post pleas share may also enjoy… crock-pot lemonad moonshin crock-pot cherri pie moonshin crock-pot caramel appl cider crock-pot mull appl cider crock-pot cinnamon cranberri tea crock-pot mull red wine brandi 5 Or less alcohol alcohol alcohol beverag appl cider appl pie appl pie moonshin beverag cinnamon cinnamon stick crock-pot appl pie moonshin everclear featur gift gift idea liquor moonshin vodka whole cinnamon author ladi kati stay-at-hom mother two love girl enjoy hunt deal coupon help support famili alway look quick easi nutriti meal famili 295 comment `` crock-pot appl pie moonshin '' sirena novemb 25 2013 12:01 PM hey look easi could thanksgiv day ? doe sit 30 day ? ladi kati novemb 25 2013 12:51 PM could tast wont good everclear tast longer let sit appl pie tast get loui dalton januari 18 2014 7:17 PM get alcohol ? ladi kati januari 19 2014 6:35 AM groceri store liquor store jeff februari 2014 1:44 PM made crackpot appl pie moonshin follow direct onli made 4qt whi ? thank ladi kati februari 2014 3:01 PM evapor littl It concentr good better ladi kati novemb 25 2013 3:19 PM longer sit better tast It tast good today drink thanksgiv awesom wait longer terri cedar januari 15 2014 9:54 AM Do dill pickl moonshin A friend tast It wa good receiv gift didnt know ladi kati januari 16 2014 5:08 AM heard one found search internet mayb someon share granni pix januari 18 2014 3:49 PM dill pickl moonshin mayb save favorit dill pickl brine lieu cider appl pie moonshin ? marie dahl februari 13 2014 6:12 PM good moonshin doe n't need help mixer recent heard crazi drink made pickl juic hot sauc well normal made hot sauc could n't resist ad It call pickleback pretti darn good pickleback moonshineingredi part moonshin part pickl juic A coupl drop `` O '' face hot sauc last summer went littl crazi preserv countless even weekend spent canning pickl freez goal wa enough grub sustain us entir winter entir deep freezer full prove We also abund pickl roast tomato jam…oh moonshine…w 've got bit better way fulli enjoy fruit labor mix drink made entir homemad moonshin pickl juic doe n't seem like 'd great combin hell figur 'd give shot As turn pickleback ai n't bad diann januari 24 2014 3:08 PM We big pot open flame everi state 've buy everclear ani liquor store ha cool taken cinnamon stick add everclear It veri potent even choos drink soon cool It sneaki kick butt least expect We love parti also warn drink also take key drink carri mcclanahan june 20 2014 8:14 AM In virginia buy everclear got caught transport across state line ladi heidi june 20 2014 8:48 PM vodka instead… audra novemb 25 2013 12:40 PM sound yummi easi A definit drink holiday chenel novemb 25 2013 1:31 PM u peach let know dont like cinnamon ladi kati novemb 25 2013 3:16 PM peach pie moonshin gallon skin chop peach cup sugar 8 tablespoon molass teaspoon cinnamon teaspoon nutmeg mix well add 1.75 lt vodka need larg pan obvious let sit 30 day fine without cinnamon too….mayb clove instead ann decemb 30 2013 5:08 AM peach ? jessica februari 2014 1:20 PM Is peach pie moonshin add crockpot appl pie ? differ ? dawn novemb 25 2013 1:32 PM wa wonder could substitut appl peach ? thank share sincer dawn bluffton SC 5 dawn novemb 25 2013 1:35 PM meant say puré peach thank 6 rhiannon novemb 25 2013 2:08 PM everclear get 190 proof ladi kati novemb 25 2013 3:13 PM sorri meant type 100 % left correct thank wolfi januari 22 2014 10:19 AM wo n't find alcohol abov 95 % 190 proof get close point alcohol becom toxic alcohol toxin affect brain actual quit poison actual die drink alcohol around 97-98 % one big reason shine well tax man doe n't get hi revenu illeg peter zelinski januari 22 2014 12:08 PM In respons person say get alcohol 97 98 % pure In realiti alcohol expos room air normal moistur air pick % water air possibl 100 % alcohol close system soon contain open drop around 96 % wa expain one neighbor germani ha legal still sort fruit brandié snap 7 kerri wenerick novemb 25 2013 2:40 PM ha anyon found liquor replac everclear ? unfortun PA doe n't sell MD wont sell person Pa licens ladi kati novemb 25 2013 3:12 PM vodka B novemb 26 2013 4:15 PM think peopl ask question alreadi drink lazi angel llane novemb 25 2013 6:15 PM consid order onlin ? allyson novemb 30 2013 7:53 PM PA actual doe sell 195 proof PA sell 150 proof bought today local wine spirit lyn januari 19 2014 4:00 PM If ca n't get everclear ani kind vodka wendyb januari 24 2014 3:03 PM actual PA doe sell call local wine spirits… 750ml liter 16.99 151poof 190 howev onli go doctor pharmacist lucki bugger larri januari 24 2014 8:54 PM talk strong alcohol sure talk drinkabl stuff … call ethel alcohol grain alcohol bring doctor pharmacist stuff may veri well talk isopropyl alcohol commonli known rub alcohol usual 80 % drug store obtain high content 99 % print purpos Do n't drink it… total differ alcohol could lethal judi januari 25 2014 7:54 AM barcardi 151 rum good replac everclear C. england februari 2014 9:40 AM vodka instead 8 harleydog novemb 25 2013 6:43 PM By shelf stabl mean store basement pantri long time ? week ? month ? year ? would like find way store year cider thank HD ladi kati novemb 26 2013 5:56 AM We fridg two year old onli reason hubbi like cold doesnt drink often liquor content allow left fridg without turn ferment yuck left fridg year weatherman januari 30 2014 6:44 PM store appl pie everclear whatev fridg BS It divid separ within coupl week stuff nasti batch store dark cabinet pantri drink room temp If you'r 150 proof quart get pleasant buzz drink regularli call mine spici appl crisp -5 time better tast stronger JJ blue moon 10 quart pay hi weatherman michel februari 2014 11:58 PM would love recipie… sound amaz ha sweet name pleeeas ? weatherman march 29 2014 4:38 PM sorri taken long saw request gal appl juic 8 cinnamon stick 1.5 cup brown white sugar tsp vanilla extract 1500 mil grain alcohol simmer last 20 minut stir often let cool room temp add vanilla stir add 1/2 hard stuff tast add much want 10 + qt So fun Do n't store fridg 'll ruin store dark cabinet last least year accord person data lol folk cider juic hate gunk come cider cider store appl juic ha strain anywhoo appl cinnamon crisp let know think ani question mark weatherman march 30 2014 1:03 PM fail mention real appl juice/unsweeten If appl juic shelf appl tast weak sweet tast mix simmer veri import cheaper toss mix add alcohol find want sorri lack detail hope found supplier filter cider plan sampl batch soon post result 9 harleydog novemb 25 2013 6:44 PM Or way water bath ? figur sugar content everclear…aint ' nuttin ' live lol ladi kati novemb 26 2013 5:55 AM No waterbath liquor burn everclear flammable.. alcohol shelf stabl ye aint ' nuttin live lol 10 steve novemb 25 2013 8:29 PM 1/2 cider 1/2 juice…and A littl cinnamon sugar IN mine everyon want TO buy IT me…but TO get liquor out-of-state… ladi kati novemb 26 2013 5:53 AM would work sound great leal decemb 15 2013 7:42 PM sure state law steve check befor sell may need licens - shelf 8 year - tast better longer sit mine black velvet honey cinnamon clove nutmeg tast like appl pie In fact call mom appl pie jug jessica decemb 30 2013 9:58 PM tell mom appl pie jar ? ? ? pleas ladi kati decemb 31 2013 7:16 AM Is drink ? ? mindi march 12 2014 1:58 PM jessica appl pie fill look ? karen januari 26 2014 9:15 AM would share appl pie moonshin made honey 11 tycinda novemb 25 2013 8:40 PM Do need seal jar boil water bath ? ladi kati novemb 26 2013 5:54 AM No want heat alcohol burn everclear flammabl alcohol shelf stabl 12 mitzi novemb 25 2013 8:41 PM On peach one put crock pot 8 hr also ? ladi kati novemb 26 2013 5:53 AM No one mix let sit On shelf 13 jill novemb 25 2013 8:47 PM ca n't wait tri bet delici wa wonder know proof ? ladi kati novemb 26 2013 5:53 AM 195 proof If much vodka jill novemb 27 2013 10:10 AM meant proof final product It would n't 195 it' dilut appl cider would ? ladi kati novemb 27 2013 1:04 PM dilut 4x say sure still pretti strong 14 kelli novemb 25 2013 9:05 PM Do need jar hot ? ladi kati novemb 26 2013 5:52 AM necessari clean jar 15 kim novemb 25 2013 10:03 PM ever clear ca n't find liquor store ha ever heard canada ladi kati novemb 26 2013 5:52 AM pure grain alcohol If find vodka much alcohol content get tast leal decemb 15 2013 7:43 PM We get everclear washington state either least last check eggysan januari 9 2014 4:25 PM If ca n't get everclear look clear spring It anoth brand grain alcohol mae januari 10 2014 2:28 AM everclear avail WA might hard find saw back safeway east vancouv bevmo vancouv befor christma wa toy idea someth like christma gift eye 16 allen novemb 25 2013 10:52 PM would n't happen cherri pie moonshin would ? head local liquor store tomorrow ever clear appl pie lot simpler mani ladi kati novemb 26 2013 6:04 AM tell get great idea comment work batch peach pie moonshin want tri pumpkin pie moonshine… found yahoo answer boil cup pit cherri tabelspoon water 1/2 cup white sugar tast puckeri sweet add anoth 1/2 cup disolv next strain cherri mixtur glass contain cool complet mix vodka stir leal decemb 15 2013 7:47 PM process pretti much - infus fruit alcohol soft fruit put fruit cherri peach pear berri whatev jar cover alcohol everclear vodka put lid shake jar everi day keep dark place 6-8 week strain concoct add simpl syrup tast prefer sweeter drink might want spit - sweeten great gift leal decemb 15 2013 7:49 PM addit note liquor fruit season get fresh farmer market like local fruit season best 17 G novemb 25 2013 11:31 PM …..thi n't moonshin mama taney novemb 26 2013 10:02 AM final someon sens agre moonshin ladi kati novemb 26 2013 11:41 AM It express familiar base name txnick januari 18 2014 2:58 PM bad weee arnt al asth smart asth yew thawet wath reeel mooonshin dionn januari 21 2014 4:26 PM lol guy funni ally decemb 7 2013 11:34 AM fyi y'all… look definit moonshin kinda seem fall right see main entri moon·shin pronunci \\\\ˈmün-ˌshīn\\\\ function noun date 15th centuri moonlight empti talk nonsens intox liquor ; especi illeg distil corn whiskey ref merriam-webst moonshin disagre refer ? 'm south know noth moonshin i'v seen TV 'm tri get mass disput go either i'v alway live `` ask n't know '' `` question stupid question '' although alway respect ask question throughout year bit perplex thank ani refer leal decemb 15 2013 7:51 PM We tend think moonshin distil alcohol - illeg individu - least live We howev wine liquor 200 gallon per year said - realli call whatev want - n't get real technic call liqueur gene januari 28 2014 1:10 PM holi cow 've seen everyth A moonshin snob lol fun 18 brandi novemb 26 2013 12:53 AM onc add everclear heat back befor bottl ? ladi kati novemb 26 2013 5:51 AM No Do heat back heat alcohol burn off…and everclear flammabl susan januari 16 2014 7:59 AM Do even let vapor everclear near stove We burn mark kitchen prove ga burner wa husband open contain near wa turn burner pour contain wa abov pan UP IN flame leal decemb 15 2013 7:52 PM No flames/heat around ani liquor - flavor liquor effect IT IS veri flammabl 19 kima novemb 26 2013 3:50 AM type appl cider ? onli one know drink bottl like rum non alcohol ladi kati novemb 26 2013 5:50 AM appl cider get groceri store…or orchard 20 sharon novemb 26 2013 6:24 AM appl cider alcohol base also ladi kati novemb 26 2013 7:36 AM No appl cider fresh sell half gallon gallon groceri store fresh produc section purchas mine local appl orchard 21 jon novemb 26 2013 7:07 AM ever clear peach pie moonshin need vodka ladi kati novemb 26 2013 7:35 AM post earlier comment call vodka…but could everclear want punch 22 jon novemb 26 2013 7:28 AM would hurt put appl slice cinnamon jar shine ? ladi kati novemb 26 2013 7:34 AM cinnamon would think would fine…appl slice ? want say ye sure would time…but tri let us know leal decemb 15 2013 7:54 PM experi fruit break pretti much sediment realli doe look veri good bottl glass drink jar wmcq januari 6 2014 2:26 PM actual husband homemad appl pie alway add slice granni smith appl work wonder We put fridg also becaus prefer colder bottles/jar sat long 6 month befor drink fine We give away gift birthday christma friend save long year befor open never heard problem 23 jon novemb 26 2013 7:44 AM Ok thank veri much cleve decemb 2013 2:47 PM middl appl cider cinnamon stick right now…i guess comment certain amount evapor occur ? ladi kati decemb 2013 2:57 PM ye get some…not much 24 krystal novemb 26 2013 7:48 AM lemonad moonshin ? ladi kati novemb 26 2013 8:31 AM goodoleway ha cup fresh squeez lemon juic 6 cup water cup granul sugar cup 151 proof everclear heat water lemon juic sugar til sugar dissolv let cool room temp add everclear mama taney novemb 26 2013 10:03 AM moonshin call moonshin n't cutesi okay either real moonshin doe come flavor think drink one tri drink experi veri danger consequ dingo novemb 26 2013 2:06 PM So - take wa intend - holiday beverag dirt pud n't realli `` dirt '' leal decemb 15 2013 7:55 PM red velvet cake n't red velvet lee h decemb 29 2013 9:22 AM ca n't believ comment peopl realli stupid If live FL n't cellar… realli need someon tell ? So realli 'moonshin ' ? ? ? ? ? open contain open tax stamp doe n't anyth If worri get pull transport product….. need realli go ? get life drink pint moonshin chill heck wmcq januari 6 2014 2:30 PM actual moonshin gener term mean ani kind `` creat '' alcohol base beverag south complet understand mani think term used… tradit moonshin wa term illeh=g creat sold grain base alcohol howev still technic refer beverag becaus mix `` creat tri stir pot realli term someth get upset 25 harleydog novemb 26 2013 8:06 AM minor correct n't think final product 195 proof everclear dilut like would lower volum Do n't dare public math 'll see find calcul figur ladi kati novemb 26 2013 8:35 AM ye wont strong consid dilut x4 minimum think top head …but still veri strong especi normal drink 26 harleydog novemb 26 2013 8:40 AM So proof mixtur someon correct 'm wrong % volum X So liter .264 gallon total volum 1.264 gallon cider plu everclear calcul .264 divid 1.264 = .2088 time 42 proof sound better 27 jami novemb 26 2013 12:00 PM mani mason jar ? ladi kati novemb 26 2013 1:09 PM 5 quart jar 28 shaun lewi novemb 26 2013 1:08 PM moonshin everclear appl cider want buy everclear would drink 29 jason thompson novemb 26 2013 7:06 PM No moonshin got peopl It peopl call ever look name drink bartend book ? No ? look becaus pretti sure drink name actual content liquor moonshin liquor get thank great idea futur `` moonshin '' made peach pie appl `` moonshin '' befor good result like idea variat especi lemon `` moonshin '' p. happi holiday 30 jon novemb 26 2013 7:50 PM made appl pie moonshin got peach cherri lemonad ani good mix ? thank 31 wetsock novemb 26 2013 10:47 PM nope moonshin howev substitut alcohol suggest moonshin bad info proof howev liter 190 proof everclear gallon cider dilut proof ratio cider 1/5 beverag 190 proof 're look 38 proof 16 % vol theoretically.. realist 'll around 10-12 % similar good canadian beer also note heat alcohol wo n't caus need north 170 deg happen evapor anoth stori still good idea cool mix first n't want cap warm good post though 32 josh novemb 27 2013 4:48 AM 've notic cider get orchard pastur stuff store Is ani advantag disadvantag either ? ladi kati novemb 27 2013 5:12 AM shouldnt 33 shirley novemb 27 2013 7:34 AM mine appl pie spice instead cinnamon.also cherri put frozen larg blackcherri bottom jars.hav peopl want buy time say 'll teach mine famili friends.nev complaint 34 mizz peller novemb 27 2013 10:38 AM everclear jerom 190 proof state sold becaus becca decemb 24 2013 10:01 AM wow step toe call moonshine…… everclear get michigan reduc alcohol everclear We drive indiana get good stuff So sold higher content illeg water …… 35 chri l novemb 27 2013 9:39 PM So cinnamon stick suppos disolv cider eight hour ? If ye suppos strain ? ladi kati novemb 28 2013 6:52 AM know never notic one ha point remov stick done either toss save next put stick jar ad flavor 36 jacki novemb 28 2013 8:18 AM omg stupid tri mani thing onc combin crock pot befor cider cinnamon think work ? ladi kati novemb 28 2013 9:22 AM everclear flammabl wa would jar put cinnamon stick jar let check 7 day ann decemb 30 2013 4:52 AM leav cinn.stick jar set ? mayb slice appl ? ladi kati decemb 30 2013 5:49 AM ye ye 37 lesli novemb 29 2013 4:26 PM peopl get work smallest thing appl pie m.shine name get 38 mari novemb 29 2013 9:38 PM think tri undilut frozen juic differ juic jar wonder cordial rather `` moonshin '' ? 39 joshua decemb 2013 9:59 AM look great tri love read comment moonshin legal way drink mountain folk around made gener made corn whiskey pour appl cinnamon stick mason jar also add ani fruit berri want jar pour everclear put 40 gari decemb 2013 3:45 PM mine right Do remov cinnamon stick strain pulp ? 151 proof everclear christma eve christma day readi ? ladi kati decemb 2013 4:26 PM take cinnamon stick dont worri strain If want add cinnamon stick back jar say wa hit famili last night went thru quart 41 sarah decemb 2013 4:37 PM sediment bottom mine Is normal ? notic heat tri strain still sediment ladi kati decemb 2013 4:55 PM ye normal juic let give shake befor drink 42 denis decemb 2013 7:02 PM made today smell realli good mine onli made 3/4 quart jars…how get jar seal afterward ? ladi kati decemb 2013 5:27 AM need jar seal pop lid liquor keep go bad 43 alicia decemb 2013 8:19 AM made weekend fianc wait tri may open first jar christma day 44 juli decemb 2013 12:13 PM 've notic call sugar Is sweet enough without ? tri ad sugar ? ladi kati decemb 2013 12:27 PM tri sugar appl cider end plenti sweet enough 45 cleve decemb 2013 2:55 PM anyon see episod `` moonshin `` last night biker hi buddi mix appl cider cinnamon stick slice appl put mix mason jar would like add slice appl batch curiou tast like sit 30 day ladi kati decemb 2013 2:58 PM didnt see episod sure appl slice 30 day would think alcohol would keep preserv verifi 46 jstoll decemb 7 2013 12:19 PM put jar set cinnamon settl bottom Is normal ? ladi kati decemb 8 2013 7:53 AM ye normal 47 jame decemb 7 2013 7:40 PM anyon recipi banana cream moonshin ? Or banana relat moonshin ? ladi kati decemb 8 2013 8:21 AM tri find one..but post find anyth still look 48 chri decemb 9 2013 10:10 PM watermelon moonshin ? steph decemb 30 2013 9:31 AM watermelon moonshin made gettin old smokey moonshin puttin watermelon jolli rancher 49 machel decemb 10 2013 1:37 PM mine gallon cider gallon juic well cin stick also brown white sugar Do think sugar effect shelf life ? made summer full quart left ive notic sediment also leav cin stick jar ladi kati decemb 10 2013 4:06 PM cider cinnamon stick creat sediment..just shake littl dont think sugar would affect shelf life…it would like homemad wine.. leal decemb 15 2013 8:02 PM actual becaus hard liquor everclear vodka - whiskey add honey would never consid wine ferment It go bad cours like wo n't sit around long enough anyon realli worri shelf 8 year - open tast great 50 tim decemb 10 2013 5:24 PM look great Ca n't wait tri look comment over…..y great deal patienc merri christma happi holiday 51 westley decemb 12 2013 9:20 PM could fresh appl cider ? ladi kati decemb 13 2013 5:50 AM ye could say sure appl okay left jar lean toward would would hate ferment leal decemb 15 2013 8:03 PM wo n't ferment becaus hard liquor 52 melani decemb 14 2013 11:26 AM famili christma 190 proof even flub littl give em anoth shot…they 'll forget whole thing leal decemb 15 2013 8:04 PM got 53 b decemb 14 2013 9:15 PM Do need seal canning jar like would canning veget ? Or screw lid let sit ladi kati decemb 15 2013 7:42 AM screw let sit alcohol keep go bad 54 russ decemb 16 2013 5:11 PM authent flavor real moonshin sold legal liquor store also 5 frozen appl juic concentr thaw cours help balanc flavor batch wa world tasti 55 phillip decemb 17 2013 5:33 AM My wife put everest still good ? ? ? 56 mizz peller decemb 18 2013 11:33 AM everclear 150 proof instead 190 buy golden grain still 190 ladi kati decemb 18 2013 4:58 PM everclear purchas 150 proof dont sell one local 190 proof think depend state 57 mike decemb 21 2013 1:42 PM made month ago gave present work christma parti last night everyon love said nice flavor enough alcohol strong store went onli 750 ml bottl everclear 190 proof yield 11 small mason jar great 'll share famili christma parti next weekend thank share ha inspir look learn distil creat recipes…illeg know fun none less mike recent posted… crock-pot beani weeni 58 paula decemb 23 2013 7:16 AM live florida suggest place dark cool store ? No cellar here…lol ladi kati decemb 23 2013 12:10 PM would put cabinet air condit If keep fridg 59 billi hillier decemb 23 2013 10:42 AM glad saw FB page… crock pot appli pie moonshin holiday billi hillier recent posted… vietnames pho crock pot 60 melissa decemb 23 2013 6:41 PM made coupl week ago It tast horribl doe need sit lot longer dump drain ladi kati decemb 24 2013 9:24 AM let sit Is strong ? If add appl juic 61 seneca decemb 27 2013 6:58 AM A word caution… reason moonshin illeg feder level becaus ha tax although moonshin problem name alcohol ha remov origin contain tax stamp rebottl If transport pull ani reason could seen violat transport open contain sinc seal seen violat becaus way verifi tax imagin pull say speed box sit back seat given gift might look offic It could bit sticki situat say care It would certainli illeg sell result product ha tax otherwis think look great would probabl instead typic punch parti 62 patrick decemb 29 2013 6:35 PM u need pure shine.. built stihl and.mak shine mix pie true appl pie shine… check `` proof '' take teaspoon gun powder pour drink light match.. ignit powder proof high potency… 63 judi decemb 29 2013 10:37 PM enjoy comments…thank much… 64 jeff decemb 30 2013 2:49 PM saver jar attach work great 65 dave decemb 31 2013 1:05 PM real quick accident 6 put anoth two ? smell great ladi kati decemb 31 2013 2:35 PM let cool fine might littl less liquid 66 patti M decemb 31 2013 3:56 PM put cent never seen mani comment silli question someth simpl come peopl wow guess veri true common sens n't veri common ani yike raynetta januari 22 2014 10:20 PM jim june 24 2014 5:44 PM patti total agree…thes comment stupid read see wack folk ask plain dumb question wow ha patienc saint answer Do n't think would read comment 90 % would answer prior fire comput key stay smile 67 suellen brown januari 2014 4:45 PM recent made lemonad moonshin … wow good go tri … Do think could straight whiskey instead vodka ? ladi kati januari 2014 8:58 AM could tri never much whiski drinker sure would tast end 68 chri januari 2014 4:32 AM If 151 everclear 190 sold add everclear lower proof ? If much ? ladi kati januari 2014 6:27 AM want would add anoth cup 69 justin januari 2014 9:42 AM tell must pasteur non pasteur ? want today ladi kati januari 5 2014 8:54 AM pasteur non pasteur differ tast 70 fake januari 2014 2:14 PM Do root beer moonshin root beer extract type homemad root beer ? ladi kati januari 5 2014 8:55 AM No not…but want one 71 terri januari 2014 7:54 PM peopl drink We call `` appl pie shot '' wisconsin It awesom get realli drunk everclear drink lot one night husband kid one shot tipsi caution 72 shannon januari 5 2014 2:02 PM crockpot right lot sediment top skim leav ? ladi kati januari 5 2014 4:10 PM either It wont affect tast all..but would prettier without 73 david januari 5 2014 7:29 PM probabl dumb question ask anyway crock pot n't larg enough cut measur half doe chang amount time need slow-cook ? Do still need let go 8 hour ? ladi kati januari 6 2014 5:23 AM much could cut hour want cider take cinnamon flavor…that gotten slowli think half half time would fine kristi januari 26 2014 11:08 AM bring cider cinnamon stick boil shut n't larg enough crock pot add half cider half appl juic also whole question whether pasteur cider come peopl fear e-coli It doe n't effect tast product 74 wendi januari 6 2014 10:52 AM Do banana moonshin ? ? ? 've onc wa good know thank ladi kati januari 6 2014 3:12 PM havent abl find one yet 75 chuck januari 6 2014 8:32 PM recent krupnik remind krupnik spici honey flavor veri close `` firebal '' popular day except veri smooth 76 shwa januari 9 2014 4:18 PM bacardi 151 pic veri top ? that' u ca n't get everclear ? ladi kati januari 10 2014 10:01 AM know much rum think would say go 77 linda januari 9 2014 6:30 PM My neighbor made holiday parti dec gave us jar take fridg sinc B4 xma took small drink night better dec. longer sit better tast If get cider year round ani parti anytim tast great either warm cold 78 chri januari 10 2014 11:12 AM `` true '' moonshin go bar order '' sex beach '' doe mean go sex beach probabl not…it name 79 heather januari 10 2014 4:38 PM made plum cut half pit bacardi superior pie spice wonder christma plum ladi heidi januari 10 2014 11:40 PM sound good heather 80 janin januari 10 2014 10:03 PM eastern kentucki regular old moonshin instead everclear vodka 81 carol januari 11 2014 6:36 PM In england sloe gin dont know sloe like veri small sour black plum fruit bush call 'blackthorn ' becaus flower earli stem dont leav yet ? dont prick sloe pin needl sever time fill jar bottl 1/4 volum add 1/4 sugar fill gin vodka screw lid tight shake everi day till sugar disolv store least month longer better turn dark red/purpl want drink strain necessari dont eat fruit reus also sour cherri plum blackberri brandi way DO eat fruit icecream sorbet leav stone stem cherri cocktail 82 linda januari 12 2014 9:51 AM heehe thank good laugh everyon comment appl pie intend cherri lemonad Am go tri flavor notic depend sweet flavor good luck ya'al 83 cindi januari 12 2014 11:46 AM omg read comment post ; ca n't help think would great snl skit 84 robert januari 13 2014 10:42 AM sound great coupl question….can ground cinnamon powder instead stick ? If so..how much ? also….when buy vodka..they come around 42 proof pour one liter give kick ? thank ladi kati januari 13 2014 11:13 AM If want bigger `` kick '' ye vodka cinnamon powder instead stick would say least 2-3 tablespoon 85 richard januari 13 2014 11:16 PM thank post… peopl realli get excit call moonshin lol.. anyway l9ve fruit pineappl mango.. ani suggest either 've tri either wa ? 86 wick januari 15 2014 8:57 AM barcardi 151 rum rum mix well sweet stuff 87 jenni januari 16 2014 9:44 AM We onli get everclear 151 proof… ladi kati januari 16 2014 1:59 PM It work fine alway add anoth 1/2 cup cup 88 eleesha januari 16 2014 11:05 AM stapl dragoncon We simpli call pie made year ad clove slice red delici appl also ad whip cream vodka yum It wa hit group 89 joyc januari 17 2014 7:40 AM n't know would work goe want sell rememb gold tri get return money sell jar ribbon decor jar content '' gift '' thought 90 patti januari 17 2014 6:17 PM need heat appl cider 8 hr ? said heat seal jar right ? ladi kati januari 18 2014 6:45 AM ye heat cider allow take cinnamon flavor yo heat seal jar evapor liquor liquor catch fire heat jar shelf stabl liquor alon 91 patti smallwood januari 18 2014 11:53 AM corn liquor true moonshin 92 donna januari 18 2014 3:17 PM wa abl get everclear 190 proof onli appl cider avail rural locat juic isl groceri store It look like appl juic work doe cider need pulpi ? thank ladi kati januari 18 2014 3:26 PM No regular juic work might want add littl sugar mayb half cup cinnamon M peterson januari 20 2014 5:26 AM kati finish cider cinnamon stick fell asleep 9hr instead 8 tire crock pot notic lot sediment Is ok dump batch start ? sediment kind yuckey help ladi kati januari 20 2014 10:12 AM No sediment It cider cinnamon It okay jar let sit want shake befor drink anyway mix alcohol 93 jasmin januari 18 2014 6:56 PM think exactli look My hubbi wa given '' appl pie '' gift year ago someon work weekend project It wa amaz immedi tri find 've tri past coupl year none came rememb say 195 proof everclear 'set ' month tri mix drink immedi day never came close sound perfect soo excit give tri 94 john januari 19 2014 1:30 AM lawyer wa cop If go transport open contain ani alcohol beverag put trunk In state keep jail lisa januari 24 2014 10:04 PM thx john info trunk good know ladi kati great article/recip appreci littl detail fyi southern doubt perhap put name quotat call nicknam appl pie `` moonshin '' tradit `` shine '' tast aw 'm thrill see ur post also southern ladi say `` bless your/or heart '' that' code go hell kiss ur a… lol would come handi abov grouchi folk moonshin definit bless heart thx 95 rori D januari 19 2014 3:38 PM could anyon give good link mason jar start first crock pot canning adventur complet newbi ani help/advic greatli appreci thank bunch ladi kati januari 19 2014 4:54 PM walmart hardwar store kmart sell also recycl jar lay around someth lid fit 96 georgia januari 19 2014 7:53 PM doe anyon dandelion wine ? 10 year ago search sinc RJ januari 22 2014 10:07 AM dandelion wine- gal dandelion flower head orang lemon gal boil water 5 1/2 cup sugar pk vintner yeast capsul yeast energ tbsp strong tea RJ januari 22 2014 10:19 AM wash flower head cold water remov green put larg plastic pail chop fine color outer rind lemon orang add petal pail cover boil water drape pail cloth plastic sheet tie tight bug get stir 2x day day day strain juic larg kettl squeez press much juic pulp add sugar bring level 21 percent juic medium boil 30 min let cool 70 deg add yeast energ divid mix gal bottl lock ferment lock ferment slow 1-3 day siphon liquid bottl fill inch stopper add tea reseal ferment lock let ferment 70deg bubbl stop 1-4 week rack often necessari clear wine ad enough liquid time fill inch stopper wine clear usual rack bottl cork like grape wine gallon enjoy -rj 97 linda woehrl januari 19 2014 8:38 PM My mom dad ave fruit counter alcohol would dip fruit ice cream put fruit in.. delish 98 erin januari 20 2014 2:15 PM thank ladi kati appar 're without brain erin januari 20 2014 2:16 PM are* 99 charlen januari 21 2014 12:06 PM http //www.clawhammersupply.com/blogs/moonshine-still-blog/7204184-moonshine- pickleback ladi kati januari 21 2014 5:11 PM charlen could danger tri 100 miranda januari 21 2014 5:07 PM u give cherri moonshin ? 101 cristin januari 21 2014 8:26 PM wa wonder - unabl get hand everclear - see appl pie - normal well would put whip cream pie - would whip vodka tast good think stick regular vodka ? 102 ginger januari 22 2014 2:17 PM wow never heard ridicul flap noth ladi kati gracious post nice patient answer question becaus appar peopl ca n't read….and idiot complain term 'moonshin ' tri protect ? moonshin special ? grew oklahoma My whole famili bootlegg shine littl differ My famili dump whole shine thing went bond liquor soon possibl noth special shine…it wa way alcohol beverag without pay tax place wa prohibit never met soul thought wa better bond liquor…cheaper…y stronger…y better ? No get yourselves…act like know someth n't know anyth hillbilli posers….just shut appreci ladi kind justin januari 22 2014 7:08 PM word 103 justin januari 22 2014 7:06 PM n't crockpot realli want tri ani suggest could instead ? thank 104 jkld januari 23 2014 6:45 PM pleas awar everclear avail state buy public In sever state state `` control state '' i.e liquor sold onli state control oper store everclear onli avail people/compani special licens ladi kati januari 24 2014 4:47 AM We awar that…and substitut vodka everclear 105 marc abat januari 23 2014 8:20 PM Hi look nice question regular stainless steel pot instead crack pot ? Do realli boil initi base flavor 8 hour pressur cooker steril mayb 15-30 minut ? thank hello manila philippin ladi kati januari 24 2014 4:47 AM dont know much pressur cooker could stove need hour low add liquor 106 jkld januari 23 2014 8:51 PM everclear illeg sell 14 state state california florida main massachusett hawaii iowa michigan new york nevada ohio washington north carolina new hampshir minnesota although legal virginia sold due fact state liquor store sell ani type grain alcohol lack flavor color reason illeg becaus contain high percentag alcohol everclear 190 proof 95.6 percent ethanol alcohol 4.4 percent water combin extrem power combin everclear ha list guin world book record alcohol drink guin list 1979 ha sinc ban ani alcohol entri public 151 proof everclear legal sold california iowa florida michigan minnesota north dakota washington west virginia linda januari 24 2014 4:47 PM come louisiana get full strength everclear 190 proof 107 andi januari 24 2014 6:16 AM Do n't know state virginia -if access buy everclear package/class 6 store militari instal 108 autumn januari 24 2014 2:28 PM mayb smirnoff cinnamon sugar flavor vodka ? 109 kimmer januari 24 2014 6:41 PM ladi katie….. whew alot question comments… want commend patienc all… truli kind gentl heart sound wonder thank much share 110 vicki A januari 25 2014 8:30 AM sine ca n't seem leav well enough alon 'm go tri captain morgan's/ 111 billi venabl II januari 25 2014 4:25 PM damn bad alreadi marri A woman seem know almost everi kind moonshin known man damn good woman one worth keep keep kind come 112 jkc januari 26 2014 10:56 AM add tablespoon brown sugar give nice touch also also put veri small amount whip cream top shot befor 113 TC januari 26 2014 1:00 PM post moonshin ladi kati januari 26 2014 2:34 PM well knew would havent perfect yet 114 azaria januari 28 2014 9:30 AM recent bought made kaluha moonshin friend It tast like chocol coffe sneak kaboom soo good die recipe… ani help ? ladi kati januari 28 2014 2:13 PM kaluha moonshin ? Oh need search one see find ladi kati januari 28 2014 2:18 PM Is like homemad kaluha ? found homemad kaluha everclear coffe It look awesom first veri strong pot coffi add cup sugar let cool room temp put deep frezzer add oz pure vanilla extract add liter 190 everclear grain drink rock glass add ice 1/3 kahula top milk liter 1/5 store glass thank good ole way 115 LS januari 28 2014 11:26 AM Do hot water bath jar seal lid ring seal cool ? ladi kati januari 28 2014 2:11 PM No hot water bath burn liquor combust let sit lid ring twist liquor shelf stabl 116 debra januari 28 2014 11:45 AM kati made appl pie shine 30 day look yesterday color setament wa bottom clear top supos ok ladi kati januari 28 2014 2:10 PM give shake take drink cider doe alot cheesecloth strain want doesnt effect flavor either way shake get liquor mix nice debra januari 28 2014 2:59 PM kati see site shine light brown shake supos septrat set awhil ? thank answer mine ha onli jare day notic wa clear top color wa bottom .if strain latter go take away color doe matter 117 lesle januari 28 2014 1:42 PM buy everclear line It deliev 118 brant januari 29 2014 12:46 PM doe n't work around 19 % alcohol ? ladi kati januari 29 2014 5:10 PM realli couldnt say sound right part alcohol part juic flavor deceiv longer sit drank one quart didnt think anyth stood 119 krissi januari 29 2014 3:48 PM Do realli seal jar ? Or store ? ladi kati januari 29 2014 5:09 PM lid want protect stuff air need seal like water bath anyth 120 LS januari 29 2014 4:40 PM one follow buy appl cider anywher time year ? ladi kati januari 30 2014 5:12 AM still sell local store produc section If find substitut appl juic 121 rosale januari 29 2014 7:45 PM thank post recipes- soon 122 kashius47 januari 30 2014 9:05 AM Do peopl read comment read question whole bit moonshin care it' call If butt hurt name n't comment wrong blog 'm pretti sure call want 123 jen letzo januari 30 2014 10:26 AM made last night wa lot sediment cider suppos strain cider befor add ever clear leav ? thank ladi kati januari 30 2014 10:52 AM either never strain fine cider tend alot sediment 124 kati januari 30 2014 2:56 PM technic actual moonshin It moonshin look alik We everi year holiday We littl twist though My recommend let sit least week ani shorter n't good longer sit better tast let sit month almost strong drink 125 carri januari 30 2014 3:40 PM My question canadian one We live ontario.what unsur even carri grain liquor…..anyon ideas… ladi kati januari 31 2014 5:00 AM substitut vodka grain alcohol 126 sthrngirl januari 31 2014 7:21 AM wonder found ani cranberri pomegran pineappl even grape ? hubbi want start `` tri '' real moonshin laugh would great substitut also wonder anyon ani kind alcohol besid everclear vodka say crown wild turkey ? ladi kati januari 31 2014 4:52 PM heard peopl rum bourbon..but speak yet 127 stephani februari 2014 12:03 PM groceri store sell appl pie moonshin much quicker wait month much legal 128 diana februari 8 2014 6:29 PM anyon old fashion sip tea ? someon gave husband gallon open wa horribl left frig month tri wa great 'd live some…help anyon ? 129 jim februari 10 2014 3:14 PM made absolut orient appl It smell great ca n't wait tri My question store 30 day refriger ? thank ladi kati februari 10 2014 6:20 PM want store fridg either work 130 ethan februari 13 2014 6:11 PM filter sediment ? 've notic lot sediment bottom jar start batch 2/10/14 ladi kati februari 14 2014 4:41 AM want give good shake drink sediment juic 131 ann p februari 19 2014 10:06 AM look blueberri moonshin someon help 132 kathi februari 20 2014 2:18 PM absolut awesom made forgot - tri today - sold store broke smaller batch case - thank much share kathi februari 20 2014 2:24 PM moonshin filter sediment - cupboard sinc befor christma found 133 jami march 9 2014 4:46 PM kati wa wonder anyon ha ever made peach pie moonshin pure peach juic ? thought might give peach flavor could strain cheesecloth befor put jar ha anyon done success ? thank ladi kati march 14 2014 12:11 PM made made halv peach flavor came pure peach would pure peach first puree' would easier drink halv peach got quit `` bang '' alcohol made chunki eat 134 angela evanoff march 16 2014 1:12 PM happen husband didnt quit read right ad everclear appl cider cinn start ? ladi kati march 17 2014 5:53 AM run chanc mixtur catch fire …at minimum alcohol burn heat 135 robin march 19 2014 3:36 PM Do strawberri moonshin ? would nice spring ladi kati march 20 2014 9:42 AM yummi would see find work 136 clive april 15 2014 10:02 AM realli enjoy read post lemonad page made lemonad month ago recepi wa similar crack jar open friend birthday…wow.. treat U let sit much smoother anyway point comment wa jar got mine biglot ..yup realli cheap order larg quaniti need also re-us hame made jam jar love choke cherri jam found good jars… great size gift peopl portion control….lol 137 juli april 24 2014 9:04 PM good vodka appl moonshin doe ever clear ? n't know get ever clear… ladi kati april 28 2014 1:56 AM good vodka good vodka -both work fine 138 billi may 27 2014 1:31 PM happen put refriger alreadi made tast good ladi kati may 28 2014 10:22 AM refriger It nice cold littl drink hot day tast 139 cindi may 30 2014 5:25 PM would go caramel moonshin ? ladi kati june 2014 8:08 PM one might think top head mayb caramel syrup get store coffe drink onc get ill tri leav A respons click cancel name requir email requir websit comment stay connect subscrib mail list popular featur badg like us facebook follow us pinterest visit crock-pot ladi profil pinterest recent comment martha @ simple-nourished-liv slow cooker saturday link parti - week 13 ladi heidi crock-pot brown sugar garlic chicken kaz @ melt moment crock-pot brown sugar garlic chicken jill slow cooker saturday link parti - week 13 jennif @ crockpot gourmet slow cooker saturday link parti - week 13 We crock-pot ladi Hi heidi kati sarah togeth crock-pot ladi save day easi slow cooker everyon enjoy We love experi crockpot share creation reader copyright © 2011-2014 crockpotladi right reserv crock-pot ladi way associ crock-pot brand slow cooker\""
      ]
     },
     "execution_count": 225,
     "metadata": {},
     "output_type": "execute_result"
    }
   ],
   "source": [
    "\" \".join(new_proc_docs[0])"
   ]
  },
  {
   "cell_type": "markdown",
   "metadata": {},
   "source": [
    "## ---------------------------------------"
   ]
  },
  {
   "cell_type": "code",
   "execution_count": 226,
   "metadata": {},
   "outputs": [],
   "source": [
    "text_train,text_test , y_train, y_test = train_test_split(\n",
    "    new_proc_texts, all_texts.target, test_size=0.33, random_state=42)"
   ]
  },
  {
   "cell_type": "code",
   "execution_count": 227,
   "metadata": {},
   "outputs": [
    {
     "name": "stdout",
     "output_type": "stream",
     "text": [
      "TF-IDF on text data ... \n",
      "Done ! \n"
     ]
    }
   ],
   "source": [
    "# Feature Engineering \n",
    "print (\"TF-IDF on text data ... \")\n",
    "tfidf = TfidfVectorizer(binary=True)\n",
    "X_train = tfidf.fit_transform(text_train)\n",
    "#.astype('float16')\n",
    "X_test = tfidf.transform(text_test)\n",
    "#.astype('float16')\n",
    "print (\"Done ! \")"
   ]
  },
  {
   "cell_type": "code",
   "execution_count": 228,
   "metadata": {},
   "outputs": [
    {
     "data": {
      "text/plain": [
       "(1765, 6622)"
      ]
     },
     "execution_count": 228,
     "metadata": {},
     "output_type": "execute_result"
    }
   ],
   "source": [
    "X_train.shape"
   ]
  },
  {
   "cell_type": "code",
   "execution_count": 230,
   "metadata": {},
   "outputs": [],
   "source": [
    "train_size, num_words = X_train.shape\n",
    "num_classes = len(all_texts.target_names)"
   ]
  },
  {
   "cell_type": "code",
   "execution_count": 231,
   "metadata": {},
   "outputs": [],
   "source": [
    "test_size,_ = X_test.shape"
   ]
  },
  {
   "cell_type": "markdown",
   "metadata": {},
   "source": [
    "## Keras model"
   ]
  },
  {
   "cell_type": "code",
   "execution_count": 232,
   "metadata": {
    "scrolled": true
   },
   "outputs": [
    {
     "name": "stdout",
     "output_type": "stream",
     "text": [
      "Train on 1765 samples, validate on 870 samples\n",
      "Epoch 1/50\n",
      "1765/1765 [==============================] - 5s 3ms/step - loss: 0.8565 - acc: 0.5501 - val_loss: 0.2846 - val_acc: 0.9000\n",
      "Epoch 2/50\n",
      "1765/1765 [==============================] - 4s 2ms/step - loss: 0.1467 - acc: 0.9552 - val_loss: 0.1358 - val_acc: 0.9540\n",
      "Epoch 3/50\n",
      "1765/1765 [==============================] - 4s 2ms/step - loss: 0.0806 - acc: 0.9739 - val_loss: 0.1765 - val_acc: 0.9425\n",
      "Epoch 4/50\n",
      "1765/1765 [==============================] - 4s 2ms/step - loss: 0.0486 - acc: 0.9858 - val_loss: 0.1938 - val_acc: 0.9517\n",
      "Epoch 5/50\n",
      "1765/1765 [==============================] - 4s 2ms/step - loss: 0.0397 - acc: 0.9875 - val_loss: 0.1634 - val_acc: 0.9494\n",
      "Epoch 6/50\n",
      "1765/1765 [==============================] - 4s 2ms/step - loss: 0.0462 - acc: 0.9830 - val_loss: 0.2481 - val_acc: 0.9333\n",
      "Epoch 7/50\n",
      "1765/1765 [==============================] - 4s 2ms/step - loss: 0.0402 - acc: 0.9875 - val_loss: 0.2778 - val_acc: 0.9264\n",
      "Epoch 8/50\n",
      "1765/1765 [==============================] - 4s 2ms/step - loss: 0.0246 - acc: 0.9892 - val_loss: 0.1923 - val_acc: 0.9529\n",
      "Epoch 9/50\n",
      "1765/1765 [==============================] - 4s 2ms/step - loss: 0.0202 - acc: 0.9915 - val_loss: 0.2740 - val_acc: 0.9425\n",
      "Epoch 10/50\n",
      "1765/1765 [==============================] - 4s 2ms/step - loss: 0.0238 - acc: 0.9921 - val_loss: 0.1618 - val_acc: 0.9609\n",
      "Epoch 11/50\n",
      "1765/1765 [==============================] - 4s 2ms/step - loss: 0.0183 - acc: 0.9932 - val_loss: 0.1950 - val_acc: 0.9575\n",
      "Epoch 12/50\n",
      "1765/1765 [==============================] - 4s 2ms/step - loss: 0.0162 - acc: 0.9926 - val_loss: 0.3331 - val_acc: 0.9368\n",
      "Epoch 13/50\n",
      "1765/1765 [==============================] - 4s 2ms/step - loss: 0.0161 - acc: 0.9932 - val_loss: 0.2316 - val_acc: 0.9529\n",
      "Epoch 14/50\n",
      "1765/1765 [==============================] - 4s 2ms/step - loss: 0.0198 - acc: 0.9921 - val_loss: 0.1844 - val_acc: 0.9586\n",
      "Epoch 15/50\n",
      "1765/1765 [==============================] - 4s 2ms/step - loss: 0.0258 - acc: 0.9909 - val_loss: 0.1271 - val_acc: 0.9644\n",
      "Epoch 16/50\n",
      "1765/1765 [==============================] - 4s 2ms/step - loss: 0.0280 - acc: 0.9909 - val_loss: 0.2006 - val_acc: 0.9598\n",
      "Epoch 17/50\n",
      "1765/1765 [==============================] - 4s 2ms/step - loss: 0.0163 - acc: 0.9926 - val_loss: 0.2366 - val_acc: 0.9598\n",
      "Epoch 18/50\n",
      "1765/1765 [==============================] - 4s 2ms/step - loss: 0.0215 - acc: 0.9909 - val_loss: 0.3109 - val_acc: 0.9379\n",
      "Epoch 19/50\n",
      "1765/1765 [==============================] - 4s 2ms/step - loss: 0.0498 - acc: 0.9858 - val_loss: 0.2010 - val_acc: 0.9517\n",
      "Epoch 20/50\n",
      "1765/1765 [==============================] - 4s 2ms/step - loss: 0.0375 - acc: 0.9881 - val_loss: 0.1696 - val_acc: 0.9552\n",
      "Epoch 21/50\n",
      "1765/1765 [==============================] - 4s 2ms/step - loss: 0.0388 - acc: 0.9881 - val_loss: 0.1822 - val_acc: 0.9575\n",
      "Epoch 22/50\n",
      "1765/1765 [==============================] - 4s 2ms/step - loss: 0.0251 - acc: 0.9898 - val_loss: 0.2905 - val_acc: 0.9460\n",
      "Epoch 23/50\n",
      "1765/1765 [==============================] - 4s 2ms/step - loss: 0.0353 - acc: 0.9892 - val_loss: 0.1848 - val_acc: 0.9483\n",
      "Epoch 24/50\n",
      "1765/1765 [==============================] - 4s 2ms/step - loss: 0.0196 - acc: 0.9926 - val_loss: 0.1768 - val_acc: 0.9655\n",
      "Epoch 25/50\n",
      "1765/1765 [==============================] - 4s 2ms/step - loss: 0.0161 - acc: 0.9926 - val_loss: 0.1845 - val_acc: 0.9644\n",
      "Epoch 26/50\n",
      "1765/1765 [==============================] - 4s 2ms/step - loss: 0.0156 - acc: 0.9926 - val_loss: 0.2153 - val_acc: 0.9632\n",
      "Epoch 27/50\n",
      "1765/1765 [==============================] - 4s 2ms/step - loss: 0.0184 - acc: 0.9915 - val_loss: 0.1853 - val_acc: 0.9690\n",
      "Epoch 28/50\n",
      "1765/1765 [==============================] - 4s 2ms/step - loss: 0.0154 - acc: 0.9938 - val_loss: 0.2246 - val_acc: 0.9632\n",
      "Epoch 29/50\n",
      "1765/1765 [==============================] - 4s 2ms/step - loss: 0.0160 - acc: 0.9932 - val_loss: 0.1956 - val_acc: 0.9678\n",
      "Epoch 30/50\n",
      "1765/1765 [==============================] - 4s 2ms/step - loss: 0.0171 - acc: 0.9921 - val_loss: 0.2053 - val_acc: 0.9598\n",
      "Epoch 31/50\n",
      "1765/1765 [==============================] - 4s 2ms/step - loss: 0.0339 - acc: 0.9915 - val_loss: 0.2264 - val_acc: 0.9678\n",
      "Epoch 32/50\n",
      "1765/1765 [==============================] - 4s 2ms/step - loss: 0.0347 - acc: 0.9909 - val_loss: 0.3750 - val_acc: 0.9460\n",
      "Epoch 33/50\n",
      "1765/1765 [==============================] - 4s 2ms/step - loss: 0.0442 - acc: 0.9881 - val_loss: 0.2087 - val_acc: 0.9563\n",
      "Epoch 34/50\n",
      "1765/1765 [==============================] - 4s 2ms/step - loss: 0.0618 - acc: 0.9853 - val_loss: 0.1829 - val_acc: 0.9598\n",
      "Epoch 35/50\n",
      "1765/1765 [==============================] - 4s 2ms/step - loss: 0.0307 - acc: 0.9898 - val_loss: 0.2628 - val_acc: 0.9517\n",
      "Epoch 36/50\n",
      "1765/1765 [==============================] - 4s 2ms/step - loss: 0.0222 - acc: 0.9909 - val_loss: 0.2110 - val_acc: 0.9678\n",
      "Epoch 37/50\n",
      "1765/1765 [==============================] - 4s 2ms/step - loss: 0.0332 - acc: 0.9892 - val_loss: 0.1768 - val_acc: 0.9575\n",
      "Epoch 38/50\n",
      "1765/1765 [==============================] - 4s 2ms/step - loss: 0.0188 - acc: 0.9915 - val_loss: 0.2319 - val_acc: 0.9552\n",
      "Epoch 39/50\n",
      "1408/1765 [======================>.......] - ETA: 0s - loss: 0.0176 - acc: 0.9929"
     ]
    },
    {
     "ename": "KeyboardInterrupt",
     "evalue": "",
     "output_type": "error",
     "traceback": [
      "\u001b[1;31m---------------------------------------------------------------------------\u001b[0m",
      "\u001b[1;31mKeyboardInterrupt\u001b[0m                         Traceback (most recent call last)",
      "\u001b[1;32m<ipython-input-232-3522f5c98687>\u001b[0m in \u001b[0;36m<module>\u001b[1;34m\u001b[0m\n\u001b[0;32m     26\u001b[0m           \u001b[0mepochs\u001b[0m\u001b[1;33m=\u001b[0m\u001b[1;36m50\u001b[0m\u001b[1;33m,\u001b[0m\u001b[1;33m\u001b[0m\u001b[0m\n\u001b[0;32m     27\u001b[0m           \u001b[0mverbose\u001b[0m\u001b[1;33m=\u001b[0m\u001b[1;36m1\u001b[0m\u001b[1;33m,\u001b[0m\u001b[1;33m\u001b[0m\u001b[0m\n\u001b[1;32m---> 28\u001b[1;33m           validation_data=(X_test, y_test))\n\u001b[0m\u001b[0;32m     29\u001b[0m \u001b[1;33m\u001b[0m\u001b[0m\n\u001b[0;32m     30\u001b[0m \u001b[0mscore\u001b[0m \u001b[1;33m=\u001b[0m \u001b[0mmodel\u001b[0m\u001b[1;33m.\u001b[0m\u001b[0mevaluate\u001b[0m\u001b[1;33m(\u001b[0m\u001b[0mX_test\u001b[0m\u001b[1;33m,\u001b[0m \u001b[0my_test\u001b[0m\u001b[1;33m,\u001b[0m \u001b[0mverbose\u001b[0m\u001b[1;33m=\u001b[0m\u001b[1;36m0\u001b[0m\u001b[1;33m)\u001b[0m\u001b[1;33m\u001b[0m\u001b[0m\n",
      "\u001b[1;32mD:\\Anaconda3\\lib\\site-packages\\keras\\engine\\training.py\u001b[0m in \u001b[0;36mfit\u001b[1;34m(self, x, y, batch_size, epochs, verbose, callbacks, validation_split, validation_data, shuffle, class_weight, sample_weight, initial_epoch, steps_per_epoch, validation_steps, **kwargs)\u001b[0m\n\u001b[0;32m   1037\u001b[0m                                         \u001b[0minitial_epoch\u001b[0m\u001b[1;33m=\u001b[0m\u001b[0minitial_epoch\u001b[0m\u001b[1;33m,\u001b[0m\u001b[1;33m\u001b[0m\u001b[0m\n\u001b[0;32m   1038\u001b[0m                                         \u001b[0msteps_per_epoch\u001b[0m\u001b[1;33m=\u001b[0m\u001b[0msteps_per_epoch\u001b[0m\u001b[1;33m,\u001b[0m\u001b[1;33m\u001b[0m\u001b[0m\n\u001b[1;32m-> 1039\u001b[1;33m                                         validation_steps=validation_steps)\n\u001b[0m\u001b[0;32m   1040\u001b[0m \u001b[1;33m\u001b[0m\u001b[0m\n\u001b[0;32m   1041\u001b[0m     def evaluate(self, x=None, y=None,\n",
      "\u001b[1;32mD:\\Anaconda3\\lib\\site-packages\\keras\\engine\\training_arrays.py\u001b[0m in \u001b[0;36mfit_loop\u001b[1;34m(model, f, ins, out_labels, batch_size, epochs, verbose, callbacks, val_f, val_ins, shuffle, callback_metrics, initial_epoch, steps_per_epoch, validation_steps)\u001b[0m\n\u001b[0;32m    197\u001b[0m                     \u001b[0mins_batch\u001b[0m\u001b[1;33m[\u001b[0m\u001b[0mi\u001b[0m\u001b[1;33m]\u001b[0m \u001b[1;33m=\u001b[0m \u001b[0mins_batch\u001b[0m\u001b[1;33m[\u001b[0m\u001b[0mi\u001b[0m\u001b[1;33m]\u001b[0m\u001b[1;33m.\u001b[0m\u001b[0mtoarray\u001b[0m\u001b[1;33m(\u001b[0m\u001b[1;33m)\u001b[0m\u001b[1;33m\u001b[0m\u001b[0m\n\u001b[0;32m    198\u001b[0m \u001b[1;33m\u001b[0m\u001b[0m\n\u001b[1;32m--> 199\u001b[1;33m                 \u001b[0mouts\u001b[0m \u001b[1;33m=\u001b[0m \u001b[0mf\u001b[0m\u001b[1;33m(\u001b[0m\u001b[0mins_batch\u001b[0m\u001b[1;33m)\u001b[0m\u001b[1;33m\u001b[0m\u001b[0m\n\u001b[0m\u001b[0;32m    200\u001b[0m                 \u001b[0mouts\u001b[0m \u001b[1;33m=\u001b[0m \u001b[0mto_list\u001b[0m\u001b[1;33m(\u001b[0m\u001b[0mouts\u001b[0m\u001b[1;33m)\u001b[0m\u001b[1;33m\u001b[0m\u001b[0m\n\u001b[0;32m    201\u001b[0m                 \u001b[1;32mfor\u001b[0m \u001b[0ml\u001b[0m\u001b[1;33m,\u001b[0m \u001b[0mo\u001b[0m \u001b[1;32min\u001b[0m \u001b[0mzip\u001b[0m\u001b[1;33m(\u001b[0m\u001b[0mout_labels\u001b[0m\u001b[1;33m,\u001b[0m \u001b[0mouts\u001b[0m\u001b[1;33m)\u001b[0m\u001b[1;33m:\u001b[0m\u001b[1;33m\u001b[0m\u001b[0m\n",
      "\u001b[1;32mD:\\Anaconda3\\lib\\site-packages\\keras\\backend\\tensorflow_backend.py\u001b[0m in \u001b[0;36m__call__\u001b[1;34m(self, inputs)\u001b[0m\n\u001b[0;32m   2719\u001b[0m                     \u001b[1;34m'In order to feed symbolic tensors to a Keras model '\u001b[0m\u001b[1;33m\u001b[0m\u001b[0m\n\u001b[0;32m   2720\u001b[0m                     'in TensorFlow, you need tensorflow 1.8 or higher.')\n\u001b[1;32m-> 2721\u001b[1;33m             \u001b[1;32mreturn\u001b[0m \u001b[0mself\u001b[0m\u001b[1;33m.\u001b[0m\u001b[0m_legacy_call\u001b[0m\u001b[1;33m(\u001b[0m\u001b[0minputs\u001b[0m\u001b[1;33m)\u001b[0m\u001b[1;33m\u001b[0m\u001b[0m\n\u001b[0m\u001b[0;32m   2722\u001b[0m \u001b[1;33m\u001b[0m\u001b[0m\n\u001b[0;32m   2723\u001b[0m \u001b[1;33m\u001b[0m\u001b[0m\n",
      "\u001b[1;32mD:\\Anaconda3\\lib\\site-packages\\keras\\backend\\tensorflow_backend.py\u001b[0m in \u001b[0;36m_legacy_call\u001b[1;34m(self, inputs)\u001b[0m\n\u001b[0;32m   2691\u001b[0m         \u001b[0msession\u001b[0m \u001b[1;33m=\u001b[0m \u001b[0mget_session\u001b[0m\u001b[1;33m(\u001b[0m\u001b[1;33m)\u001b[0m\u001b[1;33m\u001b[0m\u001b[0m\n\u001b[0;32m   2692\u001b[0m         updated = session.run(fetches=fetches, feed_dict=feed_dict,\n\u001b[1;32m-> 2693\u001b[1;33m                               **self.session_kwargs)\n\u001b[0m\u001b[0;32m   2694\u001b[0m         \u001b[1;32mreturn\u001b[0m \u001b[0mupdated\u001b[0m\u001b[1;33m[\u001b[0m\u001b[1;33m:\u001b[0m\u001b[0mlen\u001b[0m\u001b[1;33m(\u001b[0m\u001b[0mself\u001b[0m\u001b[1;33m.\u001b[0m\u001b[0moutputs\u001b[0m\u001b[1;33m)\u001b[0m\u001b[1;33m]\u001b[0m\u001b[1;33m\u001b[0m\u001b[0m\n\u001b[0;32m   2695\u001b[0m \u001b[1;33m\u001b[0m\u001b[0m\n",
      "\u001b[1;32mD:\\Anaconda3\\lib\\site-packages\\tensorflow\\python\\client\\session.py\u001b[0m in \u001b[0;36mrun\u001b[1;34m(self, fetches, feed_dict, options, run_metadata)\u001b[0m\n\u001b[0;32m    893\u001b[0m     \u001b[1;32mtry\u001b[0m\u001b[1;33m:\u001b[0m\u001b[1;33m\u001b[0m\u001b[0m\n\u001b[0;32m    894\u001b[0m       result = self._run(None, fetches, feed_dict, options_ptr,\n\u001b[1;32m--> 895\u001b[1;33m                          run_metadata_ptr)\n\u001b[0m\u001b[0;32m    896\u001b[0m       \u001b[1;32mif\u001b[0m \u001b[0mrun_metadata\u001b[0m\u001b[1;33m:\u001b[0m\u001b[1;33m\u001b[0m\u001b[0m\n\u001b[0;32m    897\u001b[0m         \u001b[0mproto_data\u001b[0m \u001b[1;33m=\u001b[0m \u001b[0mtf_session\u001b[0m\u001b[1;33m.\u001b[0m\u001b[0mTF_GetBuffer\u001b[0m\u001b[1;33m(\u001b[0m\u001b[0mrun_metadata_ptr\u001b[0m\u001b[1;33m)\u001b[0m\u001b[1;33m\u001b[0m\u001b[0m\n",
      "\u001b[1;32mD:\\Anaconda3\\lib\\site-packages\\tensorflow\\python\\client\\session.py\u001b[0m in \u001b[0;36m_run\u001b[1;34m(self, handle, fetches, feed_dict, options, run_metadata)\u001b[0m\n\u001b[0;32m   1126\u001b[0m     \u001b[1;32mif\u001b[0m \u001b[0mfinal_fetches\u001b[0m \u001b[1;32mor\u001b[0m \u001b[0mfinal_targets\u001b[0m \u001b[1;32mor\u001b[0m \u001b[1;33m(\u001b[0m\u001b[0mhandle\u001b[0m \u001b[1;32mand\u001b[0m \u001b[0mfeed_dict_tensor\u001b[0m\u001b[1;33m)\u001b[0m\u001b[1;33m:\u001b[0m\u001b[1;33m\u001b[0m\u001b[0m\n\u001b[0;32m   1127\u001b[0m       results = self._do_run(handle, final_targets, final_fetches,\n\u001b[1;32m-> 1128\u001b[1;33m                              feed_dict_tensor, options, run_metadata)\n\u001b[0m\u001b[0;32m   1129\u001b[0m     \u001b[1;32melse\u001b[0m\u001b[1;33m:\u001b[0m\u001b[1;33m\u001b[0m\u001b[0m\n\u001b[0;32m   1130\u001b[0m       \u001b[0mresults\u001b[0m \u001b[1;33m=\u001b[0m \u001b[1;33m[\u001b[0m\u001b[1;33m]\u001b[0m\u001b[1;33m\u001b[0m\u001b[0m\n",
      "\u001b[1;32mD:\\Anaconda3\\lib\\site-packages\\tensorflow\\python\\client\\session.py\u001b[0m in \u001b[0;36m_do_run\u001b[1;34m(self, handle, target_list, fetch_list, feed_dict, options, run_metadata)\u001b[0m\n\u001b[0;32m   1342\u001b[0m     \u001b[1;32mif\u001b[0m \u001b[0mhandle\u001b[0m \u001b[1;32mis\u001b[0m \u001b[1;32mNone\u001b[0m\u001b[1;33m:\u001b[0m\u001b[1;33m\u001b[0m\u001b[0m\n\u001b[0;32m   1343\u001b[0m       return self._do_call(_run_fn, self._session, feeds, fetches, targets,\n\u001b[1;32m-> 1344\u001b[1;33m                            options, run_metadata)\n\u001b[0m\u001b[0;32m   1345\u001b[0m     \u001b[1;32melse\u001b[0m\u001b[1;33m:\u001b[0m\u001b[1;33m\u001b[0m\u001b[0m\n\u001b[0;32m   1346\u001b[0m       \u001b[1;32mreturn\u001b[0m \u001b[0mself\u001b[0m\u001b[1;33m.\u001b[0m\u001b[0m_do_call\u001b[0m\u001b[1;33m(\u001b[0m\u001b[0m_prun_fn\u001b[0m\u001b[1;33m,\u001b[0m \u001b[0mself\u001b[0m\u001b[1;33m.\u001b[0m\u001b[0m_session\u001b[0m\u001b[1;33m,\u001b[0m \u001b[0mhandle\u001b[0m\u001b[1;33m,\u001b[0m \u001b[0mfeeds\u001b[0m\u001b[1;33m,\u001b[0m \u001b[0mfetches\u001b[0m\u001b[1;33m)\u001b[0m\u001b[1;33m\u001b[0m\u001b[0m\n",
      "\u001b[1;32mD:\\Anaconda3\\lib\\site-packages\\tensorflow\\python\\client\\session.py\u001b[0m in \u001b[0;36m_do_call\u001b[1;34m(self, fn, *args)\u001b[0m\n\u001b[0;32m   1348\u001b[0m   \u001b[1;32mdef\u001b[0m \u001b[0m_do_call\u001b[0m\u001b[1;33m(\u001b[0m\u001b[0mself\u001b[0m\u001b[1;33m,\u001b[0m \u001b[0mfn\u001b[0m\u001b[1;33m,\u001b[0m \u001b[1;33m*\u001b[0m\u001b[0margs\u001b[0m\u001b[1;33m)\u001b[0m\u001b[1;33m:\u001b[0m\u001b[1;33m\u001b[0m\u001b[0m\n\u001b[0;32m   1349\u001b[0m     \u001b[1;32mtry\u001b[0m\u001b[1;33m:\u001b[0m\u001b[1;33m\u001b[0m\u001b[0m\n\u001b[1;32m-> 1350\u001b[1;33m       \u001b[1;32mreturn\u001b[0m \u001b[0mfn\u001b[0m\u001b[1;33m(\u001b[0m\u001b[1;33m*\u001b[0m\u001b[0margs\u001b[0m\u001b[1;33m)\u001b[0m\u001b[1;33m\u001b[0m\u001b[0m\n\u001b[0m\u001b[0;32m   1351\u001b[0m     \u001b[1;32mexcept\u001b[0m \u001b[0merrors\u001b[0m\u001b[1;33m.\u001b[0m\u001b[0mOpError\u001b[0m \u001b[1;32mas\u001b[0m \u001b[0me\u001b[0m\u001b[1;33m:\u001b[0m\u001b[1;33m\u001b[0m\u001b[0m\n\u001b[0;32m   1352\u001b[0m       \u001b[0mmessage\u001b[0m \u001b[1;33m=\u001b[0m \u001b[0mcompat\u001b[0m\u001b[1;33m.\u001b[0m\u001b[0mas_text\u001b[0m\u001b[1;33m(\u001b[0m\u001b[0me\u001b[0m\u001b[1;33m.\u001b[0m\u001b[0mmessage\u001b[0m\u001b[1;33m)\u001b[0m\u001b[1;33m\u001b[0m\u001b[0m\n",
      "\u001b[1;32mD:\\Anaconda3\\lib\\site-packages\\tensorflow\\python\\client\\session.py\u001b[0m in \u001b[0;36m_run_fn\u001b[1;34m(session, feed_dict, fetch_list, target_list, options, run_metadata)\u001b[0m\n\u001b[0;32m   1327\u001b[0m           return tf_session.TF_Run(session, options,\n\u001b[0;32m   1328\u001b[0m                                    \u001b[0mfeed_dict\u001b[0m\u001b[1;33m,\u001b[0m \u001b[0mfetch_list\u001b[0m\u001b[1;33m,\u001b[0m \u001b[0mtarget_list\u001b[0m\u001b[1;33m,\u001b[0m\u001b[1;33m\u001b[0m\u001b[0m\n\u001b[1;32m-> 1329\u001b[1;33m                                    status, run_metadata)\n\u001b[0m\u001b[0;32m   1330\u001b[0m \u001b[1;33m\u001b[0m\u001b[0m\n\u001b[0;32m   1331\u001b[0m     \u001b[1;32mdef\u001b[0m \u001b[0m_prun_fn\u001b[0m\u001b[1;33m(\u001b[0m\u001b[0msession\u001b[0m\u001b[1;33m,\u001b[0m \u001b[0mhandle\u001b[0m\u001b[1;33m,\u001b[0m \u001b[0mfeed_dict\u001b[0m\u001b[1;33m,\u001b[0m \u001b[0mfetch_list\u001b[0m\u001b[1;33m)\u001b[0m\u001b[1;33m:\u001b[0m\u001b[1;33m\u001b[0m\u001b[0m\n",
      "\u001b[1;31mKeyboardInterrupt\u001b[0m: "
     ]
    }
   ],
   "source": [
    "from keras import models\n",
    "\n",
    "# Build neural network\n",
    "model = models.Sequential()\n",
    "model.add(Dense(256, input_dim=num_words, activation='relu'))\n",
    "model.add(Dropout(0.3))\n",
    "model.add(Dense(200, activation='relu'))\n",
    "model.add(Dropout(0.3))\n",
    "model.add(Dense(160, activation='relu'))\n",
    "model.add(Dropout(0.3))\n",
    "model.add(Dense(120, activation='relu'))\n",
    "model.add(Dropout(0.3))\n",
    "model.add(Dense(80, activation='relu'))\n",
    "model.add(Dropout(0.3))\n",
    "model.add(Dense(num_classes, activation='softmax'))\n",
    "\n",
    "# Compile model\n",
    "model.compile(optimizer='adam',\n",
    "              #loss='categorical_crossentropy',\n",
    "              loss='sparse_categorical_crossentropy',\n",
    "              metrics=['accuracy'])\n",
    "\n",
    "# Train model\n",
    "model.fit(X_train, y_train,\n",
    "          #batch_size=128,\n",
    "          epochs=50,\n",
    "          verbose=1,\n",
    "          validation_data=(X_test, y_test))\n",
    "\n",
    "score = model.evaluate(X_test, y_test, verbose=0)\n",
    "print('Test loss:', score[0])\n",
    "print('Test accuracy:', score[1])"
   ]
  },
  {
   "cell_type": "markdown",
   "metadata": {},
   "source": [
    "## Torch model"
   ]
  },
  {
   "cell_type": "code",
   "execution_count": null,
   "metadata": {},
   "outputs": [],
   "source": [
    "use_gpu = torch.cuda.is_available()\n",
    "print('Using gpu: %s ' % use_gpu)"
   ]
  },
  {
   "cell_type": "code",
   "execution_count": 88,
   "metadata": {},
   "outputs": [],
   "source": [
    "use_gpu = False"
   ]
  },
  {
   "cell_type": "code",
   "execution_count": 90,
   "metadata": {},
   "outputs": [],
   "source": [
    "import torch\n",
    "import torch.nn as nn\n",
    "import torch.nn.functional as F\n",
    "import torch.optim as optim\n",
    "from torch.autograd import Variable"
   ]
  },
  {
   "cell_type": "code",
   "execution_count": 165,
   "metadata": {},
   "outputs": [],
   "source": [
    "criterion = nn.CrossEntropyLoss()"
   ]
  },
  {
   "cell_type": "code",
   "execution_count": 139,
   "metadata": {},
   "outputs": [],
   "source": [
    "class myNet2(nn.Module):\n",
    "    def __init__(self, input_size, num_classes):\n",
    "        super(myNet2, self).__init__()\n",
    "        self.classifier = nn.Sequential(\n",
    "            nn.Linear(input_size, 256),\n",
    "            nn.ReLU(True),\n",
    "            nn.Dropout(0.3),\n",
    "            nn.Linear(256, 200),\n",
    "            nn.ReLU(True),\n",
    "            nn.Dropout(0.3),\n",
    "            nn.Linear(200, 160),\n",
    "            nn.ReLU(True),\n",
    "            nn.Dropout(0.3),\n",
    "            nn.Linear(160, 120),\n",
    "            nn.ReLU(True),\n",
    "            nn.Dropout(0.3),\n",
    "            nn.Linear(120, 80),\n",
    "            nn.ReLU(True),\n",
    "            nn.Dropout(0.3),\n",
    "            nn.Linear(80, num_classes),\n",
    "        ) \n",
    "\n",
    "    def forward(self, x):\n",
    "        x = self.classifier(x)\n",
    "        return x"
   ]
  },
  {
   "cell_type": "code",
   "execution_count": 192,
   "metadata": {},
   "outputs": [],
   "source": [
    "net2 = myNet2(num_words, num_classes)\n",
    "optimizer2 = optim.Adam(net2.parameters())"
   ]
  },
  {
   "cell_type": "code",
   "execution_count": 130,
   "metadata": {},
   "outputs": [
    {
     "name": "stdout",
     "output_type": "stream",
     "text": [
      "myNet2(\n",
      "  (classifier): Sequential(\n",
      "    (0): Linear(in_features=10063, out_features=256, bias=True)\n",
      "    (1): ReLU(inplace)\n",
      "    (2): Dropout(p=0.3)\n",
      "    (3): Linear(in_features=256, out_features=200, bias=True)\n",
      "    (4): ReLU(inplace)\n",
      "    (5): Dropout(p=0.3)\n",
      "    (6): Linear(in_features=200, out_features=160, bias=True)\n",
      "    (7): ReLU(inplace)\n",
      "    (8): Dropout(p=0.3)\n",
      "    (9): Linear(in_features=160, out_features=120, bias=True)\n",
      "    (10): ReLU(inplace)\n",
      "    (11): Dropout(p=0.3)\n",
      "    (12): Linear(in_features=120, out_features=80, bias=True)\n",
      "    (13): ReLU(inplace)\n",
      "    (14): Dropout(p=0.3)\n",
      "    (15): Linear(in_features=80, out_features=3, bias=True)\n",
      "  )\n",
      ")\n"
     ]
    }
   ],
   "source": [
    "print(net2)"
   ]
  },
  {
   "cell_type": "code",
   "execution_count": 166,
   "metadata": {},
   "outputs": [],
   "source": [
    "class OurNet(nn.Module):\n",
    "    def __init__(self, n_inputs, hidden_size, num_classes):\n",
    "        super(OurNet, self).__init__()\n",
    "        self.layer_1 = nn.Linear(n_inputs,hidden_size, bias=True)\n",
    "        self.relu = nn.ReLU()\n",
    "        self.layer_2 = nn.Linear(hidden_size, hidden_size, bias=True)\n",
    "        self.output_layer = nn.Linear(hidden_size, num_classes, bias=True)\n",
    "\n",
    "    def forward(self, x):\n",
    "        out = self.layer_1(x)\n",
    "        out = self.relu(out)\n",
    "        out = self.layer_2(out)\n",
    "        out = self.relu(out)\n",
    "        out = self.output_layer(out)\n",
    "        return out"
   ]
  },
  {
   "cell_type": "code",
   "execution_count": 188,
   "metadata": {},
   "outputs": [],
   "source": [
    "net3 = OurNet(num_words, 100, num_classes)\n",
    "#ouroptimizer = optim.SGD(net3.parameters(), lr=0.01)\n",
    "ouroptimizer = optim.Adam(net3.parameters())"
   ]
  },
  {
   "cell_type": "code",
   "execution_count": null,
   "metadata": {},
   "outputs": [],
   "source": [
    "if use_gpu:\n",
    "    net3 = net3.cuda()"
   ]
  },
  {
   "cell_type": "markdown",
   "metadata": {},
   "source": [
    "### Creating Data generator"
   ]
  },
  {
   "cell_type": "code",
   "execution_count": 94,
   "metadata": {},
   "outputs": [],
   "source": [
    "def data_gen(data,labels,batch_size=64,shuffle=True):\n",
    "    labels = np.array(labels)\n",
    "    if shuffle:\n",
    "        index = np.random.permutation(len(data))\n",
    "        data = data[index]\n",
    "        labels = labels[index]\n",
    "    for idx in range(0,len(data),batch_size):\n",
    "        yield(data[idx:idx+batch_size],labels[idx:idx+batch_size])"
   ]
  },
  {
   "cell_type": "code",
   "execution_count": 185,
   "metadata": {},
   "outputs": [],
   "source": [
    "def train_model(model,\n",
    "                train_data=None,train_labels=None, \n",
    "                test_data = None, test_labels = None,\n",
    "                epochs=1, batch_size = 128,\n",
    "                optimizer=None,criterion=None ,\n",
    "                train=True,\n",
    "                shuffle=True ):\n",
    "    \n",
    "    if train:\n",
    "        loss_history = []\n",
    "        acc_history = []\n",
    "        val_loss_history = []\n",
    "        val_acc_history = []\n",
    "        \n",
    "        model.train()\n",
    "    else:\n",
    "        model.eval()\n",
    "        \n",
    "    if train :\n",
    "        for epoch in range(epochs):\n",
    "            #================TRAINING=====================#\n",
    "            batches = data_gen(data=train_data,labels=train_labels,batch_size = batch_size,shuffle=shuffle)\n",
    "\n",
    "            running_loss = 0.0\n",
    "            running_corrects = 0\n",
    "            \n",
    "            for inputs,classes in batches:\n",
    "                if use_gpu:\n",
    "                    inputs , classes = torch.from_numpy(inputs).float().cuda(), torch.from_numpy(classes).long().cuda()\n",
    "                else:\n",
    "                    inputs , classes = torch.from_numpy(inputs).float(), torch.from_numpy(classes).long()\n",
    "\n",
    "                inputs = inputs.view(inputs.size(0), -1)\n",
    "                outputs = model(inputs)\n",
    "                loss = criterion(outputs,classes)\n",
    "                \n",
    "                if optimizer is None:\n",
    "                    raise ValueError('Pass optimizer for train mode')\n",
    "                    \n",
    "                optimizer = optimizer\n",
    "                optimizer.zero_grad()\n",
    "                loss.backward()\n",
    "                optimizer.step()\n",
    "                _,preds = torch.max(outputs.data,1)\n",
    "                # statistics\n",
    "                #print(loss)\n",
    "                running_loss += loss.data.item()\n",
    "                running_corrects += torch.sum(preds == classes.data)\n",
    "                \n",
    "            train_size = len(train_labels)\n",
    "            \n",
    "            epoch_loss = running_loss / train_size\n",
    "            epoch_acc = running_corrects.data.item() / train_size\n",
    "            #print('Epoch: {:d} Loss: {:.4f} Acc: {:.4f}'.format(\n",
    "            #             epoch, epoch_loss, epoch_acc))\n",
    "\n",
    "            loss_history.append(epoch_loss)\n",
    "            acc_history.append(epoch_acc)\n",
    "            \n",
    "            #================VALIDATING===================#\n",
    "            batches = data_gen(data=test_data,labels=test_labels,shuffle=shuffle)\n",
    "\n",
    "            running_loss = 0.0\n",
    "            running_corrects = 0\n",
    "            \n",
    "            for inputs,classes in batches:\n",
    "                if use_gpu:\n",
    "                    inputs , classes = torch.from_numpy(inputs).cuda(), torch.from_numpy(classes).cuda()\n",
    "                else:\n",
    "                    inputs , classes = Variable(torch.from_numpy(inputs).float()), Variable(torch.from_numpy(classes).long())\n",
    "\n",
    "                inputs = inputs.view(inputs.size(0), -1)\n",
    "                outputs = model(inputs)\n",
    "                loss = criterion(outputs,classes)           \n",
    "                _,preds = torch.max(outputs.data,1)\n",
    "                # statistics\n",
    "                #print(loss)\n",
    "                running_loss += loss.data.item()\n",
    "                running_corrects += torch.sum(preds == classes.data)\n",
    "                \n",
    "            test_size = len(test_labels)    \n",
    "                \n",
    "            test_epoch_loss = running_loss / test_size\n",
    "            test_epoch_acc = running_corrects.data.item() / test_size\n",
    "            \n",
    "            val_loss_history.append(test_epoch_loss)\n",
    "            val_acc_history.append(test_epoch_acc)\n",
    "            \n",
    "            print('Epoch: {:d} Loss: {:.4f} Acc: {:.4f} -- Test Loss: {:.4f} Test Acc: {:.4f}'.format(\n",
    "                     epoch, epoch_loss, epoch_acc, test_epoch_loss, test_epoch_acc))\n",
    "            \n",
    "        return loss_history,acc_history,val_loss_history,val_acc_history\n",
    "            \n",
    "    else :\n",
    "        batches = data_gen(data=test_data,labels=test_labels,shuffle=shuffle)\n",
    "\n",
    "        running_loss = 0.0\n",
    "        running_corrects = 0\n",
    "\n",
    "        for inputs,classes in batches:\n",
    "            if use_gpu:\n",
    "                inputs , classes = torch.from_numpy(inputs).cuda(), torch.from_numpy(classes).cuda()\n",
    "            else:\n",
    "                inputs , classes = Variable(torch.from_numpy(inputs).float()), Variable(torch.from_numpy(classes).long())\n",
    "\n",
    "            inputs = inputs.view(inputs.size(0), -1)\n",
    "            outputs = model(inputs)\n",
    "            loss = criterion(outputs,classes)           \n",
    "            _,preds = torch.max(outputs.data,1)\n",
    "            # statistics\n",
    "            #print(loss)\n",
    "            running_loss += loss.data.item()\n",
    "            running_corrects += torch.sum(preds == classes.data)\n",
    "\n",
    "        test_size = len(test_labels)    \n",
    "\n",
    "        test_epoch_loss = running_loss / test_size\n",
    "        test_epoch_acc = running_corrects.data.item() / test_size\n",
    "            \n",
    "        print('Test Loss: {:.4f} Test Acc: {:.4f}'.format(\n",
    "                     test_epoch_loss, test_epoch_acc))\n",
    "        \n",
    "        return"
   ]
  },
  {
   "cell_type": "code",
   "execution_count": 193,
   "metadata": {
    "scrolled": true
   },
   "outputs": [
    {
     "name": "stdout",
     "output_type": "stream",
     "text": [
      "Epoch: 0 Loss: 0.0086 Acc: 0.3864 -- Test Loss: 0.0173 Test Acc: 0.3563\n",
      "Epoch: 1 Loss: 0.0074 Acc: 0.5037 -- Test Loss: 0.0127 Test Acc: 0.6598\n",
      "Epoch: 2 Loss: 0.0034 Acc: 0.8544 -- Test Loss: 0.0048 Test Acc: 0.8966\n",
      "Epoch: 3 Loss: 0.0008 Acc: 0.9666 -- Test Loss: 0.0041 Test Acc: 0.9322\n",
      "Epoch: 4 Loss: 0.0005 Acc: 0.9802 -- Test Loss: 0.0045 Test Acc: 0.9299\n",
      "Epoch: 5 Loss: 0.0003 Acc: 0.9887 -- Test Loss: 0.0042 Test Acc: 0.9310\n",
      "Epoch: 6 Loss: 0.0003 Acc: 0.9881 -- Test Loss: 0.0034 Test Acc: 0.9425\n",
      "Epoch: 7 Loss: 0.0003 Acc: 0.9887 -- Test Loss: 0.0039 Test Acc: 0.9368\n",
      "Epoch: 8 Loss: 0.0002 Acc: 0.9915 -- Test Loss: 0.0031 Test Acc: 0.9529\n",
      "Epoch: 9 Loss: 0.0002 Acc: 0.9915 -- Test Loss: 0.0029 Test Acc: 0.9552\n",
      "Epoch: 10 Loss: 0.0002 Acc: 0.9898 -- Test Loss: 0.0030 Test Acc: 0.9540\n",
      "Epoch: 11 Loss: 0.0002 Acc: 0.9909 -- Test Loss: 0.0044 Test Acc: 0.9483\n",
      "Epoch: 12 Loss: 0.0002 Acc: 0.9915 -- Test Loss: 0.0034 Test Acc: 0.9448\n",
      "Epoch: 13 Loss: 0.0002 Acc: 0.9926 -- Test Loss: 0.0031 Test Acc: 0.9460\n",
      "Epoch: 14 Loss: 0.0002 Acc: 0.9915 -- Test Loss: 0.0034 Test Acc: 0.9483\n",
      "Epoch: 15 Loss: 0.0001 Acc: 0.9932 -- Test Loss: 0.0034 Test Acc: 0.9437\n",
      "Epoch: 16 Loss: 0.0001 Acc: 0.9904 -- Test Loss: 0.0030 Test Acc: 0.9506\n",
      "Epoch: 17 Loss: 0.0001 Acc: 0.9932 -- Test Loss: 0.0033 Test Acc: 0.9517\n",
      "Epoch: 18 Loss: 0.0001 Acc: 0.9932 -- Test Loss: 0.0032 Test Acc: 0.9552\n",
      "Epoch: 19 Loss: 0.0001 Acc: 0.9926 -- Test Loss: 0.0032 Test Acc: 0.9529\n",
      "Epoch: 20 Loss: 0.0001 Acc: 0.9926 -- Test Loss: 0.0042 Test Acc: 0.9460\n",
      "Epoch: 21 Loss: 0.0001 Acc: 0.9915 -- Test Loss: 0.0047 Test Acc: 0.9471\n",
      "Epoch: 22 Loss: 0.0001 Acc: 0.9926 -- Test Loss: 0.0043 Test Acc: 0.9483\n",
      "Epoch: 23 Loss: 0.0001 Acc: 0.9926 -- Test Loss: 0.0045 Test Acc: 0.9425\n",
      "Epoch: 24 Loss: 0.0001 Acc: 0.9932 -- Test Loss: 0.0055 Test Acc: 0.9299\n",
      "Epoch: 25 Loss: 0.0001 Acc: 0.9921 -- Test Loss: 0.0049 Test Acc: 0.9402\n",
      "Epoch: 26 Loss: 0.0001 Acc: 0.9932 -- Test Loss: 0.0046 Test Acc: 0.9414\n",
      "Epoch: 27 Loss: 0.0001 Acc: 0.9938 -- Test Loss: 0.0048 Test Acc: 0.9460\n",
      "Epoch: 28 Loss: 0.0001 Acc: 0.9926 -- Test Loss: 0.0053 Test Acc: 0.9448\n",
      "Epoch: 29 Loss: 0.0001 Acc: 0.9932 -- Test Loss: 0.0047 Test Acc: 0.9437\n",
      "Epoch: 30 Loss: 0.0001 Acc: 0.9932 -- Test Loss: 0.0052 Test Acc: 0.9414\n",
      "Epoch: 31 Loss: 0.0001 Acc: 0.9921 -- Test Loss: 0.0046 Test Acc: 0.9425\n",
      "Epoch: 32 Loss: 0.0001 Acc: 0.9932 -- Test Loss: 0.0041 Test Acc: 0.9506\n",
      "Epoch: 33 Loss: 0.0001 Acc: 0.9921 -- Test Loss: 0.0030 Test Acc: 0.9540\n",
      "Epoch: 34 Loss: 0.0002 Acc: 0.9909 -- Test Loss: 0.0050 Test Acc: 0.9333\n",
      "Epoch: 35 Loss: 0.0001 Acc: 0.9932 -- Test Loss: 0.0039 Test Acc: 0.9425\n",
      "Epoch: 36 Loss: 0.0001 Acc: 0.9921 -- Test Loss: 0.0040 Test Acc: 0.9471\n",
      "Epoch: 37 Loss: 0.0001 Acc: 0.9921 -- Test Loss: 0.0052 Test Acc: 0.9345\n",
      "Epoch: 38 Loss: 0.0001 Acc: 0.9921 -- Test Loss: 0.0036 Test Acc: 0.9540\n",
      "Epoch: 39 Loss: 0.0001 Acc: 0.9932 -- Test Loss: 0.0046 Test Acc: 0.9437\n",
      "Epoch: 40 Loss: 0.0001 Acc: 0.9932 -- Test Loss: 0.0036 Test Acc: 0.9506\n",
      "Epoch: 41 Loss: 0.0001 Acc: 0.9932 -- Test Loss: 0.0038 Test Acc: 0.9529\n",
      "Epoch: 42 Loss: 0.0001 Acc: 0.9938 -- Test Loss: 0.0040 Test Acc: 0.9471\n",
      "Epoch: 43 Loss: 0.0001 Acc: 0.9932 -- Test Loss: 0.0044 Test Acc: 0.9540\n",
      "Epoch: 44 Loss: 0.0001 Acc: 0.9921 -- Test Loss: 0.0043 Test Acc: 0.9517\n",
      "Epoch: 45 Loss: 0.0001 Acc: 0.9943 -- Test Loss: 0.0042 Test Acc: 0.9483\n",
      "Epoch: 46 Loss: 0.0001 Acc: 0.9938 -- Test Loss: 0.0045 Test Acc: 0.9471\n",
      "Epoch: 47 Loss: 0.0001 Acc: 0.9938 -- Test Loss: 0.0040 Test Acc: 0.9506\n",
      "Epoch: 48 Loss: 0.0001 Acc: 0.9921 -- Test Loss: 0.0043 Test Acc: 0.9540\n",
      "Epoch: 49 Loss: 0.0001 Acc: 0.9932 -- Test Loss: 0.0049 Test Acc: 0.9448\n",
      "Epoch: 50 Loss: 0.0001 Acc: 0.9926 -- Test Loss: 0.0046 Test Acc: 0.9448\n",
      "Epoch: 51 Loss: 0.0001 Acc: 0.9926 -- Test Loss: 0.0052 Test Acc: 0.9414\n",
      "Epoch: 52 Loss: 0.0001 Acc: 0.9926 -- Test Loss: 0.0043 Test Acc: 0.9494\n",
      "Epoch: 53 Loss: 0.0001 Acc: 0.9926 -- Test Loss: 0.0050 Test Acc: 0.9494\n",
      "Epoch: 54 Loss: 0.0001 Acc: 0.9932 -- Test Loss: 0.0045 Test Acc: 0.9540\n",
      "Epoch: 55 Loss: 0.0001 Acc: 0.9932 -- Test Loss: 0.0052 Test Acc: 0.9517\n",
      "Epoch: 56 Loss: 0.0001 Acc: 0.9932 -- Test Loss: 0.0053 Test Acc: 0.9437\n",
      "Epoch: 57 Loss: 0.0001 Acc: 0.9926 -- Test Loss: 0.0048 Test Acc: 0.9437\n",
      "Epoch: 58 Loss: 0.0001 Acc: 0.9926 -- Test Loss: 0.0045 Test Acc: 0.9425\n",
      "Epoch: 59 Loss: 0.0001 Acc: 0.9932 -- Test Loss: 0.0055 Test Acc: 0.9460\n",
      "Epoch: 60 Loss: 0.0001 Acc: 0.9932 -- Test Loss: 0.0055 Test Acc: 0.9471\n",
      "Epoch: 61 Loss: 0.0001 Acc: 0.9921 -- Test Loss: 0.0052 Test Acc: 0.9471\n",
      "Epoch: 62 Loss: 0.0001 Acc: 0.9932 -- Test Loss: 0.0058 Test Acc: 0.9471\n",
      "Epoch: 63 Loss: 0.0001 Acc: 0.9932 -- Test Loss: 0.0075 Test Acc: 0.9299\n",
      "Epoch: 64 Loss: 0.0001 Acc: 0.9926 -- Test Loss: 0.0064 Test Acc: 0.9483\n",
      "Epoch: 65 Loss: 0.0001 Acc: 0.9926 -- Test Loss: 0.0066 Test Acc: 0.9483\n",
      "Epoch: 66 Loss: 0.0001 Acc: 0.9926 -- Test Loss: 0.0062 Test Acc: 0.9471\n",
      "Epoch: 67 Loss: 0.0001 Acc: 0.9932 -- Test Loss: 0.0066 Test Acc: 0.9356\n",
      "Epoch: 68 Loss: 0.0001 Acc: 0.9932 -- Test Loss: 0.0070 Test Acc: 0.9448\n",
      "Epoch: 69 Loss: 0.0001 Acc: 0.9938 -- Test Loss: 0.0068 Test Acc: 0.9414\n",
      "Epoch: 70 Loss: 0.0001 Acc: 0.9926 -- Test Loss: 0.0062 Test Acc: 0.9460\n",
      "Epoch: 71 Loss: 0.0001 Acc: 0.9932 -- Test Loss: 0.0059 Test Acc: 0.9437\n",
      "Epoch: 72 Loss: 0.0001 Acc: 0.9932 -- Test Loss: 0.0060 Test Acc: 0.9460\n",
      "Epoch: 73 Loss: 0.0001 Acc: 0.9926 -- Test Loss: 0.0069 Test Acc: 0.9448\n",
      "Epoch: 74 Loss: 0.0001 Acc: 0.9938 -- Test Loss: 0.0075 Test Acc: 0.9471\n",
      "Epoch: 75 Loss: 0.0001 Acc: 0.9938 -- Test Loss: 0.0068 Test Acc: 0.9483\n",
      "Epoch: 76 Loss: 0.0001 Acc: 0.9926 -- Test Loss: 0.0063 Test Acc: 0.9506\n",
      "Epoch: 77 Loss: 0.0001 Acc: 0.9926 -- Test Loss: 0.0071 Test Acc: 0.9506\n",
      "Epoch: 78 Loss: 0.0001 Acc: 0.9932 -- Test Loss: 0.0057 Test Acc: 0.9494\n",
      "Epoch: 79 Loss: 0.0001 Acc: 0.9938 -- Test Loss: 0.0071 Test Acc: 0.9379\n",
      "Epoch: 80 Loss: 0.0001 Acc: 0.9932 -- Test Loss: 0.0061 Test Acc: 0.9540\n",
      "Epoch: 81 Loss: 0.0001 Acc: 0.9915 -- Test Loss: 0.0067 Test Acc: 0.9402\n",
      "Epoch: 82 Loss: 0.0002 Acc: 0.9904 -- Test Loss: 0.0061 Test Acc: 0.9333\n",
      "Epoch: 83 Loss: 0.0001 Acc: 0.9921 -- Test Loss: 0.0044 Test Acc: 0.9414\n",
      "Epoch: 84 Loss: 0.0001 Acc: 0.9915 -- Test Loss: 0.0089 Test Acc: 0.9172\n",
      "Epoch: 85 Loss: 0.0002 Acc: 0.9909 -- Test Loss: 0.0054 Test Acc: 0.9356\n",
      "Epoch: 86 Loss: 0.0002 Acc: 0.9915 -- Test Loss: 0.0058 Test Acc: 0.9356\n",
      "Epoch: 87 Loss: 0.0001 Acc: 0.9932 -- Test Loss: 0.0045 Test Acc: 0.9333\n",
      "Epoch: 88 Loss: 0.0001 Acc: 0.9921 -- Test Loss: 0.0036 Test Acc: 0.9540\n",
      "Epoch: 89 Loss: 0.0001 Acc: 0.9926 -- Test Loss: 0.0044 Test Acc: 0.9471\n",
      "Epoch: 90 Loss: 0.0001 Acc: 0.9926 -- Test Loss: 0.0043 Test Acc: 0.9483\n",
      "Epoch: 91 Loss: 0.0002 Acc: 0.9915 -- Test Loss: 0.0040 Test Acc: 0.9460\n",
      "Epoch: 92 Loss: 0.0002 Acc: 0.9926 -- Test Loss: 0.0065 Test Acc: 0.9356\n",
      "Epoch: 93 Loss: 0.0001 Acc: 0.9921 -- Test Loss: 0.0040 Test Acc: 0.9460\n",
      "Epoch: 94 Loss: 0.0001 Acc: 0.9926 -- Test Loss: 0.0057 Test Acc: 0.9356\n",
      "Epoch: 95 Loss: 0.0001 Acc: 0.9926 -- Test Loss: 0.0053 Test Acc: 0.9448\n",
      "Epoch: 96 Loss: 0.0001 Acc: 0.9938 -- Test Loss: 0.0058 Test Acc: 0.9460\n",
      "Epoch: 97 Loss: 0.0001 Acc: 0.9926 -- Test Loss: 0.0055 Test Acc: 0.9483\n",
      "Epoch: 98 Loss: 0.0001 Acc: 0.9926 -- Test Loss: 0.0063 Test Acc: 0.9529\n",
      "Epoch: 99 Loss: 0.0001 Acc: 0.9926 -- Test Loss: 0.0053 Test Acc: 0.9471\n",
      "DONE !\n",
      "Wall time: 2min 50s\n"
     ]
    }
   ],
   "source": [
    "%%time\n",
    "history = train_model(net2,\n",
    "                train_data=X_train.toarray(),train_labels=y_train, \n",
    "                test_data = X_test.toarray(), test_labels = y_test,\n",
    "                epochs=100, batch_size = 128,\n",
    "                optimizer=optimizer2,criterion=criterion ,\n",
    "                train=True,\n",
    "                shuffle=True )\n",
    "print(\"DONE !\")"
   ]
  },
  {
   "cell_type": "code",
   "execution_count": 178,
   "metadata": {},
   "outputs": [],
   "source": [
    "import matplotlib.pyplot as plt"
   ]
  },
  {
   "cell_type": "code",
   "execution_count": 194,
   "metadata": {},
   "outputs": [
    {
     "data": {
      "text/plain": [
       "Text(0.5, 1.0, 'Accuracy history')"
      ]
     },
     "execution_count": 194,
     "metadata": {},
     "output_type": "execute_result"
    },
    {
     "data": {
      "image/png": "[encoded data removed]",
      "text/plain": [
       "<Figure size 432x288 with 1 Axes>"
      ]
     },
     "metadata": {
      "needs_background": "light"
     },
     "output_type": "display_data"
    }
   ],
   "source": [
    "plt.plot(history[1], color ='red')\n",
    "plt.plot(history[3], color ='orange')\n",
    "plt.plot()\n",
    "plt.title(\"Accuracy history\")"
   ]
  },
  {
   "cell_type": "code",
   "execution_count": 195,
   "metadata": {},
   "outputs": [
    {
     "data": {
      "text/plain": [
       "Text(0.5, 1.0, 'Loss history')"
      ]
     },
     "execution_count": 195,
     "metadata": {},
     "output_type": "execute_result"
    },
    {
     "data": {
      "image/png": "[encoded data removed]",
      "text/plain": [
       "<Figure size 432x288 with 1 Axes>"
      ]
     },
     "metadata": {
      "needs_background": "light"
     },
     "output_type": "display_data"
    }
   ],
   "source": [
    "plt.plot(history[0], color ='red')\n",
    "plt.plot(history[2], color ='orange')\n",
    "plt.plot()\n",
    "plt.title(\"Loss history\")"
   ]
  },
  {
   "cell_type": "code",
   "execution_count": 199,
   "metadata": {},
   "outputs": [
    {
     "name": "stdout",
     "output_type": "stream",
     "text": [
      "Test Loss: 0.0056 Test Acc: 0.9506\n",
      "Wall time: 349 ms\n"
     ]
    }
   ],
   "source": [
    "%%time\n",
    "train_model(net2,\n",
    "               # train_data=X_train.toarray(),train_labels=y_train, \n",
    "                test_data = X_test.toarray(), test_labels = y_test,\n",
    "                #epochs=100, batch_size = 128,\n",
    "                #optimizer=optimizer2,\n",
    "            criterion=criterion ,\n",
    "                train=False,\n",
    "                #shuffle=True \n",
    "           )"
   ]
  },
  {
   "cell_type": "markdown",
   "metadata": {},
   "source": [
    "## Most informative words"
   ]
  },
  {
   "cell_type": "code",
   "execution_count": 83,
   "metadata": {},
   "outputs": [],
   "source": [
    "from sklearn.svm import LinearSVC"
   ]
  },
  {
   "cell_type": "code",
   "execution_count": 233,
   "metadata": {},
   "outputs": [
    {
     "data": {
      "text/plain": [
       "LinearSVC(C=1.0, class_weight=None, dual=True, fit_intercept=True,\n",
       "     intercept_scaling=1, loss='squared_hinge', max_iter=1000,\n",
       "     multi_class='ovr', penalty='l2', random_state=None, tol=0.0001,\n",
       "     verbose=0)"
      ]
     },
     "execution_count": 233,
     "metadata": {},
     "output_type": "execute_result"
    }
   ],
   "source": [
    "clf = LinearSVC()\n",
    "clf.fit(X_train, y_train)"
   ]
  },
  {
   "cell_type": "code",
   "execution_count": 234,
   "metadata": {},
   "outputs": [
    {
     "name": "stdout",
     "output_type": "stream",
     "text": [
      "Predict on test data ... \n",
      "Accuracy :  0.9689655172413794\n"
     ]
    }
   ],
   "source": [
    "print (\"Predict on test data ... \")\n",
    "y_pred = clf.predict(X_test)\n",
    "accuracy = accuracy_score(y_test, y_pred)\n",
    "print(\"Accuracy : \", accuracy)"
   ]
  },
  {
   "cell_type": "code",
   "execution_count": 86,
   "metadata": {},
   "outputs": [],
   "source": [
    "def print_top10(vectorizer, clf, class_labels):\n",
    "    \"\"\"\n",
    "    Prints features with the highest coefficient values, per class \\n\n",
    "    https://stackoverflow.com/questions/11116697/how-to-get-most-informative-features-for-scikit-learn-classifiers\n",
    "    \"\"\"\n",
    "    feature_names = vectorizer.get_feature_names()\n",
    "    for i, class_label in enumerate(class_labels):\n",
    "        top10 = np.argsort(clf.coef_[i])[-10:]\n",
    "        print(\"%s: %s\" % (class_label,\n",
    "              \", \".join(feature_names[j] for j in top10)))"
   ]
  },
  {
   "cell_type": "code",
   "execution_count": 235,
   "metadata": {},
   "outputs": [
    {
     "name": "stdout",
     "output_type": "stream",
     "text": [
      "apple_pie: ha, granni, slice, cinnamon, peel, core, flour, crust, pie, appl\n",
      "baby_back_ribs: meat, bbq, bone, tender, pork, pepper, back, barbecu, babi, rib\n",
      "baklava: repeat, filo, honey, syrup, greek, walnut, nut, pistachio, phyllo, baklava\n"
     ]
    }
   ],
   "source": [
    "print_top10(tfidf, clf, all_texts.target_names)"
   ]
  }
 ],
 "metadata": {
  "kernelspec": {
   "display_name": "Python 3",
   "language": "python",
   "name": "python3"
  },
  "language_info": {
   "codemirror_mode": {
    "name": "ipython",
    "version": 3
   },
   "file_extension": ".py",
   "mimetype": "text/x-python",
   "name": "python",
   "nbconvert_exporter": "python",
   "pygments_lexer": "ipython3",
   "version": "3.6.1"
  }
 },
 "nbformat": 4,
 "nbformat_minor": 2
}
