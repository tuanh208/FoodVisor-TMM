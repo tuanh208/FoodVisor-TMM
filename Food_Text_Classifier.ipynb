{
 "cells": [
  {
   "cell_type": "markdown",
   "metadata": {},
   "source": [
    "# Imports"
   ]
  },
  {
   "cell_type": "code",
   "execution_count": 1,
   "metadata": {},
   "outputs": [],
   "source": [
    "# Import the required libraries \n",
    "from sklearn.feature_extraction.text import TfidfVectorizer\n",
    "from sklearn import datasets\n",
    "from sklearn.model_selection import train_test_split\n",
    "from sklearn.metrics import accuracy_score\n",
    "import numpy as np\n",
    "import time"
   ]
  },
  {
   "cell_type": "markdown",
   "metadata": {},
   "source": [
    "## Processing Dataset"
   ]
  },
  {
   "cell_type": "code",
   "execution_count": 2,
   "metadata": {},
   "outputs": [],
   "source": [
    "text_dir = '/home/foodlovers/FoodVisor/data/texts_txt'"
   ]
  },
  {
   "cell_type": "code",
   "execution_count": 3,
   "metadata": {},
   "outputs": [],
   "source": [
    "%%time\n",
    "all_texts = datasets.load_files(text_dir, \n",
    "            description=None, categories=None, load_content=True, shuffle=False, \n",
    "                                        encoding='utf-8', decode_error='strict', random_state=0)"
   ]
  },
  {
   "cell_type": "code",
   "execution_count": 4,
   "metadata": {},
   "outputs": [
    {
     "data": {
      "text/plain": [
       "dict_keys(['data', 'filenames', 'target_names', 'target', 'DESCR'])"
      ]
     },
     "execution_count": 4,
     "metadata": {},
     "output_type": "execute_result"
    }
   ],
   "source": [
    "all_texts.keys()"
   ]
  },
  {
   "cell_type": "code",
   "execution_count": 5,
   "metadata": {},
   "outputs": [
    {
     "data": {
      "text/plain": [
       "array(['/home/foodlovers/FoodVisor/data/texts_txt/apple_pie/apple_pie_0.txt',\n",
       "       '/home/foodlovers/FoodVisor/data/texts_txt/apple_pie/apple_pie_1.txt',\n",
       "       '/home/foodlovers/FoodVisor/data/texts_txt/apple_pie/apple_pie_10.txt',\n",
       "       '/home/foodlovers/FoodVisor/data/texts_txt/apple_pie/apple_pie_100.txt',\n",
       "       '/home/foodlovers/FoodVisor/data/texts_txt/apple_pie/apple_pie_101.txt'],\n",
       "      dtype='<U97')"
      ]
     },
     "execution_count": 5,
     "metadata": {},
     "output_type": "execute_result"
    }
   ],
   "source": [
    "all_texts.filenames[:5]"
   ]
  },
  {
   "cell_type": "code",
   "execution_count": 6,
   "metadata": {},
   "outputs": [
    {
     "data": {
      "text/plain": [
       "['apple_pie', 'baby_back_ribs', 'baklava', 'beef_carpaccio', 'beef_tartare']"
      ]
     },
     "execution_count": 6,
     "metadata": {},
     "output_type": "execute_result"
    }
   ],
   "source": [
    "all_texts.target_names[:5]"
   ]
  },
  {
   "cell_type": "code",
   "execution_count": 7,
   "metadata": {},
   "outputs": [
    {
     "data": {
      "text/plain": [
       "array([0, 0, 0, 0, 0])"
      ]
     },
     "execution_count": 7,
     "metadata": {},
     "output_type": "execute_result"
    }
   ],
   "source": [
    "all_texts.target[:5]"
   ]
  },
  {
   "cell_type": "markdown",
   "metadata": {},
   "source": [
    "## Preprocessing words"
   ]
  },
  {
   "cell_type": "code",
   "execution_count": 8,
   "metadata": {},
   "outputs": [],
   "source": [
    "all_docs = all_texts.data"
   ]
  },
  {
   "cell_type": "code",
   "execution_count": 9,
   "metadata": {},
   "outputs": [
    {
     "data": {
      "text/plain": [
       "list"
      ]
     },
     "execution_count": 9,
     "metadata": {},
     "output_type": "execute_result"
    }
   ],
   "source": [
    "type(all_docs)"
   ]
  },
  {
   "cell_type": "code",
   "execution_count": 10,
   "metadata": {},
   "outputs": [
    {
     "data": {
      "text/plain": [
       "93409"
      ]
     },
     "execution_count": 10,
     "metadata": {},
     "output_type": "execute_result"
    }
   ],
   "source": [
    "len(all_docs)"
   ]
  },
  {
   "cell_type": "code",
   "execution_count": 15,
   "metadata": {},
   "outputs": [],
   "source": [
    "from nltk.corpus import stopwords \n",
    "from nltk.tokenize import word_tokenize \n",
    "from nltk.stem import PorterStemmer"
   ]
  },
  {
   "cell_type": "code",
   "execution_count": 20,
   "metadata": {},
   "outputs": [
    {
     "name": "stderr",
     "output_type": "stream",
     "text": [
      "[nltk_data] Downloading package punkt to /home/foodlovers/nltk_data...\n",
      "[nltk_data]   Unzipping tokenizers/punkt.zip.\n"
     ]
    },
    {
     "data": {
      "text/plain": [
       "True"
      ]
     },
     "execution_count": 20,
     "metadata": {},
     "output_type": "execute_result"
    }
   ],
   "source": [
    "#import nltk\n",
    "#nltk.download('stopwords')\n",
    "#nltk.download('punkt')"
   ]
  },
  {
   "cell_type": "code",
   "execution_count": 18,
   "metadata": {},
   "outputs": [],
   "source": [
    "stop_words = set(stopwords.words('english')) \n",
    "porter = PorterStemmer()"
   ]
  },
  {
   "cell_type": "code",
   "execution_count": 21,
   "metadata": {},
   "outputs": [
    {
     "name": "stdout",
     "output_type": "stream",
     "text": [
      "CPU times: user 56min 45s, sys: 6.24 s, total: 56min 51s\n",
      "Wall time: 56min 51s\n"
     ]
    }
   ],
   "source": [
    "%%time\n",
    "proc_docs = []\n",
    "\n",
    "for doc in all_docs:\n",
    "    word_tokens = word_tokenize(doc) \n",
    "    processed = [w for w in word_tokens if not w in stop_words]\n",
    "    processed = [porter.stem(w) for w in word_tokens]\n",
    "    proc_docs.append(processed)"
   ]
  },
  {
   "cell_type": "code",
   "execution_count": null,
   "metadata": {},
   "outputs": [],
   "source": [
    "import re"
   ]
  },
  {
   "cell_type": "code",
   "execution_count": 120,
   "metadata": {},
   "outputs": [
    {
     "name": "stdout",
     "output_type": "stream",
     "text": [
      "CPU times: user 4min 20s, sys: 850 ms, total: 4min 21s\n",
      "Wall time: 4min 21s\n"
     ]
    }
   ],
   "source": [
    "%%time\n",
    "for doc in proc_docs:\n",
    "    for i in range(len(doc)) :\n",
    "        doc[i] = doc[i].lstrip().rstrip()\n",
    "        doc[i] = re.sub(r\"[\\^\\$\\-()\\\"#/@;:<>{}`+=~|\\]\\[._\\\\!?,%&*0-9]\", \"\", doc[i])"
   ]
  },
  {
   "cell_type": "code",
   "execution_count": 34,
   "metadata": {},
   "outputs": [],
   "source": [
    "def words_count(corps):\n",
    "    dic = {}\n",
    "    for doc in corps:\n",
    "        for w in doc :\n",
    "            dic[w] = dic.get(w, 0) + 1\n",
    "    return dic"
   ]
  },
  {
   "cell_type": "code",
   "execution_count": 121,
   "metadata": {},
   "outputs": [],
   "source": [
    "vocab = words_count(proc_docs)"
   ]
  },
  {
   "cell_type": "code",
   "execution_count": 122,
   "metadata": {},
   "outputs": [],
   "source": [
    "vocab_doc = dict()\n",
    "for doc in proc_docs:\n",
    "    doc = set(doc)\n",
    "    for w in doc :\n",
    "        vocab_doc[w] = vocab_doc.get(w, 0) + 1"
   ]
  },
  {
   "cell_type": "code",
   "execution_count": 123,
   "metadata": {},
   "outputs": [
    {
     "data": {
      "text/plain": [
       "2048895"
      ]
     },
     "execution_count": 123,
     "metadata": {},
     "output_type": "execute_result"
    }
   ],
   "source": [
    "vocab['recip']"
   ]
  },
  {
   "cell_type": "code",
   "execution_count": 124,
   "metadata": {},
   "outputs": [
    {
     "data": {
      "text/plain": [
       "89548"
      ]
     },
     "execution_count": 124,
     "metadata": {},
     "output_type": "execute_result"
    }
   ],
   "source": [
    "vocab_doc['recip']"
   ]
  },
  {
   "cell_type": "code",
   "execution_count": 125,
   "metadata": {},
   "outputs": [
    {
     "data": {
      "text/plain": [
       "821569"
      ]
     },
     "execution_count": 125,
     "metadata": {},
     "output_type": "execute_result"
    }
   ],
   "source": [
    "len(vocab)"
   ]
  },
  {
   "cell_type": "code",
   "execution_count": 126,
   "metadata": {},
   "outputs": [
    {
     "data": {
      "text/plain": [
       "821569"
      ]
     },
     "execution_count": 126,
     "metadata": {},
     "output_type": "execute_result"
    }
   ],
   "source": [
    "len(vocab_doc)"
   ]
  },
  {
   "cell_type": "code",
   "execution_count": 26,
   "metadata": {},
   "outputs": [],
   "source": [
    "def top_words(count, get = 20, reverse=True) :\n",
    "    c = 0\n",
    "    for w in sorted(count, key=count.get, reverse=reverse):\n",
    "        c += 1\n",
    "        if c > get :\n",
    "            break\n",
    "        print(w,\": \", count[w])"
   ]
  },
  {
   "cell_type": "code",
   "execution_count": 27,
   "metadata": {},
   "outputs": [],
   "source": [
    "def slice_words(count, below, top) :\n",
    "    \"\"\"\n",
    "    Remove words that occur less than (and more than) a number of time  \\n\n",
    "    and return the removed words.\n",
    "    \"\"\"\n",
    "    c = 0\n",
    "    removed_words = []\n",
    "    # bottom up\n",
    "    for w in sorted(count, key=count.get, reverse=False):\n",
    "        if count[w] < below :\n",
    "            c += 1\n",
    "            removed_words.append(w)\n",
    "            # print(w,\": \", count[w])\n",
    "        else:\n",
    "            break\n",
    "    # top down\n",
    "    for w in sorted(count, key=count.get, reverse=True):\n",
    "        if count[w] > top :\n",
    "            c += 1\n",
    "            removed_words.append(w)\n",
    "            # print(w,\": \", count[w])\n",
    "        else:\n",
    "            break\n",
    "    print(c, \" words to be removed.\")\n",
    "    return removed_words"
   ]
  },
  {
   "cell_type": "code",
   "execution_count": 127,
   "metadata": {},
   "outputs": [
    {
     "name": "stdout",
     "output_type": "stream",
     "text": [
      " :  92604\n",
      "and :  90534\n",
      "to :  90287\n",
      "the :  90249\n",
      "a :  89866\n",
      "recip :  89548\n",
      "of :  89506\n",
      "in :  88587\n",
      "with :  88375\n",
      "for :  88148\n",
      "on :  85736\n",
      "you :  85132\n",
      "thi :  82973\n",
      "about :  81848\n",
      "your :  79999\n",
      "or :  79697\n",
      "is :  78768\n",
      "all :  78765\n",
      "from :  77758\n",
      "by :  77089\n",
      "'s :  76371\n",
      "it :  76082\n",
      "food :  75827\n",
      "cook :  75138\n",
      "make :  74000\n",
      "use :  73816\n",
      "home :  73352\n",
      "more :  73145\n",
      "are :  71965\n",
      "at :  68976\n",
      "ingredi :  68508\n",
      "be :  67693\n",
      "that :  66451\n",
      "like :  65690\n",
      "serv :  65316\n",
      "can :  65231\n",
      "add :  64172\n",
      "not :  64002\n",
      "contact :  63681\n",
      "time :  63610\n",
      "I :  63080\n",
      "have :  63007\n",
      "new :  62974\n",
      "top :  61516\n",
      "up :  61461\n",
      "email :  61382\n",
      "get :  61087\n",
      "one :  60937\n",
      "will :  60558\n",
      "into :  59733\n",
      "comment :  59208\n",
      "minut :  59148\n",
      "as :  58851\n",
      "out :  58561\n",
      "an :  58551\n",
      "post :  58534\n",
      "how :  57708\n",
      "our :  57190\n",
      "dish :  56933\n",
      "right :  56187\n",
      "blog :  56111\n",
      "easi :  55857\n",
      "search :  55814\n",
      "just :  55647\n",
      "but :  55458\n",
      "A :  55339\n",
      "share :  55115\n",
      "In :  54658\n",
      "over :  54429\n",
      "until :  54104\n",
      "what :  53932\n",
      "love :  53568\n",
      "cup :  53441\n",
      "so :  53367\n",
      "It :  53076\n",
      "C :  52975\n",
      "chicken :  52746\n",
      "sauc :  52734\n",
      "n't :  52700\n",
      "dessert :  52631\n",
      "'' :  51946\n",
      "here :  51186\n",
      "tri :  50840\n",
      "bake :  50772\n",
      "tast :  50737\n",
      "best :  50070\n",
      "salt :  49973\n",
      "facebook :  49950\n",
      "follow :  49931\n",
      "day :  49874\n",
      "privaci :  49778\n",
      "when :  49502\n",
      "good :  49486\n",
      "fresh :  49443\n",
      "my :  49166\n",
      "these :  49011\n",
      "delici :  48873\n",
      "do :  48405\n",
      "side :  48323\n",
      "some :  48017\n",
      "salad :  47954\n",
      "may :  47804\n",
      "now :  47677\n",
      "eat :  47155\n",
      "chees :  46941\n",
      "see :  46723\n",
      "made :  46661\n",
      "other :  46401\n",
      "site :  45971\n",
      "place :  45757\n",
      "My :  45548\n",
      "sweet :  45476\n",
      "well :  45296\n",
      "wa :  45295\n",
      "great :  45188\n",
      "free :  44857\n",
      "egg :  44785\n",
      "favorit :  44567\n",
      "oil :  44322\n",
      "bowl :  44273\n",
      "also :  44198\n",
      "mix :  44185\n",
      "find :  44018\n",
      "heat :  43911\n",
      "if :  43907\n",
      "they :  43821\n",
      "way :  43701\n",
      "them :  43578\n",
      "twitter :  43465\n",
      "then :  43358\n",
      "juli :  43337\n",
      "pepper :  43285\n",
      "reserv :  43276\n",
      "dinner :  43148\n",
      "leav :  43116\n",
      "ani :  42782\n",
      "most :  42711\n",
      "look :  42496\n",
      "hot :  42455\n",
      "kitchen :  42392\n",
      "cake :  42380\n",
      "tip :  42022\n",
      "season :  41927\n",
      "polici :  41479\n",
      "take :  41423\n",
      "me :  41393\n",
      "need :  41131\n",
      "soup :  40919\n",
      "ha :  40712\n",
      "we :  40671\n",
      "healthi :  40605\n",
      "To :  40577\n",
      "bread :  40562\n",
      "cream :  40459\n",
      "We :  40254\n",
      "water :  40254\n",
      "term :  40164\n",
      "If :  39718\n",
      "video :  39574\n",
      "subscrib :  39513\n",
      "chop :  39415\n",
      "larg :  39291\n",
      "popular :  39196\n",
      "breakfast :  39119\n",
      "butter :  39100\n",
      "name :  38938\n",
      "littl :  38829\n",
      "want :  38757\n",
      "red :  38702\n",
      "onli :  38648\n",
      "meal :  38455\n",
      "veget :  38380\n",
      "Us :  38258\n",
      "grill :  37860\n",
      "go :  37827\n",
      "first :  37798\n",
      "work :  37728\n",
      "white :  37615\n",
      "copyright :  37587\n",
      "quick :  37575\n",
      "sugar :  37479\n",
      "slice :  37430\n",
      "us :  37332\n",
      "fri :  37303\n",
      "small :  37022\n",
      "chocol :  36965\n",
      "next :  36938\n",
      "perfect :  36807\n",
      "cut :  36772\n",
      "read :  36754\n",
      "onion :  36748\n",
      "veri :  36589\n",
      "would :  36457\n",
      "pleas :  36414\n",
      "help :  36385\n",
      "advertis :  36290\n",
      "idea :  36277\n",
      "view :  36174\n",
      "photo :  36171\n",
      "there :  36113\n",
      "brown :  36017\n",
      "famili :  35988\n",
      "main :  35976\n",
      "prepar :  35947\n",
      "shop :  35932\n",
      "each :  35857\n",
      "green :  35575\n",
      "know :  35518\n",
      "garlic :  35499\n",
      "enjoy :  35315\n",
      "review :  35273\n",
      "turn :  35151\n",
      "let :  35144\n",
      "summer :  35056\n",
      "list :  35003\n",
      "simpl :  34974\n",
      "print :  34942\n",
      "come :  34921\n",
      "flavor :  34866\n",
      "appet :  34841\n",
      "categori :  34834\n",
      "pan :  34706\n",
      "beef :  34619\n",
      "too :  34522\n",
      "befor :  34413\n",
      "year :  34393\n",
      "' :  34391\n",
      "cooki :  34214\n",
      "pasta :  34189\n",
      "tomato :  34182\n",
      "pinterest :  34158\n",
      "ad :  33978\n",
      "stir :  33946\n",
      "set :  33927\n",
      "than :  33644\n",
      "much :  33424\n",
      "no :  33285\n",
      "back :  33017\n",
      "By :  32951\n",
      "remov :  32945\n",
      "combin :  32913\n",
      "tablespoon :  32784\n",
      "live :  32732\n",
      "vegetarian :  32611\n",
      "relat :  32607\n",
      "potato :  32548\n",
      "give :  32459\n",
      "join :  32366\n",
      "menu :  32333\n",
      "two :  32324\n",
      "websit :  32319\n",
      "realli :  32297\n",
      "sign :  32134\n",
      "thank :  32075\n",
      "thing :  32002\n",
      "'ve :  31889\n",
      "mixtur :  31411\n",
      "which :  31392\n",
      "again :  31346\n",
      "recent :  31254\n",
      "did :  31232\n",
      "been :  31201\n",
      "cancel :  31192\n",
      "few :  31159\n",
      "wine :  31113\n",
      "drink :  30910\n",
      "rice :  30856\n",
      "even :  30834\n",
      "italian :  30759\n",
      "parti :  30704\n",
      "lemon :  30676\n",
      "keep :  30633\n",
      "medium :  30613\n",
      "togeth :  30456\n",
      "am :  30439\n",
      "meat :  30407\n",
      "start :  30384\n",
      "off :  30367\n",
      "dri :  30178\n",
      "holiday :  30153\n",
      "s :  30071\n",
      "hour :  30034\n",
      "put :  30028\n",
      "cover :  30025\n",
      "kid :  29973\n",
      "snack :  29878\n",
      "while :  29836\n",
      "think :  29718\n",
      "sure :  29713\n",
      "had :  29709\n",
      "save :  29662\n",
      "whole :  29637\n",
      "after :  29522\n",
      "click :  29504\n",
      "requir :  29493\n",
      "page :  29437\n",
      "'ll :  29334\n",
      "june :  29263\n",
      "everi :  29262\n",
      "own :  29089\n",
      "cours :  28987\n",
      "oven :  28964\n",
      "featur :  28949\n",
      "oliv :  28924\n",
      "friend :  28898\n",
      "teaspoon :  28819\n",
      "fill :  28798\n",
      "’ :  28613\n",
      "week :  28597\n",
      "restaur :  28587\n",
      "creat :  28580\n",
      "store :  28561\n",
      "pork :  28396\n",
      "fat :  28344\n",
      "say :  28340\n",
      "chef :  28334\n",
      "special :  28323\n",
      "Do :  28243\n",
      "link :  28241\n",
      "should :  28192\n",
      "sandwich :  28150\n",
      "their :  28127\n",
      "cool :  27914\n",
      "direct :  27862\n",
      "roast :  27824\n",
      "log :  27751\n",
      "'re :  27642\n",
      "repli :  27567\n",
      "never :  27485\n",
      "today :  27410\n",
      "content :  27323\n",
      "better :  27284\n",
      "black :  27236\n",
      "someth :  27118\n",
      "ice :  27096\n",
      "doe :  27058\n",
      "boil :  27054\n",
      "'m :  26949\n",
      "power :  26910\n",
      "tag :  26899\n",
      "pie :  26892\n",
      "fish :  26874\n",
      "bean :  26814\n",
      "travel :  26789\n",
      "ground :  26784\n",
      "french :  26756\n",
      "who :  26751\n",
      "fine :  26737\n",
      "half :  26715\n",
      "style :  26680\n",
      "product :  26514\n",
      "through :  26503\n",
      "life :  26493\n",
      "peopl :  26317\n",
      "juic :  26270\n",
      "last :  26228\n",
      "archiv :  26199\n",
      "without :  26194\n",
      "box :  26177\n",
      "april :  26159\n",
      "march :  26065\n",
      "low :  25973\n",
      "lunch :  25849\n",
      "bit :  25811\n",
      "could :  25725\n",
      "bring :  25715\n",
      "No :  25700\n",
      "februari :  25634\n",
      "becaus :  25593\n",
      "full :  25588\n",
      "januari :  25540\n",
      "check :  25507\n",
      "anoth :  25492\n",
      "total :  25453\n",
      "newslett :  25447\n",
      "homemad :  25339\n",
      "book :  25329\n",
      "rss :  25280\n",
      "light :  25206\n",
      "octob :  25156\n",
      "down :  25114\n",
      "press :  25113\n",
      "fruit :  25068\n",
      "ever :  25065\n",
      "flour :  25058\n",
      "rate :  25049\n",
      "roll :  25009\n",
      "around :  24976\n",
      "address :  24902\n",
      "seafood :  24899\n",
      "where :  24880\n",
      "decemb :  24829\n",
      "world :  24826\n",
      "beauti :  24719\n",
      "month :  24663\n",
      "alway :  24597\n",
      "august :  24539\n",
      "select :  24533\n",
      "» :  24520\n",
      "mani :  24510\n",
      "person :  24495\n",
      "onc :  24482\n",
      "milk :  24481\n",
      "novemb :  24431\n",
      "piec :  24395\n",
      "were :  24326\n",
      "under :  24235\n",
      "warm :  24185\n",
      "show :  24114\n",
      "fun :  24080\n",
      "dip :  24043\n",
      "septemb :  24013\n",
      "So :  23883\n",
      "part :  23875\n",
      "whi :  23842\n",
      "sprinkl :  23693\n",
      "learn :  23554\n",
      "note :  23543\n",
      "classic :  23346\n",
      "health :  23313\n",
      "pizza :  23248\n",
      "pour :  23117\n",
      "chang :  23070\n",
      "On :  22932\n",
      "cuisin :  22886\n",
      "pot :  22876\n",
      "big :  22864\n",
      "still :  22826\n",
      "got :  22702\n",
      "high :  22666\n",
      "american :  22478\n",
      "enough :  22458\n",
      "enter :  22445\n",
      "lot :  22331\n",
      "hand :  22304\n",
      "th :  22244\n",
      "powder :  22236\n",
      "complet :  22201\n",
      "long :  22106\n",
      "close :  21975\n",
      "inspir :  21867\n",
      "entertain :  21828\n",
      "appl :  21814\n",
      "spice :  21808\n",
      "publish :  21790\n",
      "commun :  21763\n",
      "spici :  21737\n",
      "second :  21694\n",
      "g :  21664\n",
      "celebr :  21644\n",
      "plate :  21635\n",
      "found :  21543\n",
      "cookbook :  21465\n",
      "inform :  21462\n",
      "thought :  21443\n",
      "remain :  21420\n",
      "melt :  21394\n",
      "design :  21331\n",
      "bacon :  21286\n",
      "tweet :  21261\n",
      "amaz :  21206\n",
      "nutrit :  21118\n",
      "nice :  21113\n",
      "diet :  21063\n",
      "differ :  21018\n",
      "those :  21016\n",
      "creami :  21013\n",
      "readi :  20971\n",
      "latest :  20918\n",
      "wonder :  20878\n",
      "strawberri :  20823\n",
      "plan :  20815\n",
      "mexican :  20796\n",
      "http :  20764\n",
      "option :  20763\n",
      "real :  20645\n",
      "faq :  20622\n",
      "tasti :  20584\n",
      "mushroom :  20556\n",
      "dress :  20555\n",
      "feel :  20550\n",
      "everyth :  20545\n",
      "extra :  20519\n",
      "visit :  20447\n",
      "connect :  20439\n",
      "care :  20324\n",
      "night :  20281\n",
      "prep :  20277\n",
      "guid :  20160\n",
      "golden :  20104\n",
      "updat :  20092\n",
      "t :  20078\n",
      "happi :  20040\n",
      "magazin :  20026\n",
      "might :  19977\n",
      "end :  19963\n",
      "per :  19952\n",
      "christma :  19798\n",
      "size :  19775\n",
      "recommend :  19736\n"
     ]
    }
   ],
   "source": [
    "top_words(vocab_doc,500)"
   ]
  },
  {
   "cell_type": "code",
   "execution_count": 128,
   "metadata": {
    "scrolled": true
   },
   "outputs": [
    {
     "name": "stdout",
     "output_type": "stream",
     "text": [
      "piemavencom :  1\n",
      "acreliu :  1\n",
      "topandbottom :  1\n",
      "boecxken :  1\n",
      "ochef :  1\n",
      "ginster :  1\n",
      "'een :  1\n",
      "kookhistorienl :  1\n",
      "wwwusappleorgconsumersallaboutappleshistoryandfolkloreapplesinamerica :  1\n",
      "'rehabilitate' :  1\n",
      "farlex :  1\n",
      "boardsstraightdopecom :  1\n",
      "sorghvuldig :  1\n",
      "sucrosecom :  1\n",
      "cokeryen :  1\n",
      "notabel :  1\n",
      "piemaven :  1\n",
      "americanet :  1\n",
      "huyshoudst :  1\n",
      "verstandig :  1\n",
      "pietowncom :  1\n",
      "titleapplepi :  1\n",
      "cofyn :  1\n",
      "piefil :  1\n",
      "wwwtasteofhomecomrecipesapple :  1\n",
      "sgronholz :  1\n",
      "pielover :  1\n",
      "peasshell :  1\n",
      "summerlili :  1\n",
      "mumsy :  1\n",
      "catmom :  1\n",
      "extractit :  1\n",
      "tinngo :  1\n",
      "berniciu :  1\n",
      "watcm :  1\n",
      "shcoke :  1\n",
      "streussel :  1\n",
      "grann :  1\n",
      "raisinfre :  1\n",
      "bananabobana :  1\n",
      "noraisinsonmyparad :  1\n",
      "kidstir :  1\n",
      "appetizerthem :  1\n",
      "jeannieallen :  1\n",
      "halfhil :  1\n",
      "mamest :  1\n",
      "nevou :  1\n",
      "buffaloshrimp :  1\n",
      "dragonflies :  1\n",
      "'couples :  1\n"
     ]
    }
   ],
   "source": [
    "top_words(vocab_doc,50,reverse =False)"
   ]
  },
  {
   "cell_type": "code",
   "execution_count": 133,
   "metadata": {},
   "outputs": [
    {
     "name": "stdout",
     "output_type": "stream",
     "text": [
      "757005  words to be removed.\n"
     ]
    }
   ],
   "source": [
    "removed_words = slice_words(vocab_doc, 15,53000)"
   ]
  },
  {
   "cell_type": "code",
   "execution_count": 130,
   "metadata": {
    "scrolled": true
   },
   "outputs": [
    {
     "name": "stdout",
     "output_type": "stream",
     "text": [
      " :  54754376\n",
      "the :  4523309\n",
      "and :  3516273\n",
      "to :  2747460\n",
      "a :  2515936\n",
      "recip :  2048895\n",
      "I :  2002130\n",
      "of :  1840784\n",
      "in :  1430492\n",
      "with :  1375447\n",
      "for :  1372872\n",
      "you :  1246047\n",
      "it :  1204130\n",
      "thi :  971061\n",
      "is :  871674\n",
      "on :  865717\n",
      "at :  841081\n",
      "'' :  803414\n",
      "your :  752276\n",
      "'s :  734711\n",
      "or :  715532\n",
      "that :  638427\n",
      "from :  561102\n",
      "make :  543725\n",
      "cook :  526267\n",
      "food :  525307\n",
      "have :  494445\n",
      "use :  471031\n",
      "repli :  470176\n",
      "my :  466193\n",
      "are :  458809\n",
      "more :  451874\n",
      "all :  436862\n",
      "by :  414062\n",
      "like :  411861\n",
      "but :  408586\n",
      "about :  408205\n",
      "wa :  405334\n",
      "be :  403440\n",
      "post :  389923\n",
      "as :  360298\n",
      "so :  356028\n",
      "add :  354571\n",
      "comment :  354438\n",
      "can :  353177\n",
      "not :  351826\n",
      "n't :  347864\n",
      "cup :  321719\n",
      "chicken :  307887\n",
      "love :  307836\n"
     ]
    }
   ],
   "source": [
    "top_words(vocab,50)"
   ]
  },
  {
   "cell_type": "code",
   "execution_count": 132,
   "metadata": {},
   "outputs": [
    {
     "name": "stdout",
     "output_type": "stream",
     "text": [
      "743616  words to be removed.\n"
     ]
    }
   ],
   "source": [
    "removed_words_2 = slice_words(vocab, 15,340000)"
   ]
  },
  {
   "cell_type": "code",
   "execution_count": 134,
   "metadata": {},
   "outputs": [
    {
     "data": {
      "text/plain": [
       "743611"
      ]
     },
     "execution_count": 134,
     "metadata": {},
     "output_type": "execute_result"
    }
   ],
   "source": [
    "len(set(removed_words).intersection(set(removed_words_2)))"
   ]
  },
  {
   "cell_type": "code",
   "execution_count": 135,
   "metadata": {},
   "outputs": [],
   "source": [
    "new_stop_words = stop_words.union(set(removed_words)).union(set(removed_words_2))"
   ]
  },
  {
   "cell_type": "code",
   "execution_count": 140,
   "metadata": {
    "scrolled": true
   },
   "outputs": [
    {
     "name": "stdout",
     "output_type": "stream",
     "text": [
      "1000 / 93409\n",
      "2000 / 93409\n",
      "3000 / 93409\n",
      "4000 / 93409\n",
      "5000 / 93409\n",
      "6000 / 93409\n",
      "7000 / 93409\n",
      "8000 / 93409\n",
      "9000 / 93409\n",
      "10000 / 93409\n",
      "11000 / 93409\n",
      "12000 / 93409\n",
      "13000 / 93409\n",
      "14000 / 93409\n",
      "15000 / 93409\n",
      "16000 / 93409\n",
      "17000 / 93409\n",
      "18000 / 93409\n",
      "19000 / 93409\n",
      "20000 / 93409\n",
      "21000 / 93409\n",
      "22000 / 93409\n",
      "23000 / 93409\n",
      "24000 / 93409\n",
      "25000 / 93409\n",
      "26000 / 93409\n",
      "27000 / 93409\n",
      "28000 / 93409\n",
      "29000 / 93409\n",
      "30000 / 93409\n",
      "31000 / 93409\n",
      "32000 / 93409\n",
      "33000 / 93409\n",
      "34000 / 93409\n",
      "35000 / 93409\n",
      "36000 / 93409\n",
      "37000 / 93409\n",
      "38000 / 93409\n",
      "39000 / 93409\n",
      "40000 / 93409\n",
      "41000 / 93409\n",
      "42000 / 93409\n",
      "43000 / 93409\n",
      "44000 / 93409\n",
      "45000 / 93409\n",
      "46000 / 93409\n",
      "47000 / 93409\n",
      "48000 / 93409\n",
      "49000 / 93409\n",
      "50000 / 93409\n",
      "51000 / 93409\n",
      "52000 / 93409\n",
      "53000 / 93409\n",
      "54000 / 93409\n",
      "55000 / 93409\n",
      "56000 / 93409\n",
      "57000 / 93409\n",
      "58000 / 93409\n",
      "59000 / 93409\n",
      "60000 / 93409\n",
      "61000 / 93409\n",
      "62000 / 93409\n",
      "63000 / 93409\n",
      "64000 / 93409\n",
      "65000 / 93409\n",
      "66000 / 93409\n",
      "67000 / 93409\n",
      "68000 / 93409\n",
      "69000 / 93409\n",
      "70000 / 93409\n",
      "71000 / 93409\n",
      "72000 / 93409\n",
      "73000 / 93409\n",
      "74000 / 93409\n",
      "75000 / 93409\n",
      "76000 / 93409\n",
      "77000 / 93409\n",
      "78000 / 93409\n",
      "79000 / 93409\n",
      "80000 / 93409\n",
      "81000 / 93409\n",
      "82000 / 93409\n",
      "83000 / 93409\n",
      "84000 / 93409\n",
      "85000 / 93409\n",
      "86000 / 93409\n",
      "87000 / 93409\n",
      "88000 / 93409\n",
      "89000 / 93409\n",
      "90000 / 93409\n",
      "91000 / 93409\n",
      "92000 / 93409\n",
      "93000 / 93409\n",
      "CPU times: user 30.2 s, sys: 309 ms, total: 30.5 s\n",
      "Wall time: 30.5 s\n"
     ]
    }
   ],
   "source": [
    "%%time\n",
    "new_proc_docs = []\n",
    "\n",
    "cc = 0\n",
    "for doc in proc_docs:\n",
    "    processed = [w for w in doc if (w not in new_stop_words and len(w) > 1)]\n",
    "    new_proc_docs.append(processed)\n",
    "    cc += 1\n",
    "    if cc%1000 == 0 :\n",
    "        print(cc,\"/\",len(proc_docs))"
   ]
  },
  {
   "cell_type": "code",
   "execution_count": 141,
   "metadata": {},
   "outputs": [
    {
     "data": {
      "text/plain": [
       "93409"
      ]
     },
     "execution_count": 141,
     "metadata": {},
     "output_type": "execute_result"
    }
   ],
   "source": [
    "len(new_proc_docs)"
   ]
  },
  {
   "cell_type": "code",
   "execution_count": 142,
   "metadata": {},
   "outputs": [],
   "source": [
    "new_vocab = words_count(new_proc_docs)"
   ]
  },
  {
   "cell_type": "code",
   "execution_count": 143,
   "metadata": {},
   "outputs": [
    {
     "data": {
      "text/plain": [
       "64121"
      ]
     },
     "execution_count": 143,
     "metadata": {},
     "output_type": "execute_result"
    }
   ],
   "source": [
    "len(new_vocab)"
   ]
  },
  {
   "cell_type": "code",
   "execution_count": 144,
   "metadata": {},
   "outputs": [
    {
     "name": "stdout",
     "output_type": "stream",
     "text": [
      "chicken :  307887\n",
      "sauc :  306111\n",
      "bake :  305044\n",
      "chees :  294412\n",
      "egg :  290002\n",
      "cake :  289429\n",
      "oil :  283996\n",
      "say :  283091\n",
      "salt :  266564\n",
      "pm :  260971\n",
      "pepper :  257722\n",
      "may :  249001\n",
      "tri :  245260\n",
      "day :  218062\n",
      "thank :  216410\n",
      "good :  214155\n",
      "review :  213865\n",
      "made :  210557\n",
      "cream :  208003\n",
      "look :  204734\n"
     ]
    }
   ],
   "source": [
    "top_words(new_vocab, reverse = True)"
   ]
  },
  {
   "cell_type": "code",
   "execution_count": 145,
   "metadata": {},
   "outputs": [
    {
     "name": "stdout",
     "output_type": "stream",
     "text": [
      "bridi :  15\n",
      "cinnamonglaz :  15\n",
      "cranberryalmond :  15\n",
      "inextric :  15\n",
      "janetfctc :  15\n",
      "chiot :  15\n",
      "creations… :  15\n",
      "medal™ :  15\n",
      "communiqu :  15\n",
      "mulitpl :  15\n",
      "montara :  15\n",
      "typea :  15\n",
      "luvcook :  15\n",
      "monetarili :  15\n",
      "bannist :  15\n",
      "combination :  15\n",
      "ganache :  15\n",
      "complaining :  15\n",
      "greataunt :  15\n",
      "tfla :  15\n"
     ]
    }
   ],
   "source": [
    "top_words(new_vocab, reverse = False)"
   ]
  },
  {
   "cell_type": "code",
   "execution_count": 146,
   "metadata": {},
   "outputs": [
    {
     "data": {
      "text/plain": [
       "\"appl pie wikipedia free encyclopedia jump navig articl see appl pie disambigu appl pie appl pie lattic upper crust type dessert main appl sugar energi per around calori piec appl pie kcal cookbook appl pie appl pie tart tatin french variat appl pie An appl pie fruit pie tart princip fill appl sometim whip cream ice cream alongsid cheddar chees pastri gener doublecrust pie upper crust may circular shape crust pastri lattic woven strip except deepdish appl pie crust onli openfac tart tatin content english pud absenc sugar earli english dutch style swedish style appl pie american cultur see also refer extern link edit appl culinari appl bramley empir northern spi granni smith crisp acid fruit pie fresh reconstitut dri appl affect final textur length requir whether ha effect flavour pie matter opinion dri preserv appl origin substitut onli fresh fruit unavail appl pie often style la mode ice cream altern piec chees sharp cheddar occasion place alongsid slice finish pie english pud edit tarti appli thcenturi print thcenturi english appl pie go back see illustr list good appl good spice fig raisin pear case pastri saffron colour pie fill english speak countri appl pie dessert endur popular eaten hot cold ice cream doubl cream custard absenc sugar earli english edit modern appl pie requir ounc two sugar earliest doe two possibl reason sugarcan import egypt wide avail thcenturi england cost two shill per pound roughli equival US per kg US per pound today' price honey mani cheaper also absent good spice saffron import less expens difficult obtain refin sugar despit expens refin sugar appear much often publish honey suggest consid prohibit expens except appl pear fill probabl import perhap modern sugarfre juic pear intend sweeten pie dutch style edit tradit dutch appl pie come two varieti crumb lattic style pie distinct typic call flavour cinnamon lemon juic ad differ textur tast dutch appl pie may includ raisin ice addit appl sugar common dutch appl pie go back centuri exist paint dutch golden age date featur pie late mediev dutch book van around almost ident modern basi dutch appl pie crust bottom around edg fill piec slice appl usual crisp mildli tart varieti cinnamon sugar gener mix appl fill atop fill strand dough cover pie lattic hold fill place keep visibl cover pie crumb eaten warm cold sometim dash whip cream vanilla ice cream US dutch appl pie refer specif appl pie style crumb streusel swedish style edit swedish style appl pie predominantli varieti appl crumbl rather tradit pastri pie often breadcrumb wholli partial instead flour sometim roll oat usual flavour cinnamon vanilla custard ice cream also veri popular version call appl cake differ pie spong cake bake fresh appl piec appl pie american cultur edit An appl pie number american cultur icon english coloni appl pie wait plant european varieti brought across atlant becom appl tree select qualiti nativ appl meantim colonist pie pasti meat rather fruit main appl onc avail cider howev american appl pie manuscript print th centuri ha sinc becom veri popular dessert appl varieti propag graft clone world plant seed popular quickli lead develop hundr nativ varieti appl pie common thcenturi delawar As note sweden historian dr israel letter appl pie throughout whole year fresh appl longer dri even meal children mock appl pie made cracker possibl invent pioneer move dure th centuri appl mani year afterward ritz cracker promot mock appl pie product along sugar variou spice although appl pie eaten sinc long befor european colonis america american appl pie say unit state mean typic american nineteenth twentieth centuri appl pie becam symbol american prosper nation pride newspap articl publish declar No pie eat peopl perman also commemor phrase mom appl pie supposedli stock answer american soldier world war II whenev journalist ask whi go war jack holden franc kay sang patriot song fieri bear We basebal appl pie We counti fair We 'll keep old glori wave high place bear creat contrast popular view us cultur soviet union advertis exploit patriot connect commerci jingl basebal hot dog appl pie chevrolet claim appl market board york state slogan An appl day keep doctor away american appl pie thu abl success appl popular comest earli th centuri prohibit outlaw product hard cider dubiou discuss commun pie town mexico name honour appl pie see also edit portal apfelstrudel appl strudel austrian made dough appl sugar spice appl cake appl cobbler tart tatin french variant appl pie refer edit appl free dictionari By retriev An appl pie without chees apart therapi retriev appl pie retriev product highlight appl pie sharp cheddar nice coffe hunger mountain coop retriev sugar made histori sugar knowledg intern retriev appl cake aka dutch appl tart tap retriev page De anno retriev van door thoma vander retriev dutch appl pie brown eye baker retriev origin histori cultiv univers georgia archiv origin januari retriev februari center divers genu malu eastern turkey southwestern russia region asia minor appl improv select period thousand year earli farmer alexand great credit find dwarf appl asia minor BC brought back greec may well dwarf appl brought north america colonist first appl orchard contin said near boston http linda appl pie histori appl pie archiv origin june retriev juli By beth put ritz saveurcom retriev cambridg univers press definit american appl pie cambridg advanc learner dictionari thesauru popular appl say us appl associ archiv origin juli retriev juli pie idiom retriev base proverb pembrokeshir date dictionari proverb By john simpson isbn shorten version As american motherhood appl pie unit state pie By adrienn kane isbn american appl pie retriev pie town mexico retriev extern link edit wikimedia common ha media relat appl pie timelin histori note appl pie appl pie kate print children book base much earlier rhyme project american pie sweet appl crisp appl pie bean pie blackberri pie blueberri pie bob andi pie buttermilk pie cherri pie chess pie cream pie derbi pie fri pie key lime pie lemon ice box pie pie mississippi mud pie pecan pie pumpkin pie rhubarb pie shoofli pie strawberri rhubarb pie sweet potato pie savori crawfish pie pot pie meat pie manufactur hostess kellogg compani littl debbi mari callend sara lee tasti bake compani british pie sweet appl pie bakewel tart banoffe pie bedfordshir black bun custard tart manchest tart minc pie rhubarb pie treacl tart savouri bacon egg pie bedfordshir bridi butter pie chicken mushroom pie corn beef pie cornish pasti cottag pie cumberland pie curri pie pie fish pie game pie pie pie meat potato pie melton pork pie pork pie scotch pie shepherd pie squab pie pie steak pie steak kidney pie steak oyster pie pie manufactur clark pie dickinson morri fray bento holland pie Mr kipl peter pool pork farm pukka pie shire squar pie wall wright pie retriev http enwikipediaorgwindexphp oldid categori american pie appl product british dessert british pie dutch cuisin english cuisin german cuisin fruit sweet pie swedish cuisin hidden categori accuraci disput articl disput statement octob common categori local link wikidata dmi date septemb navig menu person tool creat account log namespac articl talk variant view read edit view histori navig main page content featur content current event random articl donat wikipedia wikimedia shop interact help wikipedia commun portal recent chang page tool link relat chang upload file special page perman link page inform data item cite page printexport creat book download pdf printabl version languag العربية català deutsch eesti español esperanto فارسی françai galego 한국어 հայերեն עברית nederland 日本語 norsk bokmål polski portuguê русский simpl english suomi 粵語 中文 edit link page last modifi june text avail creativ common attributionsharealik licens addit term may appli By site agre term privaci polici wikipedia® regist trademark wikimedia foundat inc nonprofit organ privaci polici wikipedia disclaim wikipedia develop mobil view\""
      ]
     },
     "execution_count": 146,
     "metadata": {},
     "output_type": "execute_result"
    }
   ],
   "source": [
    "\" \".join(new_proc_docs[0])"
   ]
  },
  {
   "cell_type": "code",
   "execution_count": 147,
   "metadata": {},
   "outputs": [],
   "source": [
    "new_proc_texts = []\n",
    "for doc in new_proc_docs:\n",
    "    new_proc_texts.append(\" \".join(doc))"
   ]
  },
  {
   "cell_type": "markdown",
   "metadata": {},
   "source": [
    "### Save processed files"
   ]
  },
  {
   "cell_type": "code",
   "execution_count": 148,
   "metadata": {},
   "outputs": [
    {
     "name": "stdout",
     "output_type": "stream",
     "text": [
      "True\n"
     ]
    }
   ],
   "source": [
    "print(len(new_proc_texts) == len(all_texts.filenames))"
   ]
  },
  {
   "cell_type": "code",
   "execution_count": 160,
   "metadata": {
    "scrolled": true
   },
   "outputs": [
    {
     "name": "stdout",
     "output_type": "stream",
     "text": [
      "1 / 93409 files saved.\n",
      "1001 / 93409 files saved.\n",
      "2001 / 93409 files saved.\n",
      "3001 / 93409 files saved.\n",
      "4001 / 93409 files saved.\n",
      "5001 / 93409 files saved.\n",
      "6001 / 93409 files saved.\n",
      "7001 / 93409 files saved.\n",
      "8001 / 93409 files saved.\n",
      "9001 / 93409 files saved.\n",
      "10001 / 93409 files saved.\n",
      "11001 / 93409 files saved.\n",
      "12001 / 93409 files saved.\n",
      "13001 / 93409 files saved.\n",
      "14001 / 93409 files saved.\n",
      "15001 / 93409 files saved.\n",
      "16001 / 93409 files saved.\n",
      "17001 / 93409 files saved.\n",
      "18001 / 93409 files saved.\n",
      "19001 / 93409 files saved.\n",
      "20001 / 93409 files saved.\n",
      "21001 / 93409 files saved.\n",
      "22001 / 93409 files saved.\n",
      "23001 / 93409 files saved.\n",
      "24001 / 93409 files saved.\n",
      "25001 / 93409 files saved.\n",
      "26001 / 93409 files saved.\n",
      "27001 / 93409 files saved.\n",
      "28001 / 93409 files saved.\n",
      "29001 / 93409 files saved.\n",
      "30001 / 93409 files saved.\n",
      "31001 / 93409 files saved.\n",
      "32001 / 93409 files saved.\n",
      "33001 / 93409 files saved.\n",
      "34001 / 93409 files saved.\n",
      "35001 / 93409 files saved.\n",
      "36001 / 93409 files saved.\n",
      "37001 / 93409 files saved.\n",
      "38001 / 93409 files saved.\n",
      "39001 / 93409 files saved.\n",
      "40001 / 93409 files saved.\n",
      "41001 / 93409 files saved.\n",
      "42001 / 93409 files saved.\n",
      "43001 / 93409 files saved.\n",
      "44001 / 93409 files saved.\n",
      "45001 / 93409 files saved.\n",
      "46001 / 93409 files saved.\n",
      "47001 / 93409 files saved.\n",
      "48001 / 93409 files saved.\n",
      "49001 / 93409 files saved.\n",
      "50001 / 93409 files saved.\n",
      "51001 / 93409 files saved.\n",
      "52001 / 93409 files saved.\n",
      "53001 / 93409 files saved.\n",
      "54001 / 93409 files saved.\n",
      "55001 / 93409 files saved.\n",
      "56001 / 93409 files saved.\n",
      "57001 / 93409 files saved.\n",
      "58001 / 93409 files saved.\n",
      "59001 / 93409 files saved.\n",
      "60001 / 93409 files saved.\n",
      "61001 / 93409 files saved.\n",
      "62001 / 93409 files saved.\n",
      "63001 / 93409 files saved.\n",
      "64001 / 93409 files saved.\n",
      "65001 / 93409 files saved.\n",
      "66001 / 93409 files saved.\n",
      "67001 / 93409 files saved.\n",
      "68001 / 93409 files saved.\n",
      "69001 / 93409 files saved.\n",
      "70001 / 93409 files saved.\n",
      "71001 / 93409 files saved.\n",
      "72001 / 93409 files saved.\n",
      "73001 / 93409 files saved.\n",
      "74001 / 93409 files saved.\n",
      "75001 / 93409 files saved.\n",
      "76001 / 93409 files saved.\n",
      "77001 / 93409 files saved.\n",
      "78001 / 93409 files saved.\n",
      "79001 / 93409 files saved.\n",
      "80001 / 93409 files saved.\n",
      "81001 / 93409 files saved.\n",
      "82001 / 93409 files saved.\n",
      "83001 / 93409 files saved.\n",
      "84001 / 93409 files saved.\n",
      "85001 / 93409 files saved.\n",
      "86001 / 93409 files saved.\n",
      "87001 / 93409 files saved.\n",
      "88001 / 93409 files saved.\n",
      "89001 / 93409 files saved.\n",
      "90001 / 93409 files saved.\n",
      "91001 / 93409 files saved.\n",
      "92001 / 93409 files saved.\n",
      "93001 / 93409 files saved.\n"
     ]
    }
   ],
   "source": [
    "import os\n",
    "\n",
    "for i in range(len(new_proc_texts)):\n",
    "    path_dir = all_texts.filenames[i].copy()\n",
    "    path_dir = re.sub('texts_txt','processed_texts_txt',path_dir)\n",
    "    path_folder = \"/\".join(path_dir.split(\"/\")[:-1])\n",
    "    if not os.path.isdir(path_folder) :\n",
    "        os.mkdir(path_folder)\n",
    "    text_file = open(path_dir, \"w\")\n",
    "    text_file.write(new_proc_texts[i])\n",
    "    text_file.close()\n",
    "    if i % 1000 == True:\n",
    "        print(i,\"/\",len(new_proc_texts),\"files saved.\")"
   ]
  },
  {
   "cell_type": "markdown",
   "metadata": {},
   "source": [
    "### Load processed files"
   ]
  },
  {
   "cell_type": "code",
   "execution_count": 3,
   "metadata": {},
   "outputs": [],
   "source": [
    "processed_text_dir = '/home/foodlovers/FoodVisor/data/processed_texts_txt'"
   ]
  },
  {
   "cell_type": "code",
   "execution_count": 4,
   "metadata": {},
   "outputs": [
    {
     "name": "stdout",
     "output_type": "stream",
     "text": [
      "CPU times: user 1.16 s, sys: 1.15 s, total: 2.31 s\n",
      "Wall time: 2.33 s\n"
     ]
    }
   ],
   "source": [
    "%%time\n",
    "all_processed_texts = datasets.load_files(processed_text_dir, \n",
    "            description=None, categories=None, load_content=True, shuffle=False, \n",
    "                                        encoding='utf-8', decode_error='strict', random_state=0)"
   ]
  },
  {
   "cell_type": "code",
   "execution_count": 5,
   "metadata": {},
   "outputs": [
    {
     "data": {
      "text/plain": [
       "array([0, 0, 0, 0])"
      ]
     },
     "execution_count": 5,
     "metadata": {},
     "output_type": "execute_result"
    }
   ],
   "source": [
    "all_processed_texts.target[:4]"
   ]
  },
  {
   "cell_type": "code",
   "execution_count": 6,
   "metadata": {
    "scrolled": true
   },
   "outputs": [
    {
     "data": {
      "text/plain": [
       "[\"appl pie wikipedia free encyclopedia jump navig articl see appl pie disambigu appl pie appl pie lattic upper crust type dessert main appl sugar energi per around calori piec appl pie kcal cookbook appl pie appl pie tart tatin french variat appl pie An appl pie fruit pie tart princip fill appl sometim whip cream ice cream alongsid cheddar chees pastri gener doublecrust pie upper crust may circular shape crust pastri lattic woven strip except deepdish appl pie crust onli openfac tart tatin content english pud absenc sugar earli english dutch style swedish style appl pie american cultur see also refer extern link edit appl culinari appl bramley empir northern spi granni smith crisp acid fruit pie fresh reconstitut dri appl affect final textur length requir whether ha effect flavour pie matter opinion dri preserv appl origin substitut onli fresh fruit unavail appl pie often style la mode ice cream altern piec chees sharp cheddar occasion place alongsid slice finish pie english pud edit tarti appli thcenturi print thcenturi english appl pie go back see illustr list good appl good spice fig raisin pear case pastri saffron colour pie fill english speak countri appl pie dessert endur popular eaten hot cold ice cream doubl cream custard absenc sugar earli english edit modern appl pie requir ounc two sugar earliest doe two possibl reason sugarcan import egypt wide avail thcenturi england cost two shill per pound roughli equival US per kg US per pound today' price honey mani cheaper also absent good spice saffron import less expens difficult obtain refin sugar despit expens refin sugar appear much often publish honey suggest consid prohibit expens except appl pear fill probabl import perhap modern sugarfre juic pear intend sweeten pie dutch style edit tradit dutch appl pie come two varieti crumb lattic style pie distinct typic call flavour cinnamon lemon juic ad differ textur tast dutch appl pie may includ raisin ice addit appl sugar common dutch appl pie go back centuri exist paint dutch golden age date featur pie late mediev dutch book van around almost ident modern basi dutch appl pie crust bottom around edg fill piec slice appl usual crisp mildli tart varieti cinnamon sugar gener mix appl fill atop fill strand dough cover pie lattic hold fill place keep visibl cover pie crumb eaten warm cold sometim dash whip cream vanilla ice cream US dutch appl pie refer specif appl pie style crumb streusel swedish style edit swedish style appl pie predominantli varieti appl crumbl rather tradit pastri pie often breadcrumb wholli partial instead flour sometim roll oat usual flavour cinnamon vanilla custard ice cream also veri popular version call appl cake differ pie spong cake bake fresh appl piec appl pie american cultur edit An appl pie number american cultur icon english coloni appl pie wait plant european varieti brought across atlant becom appl tree select qualiti nativ appl meantim colonist pie pasti meat rather fruit main appl onc avail cider howev american appl pie manuscript print th centuri ha sinc becom veri popular dessert appl varieti propag graft clone world plant seed popular quickli lead develop hundr nativ varieti appl pie common thcenturi delawar As note sweden historian dr israel letter appl pie throughout whole year fresh appl longer dri even meal children mock appl pie made cracker possibl invent pioneer move dure th centuri appl mani year afterward ritz cracker promot mock appl pie product along sugar variou spice although appl pie eaten sinc long befor european colonis america american appl pie say unit state mean typic american nineteenth twentieth centuri appl pie becam symbol american prosper nation pride newspap articl publish declar No pie eat peopl perman also commemor phrase mom appl pie supposedli stock answer american soldier world war II whenev journalist ask whi go war jack holden franc kay sang patriot song fieri bear We basebal appl pie We counti fair We 'll keep old glori wave high place bear creat contrast popular view us cultur soviet union advertis exploit patriot connect commerci jingl basebal hot dog appl pie chevrolet claim appl market board york state slogan An appl day keep doctor away american appl pie thu abl success appl popular comest earli th centuri prohibit outlaw product hard cider dubiou discuss commun pie town mexico name honour appl pie see also edit portal apfelstrudel appl strudel austrian made dough appl sugar spice appl cake appl cobbler tart tatin french variant appl pie refer edit appl free dictionari By retriev An appl pie without chees apart therapi retriev appl pie retriev product highlight appl pie sharp cheddar nice coffe hunger mountain coop retriev sugar made histori sugar knowledg intern retriev appl cake aka dutch appl tart tap retriev page De anno retriev van door thoma vander retriev dutch appl pie brown eye baker retriev origin histori cultiv univers georgia archiv origin januari retriev februari center divers genu malu eastern turkey southwestern russia region asia minor appl improv select period thousand year earli farmer alexand great credit find dwarf appl asia minor BC brought back greec may well dwarf appl brought north america colonist first appl orchard contin said near boston http linda appl pie histori appl pie archiv origin june retriev juli By beth put ritz saveurcom retriev cambridg univers press definit american appl pie cambridg advanc learner dictionari thesauru popular appl say us appl associ archiv origin juli retriev juli pie idiom retriev base proverb pembrokeshir date dictionari proverb By john simpson isbn shorten version As american motherhood appl pie unit state pie By adrienn kane isbn american appl pie retriev pie town mexico retriev extern link edit wikimedia common ha media relat appl pie timelin histori note appl pie appl pie kate print children book base much earlier rhyme project american pie sweet appl crisp appl pie bean pie blackberri pie blueberri pie bob andi pie buttermilk pie cherri pie chess pie cream pie derbi pie fri pie key lime pie lemon ice box pie pie mississippi mud pie pecan pie pumpkin pie rhubarb pie shoofli pie strawberri rhubarb pie sweet potato pie savori crawfish pie pot pie meat pie manufactur hostess kellogg compani littl debbi mari callend sara lee tasti bake compani british pie sweet appl pie bakewel tart banoffe pie bedfordshir black bun custard tart manchest tart minc pie rhubarb pie treacl tart savouri bacon egg pie bedfordshir bridi butter pie chicken mushroom pie corn beef pie cornish pasti cottag pie cumberland pie curri pie pie fish pie game pie pie pie meat potato pie melton pork pie pork pie scotch pie shepherd pie squab pie pie steak pie steak kidney pie steak oyster pie pie manufactur clark pie dickinson morri fray bento holland pie Mr kipl peter pool pork farm pukka pie shire squar pie wall wright pie retriev http enwikipediaorgwindexphp oldid categori american pie appl product british dessert british pie dutch cuisin english cuisin german cuisin fruit sweet pie swedish cuisin hidden categori accuraci disput articl disput statement octob common categori local link wikidata dmi date septemb navig menu person tool creat account log namespac articl talk variant view read edit view histori navig main page content featur content current event random articl donat wikipedia wikimedia shop interact help wikipedia commun portal recent chang page tool link relat chang upload file special page perman link page inform data item cite page printexport creat book download pdf printabl version languag العربية català deutsch eesti español esperanto فارسی françai galego 한국어 հայերեն עברית nederland 日本語 norsk bokmål polski portuguê русский simpl english suomi 粵語 中文 edit link page last modifi june text avail creativ common attributionsharealik licens addit term may appli By site agre term privaci polici wikipedia® regist trademark wikimedia foundat inc nonprofit organ privaci polici wikipedia disclaim wikipedia develop mobil view\",\n",
       " \"subscrib health magazin coastal live light wine health My real simpl southern live sunset video sweepstak health newsett subscrib healthi happi view sex relationship famili mind bodi video diet fit cardio workout lose weight stronger yoga pilat find workout fit video musteat celebr chef myth fact nutrit video beauti style skin antiag hair makeup slim style celebr tip video health az adult adhd alzheim diseas asthma bipolar disord birth control breast cancer childhood vaccin cholesterol chronic pain cold flu sinu copd crohn diseas depress diabet type fibromyalgia gerd headach migrain incontin menopaus multipl sclerosi osteoarthr osteoporosi psoriasi rheumatoid arthriti sexual health sleep disord condit magazin current issu subscrib tablet edit archiv give gift custom servic media kit healthcar guid passion healthi live brought let keep talk sign free healthi live newslett latest health news nutrit tip special offer delici healthcom musteat appl pie cake appl pie cake holiday bake bad waistlin twitter credit corbi dreami dessert holiday bake doe bad waistlin sweet tart appl satisfi thank gram fiber 're also pack diseasefight antioxid appl dessert lower fat fiber fewer calori mani tradit without sacrif flavor season next classic appl pie view latest health fit antiag nutrit news plu special offer insight updat healthcom take health magazin tri free preview issu subscrib give gift facebook twitter pinterest instagram way connect health latest health fit antiag nutrit news plu special offer insight healthcom advertis popular way lose weight fast fatburn Ab exercis No crunch best worst nut health fatburn way sooth sore throat reason 're alway tire healthi happi diet fit beauti style health az healthcom healthi happi diet fit view health az health magazin sweepstak health mobil video site map Us Us free newslett help advertis health social media term condit click current abc statement health spotlight health magazin custom servic subscrib tablet edit give gift renew subscript stay connect healthcom sign Up newslett becom fan health health twitter updat google subscrib rss join healthi voic copyright health media ventur inc reserv materi site intend gener inform intend constitut medic advic probabl diagnosi recommend treatment see term servic privaci polici california privaci inform Ad choic\"]"
      ]
     },
     "execution_count": 6,
     "metadata": {},
     "output_type": "execute_result"
    }
   ],
   "source": [
    "all_processed_texts.data[:2]"
   ]
  },
  {
   "cell_type": "markdown",
   "metadata": {},
   "source": [
    "## ---------------------------------------"
   ]
  },
  {
   "cell_type": "markdown",
   "metadata": {},
   "source": [
    "## Convert to TFIDF vectors"
   ]
  },
  {
   "cell_type": "code",
   "execution_count": 7,
   "metadata": {},
   "outputs": [],
   "source": [
    "text_train,text_test , y_train, y_test = train_test_split(\n",
    "    all_processed_texts.data, all_processed_texts.target, test_size=0.33, random_state=42)"
   ]
  },
  {
   "cell_type": "code",
   "execution_count": 8,
   "metadata": {},
   "outputs": [
    {
     "data": {
      "text/plain": [
       "array([81, 81, 42,  4, 70, 31, 21, 61, 44, 10])"
      ]
     },
     "execution_count": 8,
     "metadata": {},
     "output_type": "execute_result"
    }
   ],
   "source": [
    "y_train[:10]"
   ]
  },
  {
   "cell_type": "code",
   "execution_count": 9,
   "metadata": {},
   "outputs": [
    {
     "name": "stdout",
     "output_type": "stream",
     "text": [
      "TF-IDF on text data ... \n",
      "Done ! \n",
      "CPU times: user 1min 2s, sys: 629 ms, total: 1min 3s\n",
      "Wall time: 1min 2s\n"
     ]
    }
   ],
   "source": [
    "%%time\n",
    "# Feature Engineering \n",
    "print (\"TF-IDF on text data ... \")\n",
    "tfidf = TfidfVectorizer(binary=True)\n",
    "X_train = tfidf.fit_transform(text_train)\n",
    "#.astype('float16')\n",
    "X_test = tfidf.transform(text_test)\n",
    "#.astype('float16')\n",
    "print (\"Done ! \")"
   ]
  },
  {
   "cell_type": "code",
   "execution_count": 10,
   "metadata": {},
   "outputs": [
    {
     "data": {
      "text/plain": [
       "(62584, 60050)"
      ]
     },
     "execution_count": 10,
     "metadata": {},
     "output_type": "execute_result"
    }
   ],
   "source": [
    "X_train.shape"
   ]
  },
  {
   "cell_type": "code",
   "execution_count": 11,
   "metadata": {},
   "outputs": [],
   "source": [
    "train_size, num_words = X_train.shape\n",
    "num_classes = len(all_processed_texts.target_names)"
   ]
  },
  {
   "cell_type": "code",
   "execution_count": 12,
   "metadata": {},
   "outputs": [],
   "source": [
    "test_size,_ = X_test.shape"
   ]
  },
  {
   "cell_type": "markdown",
   "metadata": {},
   "source": [
    "## Torch models"
   ]
  },
  {
   "cell_type": "code",
   "execution_count": 13,
   "metadata": {},
   "outputs": [],
   "source": [
    "import torch\n",
    "import torch.nn as nn\n",
    "import torch.nn.functional as F\n",
    "import torch.optim as optim\n",
    "from torch.autograd import Variable"
   ]
  },
  {
   "cell_type": "code",
   "execution_count": 14,
   "metadata": {},
   "outputs": [
    {
     "name": "stdout",
     "output_type": "stream",
     "text": [
      "Using gpu: True \n"
     ]
    }
   ],
   "source": [
    "use_gpu = torch.cuda.is_available()\n",
    "print('Using gpu: %s ' % use_gpu)"
   ]
  },
  {
   "cell_type": "code",
   "execution_count": 15,
   "metadata": {},
   "outputs": [],
   "source": [
    "criterion = nn.CrossEntropyLoss()"
   ]
  },
  {
   "cell_type": "code",
   "execution_count": 22,
   "metadata": {},
   "outputs": [],
   "source": [
    "# Using simple network gives better results ...\n",
    "\n",
    "class myNet2(nn.Module):\n",
    "    def __init__(self, input_size, num_classes):\n",
    "        super(myNet2, self).__init__()\n",
    "        self.classifier = nn.Sequential(\n",
    "            nn.Linear(input_size, 1024),\n",
    "            nn.Dropout(0.3),\n",
    "            nn.Linear(1024, num_classes),\n",
    "        ) \n",
    "\n",
    "    def forward(self, x):\n",
    "        x = self.classifier(x)\n",
    "        return x"
   ]
  },
  {
   "cell_type": "code",
   "execution_count": 23,
   "metadata": {},
   "outputs": [],
   "source": [
    "net2 = myNet2(num_words, num_classes)\n",
    "if use_gpu:\n",
    "    net2 = net2.cuda()\n",
    "optimizer2 = optim.Adam(net2.parameters())"
   ]
  },
  {
   "cell_type": "code",
   "execution_count": 24,
   "metadata": {},
   "outputs": [
    {
     "name": "stdout",
     "output_type": "stream",
     "text": [
      "myNet2(\n",
      "  (classifier): Sequential(\n",
      "    (0): Linear(in_features=60050, out_features=1024, bias=True)\n",
      "    (1): Dropout(p=0.3)\n",
      "    (2): Linear(in_features=1024, out_features=101, bias=True)\n",
      "  )\n",
      ")\n"
     ]
    }
   ],
   "source": [
    "print(net2)"
   ]
  },
  {
   "cell_type": "code",
   "execution_count": 43,
   "metadata": {},
   "outputs": [],
   "source": [
    "class myNet(nn.Module):\n",
    "    def __init__(self, n_inputs, num_classes):\n",
    "        super(myNet, self).__init__()\n",
    "        self.classifier = nn.Sequential(\n",
    "            nn.Linear(n_inputs, 1024),\n",
    "            nn.ReLU(True),\n",
    "            nn.Dropout(0.3),\n",
    "            nn.Linear(1024, 512),\n",
    "            nn.ReLU(True),\n",
    "            nn.Dropout(0.3),\n",
    "            nn.Linear(512, 256),\n",
    "            nn.ReLU(True),\n",
    "            nn.Dropout(0.3),\n",
    "            nn.Linear(256, num_classes),\n",
    "        ) \n",
    "\n",
    "    def forward(self, x):\n",
    "        x = self.classifier(x)\n",
    "        return x"
   ]
  },
  {
   "cell_type": "code",
   "execution_count": 44,
   "metadata": {},
   "outputs": [],
   "source": [
    "net1 = myNet(num_words, num_classes)\n",
    "if use_gpu:\n",
    "    net1 = net1.cuda()\n",
    "#optimizer1 = optim.SGD(net1.parameters(), lr=0.01)\n",
    "optimizer1 = optim.Adam(net1.parameters())"
   ]
  },
  {
   "cell_type": "markdown",
   "metadata": {},
   "source": [
    "### Creating Data generator"
   ]
  },
  {
   "cell_type": "code",
   "execution_count": 19,
   "metadata": {},
   "outputs": [],
   "source": [
    "def data_gen(data,labels,batch_size=32,shuffle=True):\n",
    "    labels = np.array(labels)\n",
    "    if shuffle:\n",
    "        index = np.random.permutation(len(labels))\n",
    "        data = data[index]\n",
    "        labels = labels[index]\n",
    "    for idx in range(0,len(labels),batch_size):\n",
    "        if type(data).__module__ == 'numpy' :\n",
    "            yield(data[idx:idx+batch_size],labels[idx:idx+batch_size],\n",
    "             int(len(labels) / batch_size) + (len(labels) % batch_size > 0))\n",
    "        else :\n",
    "            yield(data[idx:idx+batch_size].toarray(),labels[idx:idx+batch_size],\n",
    "             int(len(labels) / batch_size) + (len(labels) % batch_size > 0))"
   ]
  },
  {
   "cell_type": "code",
   "execution_count": 41,
   "metadata": {},
   "outputs": [],
   "source": [
    "def train_model(model,\n",
    "                train_data=None,train_labels=None, \n",
    "                test_data = None, test_labels = None,\n",
    "                epochs=1, batch_size = 128,\n",
    "                optimizer=None,criterion=None ,\n",
    "                train=True, validate = True,\n",
    "                shuffle=True ):\n",
    "    \n",
    "    if train == True :\n",
    "        loss_history = []\n",
    "        acc_history = []\n",
    "        val_loss_history = []\n",
    "        val_acc_history = []\n",
    "        \n",
    "    for epoch in range(epochs) :\n",
    "        if train == True :\n",
    "            #=========================TRAINING=================================#\n",
    "            start_time_epoch = time.time()\n",
    "            \n",
    "            model.train()\n",
    "    \n",
    "            print(\"Epoch:\", epoch,\"/\",epochs-1,\"===============================================\")\n",
    "        \n",
    "            running_loss = 0.0\n",
    "            running_corrects = 0.0\n",
    "            \n",
    "            batches = data_gen(data=train_data,labels=train_labels,batch_size=batch_size,shuffle=shuffle)\n",
    "            \n",
    "            #batch_num = len(list(batches))\n",
    "\n",
    "            for i,data in enumerate(batches) :\n",
    "                start_time = time.time()\n",
    "        \n",
    "                inputs,classes,batch_num = data\n",
    "\n",
    "                if  isinstance(inputs, (list, np.ndarray)) :\n",
    "                    inputs , classes = torch.from_numpy(inputs), torch.from_numpy(classes)\n",
    "                    \n",
    "                inputs = inputs.float()\n",
    "\n",
    "                if use_gpu:\n",
    "                    inputs , classes = inputs.cuda(), classes.cuda()\n",
    "\n",
    "                inputs = inputs.view(inputs.size(0), -1)\n",
    "                    \n",
    "                # calulate outputs and losses\n",
    "                outputs = model(inputs)\n",
    "                loss = criterion(outputs,classes)       \n",
    "\n",
    "                # autograd\n",
    "                optimizer.zero_grad()\n",
    "                loss.backward()\n",
    "                optimizer.step()\n",
    "\n",
    "                # statistics\n",
    "                batch_loss = loss.data.item()\n",
    "                _,preds = torch.max(outputs.data,1)\n",
    "                batch_corrects = torch.sum(preds == classes.data)\n",
    "                \n",
    "                running_loss += batch_loss\n",
    "                running_corrects += batch_corrects\n",
    "\n",
    "                print('Batch {:d}/{:d} - Loss: {:.4f} Acc: {:.4f} - Time : {:.2f}s'.format(i+1,batch_num,\n",
    "                             batch_loss/len(classes), float(batch_corrects)/len(classes), time.time() - start_time),end='\\r')\n",
    "\n",
    "            epoch_loss = running_loss / len(train_labels)\n",
    "            epoch_acc = running_corrects.data.item() / len(train_labels)\n",
    "            #\n",
    "            \n",
    "            loss_history.append(epoch_loss)\n",
    "            acc_history.append(epoch_acc)\n",
    "            \n",
    "            print('Epoch {:d} completed in {:.2f} seconds ! Loss: {:.4f} Acc: {:.4f}'.format(\n",
    "                     epoch , time.time() - start_time_epoch, epoch_loss, epoch_acc))\n",
    "            \n",
    "        if validate == True :\n",
    "            #=========================VALIDATING=================================#\n",
    "            \n",
    "            model.eval()\n",
    "            \n",
    "            val_loss = 0.0\n",
    "            val_corrects = 0.0\n",
    "            \n",
    "            batches = data_gen(data=test_data,labels=test_labels,batch_size=batch_size,shuffle=shuffle)\n",
    "            \n",
    "            #batch_num = len(list(batches))\n",
    "\n",
    "            for i,data in enumerate(batches) :\n",
    "                start_time = time.time()\n",
    "                \n",
    "                inputs,classes,batch_num = data\n",
    "                \n",
    "                if  isinstance(inputs, (list, np.ndarray)) :\n",
    "                    inputs , classes = torch.from_numpy(inputs), torch.from_numpy(classes)\n",
    "                    \n",
    "                inputs = inputs.float()\n",
    "\n",
    "                if use_gpu:\n",
    "                    inputs , classes = inputs.cuda(), classes.cuda()\n",
    "                    \n",
    "                inputs = inputs.view(inputs.size(0), -1)\n",
    "\n",
    "                outputs = model(inputs)\n",
    "                loss = criterion(outputs,classes)        \n",
    "                _,preds = torch.max(outputs.data,1)\n",
    "\n",
    "                # statistics\n",
    "\n",
    "                val_loss += loss.data.item()\n",
    "                val_corrects += torch.sum(preds == classes.data)\n",
    "                \n",
    "                print('Validating batch {:d}/{:d} - {:.2f}s ...'.format(i+1,batch_num\n",
    "                                                                , time.time() - start_time), end=\"\\r\")\n",
    "\n",
    "            val_epoch_loss = val_loss / len(test_labels)\n",
    "            val_epoch_acc = val_corrects.data.item() / len(test_labels)\n",
    "            # \n",
    "\n",
    "            print('Val Loss: {:.4f} Val Acc: {:.4f}'.format(\n",
    "                             val_epoch_loss,val_epoch_acc))\n",
    "            \n",
    "            if train == False :\n",
    "                return\n",
    "            else :\n",
    "                val_loss_history.append(val_epoch_loss)\n",
    "                val_acc_history.append(val_epoch_acc)\n",
    "    \n",
    "    if train == False :\n",
    "        return 'On fait rien!'\n",
    "    elif validate == False :\n",
    "        return loss_history, acc_history\n",
    "    else :\n",
    "        return loss_history, acc_history,val_loss_history,val_acc_history"
   ]
  },
  {
   "cell_type": "code",
   "execution_count": 37,
   "metadata": {
    "scrolled": true
   },
   "outputs": [
    {
     "name": "stdout",
     "output_type": "stream",
     "text": [
      "Epoch: 0 / 9 ===============================================\n",
      "Epoch 0 completed in 176.48 seconds ! Loss: 0.0481 Acc: 0.6842\n",
      "Val Loss: 0.0249 Val Acc: 0.8243 ...\n",
      "Epoch: 1 / 9 ===============================================\n",
      "Epoch 1 completed in 157.57 seconds ! Loss: 0.0118 Acc: 0.9220\n",
      "Val Loss: 0.0249 Val Acc: 0.8256 ...\n",
      "Epoch: 2 / 9 ===============================================\n",
      "Epoch 2 completed in 105.10 seconds ! Loss: 0.0088 Acc: 0.9469\n",
      "Val Loss: 0.0252 Val Acc: 0.8282 ...\n",
      "Epoch: 3 / 9 ===============================================\n",
      "Epoch 3 completed in 167.90 seconds ! Loss: 0.0081 Acc: 0.9535\n",
      "Val Loss: 0.0253 Val Acc: 0.8337 ...\n",
      "Epoch: 4 / 9 ===============================================\n",
      "Epoch 4 completed in 164.90 seconds ! Loss: 0.0076 Acc: 0.9583\n",
      "Val Loss: 0.0258 Val Acc: 0.8276 ...\n",
      "Epoch: 5 / 9 ===============================================\n",
      "Epoch 5 completed in 161.35 seconds ! Loss: 0.0072 Acc: 0.9610\n",
      "Val Loss: 0.0265 Val Acc: 0.8290 ...\n",
      "Epoch: 6 / 9 ===============================================\n",
      "Epoch 6 completed in 161.56 seconds ! Loss: 0.0070 Acc: 0.9621\n",
      "Val Loss: 0.0258 Val Acc: 0.8319 ...\n",
      "Epoch: 7 / 9 ===============================================\n",
      "Epoch 7 completed in 112.13 seconds ! Loss: 0.0068 Acc: 0.9643\n",
      "Val Loss: 0.0270 Val Acc: 0.8256 ...\n",
      "Epoch: 8 / 9 ===============================================\n",
      "Epoch 8 completed in 105.09 seconds ! Loss: 0.0066 Acc: 0.9649\n",
      "Val Loss: 0.0270 Val Acc: 0.8270 ...\n",
      "Epoch: 9 / 9 ===============================================\n",
      "Epoch 9 completed in 104.74 seconds ! Loss: 0.0065 Acc: 0.9655\n",
      "Val Loss: 0.0267 Val Acc: 0.8285 ...\n",
      "DONE !\n",
      "CPU times: user 18min 43s, sys: 7min 34s, total: 26min 18s\n",
      "Wall time: 26min 8s\n"
     ]
    }
   ],
   "source": [
    "%%time\n",
    "history = train_model(net2,\n",
    "                train_data=X_train,train_labels=y_train, \n",
    "                test_data = X_test, test_labels = y_test,\n",
    "                epochs=10, batch_size = 64,\n",
    "                optimizer=optimizer2,criterion=criterion ,\n",
    "                train=True, validate = True,\n",
    "                shuffle=True )\n",
    "print(\"DONE !\")"
   ]
  },
  {
   "cell_type": "code",
   "execution_count": 38,
   "metadata": {},
   "outputs": [],
   "source": [
    "import matplotlib.pyplot as plt"
   ]
  },
  {
   "cell_type": "code",
   "execution_count": 39,
   "metadata": {},
   "outputs": [
    {
     "data": {
      "text/plain": [
       "Text(0.5, 1.0, 'Accuracy history')"
      ]
     },
     "execution_count": 39,
     "metadata": {},
     "output_type": "execute_result"
    },
    {
     "data": {
      "image/png": "[encoded data removed]",
      "text/plain": [
       "<Figure size 432x288 with 1 Axes>"
      ]
     },
     "metadata": {
      "needs_background": "light"
     },
     "output_type": "display_data"
    }
   ],
   "source": [
    "plt.plot(history[1], color ='red')\n",
    "plt.plot(history[3], color ='orange')\n",
    "plt.plot()\n",
    "plt.title(\"Accuracy history\")"
   ]
  },
  {
   "cell_type": "code",
   "execution_count": 40,
   "metadata": {},
   "outputs": [
    {
     "data": {
      "text/plain": [
       "Text(0.5, 1.0, 'Loss history')"
      ]
     },
     "execution_count": 40,
     "metadata": {},
     "output_type": "execute_result"
    },
    {
     "data": {
      "image/png": "[encoded data removed]",
      "text/plain": [
       "<Figure size 432x288 with 1 Axes>"
      ]
     },
     "metadata": {
      "needs_background": "light"
     },
     "output_type": "display_data"
    }
   ],
   "source": [
    "plt.plot(history[0], color ='red')\n",
    "plt.plot(history[2], color ='orange')\n",
    "plt.plot()\n",
    "plt.title(\"Loss history\")"
   ]
  },
  {
   "cell_type": "code",
   "execution_count": 45,
   "metadata": {},
   "outputs": [
    {
     "name": "stdout",
     "output_type": "stream",
     "text": [
      "Epoch: 0 / 9 ===============================================\n",
      "Epoch 0 completed in 46.69 seconds ! Loss: 0.0206 Acc: 0.3758\n",
      "Val Loss: 0.0107 Val Acc: 0.6750 ...\n",
      "Epoch: 1 / 9 ===============================================\n",
      "Epoch 1 completed in 46.85 seconds ! Loss: 0.0075 Acc: 0.7609\n",
      "Val Loss: 0.0086 Val Acc: 0.7444 ...\n",
      "Epoch: 2 / 9 ===============================================\n",
      "Epoch 2 completed in 46.98 seconds ! Loss: 0.0042 Acc: 0.8693\n",
      "Val Loss: 0.0088 Val Acc: 0.7486 ...\n",
      "Epoch: 3 / 9 ===============================================\n",
      "Epoch 3 completed in 47.05 seconds ! Loss: 0.0029 Acc: 0.9090\n",
      "Val Loss: 0.0092 Val Acc: 0.7608 ...\n",
      "Epoch: 4 / 9 ===============================================\n",
      "Epoch 4 completed in 47.11 seconds ! Loss: 0.0024 Acc: 0.9261\n",
      "Val Loss: 0.0095 Val Acc: 0.7664 ...\n",
      "Epoch: 5 / 9 ===============================================\n",
      "Epoch 5 completed in 47.08 seconds ! Loss: 0.0021 Acc: 0.9356\n",
      "Val Loss: 0.0098 Val Acc: 0.7652 ...\n",
      "Epoch: 6 / 9 ===============================================\n",
      "Epoch 6 completed in 47.04 seconds ! Loss: 0.0019 Acc: 0.9399\n",
      "Val Loss: 0.0100 Val Acc: 0.7684 ...\n",
      "Epoch: 7 / 9 ===============================================\n",
      "Epoch 7 completed in 46.89 seconds ! Loss: 0.0018 Acc: 0.9445\n",
      "Val Loss: 0.0101 Val Acc: 0.7711 ...\n",
      "Epoch: 8 / 9 ===============================================\n",
      "Epoch 8 completed in 46.95 seconds ! Loss: 0.0017 Acc: 0.9468\n",
      "Val Loss: 0.0107 Val Acc: 0.7735 ...\n",
      "Epoch: 9 / 9 ===============================================\n",
      "Epoch 9 completed in 47.07 seconds ! Loss: 0.0016 Acc: 0.9492\n",
      "Val Loss: 0.0108 Val Acc: 0.7734 ...\n",
      "CPU times: user 6min 32s, sys: 3min 32s, total: 10min 5s\n",
      "Wall time: 10min 1s\n"
     ]
    }
   ],
   "source": [
    "%%time\n",
    "history_2 = train_model(net1,\n",
    "               train_data=X_train,train_labels=y_train, \n",
    "                test_data = X_test, test_labels = y_test,\n",
    "                epochs=10, batch_size = 128,\n",
    "                optimizer=optimizer1,\n",
    "            criterion=criterion ,\n",
    "                train=True, validate = True,\n",
    "                shuffle=True \n",
    "           )"
   ]
  },
  {
   "cell_type": "code",
   "execution_count": 47,
   "metadata": {},
   "outputs": [
    {
     "data": {
      "text/plain": [
       "Text(0.5, 1.0, 'Loss history')"
      ]
     },
     "execution_count": 47,
     "metadata": {},
     "output_type": "execute_result"
    },
    {
     "data": {
      "image/png": "[encoded data removed]",
      "text/plain": [
       "<Figure size 432x288 with 1 Axes>"
      ]
     },
     "metadata": {
      "needs_background": "light"
     },
     "output_type": "display_data"
    },
    {
     "data": {
      "image/png": "[encoded data removed]",
      "text/plain": [
       "<Figure size 432x288 with 1 Axes>"
      ]
     },
     "metadata": {
      "needs_background": "light"
     },
     "output_type": "display_data"
    }
   ],
   "source": [
    "plt.figure()\n",
    "plt.plot(history_2[1], color ='red')\n",
    "plt.plot(history_2[3], color ='orange')\n",
    "plt.title(\"Accuracy history\")\n",
    "\n",
    "plt.figure()\n",
    "plt.plot(history_2[0], color ='red')\n",
    "plt.plot(history_2[2], color ='orange')\n",
    "plt.title(\"Loss history\")\n"
   ]
  },
  {
   "cell_type": "markdown",
   "metadata": {},
   "source": [
    "It's not better with a more complicated network"
   ]
  },
  {
   "cell_type": "markdown",
   "metadata": {},
   "source": [
    "## Most informative words"
   ]
  },
  {
   "cell_type": "code",
   "execution_count": 19,
   "metadata": {},
   "outputs": [],
   "source": [
    "from sklearn.svm import LinearSVC"
   ]
  },
  {
   "cell_type": "code",
   "execution_count": 20,
   "metadata": {},
   "outputs": [
    {
     "name": "stdout",
     "output_type": "stream",
     "text": [
      "CPU times: user 2min 25s, sys: 0 ns, total: 2min 25s\n",
      "Wall time: 2min 25s\n"
     ]
    }
   ],
   "source": [
    "%%time\n",
    "clf = LinearSVC()\n",
    "clf.fit(X_train, y_train)"
   ]
  },
  {
   "cell_type": "code",
   "execution_count": 21,
   "metadata": {},
   "outputs": [
    {
     "name": "stdout",
     "output_type": "stream",
     "text": [
      "Predict on test data ... \n",
      "Accuracy :  0.8730251419302514\n"
     ]
    }
   ],
   "source": [
    "print (\"Predict on test data ... \")\n",
    "y_pred = clf.predict(X_test)\n",
    "accuracy = accuracy_score(y_test, y_pred)\n",
    "print(\"Accuracy : \", accuracy)"
   ]
  },
  {
   "cell_type": "code",
   "execution_count": 22,
   "metadata": {},
   "outputs": [],
   "source": [
    "def print_top10(vectorizer, clf, class_labels):\n",
    "    \"\"\"\n",
    "    Prints features with the highest coefficient values, per class \\n\n",
    "    https://stackoverflow.com/questions/11116697/how-to-get-most-informative-features-for-scikit-learn-classifiers\n",
    "    \"\"\"\n",
    "    feature_names = vectorizer.get_feature_names()\n",
    "    for i, class_label in enumerate(class_labels):\n",
    "        top10 = np.argsort(clf.coef_[i])[-10:]\n",
    "        print(\"%s: %s\" % (class_label,\n",
    "              \", \".join(feature_names[j] for j in top10)))"
   ]
  },
  {
   "cell_type": "code",
   "execution_count": 24,
   "metadata": {
    "scrolled": true
   },
   "outputs": [
    {
     "name": "stdout",
     "output_type": "stream",
     "text": [
      "apple_pie: streusel, dutch, peel, fill, core, lattic, cinnamon, crust, pie, appl\n",
      "baby_back_ribs: bast, bone, tender, membran, babyback, slab, rack, back, rib, babi\n",
      "baklava: turkish, syrup, diamond, honey, nut, pistachio, walnut, filo, phyllo, baklava\n",
      "beef_carpaccio: parmesan, hacker, freezer, tenderloin, arugula, thin, shave, thinli, beef, carpaccio\n",
      "beef_tartare: truffl, eesti, raw, tabasco, quail, bunsjpg, yolk, caper, beef, tartar\n",
      "beet_salad: walnut, root, roast, salad, vinegar, vinaigrett, dress, goat, peel, beet\n",
      "beignets: squar, dough, deepfri, evapor, confection, mond, yeast, mardi, orlean, beignet\n",
      "bibimbap: spinach, bap, dab, zucchini, sprout, stone, dolsot, korean, gochujang, bibimbap\n",
      "bread_pudding: warm, loaf, dayold, pour, milk, bread, stale, raisin, cube, pud\n",
      "breakfast_burrito: salsa, quotekocom, wrap, sausag, breakfast, tortilla, relat, scrambl, credit, burrito\n",
      "bruschetta: bread, balsam, sourdough, bruschettastyl, brush, rub, basil, toast, baguett, bruschetta\n",
      "caesar_salad: co, toss, dress, worcestershir, parmesan, lettuc, romain, anchovi, crouton, caesar\n",
      "cannoli: fill, marsala, sicilian, pipe, semisweet, pistachio, tube, shell, ricotta, cannoli\n",
      "caprese_salad: vinegar, insalata, heirloom, bocconcini, ball, drizzl, balsam, basil, mozzarella, capres\n",
      "carrot_cake: moist, shred, cake, frost, pineappl, raisin, walnut, cinnamon, grate, carrot\n",
      "ceviche: tostada, refriger, citru, peruvian, cilantro, serrano, marin, acid, lime, cevich\n",
      "cheese_plate: honey, fruit, manchego, brie, cheddar, nut, grape, chees, cracker, plate\n",
      "cheesecake: york, swirl, sour, graham, crack, chees, nobak, crust, springform, cheesecak\n",
      "chicken_curry: piec, past, simmer, turmer, skinless, powder, thigh, coconut, breast, curri\n",
      "chicken_quesadilla: chicken, wedg, flip, rotisseri, jack, fold, shred, breast, tortilla, quesadilla\n",
      "chicken_wings: chicken, sticki, marin, coat, wingett, drummett, buffalo, joint, drumett, wing\n",
      "chocolate_cake: scratch, birthday, moist, ganach, molten, german, cake, chocol, cocoa, flourless\n",
      "chocolate_mousse: heatproof, tort, semisweet, cocoa, peak, fold, melt, whip, dark, mouss\n",
      "churros: bag, spain, mexican, cinnamonsugar, dough, nozzl, spanish, cinnamon, pipe, churro\n",
      "clam_chowder: dice, bacon, littleneck, juic, thyme, celeri, manhattan, england, chowder, clam\n",
      "club_sandwich: toast, breast, deli, spread, bacon, turkey, lettuc, mayonnais, sandwich, club\n",
      "crab_cakes: crumb, patti, breadcrumb, maryland, mayonnais, lump, crabcak, cake, crabmeat, crab\n",
      "creme_brulee: brulé, blowtorch, custard, yolk, ramekin, crème, brûlée, creme, torch, brule\n",
      "croque_madame: mornay, béchamel, dijon, gruyer, monsieur, bechamel, ham, croquemadam, croqu, madam\n",
      "cup_cakes: paperlin, tin, pipe, decor, muffin, cupcakes, buttercream, frost, liner, cupcak\n",
      "deviled_eggs: peel, mash, mustard, hardcook, mayonnais, paprika, lengthwis, hardboil, yolk, devil\n",
      "donuts: dunk, kreme, sufganiyot, yeast, dunkin, cutter, hole, glaze, doughnut, donut\n",
      "dumplings: selfrais, dumplings, biscuit, flour, bisquick, stew, dough, steamer, drop, dumpl\n",
      "edamame: soya, nutti, toss, thaw, pod, succotash, frozen, soybean, shell, edamam\n",
      "eggs_benedict: florentin, blender, split, yolk, canadian, muffin, english, poach, hollandais, benedict\n",
      "escargots: mushroom, franc, rins, shell, shallot, bourguignonn, parsley, helix, snail, escargot\n",
      "falafel: soak, pita, tzatziki, coriand, parsley, chickpea, ball, cumin, patti, falafel\n",
      "filet_mignon: cargo, toothpick, desir, medallion, rare, mediumrar, tenderloin, steak, filet, mignon\n",
      "fish_and_chips: potato, british, malt, haddock, tartar, cod, batter, fillet, fish, chip\n",
      "foie_gras: torchon, luxuri, sear, terrin, goos, duck, lobe, liver, gra, foie\n",
      "french_fries: peel, strip, starch, frenchfri, frite, ketchup, potato, russet, fri, french\n",
      "french_onion_soup: thyme, swiss, crouton, baguett, stock, broth, soup, gruyer, onion, french\n",
      "french_toast: shallow, mapl, cinnamon, milk, stuf, soak, overnight, syrup, french, toast\n",
      "fried_calamari: toss, deepfri, aioli, clean, ring, marinara, fri, tentacl, squid, calamari\n",
      "fried_rice: pineappl, grain, pea, leftov, basmati, scrambl, soy, wok, rice, fri\n",
      "frozen_yogurt: maker, ice, nonfat, freezer, plain, greek, freez, froyo, frozen, yogurt\n",
      "garlic_bread: yeast, garlicki, soften, clove, spread, parsley, cheesi, bread, loaf, garlic\n",
      "gnocchi: sage, boil, shelfstabl, slot, potato, ricer, rope, surfac, float, gnocchi\n",
      "greek_salad: dress, vinegar, orzo, crumbl, pit, kalamata, cucumb, oregano, feta, greek\n",
      "grilled_cheese_sandwich: flip, melt, bread, sourdough, slice, cheddar, gooey, chees, grill, sandwich\n",
      "grilled_salmon: dill, skinsid, easili, brush, plankgril, fish, skin, grill, fillet, salmon\n",
      "guacamole: scoop, pit, lime, ripe, dip, avocado, chunki, mash, guac, guacamol\n",
      "gyoza: japanes, lid, dumpl, evapor, pleat, jiaozi, potstick, wrapper, sticker, gyoza\n",
      "hamburger: ketchup, pound, beef, lean, cheeseburg, bun, burger, ground, patti, hamburg\n",
      "hot_and_sour_soup: stock, cornstarch, soup, tofu, shoot, vinegar, bamboo, hot, hotandsour, sour\n",
      "hot_dog: flickrcom, automobil, sauerkraut, coney, damndeliciousnet, spiralcut, frank, frankfurt, dog, hotdog\n",
      "huevos_rancheros: salsa, mediumlow, egg, runni, mexican, crack, refri, tortilla, huevo, ranchero\n",
      "hummus: paprika, drain, dip, pita, garbanzo, processor, smooth, chickpea, tahini, hummu\n",
      "ice_cream: heavi, oreo, churn, freezer, vanilla, maker, freez, cream, icecream, ice\n",
      "lasagna: cottag, bechamel, noboil, repeat, mozzarella, lasagn, ricotta, noodl, layer, lasagna\n",
      "lobster_bisque: meat, kraft, cognac, claw, stock, brandi, tail, sherri, lobster, bisqu\n",
      "lobster_roll_sandwich: shack, mayonnais, claw, tail, england, pageok, bun, sandwich, roll, lobster\n",
      "macaroni_and_cheese: sharp, mustard, crumb, dent, milk, pasta, cheddar, elbow, mac, macaroni\n",
      "macarons: buttercream, parchment, feet, shell, almond, meringu, ganach, pipe, macaroon, macaron\n",
      "miso_soup: enoki, cube, ladl, dissolv, soup, past, wakam, tofu, dashi, miso\n",
      "mussels: shell, beard, crusti, moul, steam, scrub, discard, open, debeard, mussel\n",
      "nachos: sour, cheddar, kidney, shred, jalapeno, platter, melt, tortilla, chip, nacho\n",
      "omelette: flip, tilt, slide, nonstick, spanish, pour, beat, fold, omelet, omelett\n",
      "onion_rings: dip, crumb, beerbatt, slice, beer, vidalia, batter, separ, onion, ring\n",
      "oysters: aphrodisiac, cornmeal, liquor, curl, dozen, mignonett, shell, rockefel, shuck, oyster\n",
      "pad_thai: toss, wedg, lime, sprout, wok, noodl, peanut, tamarind, thai, pad\n",
      "paella: valenciana, valencia, chorizo, rice, paprika, pea, spain, spanish, saffron, paella\n",
      "pancakes: syrup, flour, buttermilk, fluffi, stack, bubbl, batter, griddl, flip, pancak\n",
      "panna_cotta: invert, mould, unmold, ramekin, unflavor, dissolv, pannacotta, gelatin, panna, cotta\n",
      "peking_duck: hoi, mandarin, beij, carv, cucumb, pancak, skin, hoisin, duck, peke\n",
      "pho: bone, fuh, wedg, noodl, sprout, bo, broth, anis, vietnames, pho\n",
      "pizza: calzon, base, margherita, stone, prebak, pepperoni, mozzarella, dough, crust, pizza\n",
      "pork_chop: appl, brine, porkchop, centercut, loin, thick, boneless, bonein, chop, pork\n",
      "poutine: quebecoi, squeak, montreal, canada, quebec, squeaki, canadian, gravi, curd, poutin\n",
      "prime_rib: christma, thermomet, stand, roast, rare, ju, horseradish, carv, rib, prime\n",
      "pulled_pork_sandwich: fork, slaw, coleslaw, barbecu, butt, shoulder, pork, bun, sandwich, pull\n",
      "ramen: broth, softboil, shoyu, colleg, tonkotsu, packag, inspiritoocom, noodl, packet, ramen\n",
      "ravioli: squar, pasta, marinara, parmesan, wrapper, wonton, seal, fill, cutter, ravioli\n",
      "red_velvet_cake: bottl, redvelvet, frost, southern, buttermilk, cocoa, vinegar, color, red, velvet\n",
      "risotto: barley, broth, carnaroli, ladl, creami, parmesan, rice, absorb, arborio, risotto\n",
      "samosa: garam, knead, fill, fold, chutney, pea, seal, triangl, cone, samosa\n",
      "sashimi: soy, yellowtail, daikon, sushi, matsuhisa, thinli, raw, wasabi, sashimigrad, sashimi\n",
      "scallops: shellfish, overcook, pansear, bay, coral, opaqu, baconwrap, sear, sea, scallop\n",
      "seaweed_salad: vinegar, seed, iodin, hijiki, aram, soak, sesam, salad, wakam, seawe\n",
      "shrimp_and_grits: bacon, quickcook, cheddar, polenta, pink, stoneground, southern, devein, shrimp, grit\n",
      "spaghetti_bolognese: occasion, oregano, celeri, lean, simmer, minc, bol, spag, spaghetti, bolognes\n",
      "spaghetti_carbonara: beaten, grate, dent, guancial, scrambl, parmesan, bacon, pancetta, spaghetti, carbonara\n",
      "spring_rolls: lumpia, tightli, dip, vermicelli, fold, paper, springrol, wrapper, roll, spring\n",
      "steak: marinad, beef, marin, chimichurri, mallet, ribey, skirt, sirloin, flank, steak\n",
      "strawberry_shortcake: cutter, assembl, macer, angel, horizont, biscuit, hull, whip, strawberri, shortcak\n",
      "sushi: wasabi, handrol, shortgrain, avocado, maki, nori, rice, roll, mat, sushi\n",
      "tacos: lime, flake, cumin, shred, soft, corn, tortilla, lettuc, shell, taco\n",
      "takoyaki: stall, batter, tako, japanes, okonomiyaki, osaka, bonito, ball, octopu, takoyaki\n",
      "tiramisu: savoiardi, spong, cocoa, layer, finger, espresso, coffe, ladyfing, mascarpon, tiramisu\n",
      "tuna_tartare: dice, wonton, wasabi, sesam, grade, ahi, mold, sushigrad, tuna, tartar\n",
      "waffles: buttermilk, flour, toaster, syrup, eggo, batter, maker, belgian, iron, waffl\n"
     ]
    }
   ],
   "source": [
    "print_top10(tfidf, clf, all_processed_texts.target_names)"
   ]
  },
  {
   "cell_type": "code",
   "execution_count": null,
   "metadata": {},
   "outputs": [],
   "source": []
  }
 ],
 "metadata": {
  "kernelspec": {
   "display_name": "Python 3",
   "language": "python",
   "name": "python3"
  },
  "language_info": {
   "codemirror_mode": {
    "name": "ipython",
    "version": 3
   },
   "file_extension": ".py",
   "mimetype": "text/x-python",
   "name": "python",
   "nbconvert_exporter": "python",
   "pygments_lexer": "ipython3",
   "version": "3.7.1"
  }
 },
 "nbformat": 4,
 "nbformat_minor": 2
}
