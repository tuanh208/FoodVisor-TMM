{
 "cells": [
  {
   "cell_type": "markdown",
   "metadata": {},
   "source": [
    "# Imports"
   ]
  },
  {
   "cell_type": "code",
   "execution_count": 1,
   "metadata": {},
   "outputs": [],
   "source": [
    "from PIL import Image\n",
    "import numpy as np\n",
    "import matplotlib.pyplot as plt\n",
    "import os\n",
    "import torch.nn as nn\n",
    "from torch.autograd import Variable\n",
    "import torchvision\n",
    "from torchvision import models,transforms,datasets\n",
    "import torch\n",
    "import bcolz\n",
    "import time\n",
    "%matplotlib inline"
   ]
  },
  {
   "cell_type": "code",
   "execution_count": 2,
   "metadata": {},
   "outputs": [
    {
     "name": "stdout",
     "output_type": "stream",
     "text": [
      "Collecting bcolz\n",
      "\u001b[?25l  Downloading https://files.pythonhosted.org/packages/5c/4e/23942de9d5c0fb16f10335fa83e52b431bcb8c0d4a8419c9ac206268c279/bcolz-1.2.1.tar.gz (1.5MB)\n",
      "\u001b[K    100% |████████████████████████████████| 1.5MB 24.1MB/s ta 0:00:01\n",
      "\u001b[?25hRequirement already satisfied: numpy>=1.7 in /home/foodlovers/miniconda3/lib/python3.7/site-packages (from bcolz) (1.15.4)\n",
      "Building wheels for collected packages: bcolz\n",
      "  Running setup.py bdist_wheel for bcolz ... \u001b[?25ldone\n",
      "\u001b[?25h  Stored in directory: /home/foodlovers/.cache/pip/wheels/9f/78/26/fb8c0acb91a100dc8914bf236c4eaa4b207cb876893c40b745\n",
      "Successfully built bcolz\n",
      "Installing collected packages: bcolz\n",
      "Successfully installed bcolz-1.2.1\n"
     ]
    }
   ],
   "source": [
    "!pip install bcolz"
   ]
  },
  {
   "cell_type": "code",
   "execution_count": 3,
   "metadata": {},
   "outputs": [],
   "source": [
    "import imp\n",
    "import utils; imp.reload(utils)\n",
    "from utils import *"
   ]
  },
  {
   "cell_type": "markdown",
   "metadata": {},
   "source": [
    "GPU test"
   ]
  },
  {
   "cell_type": "code",
   "execution_count": 10,
   "metadata": {
    "scrolled": true
   },
   "outputs": [
    {
     "name": "stdout",
     "output_type": "stream",
     "text": [
      "Using gpu: True \n"
     ]
    }
   ],
   "source": [
    "use_gpu = torch.cuda.is_available()\n",
    "print('Using gpu: %s ' % use_gpu)"
   ]
  },
  {
   "cell_type": "code",
   "execution_count": null,
   "metadata": {},
   "outputs": [],
   "source": [
    "a = torch.tensor(2)\n",
    "a.cuda()"
   ]
  },
  {
   "cell_type": "code",
   "execution_count": 15,
   "metadata": {},
   "outputs": [],
   "source": [
    "use_gpu =  False"
   ]
  },
  {
   "cell_type": "markdown",
   "metadata": {},
   "source": [
    "# Data process"
   ]
  },
  {
   "cell_type": "code",
   "execution_count": 4,
   "metadata": {},
   "outputs": [],
   "source": [
    "# data_dir = 'D:\\\\Tu Beo\\\\Education\\\\FoodVisor\\\\data\\\\UPMC_Food101\\\\images'\n",
    "data_dir = '/home/foodlovers/FoodVisor/data/images'"
   ]
  },
  {
   "cell_type": "code",
   "execution_count": 5,
   "metadata": {},
   "outputs": [],
   "source": [
    "dsets = {x: datasets.ImageFolder(os.path.join(data_dir, x), prep1)\n",
    "         for x in ['train', 'test']}"
   ]
  },
  {
   "cell_type": "code",
   "execution_count": 6,
   "metadata": {},
   "outputs": [
    {
     "data": {
      "text/plain": [
       "101"
      ]
     },
     "execution_count": 6,
     "metadata": {},
     "output_type": "execute_result"
    }
   ],
   "source": [
    "len(dsets['train'].classes)"
   ]
  },
  {
   "cell_type": "code",
   "execution_count": 7,
   "metadata": {},
   "outputs": [
    {
     "data": {
      "text/plain": [
       "{'apple_pie': 0,\n",
       " 'baby_back_ribs': 1,\n",
       " 'baklava': 2,\n",
       " 'beef_carpaccio': 3,\n",
       " 'beef_tartare': 4,\n",
       " 'beet_salad': 5,\n",
       " 'beignets': 6,\n",
       " 'bibimbap': 7,\n",
       " 'bread_pudding': 8,\n",
       " 'breakfast_burrito': 9,\n",
       " 'bruschetta': 10,\n",
       " 'caesar_salad': 11,\n",
       " 'cannoli': 12,\n",
       " 'caprese_salad': 13,\n",
       " 'carrot_cake': 14,\n",
       " 'ceviche': 15,\n",
       " 'cheese_plate': 16,\n",
       " 'cheesecake': 17,\n",
       " 'chicken_curry': 18,\n",
       " 'chicken_quesadilla': 19,\n",
       " 'chicken_wings': 20,\n",
       " 'chocolate_cake': 21,\n",
       " 'chocolate_mousse': 22,\n",
       " 'churros': 23,\n",
       " 'clam_chowder': 24,\n",
       " 'club_sandwich': 25,\n",
       " 'crab_cakes': 26,\n",
       " 'creme_brulee': 27,\n",
       " 'croque_madame': 28,\n",
       " 'cup_cakes': 29,\n",
       " 'deviled_eggs': 30,\n",
       " 'donuts': 31,\n",
       " 'dumplings': 32,\n",
       " 'edamame': 33,\n",
       " 'eggs_benedict': 34,\n",
       " 'escargots': 35,\n",
       " 'falafel': 36,\n",
       " 'filet_mignon': 37,\n",
       " 'fish_and_chips': 38,\n",
       " 'foie_gras': 39,\n",
       " 'french_fries': 40,\n",
       " 'french_onion_soup': 41,\n",
       " 'french_toast': 42,\n",
       " 'fried_calamari': 43,\n",
       " 'fried_rice': 44,\n",
       " 'frozen_yogurt': 45,\n",
       " 'garlic_bread': 46,\n",
       " 'gnocchi': 47,\n",
       " 'greek_salad': 48,\n",
       " 'grilled_cheese_sandwich': 49,\n",
       " 'grilled_salmon': 50,\n",
       " 'guacamole': 51,\n",
       " 'gyoza': 52,\n",
       " 'hamburger': 53,\n",
       " 'hot_and_sour_soup': 54,\n",
       " 'hot_dog': 55,\n",
       " 'huevos_rancheros': 56,\n",
       " 'hummus': 57,\n",
       " 'ice_cream': 58,\n",
       " 'lasagna': 59,\n",
       " 'lobster_bisque': 60,\n",
       " 'lobster_roll_sandwich': 61,\n",
       " 'macaroni_and_cheese': 62,\n",
       " 'macarons': 63,\n",
       " 'miso_soup': 64,\n",
       " 'mussels': 65,\n",
       " 'nachos': 66,\n",
       " 'omelette': 67,\n",
       " 'onion_rings': 68,\n",
       " 'oysters': 69,\n",
       " 'pad_thai': 70,\n",
       " 'paella': 71,\n",
       " 'pancakes': 72,\n",
       " 'panna_cotta': 73,\n",
       " 'peking_duck': 74,\n",
       " 'pho': 75,\n",
       " 'pizza': 76,\n",
       " 'pork_chop': 77,\n",
       " 'poutine': 78,\n",
       " 'prime_rib': 79,\n",
       " 'pulled_pork_sandwich': 80,\n",
       " 'ramen': 81,\n",
       " 'ravioli': 82,\n",
       " 'red_velvet_cake': 83,\n",
       " 'risotto': 84,\n",
       " 'samosa': 85,\n",
       " 'sashimi': 86,\n",
       " 'scallops': 87,\n",
       " 'seaweed_salad': 88,\n",
       " 'shrimp_and_grits': 89,\n",
       " 'spaghetti_bolognese': 90,\n",
       " 'spaghetti_carbonara': 91,\n",
       " 'spring_rolls': 92,\n",
       " 'steak': 93,\n",
       " 'strawberry_shortcake': 94,\n",
       " 'sushi': 95,\n",
       " 'tacos': 96,\n",
       " 'takoyaki': 97,\n",
       " 'tiramisu': 98,\n",
       " 'tuna_tartare': 99,\n",
       " 'waffles': 100}"
      ]
     },
     "execution_count": 7,
     "metadata": {},
     "output_type": "execute_result"
    }
   ],
   "source": [
    "dsets['train'].class_to_idx"
   ]
  },
  {
   "cell_type": "code",
   "execution_count": 8,
   "metadata": {
    "scrolled": true
   },
   "outputs": [
    {
     "data": {
      "text/plain": [
       "[('/home/foodlovers/FoodVisor/data/images/train/apple_pie/apple_pie_0.jpg', 0),\n",
       " ('/home/foodlovers/FoodVisor/data/images/train/apple_pie/apple_pie_100.jpg',\n",
       "  0),\n",
       " ('/home/foodlovers/FoodVisor/data/images/train/apple_pie/apple_pie_101.jpg',\n",
       "  0),\n",
       " ('/home/foodlovers/FoodVisor/data/images/train/apple_pie/apple_pie_102.jpg',\n",
       "  0),\n",
       " ('/home/foodlovers/FoodVisor/data/images/train/apple_pie/apple_pie_104.jpg',\n",
       "  0)]"
      ]
     },
     "execution_count": 8,
     "metadata": {},
     "output_type": "execute_result"
    }
   ],
   "source": [
    "dsets['train'].imgs[:5]"
   ]
  },
  {
   "cell_type": "code",
   "execution_count": 6,
   "metadata": {},
   "outputs": [],
   "source": [
    "dset_classes = dsets['train'].classes"
   ]
  },
  {
   "cell_type": "code",
   "execution_count": 6,
   "metadata": {},
   "outputs": [
    {
     "data": {
      "text/plain": [
       "{'train': 67988, 'test': 22716}"
      ]
     },
     "execution_count": 6,
     "metadata": {},
     "output_type": "execute_result"
    }
   ],
   "source": [
    "dset_sizes = {x: len(dsets[x]) for x in ['train', 'test']}\n",
    "dset_sizes"
   ]
  },
  {
   "cell_type": "markdown",
   "metadata": {},
   "source": [
    "Dataset loaders"
   ]
  },
  {
   "cell_type": "code",
   "execution_count": 7,
   "metadata": {},
   "outputs": [],
   "source": [
    "dset_loaders = {x: torch.utils.data.DataLoader(dsets[x], batch_size=128,\n",
    "                                               shuffle=shuffle_valtrain(x), num_workers=6)\n",
    "                for x in ['train', 'test']}"
   ]
  },
  {
   "cell_type": "code",
   "execution_count": 12,
   "metadata": {},
   "outputs": [],
   "source": [
    "dataset_valid = torch.utils.data.DataLoader(dsets['test'], batch_size=5, shuffle=True, num_workers=6)"
   ]
  },
  {
   "cell_type": "code",
   "execution_count": 13,
   "metadata": {},
   "outputs": [
    {
     "data": {
      "text/plain": [
       "4544"
      ]
     },
     "execution_count": 13,
     "metadata": {},
     "output_type": "execute_result"
    }
   ],
   "source": [
    "len(dataset_valid)"
   ]
  },
  {
   "cell_type": "code",
   "execution_count": 14,
   "metadata": {},
   "outputs": [],
   "source": [
    "count = 0\n",
    "for data in dataset_valid:\n",
    "    if count == 0:\n",
    "        inputs_try,labels_try = data\n",
    "    else:\n",
    "        break\n",
    "    count += 1"
   ]
  },
  {
   "cell_type": "code",
   "execution_count": 15,
   "metadata": {},
   "outputs": [
    {
     "data": {
      "text/plain": [
       "tensor([44, 83, 38,  5, 15])"
      ]
     },
     "execution_count": 15,
     "metadata": {},
     "output_type": "execute_result"
    }
   ],
   "source": [
    "labels_try"
   ]
  },
  {
   "cell_type": "code",
   "execution_count": 16,
   "metadata": {},
   "outputs": [
    {
     "data": {
      "text/plain": [
       "torch.Size([5, 3, 224, 224])"
      ]
     },
     "execution_count": 16,
     "metadata": {},
     "output_type": "execute_result"
    }
   ],
   "source": [
    "inputs_try.shape"
   ]
  },
  {
   "cell_type": "code",
   "execution_count": 17,
   "metadata": {},
   "outputs": [
    {
     "name": "stderr",
     "output_type": "stream",
     "text": [
      "Clipping input data to the valid range for imshow with RGB data ([0..1] for floats or [0..255] for integers).\n"
     ]
    },
    {
     "data": {
      "image/png": "[encoded data removed]",
      "text/plain": [
       "<Figure size 432x288 with 1 Axes>"
      ]
     },
     "metadata": {
      "needs_background": "light"
     },
     "output_type": "display_data"
    }
   ],
   "source": [
    "# Make a grid from batch\n",
    "out = torchvision.utils.make_grid(inputs_try)\n",
    "\n",
    "imshow(out, title=[dset_classes[x] for x in labels_try])"
   ]
  },
  {
   "cell_type": "code",
   "execution_count": 18,
   "metadata": {},
   "outputs": [
    {
     "name": "stderr",
     "output_type": "stream",
     "text": [
      "Clipping input data to the valid range for imshow with RGB data ([0..1] for floats or [0..255] for integers).\n"
     ]
    },
    {
     "data": {
      "image/png": "[encoded data removed]",
      "text/plain": [
       "<Figure size 432x288 with 1 Axes>"
      ]
     },
     "metadata": {
      "needs_background": "light"
     },
     "output_type": "display_data"
    }
   ],
   "source": [
    "# Get a batch of training data\n",
    "inputs, classes = next(iter(dset_loaders['train']))\n",
    "\n",
    "n_images = 8\n",
    "\n",
    "# Make a grid from batch\n",
    "out = torchvision.utils.make_grid(inputs[0:n_images])\n",
    "\n",
    "imshow(out, title=[dset_classes[x] for x in classes[0:n_images]])"
   ]
  },
  {
   "cell_type": "code",
   "execution_count": 19,
   "metadata": {},
   "outputs": [
    {
     "name": "stderr",
     "output_type": "stream",
     "text": [
      "Clipping input data to the valid range for imshow with RGB data ([0..1] for floats or [0..255] for integers).\n"
     ]
    },
    {
     "data": {
      "image/png": "[encoded data removed]",
      "text/plain": [
       "<Figure size 432x288 with 1 Axes>"
      ]
     },
     "metadata": {
      "needs_background": "light"
     },
     "output_type": "display_data"
    }
   ],
   "source": [
    "# Get a batch of validation data\n",
    "inputs, classes = next(iter(dset_loaders['test']))\n",
    "\n",
    "n_images = 8\n",
    "\n",
    "# Make a grid from batch\n",
    "out = torchvision.utils.make_grid(inputs[0:n_images])\n",
    "\n",
    "imshow(out, title=[dset_classes[x] for x in classes[0:n_images]])"
   ]
  },
  {
   "cell_type": "markdown",
   "metadata": {},
   "source": [
    "# Creating VGG Model"
   ]
  },
  {
   "cell_type": "code",
   "execution_count": 8,
   "metadata": {},
   "outputs": [],
   "source": [
    "model_vgg = models.vgg16(pretrained=True)"
   ]
  },
  {
   "cell_type": "code",
   "execution_count": 21,
   "metadata": {},
   "outputs": [],
   "source": [
    "inputs_try , labels_try = var_cgpu(inputs_try,use_gpu),var_cgpu(labels_try,use_gpu)\n",
    "\n",
    "if use_gpu:\n",
    "    model_vgg = model_vgg.cuda()"
   ]
  },
  {
   "cell_type": "code",
   "execution_count": 22,
   "metadata": {},
   "outputs": [],
   "source": [
    "outputs_try = model_vgg(inputs_try)"
   ]
  },
  {
   "cell_type": "code",
   "execution_count": 23,
   "metadata": {},
   "outputs": [
    {
     "data": {
      "text/plain": [
       "tensor([[-3.9744e+00,  9.9007e-02, -5.1416e+00,  ..., -1.0312e-03,\n",
       "          8.2446e+00,  2.4987e+00],\n",
       "        [-5.2713e-03,  1.1657e+00, -1.5175e+00,  ...,  7.6675e-01,\n",
       "          6.0787e+00,  2.6641e+00],\n",
       "        [-8.8643e-01, -1.1893e+00, -4.6193e+00,  ...,  5.4745e+00,\n",
       "          7.4802e+00,  1.6731e+00],\n",
       "        [-4.8675e+00, -2.3513e+00, -2.3100e+00,  ...,  2.7843e-01,\n",
       "          5.2333e+00,  1.1180e+00],\n",
       "        [-2.8037e+00,  3.5781e+00, -3.8849e+00,  ...,  3.4804e+00,\n",
       "          7.8234e+00,  1.7680e+00]], device='cuda:0', grad_fn=<AddmmBackward>)"
      ]
     },
     "execution_count": 23,
     "metadata": {},
     "output_type": "execute_result"
    }
   ],
   "source": [
    "outputs_try"
   ]
  },
  {
   "cell_type": "code",
   "execution_count": 24,
   "metadata": {},
   "outputs": [
    {
     "data": {
      "text/plain": [
       "torch.Size([5, 1000])"
      ]
     },
     "execution_count": 24,
     "metadata": {},
     "output_type": "execute_result"
    }
   ],
   "source": [
    "outputs_try.shape"
   ]
  },
  {
   "cell_type": "markdown",
   "metadata": {},
   "source": [
    "### Modifying the last layer and setting the gradient false to all layers"
   ]
  },
  {
   "cell_type": "code",
   "execution_count": 12,
   "metadata": {},
   "outputs": [
    {
     "name": "stdout",
     "output_type": "stream",
     "text": [
      "VGG(\n",
      "  (features): Sequential(\n",
      "    (0): Conv2d(3, 64, kernel_size=(3, 3), stride=(1, 1), padding=(1, 1))\n",
      "    (1): ReLU(inplace)\n",
      "    (2): Conv2d(64, 64, kernel_size=(3, 3), stride=(1, 1), padding=(1, 1))\n",
      "    (3): ReLU(inplace)\n",
      "    (4): MaxPool2d(kernel_size=2, stride=2, padding=0, dilation=1, ceil_mode=False)\n",
      "    (5): Conv2d(64, 128, kernel_size=(3, 3), stride=(1, 1), padding=(1, 1))\n",
      "    (6): ReLU(inplace)\n",
      "    (7): Conv2d(128, 128, kernel_size=(3, 3), stride=(1, 1), padding=(1, 1))\n",
      "    (8): ReLU(inplace)\n",
      "    (9): MaxPool2d(kernel_size=2, stride=2, padding=0, dilation=1, ceil_mode=False)\n",
      "    (10): Conv2d(128, 256, kernel_size=(3, 3), stride=(1, 1), padding=(1, 1))\n",
      "    (11): ReLU(inplace)\n",
      "    (12): Conv2d(256, 256, kernel_size=(3, 3), stride=(1, 1), padding=(1, 1))\n",
      "    (13): ReLU(inplace)\n",
      "    (14): Conv2d(256, 256, kernel_size=(3, 3), stride=(1, 1), padding=(1, 1))\n",
      "    (15): ReLU(inplace)\n",
      "    (16): MaxPool2d(kernel_size=2, stride=2, padding=0, dilation=1, ceil_mode=False)\n",
      "    (17): Conv2d(256, 512, kernel_size=(3, 3), stride=(1, 1), padding=(1, 1))\n",
      "    (18): ReLU(inplace)\n",
      "    (19): Conv2d(512, 512, kernel_size=(3, 3), stride=(1, 1), padding=(1, 1))\n",
      "    (20): ReLU(inplace)\n",
      "    (21): Conv2d(512, 512, kernel_size=(3, 3), stride=(1, 1), padding=(1, 1))\n",
      "    (22): ReLU(inplace)\n",
      "    (23): MaxPool2d(kernel_size=2, stride=2, padding=0, dilation=1, ceil_mode=False)\n",
      "    (24): Conv2d(512, 512, kernel_size=(3, 3), stride=(1, 1), padding=(1, 1))\n",
      "    (25): ReLU(inplace)\n",
      "    (26): Conv2d(512, 512, kernel_size=(3, 3), stride=(1, 1), padding=(1, 1))\n",
      "    (27): ReLU(inplace)\n",
      "    (28): Conv2d(512, 512, kernel_size=(3, 3), stride=(1, 1), padding=(1, 1))\n",
      "    (29): ReLU(inplace)\n",
      "    (30): MaxPool2d(kernel_size=2, stride=2, padding=0, dilation=1, ceil_mode=False)\n",
      "  )\n",
      "  (classifier): Sequential(\n",
      "    (0): Linear(in_features=25088, out_features=4096, bias=True)\n",
      "    (1): ReLU(inplace)\n",
      "    (2): Dropout(p=0.5)\n",
      "    (3): Linear(in_features=4096, out_features=4096, bias=True)\n",
      "    (4): ReLU(inplace)\n",
      "    (5): Dropout(p=0.5)\n",
      "    (6): Linear(in_features=4096, out_features=1000, bias=True)\n",
      "  )\n",
      ")\n"
     ]
    }
   ],
   "source": [
    "print(model_vgg)"
   ]
  },
  {
   "cell_type": "code",
   "execution_count": 9,
   "metadata": {},
   "outputs": [],
   "source": [
    "for param in model_vgg.parameters():\n",
    "    param.requires_grad = False\n",
    "model_vgg.classifier._modules['6'] = nn.Linear(4096, 101)"
   ]
  },
  {
   "cell_type": "code",
   "execution_count": 27,
   "metadata": {},
   "outputs": [
    {
     "name": "stdout",
     "output_type": "stream",
     "text": [
      "Sequential(\n",
      "  (0): Linear(in_features=25088, out_features=4096, bias=True)\n",
      "  (1): ReLU(inplace)\n",
      "  (2): Dropout(p=0.5)\n",
      "  (3): Linear(in_features=4096, out_features=4096, bias=True)\n",
      "  (4): ReLU(inplace)\n",
      "  (5): Dropout(p=0.5)\n",
      "  (6): Linear(in_features=4096, out_features=101, bias=True)\n",
      ")\n"
     ]
    }
   ],
   "source": [
    "print(model_vgg.classifier)"
   ]
  },
  {
   "cell_type": "code",
   "execution_count": 10,
   "metadata": {},
   "outputs": [],
   "source": [
    "if use_gpu:\n",
    "    model_vgg = model_vgg.cuda()"
   ]
  },
  {
   "cell_type": "markdown",
   "metadata": {},
   "source": [
    "## Calculating preconvoluted features"
   ]
  },
  {
   "cell_type": "code",
   "execution_count": 11,
   "metadata": {},
   "outputs": [],
   "source": [
    "def preconvfeat(dataset):\n",
    "    conv_features = []\n",
    "    labels_list = []\n",
    "    count = 1\n",
    "    for data in dataset:\n",
    "        print(count,\"/\",len(dataset))\n",
    "        count += 1\n",
    "        inputs,labels = data\n",
    "        if use_gpu:\n",
    "            inputs , labels = Variable(inputs.cuda()),Variable(labels.cuda())\n",
    "        else:\n",
    "            inputs , labels = Variable(inputs),Variable(labels)\n",
    "        \n",
    "        x = model_vgg.features(inputs)\n",
    "        conv_features.extend(x.data.cpu().numpy())\n",
    "        labels_list.extend(labels.data.cpu().numpy())\n",
    "    conv_features = np.concatenate([[feat] for feat in conv_features])\n",
    "    return (conv_features,labels_list)"
   ]
  },
  {
   "cell_type": "code",
   "execution_count": 12,
   "metadata": {
    "scrolled": true
   },
   "outputs": [
    {
     "name": "stdout",
     "output_type": "stream",
     "text": [
      "1 / 532\n",
      "2 / 532\n",
      "3 / 532\n",
      "4 / 532\n",
      "5 / 532\n",
      "6 / 532\n",
      "7 / 532\n",
      "8 / 532\n",
      "9 / 532\n",
      "10 / 532\n",
      "11 / 532\n",
      "12 / 532\n",
      "13 / 532\n",
      "14 / 532\n",
      "15 / 532\n",
      "16 / 532\n",
      "17 / 532\n",
      "18 / 532\n",
      "19 / 532\n",
      "20 / 532\n",
      "21 / 532\n",
      "22 / 532\n",
      "23 / 532\n",
      "24 / 532\n",
      "25 / 532\n",
      "26 / 532\n",
      "27 / 532\n",
      "28 / 532\n",
      "29 / 532\n",
      "30 / 532\n",
      "31 / 532\n",
      "32 / 532\n",
      "33 / 532\n",
      "34 / 532\n",
      "35 / 532\n",
      "36 / 532\n",
      "37 / 532\n",
      "38 / 532\n",
      "39 / 532\n",
      "40 / 532\n",
      "41 / 532\n",
      "42 / 532\n",
      "43 / 532\n",
      "44 / 532\n",
      "45 / 532\n",
      "46 / 532\n",
      "47 / 532\n",
      "48 / 532\n",
      "49 / 532\n",
      "50 / 532\n",
      "51 / 532\n",
      "52 / 532\n",
      "53 / 532\n",
      "54 / 532\n",
      "55 / 532\n",
      "56 / 532\n",
      "57 / 532\n",
      "58 / 532\n",
      "59 / 532\n",
      "60 / 532\n",
      "61 / 532\n",
      "62 / 532\n",
      "63 / 532\n",
      "64 / 532\n",
      "65 / 532\n",
      "66 / 532\n",
      "67 / 532\n",
      "68 / 532\n",
      "69 / 532\n",
      "70 / 532\n",
      "71 / 532\n",
      "72 / 532\n",
      "73 / 532\n",
      "74 / 532\n",
      "75 / 532\n",
      "76 / 532\n",
      "77 / 532\n",
      "78 / 532\n",
      "79 / 532\n",
      "80 / 532\n",
      "81 / 532\n",
      "82 / 532\n",
      "83 / 532\n",
      "84 / 532\n",
      "85 / 532\n",
      "86 / 532\n",
      "87 / 532\n",
      "88 / 532\n",
      "89 / 532\n",
      "90 / 532\n",
      "91 / 532\n",
      "92 / 532\n",
      "93 / 532\n",
      "94 / 532\n",
      "95 / 532\n",
      "96 / 532\n",
      "97 / 532\n",
      "98 / 532\n",
      "99 / 532\n",
      "100 / 532\n",
      "101 / 532\n",
      "102 / 532\n",
      "103 / 532\n",
      "104 / 532\n",
      "105 / 532\n",
      "106 / 532\n",
      "107 / 532\n",
      "108 / 532\n",
      "109 / 532\n",
      "110 / 532\n",
      "111 / 532\n",
      "112 / 532\n",
      "113 / 532\n",
      "114 / 532\n",
      "115 / 532\n",
      "116 / 532\n",
      "117 / 532\n",
      "118 / 532\n",
      "119 / 532\n"
     ]
    },
    {
     "name": "stderr",
     "output_type": "stream",
     "text": [
      "/home/foodlovers/miniconda3/lib/python3.7/site-packages/PIL/TiffImagePlugin.py:763: UserWarning: Possibly corrupt EXIF data.  Expecting to read 6 bytes but only got 0. Skipping tag 271\n",
      "  \" Skipping tag %s\" % (size, len(data), tag))\n",
      "/home/foodlovers/miniconda3/lib/python3.7/site-packages/PIL/TiffImagePlugin.py:763: UserWarning: Possibly corrupt EXIF data.  Expecting to read 7 bytes but only got 0. Skipping tag 272\n",
      "  \" Skipping tag %s\" % (size, len(data), tag))\n",
      "/home/foodlovers/miniconda3/lib/python3.7/site-packages/PIL/TiffImagePlugin.py:763: UserWarning: Possibly corrupt EXIF data.  Expecting to read 8 bytes but only got 0. Skipping tag 282\n",
      "  \" Skipping tag %s\" % (size, len(data), tag))\n",
      "/home/foodlovers/miniconda3/lib/python3.7/site-packages/PIL/TiffImagePlugin.py:763: UserWarning: Possibly corrupt EXIF data.  Expecting to read 8 bytes but only got 0. Skipping tag 283\n",
      "  \" Skipping tag %s\" % (size, len(data), tag))\n",
      "/home/foodlovers/miniconda3/lib/python3.7/site-packages/PIL/TiffImagePlugin.py:763: UserWarning: Possibly corrupt EXIF data.  Expecting to read 20 bytes but only got 0. Skipping tag 306\n",
      "  \" Skipping tag %s\" % (size, len(data), tag))\n",
      "/home/foodlovers/miniconda3/lib/python3.7/site-packages/PIL/TiffImagePlugin.py:780: UserWarning: Corrupt EXIF data.  Expecting to read 2 bytes but only got 0. \n",
      "  warnings.warn(str(msg))\n"
     ]
    },
    {
     "name": "stdout",
     "output_type": "stream",
     "text": [
      "120 / 532\n",
      "121 / 532\n",
      "122 / 532\n",
      "123 / 532\n",
      "124 / 532\n",
      "125 / 532\n",
      "126 / 532\n",
      "127 / 532\n",
      "128 / 532\n",
      "129 / 532\n",
      "130 / 532\n",
      "131 / 532\n",
      "132 / 532\n",
      "133 / 532\n",
      "134 / 532\n",
      "135 / 532\n",
      "136 / 532\n",
      "137 / 532\n",
      "138 / 532\n",
      "139 / 532\n",
      "140 / 532\n",
      "141 / 532\n",
      "142 / 532\n",
      "143 / 532\n",
      "144 / 532\n",
      "145 / 532\n",
      "146 / 532\n",
      "147 / 532\n",
      "148 / 532\n",
      "149 / 532\n",
      "150 / 532\n",
      "151 / 532\n",
      "152 / 532\n",
      "153 / 532\n",
      "154 / 532\n",
      "155 / 532\n",
      "156 / 532\n",
      "157 / 532\n",
      "158 / 532\n",
      "159 / 532\n",
      "160 / 532\n",
      "161 / 532\n",
      "162 / 532\n",
      "163 / 532\n",
      "164 / 532\n",
      "165 / 532\n",
      "166 / 532\n",
      "167 / 532\n",
      "168 / 532\n",
      "169 / 532\n",
      "170 / 532\n",
      "171 / 532\n",
      "172 / 532\n",
      "173 / 532\n",
      "174 / 532\n",
      "175 / 532\n",
      "176 / 532\n",
      "177 / 532\n",
      "178 / 532\n",
      "179 / 532\n",
      "180 / 532\n",
      "181 / 532\n",
      "182 / 532\n",
      "183 / 532\n",
      "184 / 532\n",
      "185 / 532\n",
      "186 / 532\n",
      "187 / 532\n",
      "188 / 532\n",
      "189 / 532\n",
      "190 / 532\n",
      "191 / 532\n",
      "192 / 532\n",
      "193 / 532\n",
      "194 / 532\n",
      "195 / 532\n",
      "196 / 532\n",
      "197 / 532\n",
      "198 / 532\n",
      "199 / 532\n",
      "200 / 532\n",
      "201 / 532\n",
      "202 / 532\n",
      "203 / 532\n",
      "204 / 532\n",
      "205 / 532\n",
      "206 / 532\n",
      "207 / 532\n",
      "208 / 532\n",
      "209 / 532\n",
      "210 / 532\n",
      "211 / 532\n",
      "212 / 532\n",
      "213 / 532\n",
      "214 / 532\n",
      "215 / 532\n",
      "216 / 532\n",
      "217 / 532\n",
      "218 / 532\n",
      "219 / 532\n",
      "220 / 532\n",
      "221 / 532\n",
      "222 / 532\n",
      "223 / 532\n",
      "224 / 532\n",
      "225 / 532\n",
      "226 / 532\n",
      "227 / 532\n",
      "228 / 532\n",
      "229 / 532\n",
      "230 / 532\n",
      "231 / 532\n",
      "232 / 532\n",
      "233 / 532\n",
      "234 / 532\n",
      "235 / 532\n",
      "236 / 532\n",
      "237 / 532\n",
      "238 / 532\n",
      "239 / 532\n",
      "240 / 532\n",
      "241 / 532\n",
      "242 / 532\n",
      "243 / 532\n",
      "244 / 532\n",
      "245 / 532\n",
      "246 / 532\n",
      "247 / 532\n",
      "248 / 532\n",
      "249 / 532\n",
      "250 / 532\n",
      "251 / 532\n",
      "252 / 532\n",
      "253 / 532\n",
      "254 / 532\n",
      "255 / 532\n",
      "256 / 532\n",
      "257 / 532\n",
      "258 / 532\n",
      "259 / 532\n",
      "260 / 532\n",
      "261 / 532\n",
      "262 / 532\n",
      "263 / 532\n",
      "264 / 532\n",
      "265 / 532\n",
      "266 / 532\n",
      "267 / 532\n",
      "268 / 532\n",
      "269 / 532\n",
      "270 / 532\n",
      "271 / 532\n",
      "272 / 532\n",
      "273 / 532\n",
      "274 / 532\n",
      "275 / 532\n",
      "276 / 532\n",
      "277 / 532\n",
      "278 / 532\n",
      "279 / 532\n",
      "280 / 532\n",
      "281 / 532\n",
      "282 / 532\n",
      "283 / 532\n",
      "284 / 532\n",
      "285 / 532\n",
      "286 / 532\n",
      "287 / 532\n",
      "288 / 532\n",
      "289 / 532\n",
      "290 / 532\n",
      "291 / 532\n",
      "292 / 532\n",
      "293 / 532\n",
      "294 / 532\n",
      "295 / 532\n",
      "296 / 532\n",
      "297 / 532\n",
      "298 / 532\n",
      "299 / 532\n",
      "300 / 532\n",
      "301 / 532\n",
      "302 / 532\n",
      "303 / 532\n",
      "304 / 532\n",
      "305 / 532\n",
      "306 / 532\n",
      "307 / 532\n",
      "308 / 532\n",
      "309 / 532\n",
      "310 / 532\n",
      "311 / 532\n",
      "312 / 532\n",
      "313 / 532\n",
      "314 / 532\n",
      "315 / 532\n",
      "316 / 532\n",
      "317 / 532\n",
      "318 / 532\n",
      "319 / 532\n",
      "320 / 532\n",
      "321 / 532\n",
      "322 / 532\n",
      "323 / 532\n",
      "324 / 532\n",
      "325 / 532\n",
      "326 / 532\n",
      "327 / 532\n",
      "328 / 532\n",
      "329 / 532\n",
      "330 / 532\n",
      "331 / 532\n",
      "332 / 532\n",
      "333 / 532\n",
      "334 / 532\n",
      "335 / 532\n",
      "336 / 532\n",
      "337 / 532\n",
      "338 / 532\n",
      "339 / 532\n",
      "340 / 532\n",
      "341 / 532\n",
      "342 / 532\n",
      "343 / 532\n",
      "344 / 532\n",
      "345 / 532\n",
      "346 / 532\n",
      "347 / 532\n",
      "348 / 532\n",
      "349 / 532\n",
      "350 / 532\n",
      "351 / 532\n",
      "352 / 532\n",
      "353 / 532\n",
      "354 / 532\n",
      "355 / 532\n",
      "356 / 532\n",
      "357 / 532\n",
      "358 / 532\n",
      "359 / 532\n",
      "360 / 532\n",
      "361 / 532\n",
      "362 / 532\n",
      "363 / 532\n",
      "364 / 532\n",
      "365 / 532\n",
      "366 / 532\n",
      "367 / 532\n",
      "368 / 532\n",
      "369 / 532\n",
      "370 / 532\n",
      "371 / 532\n",
      "372 / 532\n",
      "373 / 532\n",
      "374 / 532\n",
      "375 / 532\n",
      "376 / 532\n",
      "377 / 532\n",
      "378 / 532\n",
      "379 / 532\n",
      "380 / 532\n",
      "381 / 532\n",
      "382 / 532\n",
      "383 / 532\n",
      "384 / 532\n",
      "385 / 532\n",
      "386 / 532\n",
      "387 / 532\n",
      "388 / 532\n",
      "389 / 532\n",
      "390 / 532\n",
      "391 / 532\n",
      "392 / 532\n",
      "393 / 532\n",
      "394 / 532\n",
      "395 / 532\n",
      "396 / 532\n",
      "397 / 532\n",
      "398 / 532\n",
      "399 / 532\n",
      "400 / 532\n",
      "401 / 532\n",
      "402 / 532\n",
      "403 / 532\n",
      "404 / 532\n",
      "405 / 532\n",
      "406 / 532\n",
      "407 / 532\n",
      "408 / 532\n",
      "409 / 532\n",
      "410 / 532\n",
      "411 / 532\n",
      "412 / 532\n",
      "413 / 532\n",
      "414 / 532\n",
      "415 / 532\n",
      "416 / 532\n",
      "417 / 532\n",
      "418 / 532\n",
      "419 / 532\n",
      "420 / 532\n",
      "421 / 532\n",
      "422 / 532\n",
      "423 / 532\n",
      "424 / 532\n",
      "425 / 532\n",
      "426 / 532\n",
      "427 / 532\n",
      "428 / 532\n",
      "429 / 532\n",
      "430 / 532\n",
      "431 / 532\n",
      "432 / 532\n",
      "433 / 532\n",
      "434 / 532\n",
      "435 / 532\n",
      "436 / 532\n",
      "437 / 532\n",
      "438 / 532\n",
      "439 / 532\n",
      "440 / 532\n",
      "441 / 532\n",
      "442 / 532\n",
      "443 / 532\n",
      "444 / 532\n",
      "445 / 532\n",
      "446 / 532\n",
      "447 / 532\n",
      "448 / 532\n",
      "449 / 532\n",
      "450 / 532\n",
      "451 / 532\n",
      "452 / 532\n",
      "453 / 532\n",
      "454 / 532\n",
      "455 / 532\n",
      "456 / 532\n",
      "457 / 532\n",
      "458 / 532\n",
      "459 / 532\n",
      "460 / 532\n",
      "461 / 532\n",
      "462 / 532\n",
      "463 / 532\n",
      "464 / 532\n",
      "465 / 532\n",
      "466 / 532\n",
      "467 / 532\n",
      "468 / 532\n",
      "469 / 532\n",
      "470 / 532\n",
      "471 / 532\n",
      "472 / 532\n",
      "473 / 532\n",
      "474 / 532\n",
      "475 / 532\n",
      "476 / 532\n",
      "477 / 532\n",
      "478 / 532\n",
      "479 / 532\n",
      "480 / 532\n",
      "481 / 532\n",
      "482 / 532\n",
      "483 / 532\n",
      "484 / 532\n",
      "485 / 532\n",
      "486 / 532\n",
      "487 / 532\n",
      "488 / 532\n",
      "489 / 532\n",
      "490 / 532\n",
      "491 / 532\n",
      "492 / 532\n",
      "493 / 532\n",
      "494 / 532\n",
      "495 / 532\n",
      "496 / 532\n",
      "497 / 532\n",
      "498 / 532\n",
      "499 / 532\n",
      "500 / 532\n",
      "501 / 532\n",
      "502 / 532\n",
      "503 / 532\n",
      "504 / 532\n",
      "505 / 532\n",
      "506 / 532\n",
      "507 / 532\n",
      "508 / 532\n",
      "509 / 532\n",
      "510 / 532\n",
      "511 / 532\n",
      "512 / 532\n",
      "513 / 532\n",
      "514 / 532\n",
      "515 / 532\n",
      "516 / 532\n",
      "517 / 532\n",
      "518 / 532\n",
      "519 / 532\n",
      "520 / 532\n",
      "521 / 532\n",
      "522 / 532\n",
      "523 / 532\n",
      "524 / 532\n",
      "525 / 532\n",
      "526 / 532\n",
      "527 / 532\n",
      "528 / 532\n",
      "529 / 532\n",
      "530 / 532\n",
      "531 / 532\n",
      "532 / 532\n",
      "CPU times: user 7min 2s, sys: 4min 25s, total: 11min 27s\n",
      "Wall time: 11min 28s\n"
     ]
    }
   ],
   "source": [
    "%%time\n",
    "conv_feat_train,labels_train = preconvfeat(dset_loaders['train'])"
   ]
  },
  {
   "cell_type": "code",
   "execution_count": 13,
   "metadata": {},
   "outputs": [
    {
     "name": "stdout",
     "output_type": "stream",
     "text": [
      "1 / 178\n",
      "2 / 178\n",
      "3 / 178\n",
      "4 / 178\n",
      "5 / 178\n",
      "6 / 178\n",
      "7 / 178\n",
      "8 / 178\n",
      "9 / 178\n",
      "10 / 178\n",
      "11 / 178\n",
      "12 / 178\n",
      "13 / 178\n",
      "14 / 178\n",
      "15 / 178\n",
      "16 / 178\n",
      "17 / 178\n",
      "18 / 178\n",
      "19 / 178\n",
      "20 / 178\n",
      "21 / 178\n",
      "22 / 178\n",
      "23 / 178\n",
      "24 / 178\n",
      "25 / 178\n",
      "26 / 178\n",
      "27 / 178\n",
      "28 / 178\n",
      "29 / 178\n",
      "30 / 178\n",
      "31 / 178\n",
      "32 / 178\n",
      "33 / 178\n",
      "34 / 178\n",
      "35 / 178\n",
      "36 / 178\n",
      "37 / 178\n",
      "38 / 178\n",
      "39 / 178\n",
      "40 / 178\n",
      "41 / 178\n",
      "42 / 178\n",
      "43 / 178\n",
      "44 / 178\n",
      "45 / 178\n",
      "46 / 178\n",
      "47 / 178\n",
      "48 / 178\n",
      "49 / 178\n",
      "50 / 178\n",
      "51 / 178\n",
      "52 / 178\n",
      "53 / 178\n",
      "54 / 178\n",
      "55 / 178\n",
      "56 / 178\n",
      "57 / 178\n",
      "58 / 178\n",
      "59 / 178\n",
      "60 / 178\n",
      "61 / 178\n",
      "62 / 178\n",
      "63 / 178\n",
      "64 / 178\n",
      "65 / 178\n",
      "66 / 178\n",
      "67 / 178\n",
      "68 / 178\n",
      "69 / 178\n",
      "70 / 178\n",
      "71 / 178\n",
      "72 / 178\n",
      "73 / 178\n",
      "74 / 178\n",
      "75 / 178\n",
      "76 / 178\n",
      "77 / 178\n",
      "78 / 178\n",
      "79 / 178\n",
      "80 / 178\n",
      "81 / 178\n",
      "82 / 178\n",
      "83 / 178\n",
      "84 / 178\n",
      "85 / 178\n",
      "86 / 178\n",
      "87 / 178\n",
      "88 / 178\n",
      "89 / 178\n",
      "90 / 178\n",
      "91 / 178\n",
      "92 / 178\n",
      "93 / 178\n",
      "94 / 178\n",
      "95 / 178\n",
      "96 / 178\n",
      "97 / 178\n",
      "98 / 178\n",
      "99 / 178\n",
      "100 / 178\n",
      "101 / 178\n",
      "102 / 178\n",
      "103 / 178\n",
      "104 / 178\n",
      "105 / 178\n",
      "106 / 178\n",
      "107 / 178\n",
      "108 / 178\n",
      "109 / 178\n",
      "110 / 178\n",
      "111 / 178\n",
      "112 / 178\n",
      "113 / 178\n",
      "114 / 178\n",
      "115 / 178\n",
      "116 / 178\n",
      "117 / 178\n",
      "118 / 178\n",
      "119 / 178\n",
      "120 / 178\n",
      "121 / 178\n",
      "122 / 178\n",
      "123 / 178\n",
      "124 / 178\n",
      "125 / 178\n",
      "126 / 178\n",
      "127 / 178\n",
      "128 / 178\n",
      "129 / 178\n",
      "130 / 178\n",
      "131 / 178\n",
      "132 / 178\n",
      "133 / 178\n",
      "134 / 178\n",
      "135 / 178\n",
      "136 / 178\n",
      "137 / 178\n",
      "138 / 178\n",
      "139 / 178\n",
      "140 / 178\n",
      "141 / 178\n",
      "142 / 178\n",
      "143 / 178\n",
      "144 / 178\n",
      "145 / 178\n",
      "146 / 178\n",
      "147 / 178\n",
      "148 / 178\n",
      "149 / 178\n",
      "150 / 178\n",
      "151 / 178\n",
      "152 / 178\n",
      "153 / 178\n",
      "154 / 178\n",
      "155 / 178\n",
      "156 / 178\n",
      "157 / 178\n",
      "158 / 178\n",
      "159 / 178\n",
      "160 / 178\n",
      "161 / 178\n",
      "162 / 178\n",
      "163 / 178\n",
      "164 / 178\n",
      "165 / 178\n",
      "166 / 178\n",
      "167 / 178\n",
      "168 / 178\n",
      "169 / 178\n",
      "170 / 178\n",
      "171 / 178\n",
      "172 / 178\n",
      "173 / 178\n",
      "174 / 178\n",
      "175 / 178\n",
      "176 / 178\n",
      "177 / 178\n",
      "178 / 178\n",
      "CPU times: user 2min 22s, sys: 1min 28s, total: 3min 50s\n",
      "Wall time: 3min 54s\n"
     ]
    }
   ],
   "source": [
    "%%time\n",
    "conv_feat_val,labels_val = preconvfeat(dset_loaders['test'])"
   ]
  },
  {
   "cell_type": "markdown",
   "metadata": {},
   "source": [
    "### Save extracted features"
   ]
  },
  {
   "cell_type": "code",
   "execution_count": 22,
   "metadata": {},
   "outputs": [],
   "source": [
    "save_array('/home/foodlovers/vgg16/conv_feat_train.bc',conv_feat_train)\n",
    "save_array('/home/foodlovers/vgg16/labels_train.bc',labels_train)\n",
    "save_array('/home/foodlovers/vgg16/conv_feat_val.bc',conv_feat_val)\n",
    "save_array('/home/foodlovers/vgg16/labels_val.bc',labels_val)"
   ]
  },
  {
   "cell_type": "markdown",
   "metadata": {},
   "source": [
    "### Load extracted features"
   ]
  },
  {
   "cell_type": "code",
   "execution_count": 103,
   "metadata": {},
   "outputs": [],
   "source": [
    "conv_feat_train = load_array('/home/foodlovers/vgg16/conv_feat_train.bc')\n",
    "labels_train = load_array('/home/foodlovers/vgg16/labels_train.bc')\n",
    "conv_feat_val = load_array('/home/foodlovers/vgg16/conv_feat_val.bc')\n",
    "labels_val = load_array('/home/foodlovers/vgg16/labels_val.bc')"
   ]
  },
  {
   "cell_type": "code",
   "execution_count": 104,
   "metadata": {},
   "outputs": [
    {
     "data": {
      "text/plain": [
       "(67988, 512, 7, 7)"
      ]
     },
     "execution_count": 104,
     "metadata": {},
     "output_type": "execute_result"
    }
   ],
   "source": [
    "conv_feat_train.shape"
   ]
  },
  {
   "cell_type": "markdown",
   "metadata": {},
   "source": [
    "### Try with a classifier"
   ]
  },
  {
   "cell_type": "code",
   "execution_count": 107,
   "metadata": {},
   "outputs": [],
   "source": [
    "X_train = conv_feat_train.reshape((conv_feat_train.shape[0],-1))\n",
    "X_test = conv_feat_val.reshape((conv_feat_val.shape[0],-1))"
   ]
  },
  {
   "cell_type": "code",
   "execution_count": null,
   "metadata": {},
   "outputs": [],
   "source": [
    "from sklearn.svm import LinearSVC\n",
    "\n",
    "clf = LinearSVC()\n",
    "clf.fit(X_train, labels_train)"
   ]
  },
  {
   "cell_type": "code",
   "execution_count": null,
   "metadata": {},
   "outputs": [],
   "source": [
    "print (\"Predict on test data ... \")\n",
    "y_pred = clf.predict(X_test)\n",
    "accuracy = accuracy_score(labels_val, y_pred)\n",
    "print(\"Accuracy : \", accuracy)"
   ]
  },
  {
   "cell_type": "markdown",
   "metadata": {},
   "source": [
    "## Training fully connected module"
   ]
  },
  {
   "cell_type": "markdown",
   "metadata": {},
   "source": [
    "### Creating loss function and optimizer"
   ]
  },
  {
   "cell_type": "code",
   "execution_count": 34,
   "metadata": {},
   "outputs": [],
   "source": [
    "criterion = nn.CrossEntropyLoss()\n",
    "lr = 0.01\n",
    "optimizer_vgg = torch.optim.SGD(model_vgg.classifier[6].parameters(),lr = lr)"
   ]
  },
  {
   "cell_type": "markdown",
   "metadata": {},
   "source": [
    "### Creating Data generator"
   ]
  },
  {
   "cell_type": "code",
   "execution_count": 15,
   "metadata": {},
   "outputs": [],
   "source": [
    "def data_gen(conv_feat,labels,batch_size=64,shuffle=True):\n",
    "    labels = np.array(labels)\n",
    "    if shuffle:\n",
    "        index = np.random.permutation(len(labels))\n",
    "        conv_feat = conv_feat[index]\n",
    "        labels = labels[index]\n",
    "    for idx in range(0,len(labels),batch_size):\n",
    "        yield(conv_feat[idx:idx+batch_size],labels[idx:idx+batch_size],int(len(labels) / batch_size) + (len(labels) % batch_size > 0))"
   ]
  },
  {
   "cell_type": "markdown",
   "metadata": {},
   "source": [
    "### Training the model"
   ]
  },
  {
   "cell_type": "code",
   "execution_count": 13,
   "metadata": {},
   "outputs": [],
   "source": [
    "def train_model(model,size,conv_feat=None,labels=None,epochs=1,optimizer=None,train=True,shuffle=True):\n",
    "    loss_history = []\n",
    "    acc_history = []\n",
    "    \n",
    "    if train:\n",
    "        model.train()\n",
    "    else:\n",
    "        model.eval()\n",
    "        \n",
    "    for epoch in range(epochs):\n",
    "        batches = data_gen(conv_feat=conv_feat,labels=labels,shuffle=shuffle)\n",
    "        total = 0\n",
    "        running_loss = 0.0\n",
    "        running_corrects = 0\n",
    "        for inputs,classes,_ in batches:\n",
    "            if use_gpu:\n",
    "                inputs , classes = torch.from_numpy(inputs).cuda(), torch.from_numpy(classes).cuda()\n",
    "            else:\n",
    "                inputs , classes = torch.from_numpy(inputs), torch.from_numpy(classes)\n",
    "                \n",
    "            inputs = inputs.view(inputs.size(0), -1)\n",
    "            outputs = model(inputs)\n",
    "            loss = criterion(outputs,classes)           \n",
    "            if train:\n",
    "                if optimizer is None:\n",
    "                    raise ValueError('Pass optimizer for train mode')\n",
    "                optimizer = optimizer\n",
    "                optimizer.zero_grad()\n",
    "                loss.backward()\n",
    "                optimizer.step()\n",
    "            _,preds = torch.max(outputs.data,1)\n",
    "            # statistics\n",
    "            running_loss += loss.data.item()\n",
    "            running_corrects += torch.sum(preds == classes.data)\n",
    "        epoch_loss = running_loss / size\n",
    "        epoch_acc = running_corrects.data.item() / size\n",
    "        print('Loss: {:.4f} Acc: {:.4f}'.format(\n",
    "                     epoch_loss, epoch_acc))\n",
    "        \n",
    "        loss_history.append(epoch_loss)\n",
    "        acc_history.append(epoch_acc)\n",
    "        \n",
    "    return loss_history,acc_history\n",
    "    "
   ]
  },
  {
   "cell_type": "code",
   "execution_count": 45,
   "metadata": {},
   "outputs": [
    {
     "name": "stdout",
     "output_type": "stream",
     "text": [
      "Loss: 0.0353 Acc: 0.4379\n",
      "Loss: 0.0352 Acc: 0.4395\n",
      "Loss: 0.0352 Acc: 0.4382\n",
      "Loss: 0.0352 Acc: 0.4371\n",
      "Loss: 0.0352 Acc: 0.4389\n",
      "Loss: 0.0351 Acc: 0.4386\n",
      "Loss: 0.0352 Acc: 0.4369\n",
      "Loss: 0.0352 Acc: 0.4381\n",
      "Loss: 0.0351 Acc: 0.4399\n",
      "Loss: 0.0352 Acc: 0.4384\n",
      "CPU times: user 1min 46s, sys: 54.3 s, total: 2min 41s\n",
      "Wall time: 2min 41s\n"
     ]
    }
   ],
   "source": [
    "%%time\n",
    "losses_hist, acc_hist = train_model(model=model_vgg.classifier,size=dset_sizes['train'],conv_feat=conv_feat_train,labels=labels_train,\n",
    "            epochs=10,optimizer=optimizer_vgg,train=True,shuffle=True)"
   ]
  },
  {
   "cell_type": "markdown",
   "metadata": {},
   "source": [
    "### Validation"
   ]
  },
  {
   "cell_type": "code",
   "execution_count": 46,
   "metadata": {},
   "outputs": [
    {
     "name": "stdout",
     "output_type": "stream",
     "text": [
      "Loss: 0.0377 Acc: 0.4333\n"
     ]
    },
    {
     "data": {
      "text/plain": [
       "([0.03767249714186293], [0.4333069202324353])"
      ]
     },
     "execution_count": 46,
     "metadata": {},
     "output_type": "execute_result"
    }
   ],
   "source": [
    "train_model(conv_feat=conv_feat_val,labels=labels_val,model=model_vgg.classifier\n",
    "            ,size=dset_sizes['test'],train=False,shuffle=False)"
   ]
  },
  {
   "cell_type": "markdown",
   "metadata": {},
   "source": [
    "### Plot loss & accuracy history"
   ]
  },
  {
   "cell_type": "code",
   "execution_count": 39,
   "metadata": {},
   "outputs": [
    {
     "data": {
      "text/plain": [
       "Text(0.5, 1.0, 'Loss history')"
      ]
     },
     "execution_count": 39,
     "metadata": {},
     "output_type": "execute_result"
    },
    {
     "data": {
      "image/png": "[encoded data removed]",
      "text/plain": [
       "<Figure size 432x288 with 1 Axes>"
      ]
     },
     "metadata": {
      "needs_background": "light"
     },
     "output_type": "display_data"
    }
   ],
   "source": [
    "plt.plot(losses_hist)\n",
    "plt.title(\"Loss history\")"
   ]
  },
  {
   "cell_type": "code",
   "execution_count": 40,
   "metadata": {},
   "outputs": [
    {
     "data": {
      "text/plain": [
       "Text(0.5, 1.0, 'Training accuracy history')"
      ]
     },
     "execution_count": 40,
     "metadata": {},
     "output_type": "execute_result"
    },
    {
     "data": {
      "image/png": "[encoded data removed]",
      "text/plain": [
       "<Figure size 432x288 with 1 Axes>"
      ]
     },
     "metadata": {
      "needs_background": "light"
     },
     "output_type": "display_data"
    }
   ],
   "source": [
    "plt.plot(acc_hist)\n",
    "plt.title(\"Training accuracy history\")"
   ]
  },
  {
   "cell_type": "markdown",
   "metadata": {},
   "source": [
    "## Fine tune more parameters"
   ]
  },
  {
   "cell_type": "code",
   "execution_count": 5,
   "metadata": {},
   "outputs": [],
   "source": [
    "model_vgg = models.vgg16(pretrained=True)"
   ]
  },
  {
   "cell_type": "code",
   "execution_count": 6,
   "metadata": {},
   "outputs": [
    {
     "name": "stdout",
     "output_type": "stream",
     "text": [
      "VGG(\n",
      "  (features): Sequential(\n",
      "    (0): Conv2d(3, 64, kernel_size=(3, 3), stride=(1, 1), padding=(1, 1))\n",
      "    (1): ReLU(inplace)\n",
      "    (2): Conv2d(64, 64, kernel_size=(3, 3), stride=(1, 1), padding=(1, 1))\n",
      "    (3): ReLU(inplace)\n",
      "    (4): MaxPool2d(kernel_size=2, stride=2, padding=0, dilation=1, ceil_mode=False)\n",
      "    (5): Conv2d(64, 128, kernel_size=(3, 3), stride=(1, 1), padding=(1, 1))\n",
      "    (6): ReLU(inplace)\n",
      "    (7): Conv2d(128, 128, kernel_size=(3, 3), stride=(1, 1), padding=(1, 1))\n",
      "    (8): ReLU(inplace)\n",
      "    (9): MaxPool2d(kernel_size=2, stride=2, padding=0, dilation=1, ceil_mode=False)\n",
      "    (10): Conv2d(128, 256, kernel_size=(3, 3), stride=(1, 1), padding=(1, 1))\n",
      "    (11): ReLU(inplace)\n",
      "    (12): Conv2d(256, 256, kernel_size=(3, 3), stride=(1, 1), padding=(1, 1))\n",
      "    (13): ReLU(inplace)\n",
      "    (14): Conv2d(256, 256, kernel_size=(3, 3), stride=(1, 1), padding=(1, 1))\n",
      "    (15): ReLU(inplace)\n",
      "    (16): MaxPool2d(kernel_size=2, stride=2, padding=0, dilation=1, ceil_mode=False)\n",
      "    (17): Conv2d(256, 512, kernel_size=(3, 3), stride=(1, 1), padding=(1, 1))\n",
      "    (18): ReLU(inplace)\n",
      "    (19): Conv2d(512, 512, kernel_size=(3, 3), stride=(1, 1), padding=(1, 1))\n",
      "    (20): ReLU(inplace)\n",
      "    (21): Conv2d(512, 512, kernel_size=(3, 3), stride=(1, 1), padding=(1, 1))\n",
      "    (22): ReLU(inplace)\n",
      "    (23): MaxPool2d(kernel_size=2, stride=2, padding=0, dilation=1, ceil_mode=False)\n",
      "    (24): Conv2d(512, 512, kernel_size=(3, 3), stride=(1, 1), padding=(1, 1))\n",
      "    (25): ReLU(inplace)\n",
      "    (26): Conv2d(512, 512, kernel_size=(3, 3), stride=(1, 1), padding=(1, 1))\n",
      "    (27): ReLU(inplace)\n",
      "    (28): Conv2d(512, 512, kernel_size=(3, 3), stride=(1, 1), padding=(1, 1))\n",
      "    (29): ReLU(inplace)\n",
      "    (30): MaxPool2d(kernel_size=2, stride=2, padding=0, dilation=1, ceil_mode=False)\n",
      "  )\n",
      "  (classifier): Sequential(\n",
      "    (0): Linear(in_features=25088, out_features=4096, bias=True)\n",
      "    (1): ReLU(inplace)\n",
      "    (2): Dropout(p=0.5)\n",
      "    (3): Linear(in_features=4096, out_features=4096, bias=True)\n",
      "    (4): ReLU(inplace)\n",
      "    (5): Dropout(p=0.5)\n",
      "    (6): Linear(in_features=4096, out_features=1000, bias=True)\n",
      "  )\n",
      ")\n"
     ]
    }
   ],
   "source": [
    "print(model_vgg)"
   ]
  },
  {
   "cell_type": "code",
   "execution_count": 7,
   "metadata": {},
   "outputs": [],
   "source": [
    "model_vgg.classifier._modules['6'] = nn.Linear(4096, 101)"
   ]
  },
  {
   "cell_type": "code",
   "execution_count": 8,
   "metadata": {},
   "outputs": [],
   "source": [
    "for param in model_vgg.features.parameters():\n",
    "    param.requires_grad = False"
   ]
  },
  {
   "cell_type": "code",
   "execution_count": 11,
   "metadata": {},
   "outputs": [],
   "source": [
    "if use_gpu:\n",
    "    model_vgg = model_vgg.cuda()"
   ]
  },
  {
   "cell_type": "markdown",
   "metadata": {},
   "source": [
    "### Loss & Optim"
   ]
  },
  {
   "cell_type": "code",
   "execution_count": 12,
   "metadata": {},
   "outputs": [],
   "source": [
    "criterion = nn.CrossEntropyLoss()\n",
    "lr = 0.01\n",
    "optimizer_vgg = torch.optim.SGD(model_vgg.classifier.parameters(),lr = lr)"
   ]
  },
  {
   "cell_type": "markdown",
   "metadata": {},
   "source": [
    "### Training"
   ]
  },
  {
   "cell_type": "code",
   "execution_count": 81,
   "metadata": {},
   "outputs": [],
   "source": [
    "def train_model_2(model, criterion,\n",
    "                 train_data = None, train_labels = None,\n",
    "                 test_data = None, test_labels = None,\n",
    "                  optimizer = None,\n",
    "                 epochs = 1,train = True, validate = False,\n",
    "                shuffle = True) :\n",
    "    \n",
    "    if train == True :\n",
    "        loss_history = []\n",
    "        acc_history = []\n",
    "        val_loss_history = []\n",
    "        val_acc_history = []\n",
    "        \n",
    "    for epoch in range(epochs) :\n",
    "        if train == True :\n",
    "            #=========================TRAINING=================================#\n",
    "            start_time_epoch = time.time()\n",
    "            \n",
    "            model.train()\n",
    "    \n",
    "            print(\"Epoch:\", epoch,\"/\",epochs-1,\"===============================================\")\n",
    "        \n",
    "            running_loss = 0.0\n",
    "            running_corrects = 0.0\n",
    "            \n",
    "            batches = data_gen(conv_feat=train_data,labels=train_labels,shuffle=shuffle)\n",
    "            \n",
    "            #batch_num = len(list(batches))\n",
    "\n",
    "            for i,data in enumerate(batches) :\n",
    "                start_time = time.time()\n",
    "        \n",
    "                inputs,classes,batch_num = data\n",
    "\n",
    "                if  isinstance(inputs, (list, np.ndarray)) :\n",
    "                    inputs , classes = torch.from_numpy(inputs), torch.from_numpy(classes)\n",
    "\n",
    "                if use_gpu:\n",
    "                    inputs , classes = inputs.cuda(), classes.cuda()\n",
    "\n",
    "                inputs = inputs.view(inputs.size(0), -1)\n",
    "                    \n",
    "                # calulate outputs and losses\n",
    "                outputs = model(inputs)\n",
    "                loss = criterion(outputs,classes)       \n",
    "\n",
    "                # autograd\n",
    "                optimizer.zero_grad()\n",
    "                loss.backward()\n",
    "                optimizer.step()\n",
    "\n",
    "                # statistics\n",
    "                batch_loss = loss.data.item()\n",
    "                _,preds = torch.max(outputs.data,1)\n",
    "                batch_corrects = torch.sum(preds == classes.data)\n",
    "                \n",
    "                running_loss += batch_loss\n",
    "                running_corrects += batch_corrects\n",
    "\n",
    "                print('Batch {:d}/{:d} - Loss: {:.4f} Acc: {:.4f} - Time : {:.2f}s'.format(i+1,batch_num,\n",
    "                             batch_loss/len(classes), float(batch_corrects)/len(classes), time.time() - start_time),end='\\r')\n",
    "\n",
    "            epoch_loss = running_loss / len(train_labels)\n",
    "            epoch_acc = running_corrects.data.item() / len(train_labels)\n",
    "            #\n",
    "            \n",
    "            loss_history.append(epoch_loss)\n",
    "            acc_history.append(epoch_acc)\n",
    "            \n",
    "            print('Epoch {:d} completed in {:.2f} seconds ! Loss: {:.4f} Acc: {:.4f}'.format(\n",
    "                     epoch , time.time() - start_time_epoch, epoch_loss, epoch_acc))\n",
    "            \n",
    "        if validate == True :\n",
    "            #=========================VALIDATING=================================#\n",
    "            \n",
    "            model.eval()\n",
    "            \n",
    "            val_loss = 0.0\n",
    "            val_corrects = 0.0\n",
    "            \n",
    "            batches = data_gen(conv_feat=test_data,labels=test_labels,shuffle=shuffle)\n",
    "            \n",
    "            #batch_num = len(list(batches))\n",
    "\n",
    "            for i,data in enumerate(batches) :\n",
    "                start_time = time.time()\n",
    "                \n",
    "                inputs,classes,batch_num = data\n",
    "                \n",
    "                if  isinstance(inputs, (list, np.ndarray)) :\n",
    "                    inputs , classes = torch.from_numpy(inputs), torch.from_numpy(classes)\n",
    "\n",
    "                if use_gpu:\n",
    "                    inputs , classes = inputs.cuda(), classes.cuda()\n",
    "                    \n",
    "                inputs = inputs.view(inputs.size(0), -1)\n",
    "\n",
    "                outputs = model(inputs)\n",
    "                loss = criterion(outputs,classes)        \n",
    "                _,preds = torch.max(outputs.data,1)\n",
    "\n",
    "                # statistics\n",
    "\n",
    "                val_loss += loss.data.item()\n",
    "                val_corrects += torch.sum(preds == classes.data)\n",
    "                \n",
    "                print('Validating batch {:d}/{:d} - {:.2f}s ...'.format(i+1,batch_num\n",
    "                                                                , time.time() - start_time), end=\"\\r\")\n",
    "\n",
    "            val_epoch_loss = val_loss / len(test_labels)\n",
    "            val_epoch_acc = val_corrects.data.item() / len(test_labels)\n",
    "            # \n",
    "\n",
    "            print('Val Loss: {:.4f} Val Acc: {:.4f}'.format(\n",
    "                             val_epoch_loss,val_epoch_acc))\n",
    "            \n",
    "            if train == False :\n",
    "                return\n",
    "            else :\n",
    "                val_loss_history.append(val_epoch_loss)\n",
    "                val_acc_history.append(val_epoch_acc)\n",
    "    \n",
    "    if train == False :\n",
    "        return 'On fait rien!'\n",
    "    elif validate == False :\n",
    "        return loss_history, acc_history\n",
    "    else :\n",
    "        return loss_history, acc_history,val_loss_history,val_acc_history"
   ]
  },
  {
   "cell_type": "code",
   "execution_count": 16,
   "metadata": {},
   "outputs": [
    {
     "name": "stdout",
     "output_type": "stream",
     "text": [
      "Epoch: 0 / 10 ===============================================\n",
      "Epoch 0 completed in 48.56 seconds ! Loss: 0.0494 Acc: 0.2680\n",
      "Val Loss: 0.0414 Val Acc: 0.3765 ...\n",
      "Epoch: 1 / 10 ===============================================\n",
      "Epoch 1 completed in 48.23 seconds ! Loss: 0.0408 Acc: 0.3756\n",
      "Val Loss: 0.0389 Val Acc: 0.4082 ...\n",
      "Epoch: 2 / 10 ===============================================\n",
      "Epoch 2 completed in 48.68 seconds ! Loss: 0.0371 Acc: 0.4255\n",
      "Val Loss: 0.0376 Val Acc: 0.4249 ...\n",
      "Epoch: 3 / 10 ===============================================\n",
      "Epoch 3 completed in 48.83 seconds ! Loss: 0.0341 Acc: 0.4655\n",
      "Val Loss: 0.0367 Val Acc: 0.4413 ...\n",
      "Epoch: 4 / 10 ===============================================\n",
      "Epoch 4 completed in 48.96 seconds ! Loss: 0.0312 Acc: 0.5064\n",
      "Val Loss: 0.0358 Val Acc: 0.4538 ...\n",
      "Epoch: 5 / 10 ===============================================\n",
      "Epoch 5 completed in 48.77 seconds ! Loss: 0.0285 Acc: 0.5446\n",
      "Val Loss: 0.0354 Val Acc: 0.4605 ...\n",
      "Epoch: 6 / 10 ===============================================\n",
      "Epoch 6 completed in 49.04 seconds ! Loss: 0.0258 Acc: 0.5820\n",
      "Val Loss: 0.0352 Val Acc: 0.4684 ...\n",
      "Epoch: 7 / 10 ===============================================\n",
      "Epoch 7 completed in 49.05 seconds ! Loss: 0.0231 Acc: 0.6220\n",
      "Val Loss: 0.0350 Val Acc: 0.4743 ...\n",
      "Epoch: 8 / 10 ===============================================\n",
      "Epoch 8 completed in 49.03 seconds ! Loss: 0.0205 Acc: 0.6600\n",
      "Val Loss: 0.0349 Val Acc: 0.4787 ...\n",
      "Epoch: 9 / 10 ===============================================\n",
      "Epoch 9 completed in 48.75 seconds ! Loss: 0.0182 Acc: 0.6983\n",
      "Val Loss: 0.0351 Val Acc: 0.4788 ...\n"
     ]
    }
   ],
   "source": [
    "history = train_model_2(model=model_vgg.classifier,criterion=criterion,\n",
    "              train_data = conv_feat_train, train_labels = labels_train,\n",
    "                 test_data = conv_feat_val, test_labels = labels_val,\n",
    "                  optimizer = optimizer_vgg,\n",
    "                 epochs = 10,train = True, validate = True,\n",
    "                shuffle = True)"
   ]
  },
  {
   "cell_type": "code",
   "execution_count": 17,
   "metadata": {},
   "outputs": [
    {
     "name": "stdout",
     "output_type": "stream",
     "text": [
      "Epoch: 0 / 10 ===============================================\n",
      "Epoch 0 completed in 48.81 seconds ! Loss: 0.0157 Acc: 0.7377\n",
      "Val Loss: 0.0357 Val Acc: 0.4811 ...\n",
      "Epoch: 1 / 10 ===============================================\n",
      "Epoch 1 completed in 48.84 seconds ! Loss: 0.0135 Acc: 0.7735\n",
      "Val Loss: 0.0362 Val Acc: 0.4841 ...\n",
      "Epoch: 2 / 10 ===============================================\n",
      "Epoch 2 completed in 48.93 seconds ! Loss: 0.0115 Acc: 0.8055\n",
      "Val Loss: 0.0368 Val Acc: 0.4819 ...\n",
      "Epoch: 3 / 10 ===============================================\n",
      "Epoch 3 completed in 48.72 seconds ! Loss: 0.0097 Acc: 0.8383\n",
      "Val Loss: 0.0373 Val Acc: 0.4824 ...\n",
      "Epoch: 4 / 10 ===============================================\n",
      "Epoch 4 completed in 48.95 seconds ! Loss: 0.0082 Acc: 0.8606\n",
      "Val Loss: 0.0382 Val Acc: 0.4843 ...\n",
      "Epoch: 5 / 10 ===============================================\n",
      "Epoch 5 completed in 48.98 seconds ! Loss: 0.0069 Acc: 0.8853\n",
      "Val Loss: 0.0392 Val Acc: 0.4833 ...\n",
      "Epoch: 6 / 10 ===============================================\n",
      "Epoch 6 completed in 49.08 seconds ! Loss: 0.0058 Acc: 0.9040\n",
      "Val Loss: 0.0405 Val Acc: 0.4819 ...\n",
      "Epoch: 7 / 10 ===============================================\n",
      "Epoch 7 completed in 48.72 seconds ! Loss: 0.0049 Acc: 0.9194\n",
      "Val Loss: 0.0405 Val Acc: 0.4808 ...\n",
      "Epoch: 8 / 10 ===============================================\n",
      "Epoch 8 completed in 48.96 seconds ! Loss: 0.0042 Acc: 0.9308\n",
      "Val Loss: 0.0414 Val Acc: 0.4828 ...\n",
      "Epoch: 9 / 10 ===============================================\n",
      "Epoch 9 completed in 48.99 seconds ! Loss: 0.0036 Acc: 0.9428\n",
      "Val Loss: 0.0417 Val Acc: 0.4842 ...\n"
     ]
    }
   ],
   "source": [
    "history_2 = train_model_2(model=model_vgg.classifier,criterion=criterion,\n",
    "              train_data = conv_feat_train, train_labels = labels_train,\n",
    "                 test_data = conv_feat_val, test_labels = labels_val,\n",
    "                  optimizer = optimizer_vgg,\n",
    "                 epochs = 10,train = True, validate = True,\n",
    "                shuffle = True)"
   ]
  },
  {
   "cell_type": "code",
   "execution_count": 18,
   "metadata": {},
   "outputs": [],
   "source": [
    "for i in range(4):\n",
    "    history[i].extend(history_2[i])"
   ]
  },
  {
   "cell_type": "markdown",
   "metadata": {},
   "source": [
    "### Validation"
   ]
  },
  {
   "cell_type": "code",
   "execution_count": 20,
   "metadata": {},
   "outputs": [
    {
     "name": "stdout",
     "output_type": "stream",
     "text": [
      "Val Loss: 0.0417 Val Acc: 0.4842 ...\n"
     ]
    }
   ],
   "source": [
    "train_model_2(model=model_vgg.classifier,criterion=criterion,\n",
    "              train_data = conv_feat_train, train_labels = labels_train,\n",
    "                 test_data = conv_feat_val, test_labels = labels_val,\n",
    "                  optimizer = optimizer_vgg,\n",
    "                 epochs = 10,train = False, validate = True,\n",
    "                shuffle = True)"
   ]
  },
  {
   "cell_type": "markdown",
   "metadata": {},
   "source": [
    "### Plots"
   ]
  },
  {
   "cell_type": "code",
   "execution_count": 32,
   "metadata": {},
   "outputs": [
    {
     "data": {
      "text/plain": [
       "Text(0.5, 1.0, 'Loss history')"
      ]
     },
     "execution_count": 32,
     "metadata": {},
     "output_type": "execute_result"
    },
    {
     "data": {
      "image/png": "[encoded data removed]",
      "text/plain": [
       "<Figure size 432x288 with 1 Axes>"
      ]
     },
     "metadata": {
      "needs_background": "light"
     },
     "output_type": "display_data"
    }
   ],
   "source": [
    "plt.plot(history[0], color ='red', label = 'Train')\n",
    "plt.plot(history[2], color ='orange', label = 'Test')\n",
    "plt.legend()\n",
    "plt.plot()\n",
    "plt.title(\"Loss history\")"
   ]
  },
  {
   "cell_type": "code",
   "execution_count": 33,
   "metadata": {},
   "outputs": [
    {
     "data": {
      "text/plain": [
       "Text(0.5, 1.0, 'Accuracy history')"
      ]
     },
     "execution_count": 33,
     "metadata": {},
     "output_type": "execute_result"
    },
    {
     "data": {
      "image/png": "[encoded data removed]",
      "text/plain": [
       "<Figure size 432x288 with 1 Axes>"
      ]
     },
     "metadata": {
      "needs_background": "light"
     },
     "output_type": "display_data"
    }
   ],
   "source": [
    "plt.plot(history[1], color ='red',label = 'Train')\n",
    "plt.plot(history[3], color ='orange', label = 'Test')\n",
    "plt.legend()\n",
    "plt.plot()\n",
    "plt.title(\"Accuracy history\")"
   ]
  },
  {
   "cell_type": "markdown",
   "metadata": {},
   "source": [
    "## Adding a (residual) layer"
   ]
  },
  {
   "cell_type": "markdown",
   "metadata": {},
   "source": [
    "### Preprocess"
   ]
  },
  {
   "cell_type": "code",
   "execution_count": 35,
   "metadata": {},
   "outputs": [],
   "source": [
    "data_dir = '/home/foodlovers/FoodVisor/data/images'"
   ]
  },
  {
   "cell_type": "code",
   "execution_count": 36,
   "metadata": {},
   "outputs": [],
   "source": [
    "dsets = {x: datasets.ImageFolder(os.path.join(data_dir, x), prep1)\n",
    "         for x in ['train', 'test']}"
   ]
  },
  {
   "cell_type": "code",
   "execution_count": 37,
   "metadata": {},
   "outputs": [],
   "source": [
    "dataset_valid = torch.utils.data.DataLoader(dsets['test'], batch_size=5, shuffle=True, num_workers=6)\n",
    "\n",
    "for data in dataset_valid:\n",
    "    inputs_try,labels_try = data\n",
    "    break\n"
   ]
  },
  {
   "cell_type": "code",
   "execution_count": 39,
   "metadata": {},
   "outputs": [
    {
     "data": {
      "text/plain": [
       "torch.Size([5, 3, 224, 224])"
      ]
     },
     "execution_count": 39,
     "metadata": {},
     "output_type": "execute_result"
    }
   ],
   "source": [
    "inputs_try.shape"
   ]
  },
  {
   "cell_type": "code",
   "execution_count": 48,
   "metadata": {},
   "outputs": [],
   "source": [
    "out_try_avg = torch.nn.functional.avg_pool2d(inputs_try,kernel_size = 16)"
   ]
  },
  {
   "cell_type": "code",
   "execution_count": 49,
   "metadata": {},
   "outputs": [
    {
     "data": {
      "text/plain": [
       "torch.Size([5, 3, 14, 14])"
      ]
     },
     "execution_count": 49,
     "metadata": {},
     "output_type": "execute_result"
    }
   ],
   "source": [
    "out_try_avg.shape"
   ]
  },
  {
   "cell_type": "code",
   "execution_count": 50,
   "metadata": {},
   "outputs": [],
   "source": [
    "out_try_avg= out_try_avg.view(out_try_avg.shape[0],-1)"
   ]
  },
  {
   "cell_type": "code",
   "execution_count": 51,
   "metadata": {},
   "outputs": [
    {
     "data": {
      "text/plain": [
       "torch.Size([5, 588])"
      ]
     },
     "execution_count": 51,
     "metadata": {},
     "output_type": "execute_result"
    }
   ],
   "source": [
    "out_try_avg.shape"
   ]
  },
  {
   "cell_type": "code",
   "execution_count": 47,
   "metadata": {},
   "outputs": [],
   "source": [
    "dset_loaders = {x: torch.utils.data.DataLoader(dsets[x], batch_size=128,\n",
    "                                               shuffle=False, num_workers=6)\n",
    "                for x in ['train', 'test']}"
   ]
  },
  {
   "cell_type": "code",
   "execution_count": 53,
   "metadata": {},
   "outputs": [],
   "source": [
    "x = model_vgg.features(inputs_try.cuda())"
   ]
  },
  {
   "cell_type": "code",
   "execution_count": 73,
   "metadata": {},
   "outputs": [],
   "source": [
    "C = []"
   ]
  },
  {
   "cell_type": "code",
   "execution_count": 74,
   "metadata": {},
   "outputs": [
    {
     "name": "stdout",
     "output_type": "stream",
     "text": [
      "torch.Size([5, 25088])\n"
     ]
    }
   ],
   "source": [
    "x = model_vgg.features(inputs_try.cuda())\n",
    "x = x.view(x.shape[0],-1)\n",
    "y = nn.functional.avg_pool2d(inputs_try.cuda(),kernel_size = 16)\n",
    "y = y.view(y.shape[0],-1)\n",
    "print(x.shape)\n",
    "C.extend(np.concatenate([x.data.cpu().numpy(),y.data.cpu().numpy()],axis = 1))"
   ]
  },
  {
   "cell_type": "markdown",
   "metadata": {},
   "source": [
    "### Compute features"
   ]
  },
  {
   "cell_type": "code",
   "execution_count": 76,
   "metadata": {},
   "outputs": [],
   "source": [
    "def preconvfeat_2(dataset):\n",
    "    conv_features = []\n",
    "    labels_list = []\n",
    "    count = 1\n",
    "    for data in dataset:\n",
    "        print(count,\"/\",len(dataset))\n",
    "        count += 1\n",
    "        inputs,labels = data\n",
    "        if use_gpu:\n",
    "            inputs , labels = Variable(inputs.cuda()),Variable(labels.cuda())\n",
    "        else:\n",
    "            inputs , labels = Variable(inputs),Variable(labels)\n",
    "        \n",
    "        x = model_vgg.features(inputs)\n",
    "        x = x.view(x.shape[0],-1)\n",
    "        y = nn.functional.avg_pool2d(inputs,kernel_size = 16)\n",
    "        y = y.view(y.shape[0],-1)\n",
    "        conv_features.extend(np.concatenate([x.data.cpu().numpy(),y.data.cpu().numpy()],axis = 1))\n",
    "        labels_list.extend(labels.data.cpu().numpy())\n",
    "    # conv_features = np.concatenate([[feat] for feat in conv_features])\n",
    "    return (conv_features,labels_list)"
   ]
  },
  {
   "cell_type": "code",
   "execution_count": 78,
   "metadata": {
    "scrolled": true
   },
   "outputs": [
    {
     "name": "stdout",
     "output_type": "stream",
     "text": [
      "1 / 532\n",
      "2 / 532\n",
      "3 / 532\n",
      "4 / 532\n",
      "5 / 532\n",
      "6 / 532\n",
      "7 / 532\n",
      "8 / 532\n",
      "9 / 532\n",
      "10 / 532\n",
      "11 / 532\n",
      "12 / 532\n",
      "13 / 532\n",
      "14 / 532\n",
      "15 / 532\n",
      "16 / 532\n",
      "17 / 532\n",
      "18 / 532\n",
      "19 / 532\n",
      "20 / 532\n",
      "21 / 532\n",
      "22 / 532\n",
      "23 / 532\n",
      "24 / 532\n",
      "25 / 532\n",
      "26 / 532\n",
      "27 / 532\n",
      "28 / 532\n",
      "29 / 532\n",
      "30 / 532\n",
      "31 / 532\n",
      "32 / 532\n",
      "33 / 532\n",
      "34 / 532\n",
      "35 / 532\n",
      "36 / 532\n",
      "37 / 532\n",
      "38 / 532\n",
      "39 / 532\n",
      "40 / 532\n",
      "41 / 532\n",
      "42 / 532\n",
      "43 / 532\n",
      "44 / 532\n",
      "45 / 532\n",
      "46 / 532\n",
      "47 / 532\n",
      "48 / 532\n",
      "49 / 532\n",
      "50 / 532\n",
      "51 / 532\n",
      "52 / 532\n",
      "53 / 532\n",
      "54 / 532\n",
      "55 / 532\n",
      "56 / 532\n",
      "57 / 532\n",
      "58 / 532\n",
      "59 / 532\n",
      "60 / 532\n",
      "61 / 532\n",
      "62 / 532\n",
      "63 / 532\n",
      "64 / 532\n",
      "65 / 532\n",
      "66 / 532\n",
      "67 / 532\n",
      "68 / 532\n",
      "69 / 532\n",
      "70 / 532\n",
      "71 / 532\n",
      "72 / 532\n",
      "73 / 532\n",
      "74 / 532\n",
      "75 / 532\n",
      "76 / 532\n",
      "77 / 532\n",
      "78 / 532\n",
      "79 / 532\n",
      "80 / 532\n",
      "81 / 532\n",
      "82 / 532\n",
      "83 / 532\n",
      "84 / 532\n",
      "85 / 532\n",
      "86 / 532\n",
      "87 / 532\n",
      "88 / 532\n",
      "89 / 532\n",
      "90 / 532\n",
      "91 / 532\n",
      "92 / 532\n",
      "93 / 532\n",
      "94 / 532\n",
      "95 / 532\n",
      "96 / 532\n",
      "97 / 532\n",
      "98 / 532\n",
      "99 / 532\n",
      "100 / 532\n",
      "101 / 532\n",
      "102 / 532\n",
      "103 / 532\n",
      "104 / 532\n",
      "105 / 532\n",
      "106 / 532\n",
      "107 / 532\n",
      "108 / 532\n",
      "109 / 532\n",
      "110 / 532\n",
      "111 / 532\n",
      "112 / 532\n",
      "113 / 532\n",
      "114 / 532\n",
      "115 / 532\n",
      "116 / 532\n",
      "117 / 532\n",
      "118 / 532\n",
      "119 / 532\n",
      "120 / 532\n",
      "121 / 532\n",
      "122 / 532\n",
      "123 / 532\n",
      "124 / 532\n",
      "125 / 532\n",
      "126 / 532\n",
      "127 / 532\n",
      "128 / 532\n",
      "129 / 532\n",
      "130 / 532\n",
      "131 / 532\n",
      "132 / 532\n",
      "133 / 532\n",
      "134 / 532\n",
      "135 / 532\n",
      "136 / 532\n",
      "137 / 532\n"
     ]
    },
    {
     "name": "stderr",
     "output_type": "stream",
     "text": [
      "/home/foodlovers/miniconda3/lib/python3.7/site-packages/PIL/TiffImagePlugin.py:763: UserWarning: Possibly corrupt EXIF data.  Expecting to read 6 bytes but only got 0. Skipping tag 271\n",
      "  \" Skipping tag %s\" % (size, len(data), tag))\n",
      "/home/foodlovers/miniconda3/lib/python3.7/site-packages/PIL/TiffImagePlugin.py:763: UserWarning: Possibly corrupt EXIF data.  Expecting to read 7 bytes but only got 0. Skipping tag 272\n",
      "  \" Skipping tag %s\" % (size, len(data), tag))\n",
      "/home/foodlovers/miniconda3/lib/python3.7/site-packages/PIL/TiffImagePlugin.py:763: UserWarning: Possibly corrupt EXIF data.  Expecting to read 8 bytes but only got 0. Skipping tag 282\n",
      "  \" Skipping tag %s\" % (size, len(data), tag))\n",
      "/home/foodlovers/miniconda3/lib/python3.7/site-packages/PIL/TiffImagePlugin.py:763: UserWarning: Possibly corrupt EXIF data.  Expecting to read 8 bytes but only got 0. Skipping tag 283\n",
      "  \" Skipping tag %s\" % (size, len(data), tag))\n",
      "/home/foodlovers/miniconda3/lib/python3.7/site-packages/PIL/TiffImagePlugin.py:763: UserWarning: Possibly corrupt EXIF data.  Expecting to read 20 bytes but only got 0. Skipping tag 306\n",
      "  \" Skipping tag %s\" % (size, len(data), tag))\n",
      "/home/foodlovers/miniconda3/lib/python3.7/site-packages/PIL/TiffImagePlugin.py:780: UserWarning: Corrupt EXIF data.  Expecting to read 2 bytes but only got 0. \n",
      "  warnings.warn(str(msg))\n"
     ]
    },
    {
     "name": "stdout",
     "output_type": "stream",
     "text": [
      "138 / 532\n",
      "139 / 532\n",
      "140 / 532\n",
      "141 / 532\n",
      "142 / 532\n",
      "143 / 532\n",
      "144 / 532\n",
      "145 / 532\n",
      "146 / 532\n",
      "147 / 532\n",
      "148 / 532\n",
      "149 / 532\n",
      "150 / 532\n",
      "151 / 532\n",
      "152 / 532\n",
      "153 / 532\n",
      "154 / 532\n",
      "155 / 532\n",
      "156 / 532\n",
      "157 / 532\n",
      "158 / 532\n",
      "159 / 532\n",
      "160 / 532\n",
      "161 / 532\n",
      "162 / 532\n",
      "163 / 532\n",
      "164 / 532\n",
      "165 / 532\n",
      "166 / 532\n",
      "167 / 532\n",
      "168 / 532\n",
      "169 / 532\n",
      "170 / 532\n",
      "171 / 532\n",
      "172 / 532\n",
      "173 / 532\n",
      "174 / 532\n",
      "175 / 532\n",
      "176 / 532\n",
      "177 / 532\n",
      "178 / 532\n",
      "179 / 532\n",
      "180 / 532\n",
      "181 / 532\n",
      "182 / 532\n",
      "183 / 532\n",
      "184 / 532\n",
      "185 / 532\n",
      "186 / 532\n",
      "187 / 532\n",
      "188 / 532\n",
      "189 / 532\n",
      "190 / 532\n",
      "191 / 532\n",
      "192 / 532\n",
      "193 / 532\n",
      "194 / 532\n",
      "195 / 532\n",
      "196 / 532\n",
      "197 / 532\n",
      "198 / 532\n",
      "199 / 532\n",
      "200 / 532\n",
      "201 / 532\n",
      "202 / 532\n",
      "203 / 532\n",
      "204 / 532\n",
      "205 / 532\n",
      "206 / 532\n",
      "207 / 532\n",
      "208 / 532\n",
      "209 / 532\n",
      "210 / 532\n",
      "211 / 532\n",
      "212 / 532\n",
      "213 / 532\n",
      "214 / 532\n",
      "215 / 532\n",
      "216 / 532\n",
      "217 / 532\n",
      "218 / 532\n",
      "219 / 532\n",
      "220 / 532\n",
      "221 / 532\n",
      "222 / 532\n",
      "223 / 532\n",
      "224 / 532\n",
      "225 / 532\n",
      "226 / 532\n",
      "227 / 532\n",
      "228 / 532\n",
      "229 / 532\n",
      "230 / 532\n",
      "231 / 532\n",
      "232 / 532\n",
      "233 / 532\n",
      "234 / 532\n",
      "235 / 532\n",
      "236 / 532\n",
      "237 / 532\n",
      "238 / 532\n",
      "239 / 532\n",
      "240 / 532\n",
      "241 / 532\n",
      "242 / 532\n",
      "243 / 532\n",
      "244 / 532\n",
      "245 / 532\n",
      "246 / 532\n",
      "247 / 532\n",
      "248 / 532\n",
      "249 / 532\n",
      "250 / 532\n",
      "251 / 532\n",
      "252 / 532\n",
      "253 / 532\n",
      "254 / 532\n",
      "255 / 532\n",
      "256 / 532\n",
      "257 / 532\n",
      "258 / 532\n",
      "259 / 532\n",
      "260 / 532\n",
      "261 / 532\n",
      "262 / 532\n",
      "263 / 532\n",
      "264 / 532\n",
      "265 / 532\n",
      "266 / 532\n",
      "267 / 532\n",
      "268 / 532\n",
      "269 / 532\n",
      "270 / 532\n",
      "271 / 532\n",
      "272 / 532\n",
      "273 / 532\n",
      "274 / 532\n",
      "275 / 532\n",
      "276 / 532\n",
      "277 / 532\n",
      "278 / 532\n",
      "279 / 532\n",
      "280 / 532\n",
      "281 / 532\n",
      "282 / 532\n",
      "283 / 532\n",
      "284 / 532\n",
      "285 / 532\n",
      "286 / 532\n",
      "287 / 532\n",
      "288 / 532\n",
      "289 / 532\n",
      "290 / 532\n",
      "291 / 532\n",
      "292 / 532\n",
      "293 / 532\n",
      "294 / 532\n",
      "295 / 532\n",
      "296 / 532\n",
      "297 / 532\n",
      "298 / 532\n",
      "299 / 532\n",
      "300 / 532\n",
      "301 / 532\n",
      "302 / 532\n",
      "303 / 532\n",
      "304 / 532\n",
      "305 / 532\n",
      "306 / 532\n",
      "307 / 532\n",
      "308 / 532\n",
      "309 / 532\n",
      "310 / 532\n",
      "311 / 532\n",
      "312 / 532\n",
      "313 / 532\n",
      "314 / 532\n",
      "315 / 532\n",
      "316 / 532\n",
      "317 / 532\n",
      "318 / 532\n",
      "319 / 532\n",
      "320 / 532\n",
      "321 / 532\n",
      "322 / 532\n",
      "323 / 532\n",
      "324 / 532\n",
      "325 / 532\n",
      "326 / 532\n",
      "327 / 532\n",
      "328 / 532\n",
      "329 / 532\n",
      "330 / 532\n",
      "331 / 532\n",
      "332 / 532\n",
      "333 / 532\n",
      "334 / 532\n",
      "335 / 532\n",
      "336 / 532\n",
      "337 / 532\n",
      "338 / 532\n",
      "339 / 532\n",
      "340 / 532\n",
      "341 / 532\n",
      "342 / 532\n",
      "343 / 532\n",
      "344 / 532\n",
      "345 / 532\n",
      "346 / 532\n",
      "347 / 532\n",
      "348 / 532\n",
      "349 / 532\n",
      "350 / 532\n",
      "351 / 532\n",
      "352 / 532\n",
      "353 / 532\n",
      "354 / 532\n",
      "355 / 532\n",
      "356 / 532\n",
      "357 / 532\n",
      "358 / 532\n",
      "359 / 532\n",
      "360 / 532\n",
      "361 / 532\n",
      "362 / 532\n",
      "363 / 532\n",
      "364 / 532\n",
      "365 / 532\n",
      "366 / 532\n",
      "367 / 532\n",
      "368 / 532\n",
      "369 / 532\n",
      "370 / 532\n",
      "371 / 532\n",
      "372 / 532\n",
      "373 / 532\n",
      "374 / 532\n",
      "375 / 532\n",
      "376 / 532\n",
      "377 / 532\n",
      "378 / 532\n",
      "379 / 532\n",
      "380 / 532\n",
      "381 / 532\n",
      "382 / 532\n",
      "383 / 532\n",
      "384 / 532\n",
      "385 / 532\n",
      "386 / 532\n",
      "387 / 532\n",
      "388 / 532\n",
      "389 / 532\n",
      "390 / 532\n",
      "391 / 532\n",
      "392 / 532\n",
      "393 / 532\n",
      "394 / 532\n",
      "395 / 532\n",
      "396 / 532\n",
      "397 / 532\n",
      "398 / 532\n",
      "399 / 532\n",
      "400 / 532\n",
      "401 / 532\n",
      "402 / 532\n",
      "403 / 532\n",
      "404 / 532\n",
      "405 / 532\n",
      "406 / 532\n",
      "407 / 532\n",
      "408 / 532\n",
      "409 / 532\n",
      "410 / 532\n",
      "411 / 532\n",
      "412 / 532\n",
      "413 / 532\n",
      "414 / 532\n",
      "415 / 532\n",
      "416 / 532\n",
      "417 / 532\n",
      "418 / 532\n",
      "419 / 532\n",
      "420 / 532\n",
      "421 / 532\n",
      "422 / 532\n",
      "423 / 532\n",
      "424 / 532\n",
      "425 / 532\n",
      "426 / 532\n",
      "427 / 532\n",
      "428 / 532\n",
      "429 / 532\n",
      "430 / 532\n",
      "431 / 532\n",
      "432 / 532\n",
      "433 / 532\n",
      "434 / 532\n",
      "435 / 532\n",
      "436 / 532\n",
      "437 / 532\n",
      "438 / 532\n",
      "439 / 532\n",
      "440 / 532\n",
      "441 / 532\n",
      "442 / 532\n",
      "443 / 532\n",
      "444 / 532\n",
      "445 / 532\n",
      "446 / 532\n",
      "447 / 532\n",
      "448 / 532\n",
      "449 / 532\n",
      "450 / 532\n",
      "451 / 532\n",
      "452 / 532\n",
      "453 / 532\n",
      "454 / 532\n",
      "455 / 532\n",
      "456 / 532\n",
      "457 / 532\n",
      "458 / 532\n",
      "459 / 532\n",
      "460 / 532\n",
      "461 / 532\n",
      "462 / 532\n",
      "463 / 532\n",
      "464 / 532\n",
      "465 / 532\n",
      "466 / 532\n",
      "467 / 532\n",
      "468 / 532\n",
      "469 / 532\n",
      "470 / 532\n",
      "471 / 532\n",
      "472 / 532\n",
      "473 / 532\n",
      "474 / 532\n",
      "475 / 532\n",
      "476 / 532\n",
      "477 / 532\n",
      "478 / 532\n",
      "479 / 532\n",
      "480 / 532\n",
      "481 / 532\n",
      "482 / 532\n",
      "483 / 532\n",
      "484 / 532\n",
      "485 / 532\n",
      "486 / 532\n",
      "487 / 532\n",
      "488 / 532\n",
      "489 / 532\n",
      "490 / 532\n",
      "491 / 532\n",
      "492 / 532\n",
      "493 / 532\n",
      "494 / 532\n",
      "495 / 532\n",
      "496 / 532\n",
      "497 / 532\n",
      "498 / 532\n",
      "499 / 532\n",
      "500 / 532\n",
      "501 / 532\n",
      "502 / 532\n",
      "503 / 532\n",
      "504 / 532\n",
      "505 / 532\n",
      "506 / 532\n",
      "507 / 532\n",
      "508 / 532\n",
      "509 / 532\n",
      "510 / 532\n",
      "511 / 532\n",
      "512 / 532\n",
      "513 / 532\n",
      "514 / 532\n",
      "515 / 532\n",
      "516 / 532\n",
      "517 / 532\n",
      "518 / 532\n",
      "519 / 532\n",
      "520 / 532\n",
      "521 / 532\n",
      "522 / 532\n",
      "523 / 532\n",
      "524 / 532\n",
      "525 / 532\n",
      "526 / 532\n",
      "527 / 532\n",
      "528 / 532\n",
      "529 / 532\n",
      "530 / 532\n",
      "531 / 532\n",
      "532 / 532\n",
      "CPU times: user 6min 48s, sys: 4min 37s, total: 11min 25s\n",
      "Wall time: 11min 25s\n"
     ]
    }
   ],
   "source": [
    "%%time\n",
    "conv_feat_train,labels_train = preconvfeat_2(dset_loaders['train'])"
   ]
  },
  {
   "cell_type": "code",
   "execution_count": 79,
   "metadata": {},
   "outputs": [
    {
     "name": "stdout",
     "output_type": "stream",
     "text": [
      "1 / 178\n",
      "2 / 178\n",
      "3 / 178\n",
      "4 / 178\n",
      "5 / 178\n",
      "6 / 178\n",
      "7 / 178\n",
      "8 / 178\n",
      "9 / 178\n",
      "10 / 178\n",
      "11 / 178\n",
      "12 / 178\n",
      "13 / 178\n",
      "14 / 178\n",
      "15 / 178\n",
      "16 / 178\n",
      "17 / 178\n",
      "18 / 178\n",
      "19 / 178\n",
      "20 / 178\n",
      "21 / 178\n",
      "22 / 178\n",
      "23 / 178\n",
      "24 / 178\n",
      "25 / 178\n",
      "26 / 178\n",
      "27 / 178\n",
      "28 / 178\n",
      "29 / 178\n",
      "30 / 178\n",
      "31 / 178\n",
      "32 / 178\n",
      "33 / 178\n",
      "34 / 178\n",
      "35 / 178\n",
      "36 / 178\n",
      "37 / 178\n",
      "38 / 178\n",
      "39 / 178\n",
      "40 / 178\n",
      "41 / 178\n",
      "42 / 178\n",
      "43 / 178\n",
      "44 / 178\n",
      "45 / 178\n",
      "46 / 178\n",
      "47 / 178\n",
      "48 / 178\n",
      "49 / 178\n",
      "50 / 178\n",
      "51 / 178\n",
      "52 / 178\n",
      "53 / 178\n",
      "54 / 178\n",
      "55 / 178\n",
      "56 / 178\n",
      "57 / 178\n",
      "58 / 178\n",
      "59 / 178\n",
      "60 / 178\n",
      "61 / 178\n",
      "62 / 178\n",
      "63 / 178\n",
      "64 / 178\n",
      "65 / 178\n",
      "66 / 178\n",
      "67 / 178\n",
      "68 / 178\n",
      "69 / 178\n",
      "70 / 178\n",
      "71 / 178\n",
      "72 / 178\n",
      "73 / 178\n",
      "74 / 178\n",
      "75 / 178\n",
      "76 / 178\n",
      "77 / 178\n",
      "78 / 178\n",
      "79 / 178\n",
      "80 / 178\n",
      "81 / 178\n",
      "82 / 178\n",
      "83 / 178\n",
      "84 / 178\n",
      "85 / 178\n",
      "86 / 178\n",
      "87 / 178\n",
      "88 / 178\n",
      "89 / 178\n",
      "90 / 178\n",
      "91 / 178\n",
      "92 / 178\n",
      "93 / 178\n",
      "94 / 178\n",
      "95 / 178\n",
      "96 / 178\n",
      "97 / 178\n",
      "98 / 178\n",
      "99 / 178\n",
      "100 / 178\n",
      "101 / 178\n",
      "102 / 178\n",
      "103 / 178\n",
      "104 / 178\n",
      "105 / 178\n",
      "106 / 178\n",
      "107 / 178\n",
      "108 / 178\n",
      "109 / 178\n",
      "110 / 178\n",
      "111 / 178\n",
      "112 / 178\n",
      "113 / 178\n",
      "114 / 178\n",
      "115 / 178\n",
      "116 / 178\n",
      "117 / 178\n",
      "118 / 178\n",
      "119 / 178\n",
      "120 / 178\n",
      "121 / 178\n",
      "122 / 178\n",
      "123 / 178\n",
      "124 / 178\n",
      "125 / 178\n",
      "126 / 178\n",
      "127 / 178\n",
      "128 / 178\n",
      "129 / 178\n",
      "130 / 178\n",
      "131 / 178\n",
      "132 / 178\n",
      "133 / 178\n",
      "134 / 178\n",
      "135 / 178\n",
      "136 / 178\n",
      "137 / 178\n",
      "138 / 178\n",
      "139 / 178\n",
      "140 / 178\n",
      "141 / 178\n",
      "142 / 178\n",
      "143 / 178\n",
      "144 / 178\n",
      "145 / 178\n",
      "146 / 178\n",
      "147 / 178\n",
      "148 / 178\n",
      "149 / 178\n",
      "150 / 178\n",
      "151 / 178\n",
      "152 / 178\n",
      "153 / 178\n",
      "154 / 178\n",
      "155 / 178\n",
      "156 / 178\n",
      "157 / 178\n",
      "158 / 178\n",
      "159 / 178\n",
      "160 / 178\n",
      "161 / 178\n",
      "162 / 178\n",
      "163 / 178\n",
      "164 / 178\n",
      "165 / 178\n",
      "166 / 178\n",
      "167 / 178\n",
      "168 / 178\n",
      "169 / 178\n",
      "170 / 178\n",
      "171 / 178\n",
      "172 / 178\n",
      "173 / 178\n",
      "174 / 178\n",
      "175 / 178\n",
      "176 / 178\n",
      "177 / 178\n",
      "178 / 178\n",
      "CPU times: user 2min 18s, sys: 1min 30s, total: 3min 49s\n",
      "Wall time: 3min 50s\n"
     ]
    }
   ],
   "source": [
    "%%time\n",
    "conv_feat_val,labels_val = preconvfeat_2(dset_loaders['test'])"
   ]
  },
  {
   "cell_type": "code",
   "execution_count": 85,
   "metadata": {},
   "outputs": [
    {
     "data": {
      "text/plain": [
       "25676"
      ]
     },
     "execution_count": 85,
     "metadata": {},
     "output_type": "execute_result"
    }
   ],
   "source": [
    "len(conv_feat_train[0])"
   ]
  },
  {
   "cell_type": "code",
   "execution_count": 99,
   "metadata": {},
   "outputs": [],
   "source": [
    "conv_feat_train = np.concatenate([[feat] for feat in conv_feat_train])"
   ]
  },
  {
   "cell_type": "code",
   "execution_count": 96,
   "metadata": {},
   "outputs": [],
   "source": [
    "conv_feat_val = np.concatenate([[feat] for feat in conv_feat_val])"
   ]
  },
  {
   "cell_type": "code",
   "execution_count": 80,
   "metadata": {},
   "outputs": [],
   "source": [
    "model_vgg = models.vgg16(pretrained=True)"
   ]
  },
  {
   "cell_type": "code",
   "execution_count": 82,
   "metadata": {
    "scrolled": false
   },
   "outputs": [
    {
     "name": "stdout",
     "output_type": "stream",
     "text": [
      "VGG(\n",
      "  (features): Sequential(\n",
      "    (0): Conv2d(3, 64, kernel_size=(3, 3), stride=(1, 1), padding=(1, 1))\n",
      "    (1): ReLU(inplace)\n",
      "    (2): Conv2d(64, 64, kernel_size=(3, 3), stride=(1, 1), padding=(1, 1))\n",
      "    (3): ReLU(inplace)\n",
      "    (4): MaxPool2d(kernel_size=2, stride=2, padding=0, dilation=1, ceil_mode=False)\n",
      "    (5): Conv2d(64, 128, kernel_size=(3, 3), stride=(1, 1), padding=(1, 1))\n",
      "    (6): ReLU(inplace)\n",
      "    (7): Conv2d(128, 128, kernel_size=(3, 3), stride=(1, 1), padding=(1, 1))\n",
      "    (8): ReLU(inplace)\n",
      "    (9): MaxPool2d(kernel_size=2, stride=2, padding=0, dilation=1, ceil_mode=False)\n",
      "    (10): Conv2d(128, 256, kernel_size=(3, 3), stride=(1, 1), padding=(1, 1))\n",
      "    (11): ReLU(inplace)\n",
      "    (12): Conv2d(256, 256, kernel_size=(3, 3), stride=(1, 1), padding=(1, 1))\n",
      "    (13): ReLU(inplace)\n",
      "    (14): Conv2d(256, 256, kernel_size=(3, 3), stride=(1, 1), padding=(1, 1))\n",
      "    (15): ReLU(inplace)\n",
      "    (16): MaxPool2d(kernel_size=2, stride=2, padding=0, dilation=1, ceil_mode=False)\n",
      "    (17): Conv2d(256, 512, kernel_size=(3, 3), stride=(1, 1), padding=(1, 1))\n",
      "    (18): ReLU(inplace)\n",
      "    (19): Conv2d(512, 512, kernel_size=(3, 3), stride=(1, 1), padding=(1, 1))\n",
      "    (20): ReLU(inplace)\n",
      "    (21): Conv2d(512, 512, kernel_size=(3, 3), stride=(1, 1), padding=(1, 1))\n",
      "    (22): ReLU(inplace)\n",
      "    (23): MaxPool2d(kernel_size=2, stride=2, padding=0, dilation=1, ceil_mode=False)\n",
      "    (24): Conv2d(512, 512, kernel_size=(3, 3), stride=(1, 1), padding=(1, 1))\n",
      "    (25): ReLU(inplace)\n",
      "    (26): Conv2d(512, 512, kernel_size=(3, 3), stride=(1, 1), padding=(1, 1))\n",
      "    (27): ReLU(inplace)\n",
      "    (28): Conv2d(512, 512, kernel_size=(3, 3), stride=(1, 1), padding=(1, 1))\n",
      "    (29): ReLU(inplace)\n",
      "    (30): MaxPool2d(kernel_size=2, stride=2, padding=0, dilation=1, ceil_mode=False)\n",
      "  )\n",
      "  (classifier): Sequential(\n",
      "    (0): Linear(in_features=25088, out_features=4096, bias=True)\n",
      "    (1): ReLU(inplace)\n",
      "    (2): Dropout(p=0.5)\n",
      "    (3): Linear(in_features=4096, out_features=4096, bias=True)\n",
      "    (4): ReLU(inplace)\n",
      "    (5): Dropout(p=0.5)\n",
      "    (6): Linear(in_features=4096, out_features=1000, bias=True)\n",
      "  )\n",
      ")\n"
     ]
    }
   ],
   "source": [
    "print(model_vgg)"
   ]
  },
  {
   "cell_type": "code",
   "execution_count": 86,
   "metadata": {},
   "outputs": [],
   "source": [
    "model_vgg.classifier._modules['0'] = nn.Linear(25676, 4096)\n",
    "model_vgg.classifier._modules['6'] = nn.Linear(4096, 101)"
   ]
  },
  {
   "cell_type": "code",
   "execution_count": 87,
   "metadata": {},
   "outputs": [],
   "source": [
    "for param in model_vgg.features.parameters():\n",
    "    param.requires_grad = False"
   ]
  },
  {
   "cell_type": "code",
   "execution_count": 88,
   "metadata": {},
   "outputs": [],
   "source": [
    "if use_gpu:\n",
    "    model_vgg = model_vgg.cuda()"
   ]
  },
  {
   "cell_type": "code",
   "execution_count": 89,
   "metadata": {},
   "outputs": [],
   "source": [
    "criterion = nn.CrossEntropyLoss()\n",
    "lr = 0.01\n",
    "optimizer_vgg = torch.optim.SGD(model_vgg.classifier.parameters(),lr = lr)"
   ]
  },
  {
   "cell_type": "code",
   "execution_count": 100,
   "metadata": {},
   "outputs": [
    {
     "name": "stdout",
     "output_type": "stream",
     "text": [
      "Epoch: 0 / 19 ===============================================\n",
      "Epoch 0 completed in 49.40 seconds ! Loss: 0.0701 Acc: 0.0329\n",
      "Val Loss: 0.0594 Val Acc: 0.1111 ...\n",
      "Epoch: 1 / 19 ===============================================\n",
      "Epoch 1 completed in 49.86 seconds ! Loss: 0.0509 Acc: 0.2320\n",
      "Val Loss: 0.0442 Val Acc: 0.3324 ...\n",
      "Epoch: 2 / 19 ===============================================\n",
      "Epoch 2 completed in 50.05 seconds ! Loss: 0.0415 Acc: 0.3601\n",
      "Val Loss: 0.0410 Val Acc: 0.3741 ...\n",
      "Epoch: 3 / 19 ===============================================\n",
      "Epoch 3 completed in 50.28 seconds ! Loss: 0.0358 Acc: 0.4400\n",
      "Val Loss: 0.0388 Val Acc: 0.4086 ...\n",
      "Epoch: 4 / 19 ===============================================\n",
      "Epoch 4 completed in 50.31 seconds ! Loss: 0.0306 Acc: 0.5128\n",
      "Val Loss: 0.0374 Val Acc: 0.4324 ...\n",
      "Epoch: 5 / 19 ===============================================\n",
      "Epoch 5 completed in 50.33 seconds ! Loss: 0.0254 Acc: 0.5901\n",
      "Val Loss: 0.0379 Val Acc: 0.4301 ...\n",
      "Epoch: 6 / 19 ===============================================\n",
      "Epoch 6 completed in 50.38 seconds ! Loss: 0.0203 Acc: 0.6684\n",
      "Val Loss: 0.0383 Val Acc: 0.4349 ...\n",
      "Epoch: 7 / 19 ===============================================\n",
      "Epoch 7 completed in 50.48 seconds ! Loss: 0.0156 Acc: 0.7440\n",
      "Val Loss: 0.0404 Val Acc: 0.4315 ...\n",
      "Epoch: 8 / 19 ===============================================\n",
      "Epoch 8 completed in 50.44 seconds ! Loss: 0.0116 Acc: 0.8101\n",
      "Val Loss: 0.0407 Val Acc: 0.4434 ...\n",
      "Epoch: 9 / 19 ===============================================\n",
      "Epoch 9 completed in 50.38 seconds ! Loss: 0.0084 Acc: 0.8641\n",
      "Val Loss: 0.0421 Val Acc: 0.4434 ...\n",
      "Epoch: 10 / 19 ===============================================\n",
      "Epoch 10 completed in 50.47 seconds ! Loss: 0.0062 Acc: 0.9014\n",
      "Val Loss: 0.0439 Val Acc: 0.4416 ...\n",
      "Epoch: 11 / 19 ===============================================\n",
      "Epoch 11 completed in 50.48 seconds ! Loss: 0.0045 Acc: 0.9300\n",
      "Val Loss: 0.0441 Val Acc: 0.4487 ...\n",
      "Epoch: 12 / 19 ===============================================\n",
      "Epoch 12 completed in 50.46 seconds ! Loss: 0.0034 Acc: 0.9492\n",
      "Val Loss: 0.0464 Val Acc: 0.4436 ...\n",
      "Epoch: 13 / 19 ===============================================\n",
      "Epoch 13 completed in 50.41 seconds ! Loss: 0.0026 Acc: 0.9635\n",
      "Val Loss: 0.0464 Val Acc: 0.4509 ...\n",
      "Epoch: 14 / 19 ===============================================\n",
      "Epoch 14 completed in 50.38 seconds ! Loss: 0.0021 Acc: 0.9717\n",
      "Val Loss: 0.0470 Val Acc: 0.4499 ...\n",
      "Epoch: 15 / 19 ===============================================\n",
      "Epoch 15 completed in 50.46 seconds ! Loss: 0.0018 Acc: 0.9761\n",
      "Val Loss: 0.0477 Val Acc: 0.4520 ...\n",
      "Epoch: 16 / 19 ===============================================\n",
      "Epoch 16 completed in 50.46 seconds ! Loss: 0.0015 Acc: 0.9802\n",
      "Val Loss: 0.0485 Val Acc: 0.4495 ...\n",
      "Epoch: 17 / 19 ===============================================\n",
      "Epoch 17 completed in 50.39 seconds ! Loss: 0.0013 Acc: 0.9830\n",
      "Val Loss: 0.0482 Val Acc: 0.4514 ...\n",
      "Epoch: 18 / 19 ===============================================\n",
      "Epoch 18 completed in 50.52 seconds ! Loss: 0.0012 Acc: 0.9850\n",
      "Val Loss: 0.0493 Val Acc: 0.4519 ...\n",
      "Epoch: 19 / 19 ===============================================\n",
      "Epoch 19 completed in 50.49 seconds ! Loss: 0.0011 Acc: 0.9863\n",
      "Val Loss: 0.0498 Val Acc: 0.4510 ...\n"
     ]
    }
   ],
   "source": [
    "history = train_model_2(model=model_vgg.classifier,criterion=criterion,\n",
    "              train_data = conv_feat_train, train_labels = labels_train,\n",
    "                 test_data = conv_feat_val, test_labels = labels_val,\n",
    "                  optimizer = optimizer_vgg,\n",
    "                 epochs = 20,train = True, validate = True,\n",
    "                shuffle = True)"
   ]
  },
  {
   "cell_type": "code",
   "execution_count": 101,
   "metadata": {},
   "outputs": [
    {
     "data": {
      "text/plain": [
       "Text(0.5, 1.0, 'Loss history')"
      ]
     },
     "execution_count": 101,
     "metadata": {},
     "output_type": "execute_result"
    },
    {
     "data": {
      "image/png": "[encoded data removed]",
      "text/plain": [
       "<Figure size 432x288 with 1 Axes>"
      ]
     },
     "metadata": {
      "needs_background": "light"
     },
     "output_type": "display_data"
    }
   ],
   "source": [
    "plt.plot(history[0], color ='red', label = 'Train')\n",
    "plt.plot(history[2], color ='orange', label = 'Test')\n",
    "plt.legend()\n",
    "plt.plot()\n",
    "plt.title(\"Loss history\")"
   ]
  },
  {
   "cell_type": "code",
   "execution_count": 102,
   "metadata": {},
   "outputs": [
    {
     "data": {
      "text/plain": [
       "Text(0.5, 1.0, 'Accuracy history')"
      ]
     },
     "execution_count": 102,
     "metadata": {},
     "output_type": "execute_result"
    },
    {
     "data": {
      "image/png": "[encoded data removed]",
      "text/plain": [
       "<Figure size 432x288 with 1 Axes>"
      ]
     },
     "metadata": {
      "needs_background": "light"
     },
     "output_type": "display_data"
    }
   ],
   "source": [
    "plt.plot(history[1], color ='red', label = 'Train')\n",
    "plt.plot(history[3], color ='orange', label = 'Test')\n",
    "plt.legend()\n",
    "plt.plot()\n",
    "plt.title(\"Accuracy history\")"
   ]
  }
 ],
 "metadata": {
  "kernelspec": {
   "display_name": "Python 3",
   "language": "python",
   "name": "python3"
  },
  "language_info": {
   "codemirror_mode": {
    "name": "ipython",
    "version": 3
   },
   "file_extension": ".py",
   "mimetype": "text/x-python",
   "name": "python",
   "nbconvert_exporter": "python",
   "pygments_lexer": "ipython3",
   "version": "3.7.1"
  }
 },
 "nbformat": 4,
 "nbformat_minor": 2
}
