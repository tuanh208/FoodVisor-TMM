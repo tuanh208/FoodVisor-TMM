{
 "cells": [
  {
   "cell_type": "markdown",
   "metadata": {},
   "source": [
    "# Imports"
   ]
  },
  {
   "cell_type": "code",
   "execution_count": 1,
   "metadata": {},
   "outputs": [],
   "source": [
    "import os\n",
    "import torchvision\n",
    "from torchvision import models,transforms,datasets\n",
    "import torch.nn as nn\n",
    "import time"
   ]
  },
  {
   "cell_type": "code",
   "execution_count": null,
   "metadata": {},
   "outputs": [],
   "source": [
    "from PIL import Image\n",
    "import numpy as np\n",
    "import matplotlib.pyplot as plt\n",
    "from torch.autograd import Variable\n",
    "import torch\n",
    "import bcolz\n",
    "%matplotlib inline"
   ]
  },
  {
   "cell_type": "code",
   "execution_count": null,
   "metadata": {},
   "outputs": [],
   "source": [
    "!pip install bcolz"
   ]
  },
  {
   "cell_type": "code",
   "execution_count": 2,
   "metadata": {},
   "outputs": [],
   "source": [
    "import imp\n",
    "import utils; imp.reload(utils)\n",
    "from utils import *"
   ]
  },
  {
   "cell_type": "markdown",
   "metadata": {},
   "source": [
    "GPU test"
   ]
  },
  {
   "cell_type": "code",
   "execution_count": 3,
   "metadata": {
    "scrolled": true
   },
   "outputs": [
    {
     "name": "stdout",
     "output_type": "stream",
     "text": [
      "Using gpu: True \n"
     ]
    }
   ],
   "source": [
    "use_gpu = torch.cuda.is_available()\n",
    "print('Using gpu: %s ' % use_gpu)"
   ]
  },
  {
   "cell_type": "code",
   "execution_count": null,
   "metadata": {},
   "outputs": [],
   "source": [
    "use_gpu =  False"
   ]
  },
  {
   "cell_type": "markdown",
   "metadata": {},
   "source": [
    "# Data process"
   ]
  },
  {
   "cell_type": "code",
   "execution_count": 4,
   "metadata": {},
   "outputs": [],
   "source": [
    "# data_dir = 'D:\\\\Tu Beo\\\\Education\\\\FoodVisor\\\\data\\\\UPMC_Food101\\\\images'\n",
    "data_dir = '/home/foodlovers/FoodVisor/data/images'\n",
    "# data_dir = \"/home/foodlovers/FoodVisor/FoodVisor-TMM/data/UPMC_2\""
   ]
  },
  {
   "cell_type": "code",
   "execution_count": 5,
   "metadata": {},
   "outputs": [],
   "source": [
    "dsets = {x: datasets.ImageFolder(os.path.join(data_dir, x), prep2)\n",
    "         for x in ['train', 'test']}"
   ]
  },
  {
   "cell_type": "code",
   "execution_count": null,
   "metadata": {},
   "outputs": [],
   "source": [
    "len(dsets['train'].classes)"
   ]
  },
  {
   "cell_type": "code",
   "execution_count": null,
   "metadata": {
    "scrolled": true
   },
   "outputs": [],
   "source": [
    "dsets['train'].class_to_idx"
   ]
  },
  {
   "cell_type": "code",
   "execution_count": null,
   "metadata": {
    "scrolled": true
   },
   "outputs": [],
   "source": [
    "dsets['train'].imgs[:5]"
   ]
  },
  {
   "cell_type": "code",
   "execution_count": 8,
   "metadata": {},
   "outputs": [
    {
     "data": {
      "text/plain": [
       "{'train': 67988, 'test': 22716}"
      ]
     },
     "execution_count": 8,
     "metadata": {},
     "output_type": "execute_result"
    }
   ],
   "source": [
    "dset_sizes = {x: len(dsets[x]) for x in ['train', 'test']}\n",
    "dset_sizes"
   ]
  },
  {
   "cell_type": "markdown",
   "metadata": {},
   "source": [
    "Dataset loaders"
   ]
  },
  {
   "cell_type": "code",
   "execution_count": 6,
   "metadata": {},
   "outputs": [],
   "source": [
    "dset_loaders = {x: torch.utils.data.DataLoader(dsets[x], batch_size=32,\n",
    "                                               shuffle=shuffle_valtrain(x), num_workers=6)\n",
    "                for x in ['train', 'test']}"
   ]
  },
  {
   "cell_type": "code",
   "execution_count": null,
   "metadata": {},
   "outputs": [],
   "source": [
    "len(dset_loaders['train'])"
   ]
  },
  {
   "cell_type": "code",
   "execution_count": null,
   "metadata": {},
   "outputs": [],
   "source": [
    "dataset_valid = torch.utils.data.DataLoader(dsets['test'], batch_size=5, shuffle=True, num_workers=6)"
   ]
  },
  {
   "cell_type": "code",
   "execution_count": null,
   "metadata": {},
   "outputs": [],
   "source": [
    "len(dataset_valid)"
   ]
  },
  {
   "cell_type": "code",
   "execution_count": null,
   "metadata": {},
   "outputs": [],
   "source": [
    "count = 0\n",
    "for data in dataset_valid:\n",
    "    if count == 0:\n",
    "        inputs_try,labels_try = data\n",
    "    else:\n",
    "        break\n",
    "    count += 1"
   ]
  },
  {
   "cell_type": "code",
   "execution_count": null,
   "metadata": {},
   "outputs": [],
   "source": [
    "labels_try"
   ]
  },
  {
   "cell_type": "code",
   "execution_count": null,
   "metadata": {},
   "outputs": [],
   "source": [
    "inputs_try.shape"
   ]
  },
  {
   "cell_type": "code",
   "execution_count": null,
   "metadata": {},
   "outputs": [],
   "source": [
    "# Make a grid from batch\n",
    "out = torchvision.utils.make_grid(inputs_try)\n",
    "\n",
    "imshow(out, title=[dset_classes[x] for x in labels_try])"
   ]
  },
  {
   "cell_type": "code",
   "execution_count": null,
   "metadata": {},
   "outputs": [],
   "source": [
    "# Get a batch of training data\n",
    "inputs, classes = next(iter(dset_loaders['train']))\n",
    "\n",
    "n_images = 8\n",
    "\n",
    "# Make a grid from batch\n",
    "out = torchvision.utils.make_grid(inputs[0:n_images])\n",
    "\n",
    "imshow(out, title=[dset_classes[x] for x in classes[0:n_images]])"
   ]
  },
  {
   "cell_type": "code",
   "execution_count": null,
   "metadata": {},
   "outputs": [],
   "source": [
    "# Get a batch of validation data\n",
    "inputs, classes = next(iter(dset_loaders['test']))\n",
    "\n",
    "n_images = 8\n",
    "\n",
    "# Make a grid from batch\n",
    "out = torchvision.utils.make_grid(inputs[0:n_images])\n",
    "\n",
    "imshow(out, title=[dset_classes[x] for x in classes[0:n_images]])"
   ]
  },
  {
   "cell_type": "markdown",
   "metadata": {},
   "source": [
    "# Creating InceptionV3 Model"
   ]
  },
  {
   "cell_type": "code",
   "execution_count": 7,
   "metadata": {},
   "outputs": [],
   "source": [
    "model_inception = models.inception_v3(pretrained=True)"
   ]
  },
  {
   "cell_type": "code",
   "execution_count": null,
   "metadata": {},
   "outputs": [],
   "source": [
    "if use_gpu:\n",
    "    model_inception = model_inception.cuda()\n",
    "    \n",
    "inputs_try , labels_try = var_cgpu(inputs_try,use_gpu),var_cgpu(labels_try,use_gpu)"
   ]
  },
  {
   "cell_type": "code",
   "execution_count": null,
   "metadata": {},
   "outputs": [],
   "source": [
    "outputs_try,__ = model_inception(inputs_try)"
   ]
  },
  {
   "cell_type": "code",
   "execution_count": null,
   "metadata": {},
   "outputs": [],
   "source": [
    "inputs_try.shape"
   ]
  },
  {
   "cell_type": "code",
   "execution_count": null,
   "metadata": {},
   "outputs": [],
   "source": [
    "outputs_try"
   ]
  },
  {
   "cell_type": "code",
   "execution_count": null,
   "metadata": {},
   "outputs": [],
   "source": [
    "outputs_try.shape"
   ]
  },
  {
   "cell_type": "markdown",
   "metadata": {},
   "source": [
    "### Modifying the last layer and setting the gradient false to all layers"
   ]
  },
  {
   "cell_type": "code",
   "execution_count": null,
   "metadata": {
    "scrolled": true
   },
   "outputs": [],
   "source": [
    "print(model_inception)"
   ]
  },
  {
   "cell_type": "code",
   "execution_count": null,
   "metadata": {},
   "outputs": [],
   "source": [
    "for param in model_inception.parameters():\n",
    "    param.requires_grad = False"
   ]
  },
  {
   "cell_type": "code",
   "execution_count": 9,
   "metadata": {},
   "outputs": [],
   "source": [
    "model_inception.fc = nn.Linear(2048, 101)"
   ]
  },
  {
   "cell_type": "code",
   "execution_count": 10,
   "metadata": {},
   "outputs": [],
   "source": [
    "model_inception.AuxLogits.fc = nn.Linear(768, 101)"
   ]
  },
  {
   "cell_type": "code",
   "execution_count": null,
   "metadata": {},
   "outputs": [],
   "source": [
    "print(model_inception.fc)"
   ]
  },
  {
   "cell_type": "code",
   "execution_count": 11,
   "metadata": {},
   "outputs": [],
   "source": [
    "if use_gpu:\n",
    "    model_inception = model_inception.cuda()"
   ]
  },
  {
   "cell_type": "markdown",
   "metadata": {},
   "source": [
    "## Calculating pre-calculated features"
   ]
  },
  {
   "cell_type": "code",
   "execution_count": null,
   "metadata": {},
   "outputs": [],
   "source": [
    "def preconvfeat(dataset):\n",
    "    conv_features = []\n",
    "    labels_list = []\n",
    "    count = 0\n",
    "    for data in dataset:\n",
    "        print(count)\n",
    "        count += 1\n",
    "        inputs,labels = data\n",
    "        \n",
    "        #x = model_vgg.features(inputs)\n",
    "        conv_features.extend(inputs)\n",
    "        labels_list.extend(labels)\n",
    "        if count == 10 :\n",
    "            break\n",
    "    #conv_features = np.concatenate([[feat] for feat in conv_features])\n",
    "    return (conv_features,labels_list)"
   ]
  },
  {
   "cell_type": "code",
   "execution_count": null,
   "metadata": {
    "scrolled": true
   },
   "outputs": [],
   "source": [
    "%%time\n",
    "conv_feat_train,labels_train = preconvfeat(dset_loaders['train'])"
   ]
  },
  {
   "cell_type": "code",
   "execution_count": null,
   "metadata": {},
   "outputs": [],
   "source": [
    "conv_feat_train[0].shape"
   ]
  },
  {
   "cell_type": "markdown",
   "metadata": {},
   "source": [
    "### Save extracted features"
   ]
  },
  {
   "cell_type": "code",
   "execution_count": null,
   "metadata": {},
   "outputs": [],
   "source": [
    "save_array(data_dir+'/vgg16/conv_feat_train.bc',conv_feat_train)\n",
    "save_array(data_dir+'/vgg16/labels_train.bc',labels_train)\n",
    "save_array(data_dir+'/vgg16/conv_feat_val.bc',conv_feat_val)\n",
    "save_array(data_dir+'/vgg16/labels_val.bc',labels_val)"
   ]
  },
  {
   "cell_type": "markdown",
   "metadata": {},
   "source": [
    "### Load extracted features"
   ]
  },
  {
   "cell_type": "code",
   "execution_count": null,
   "metadata": {},
   "outputs": [],
   "source": [
    "conv_feat_train = load_array(data_dir+'\\\\vgg16\\\\conv_feat_train.bc')\n",
    "labels_train = load_array(data_dir+'\\\\vgg16\\\\labels_train.bc')\n",
    "conv_feat_val = load_array(data_dir+'\\\\vgg16\\\\conv_feat_val.bc')\n",
    "labels_val = load_array(data_dir+'\\\\vgg16\\\\labels_val.bc')"
   ]
  },
  {
   "cell_type": "markdown",
   "metadata": {},
   "source": [
    "## Training fully connected module"
   ]
  },
  {
   "cell_type": "markdown",
   "metadata": {},
   "source": [
    "### Creating loss function and optimizer"
   ]
  },
  {
   "cell_type": "code",
   "execution_count": 12,
   "metadata": {},
   "outputs": [],
   "source": [
    "criterion = nn.CrossEntropyLoss()\n",
    "lr = 0.01\n",
    "optimizer_incep = torch.optim.SGD(model_inception.parameters(),lr = lr, momentum=0.9)"
   ]
  },
  {
   "cell_type": "markdown",
   "metadata": {},
   "source": [
    "### Creating Data generator"
   ]
  },
  {
   "cell_type": "code",
   "execution_count": null,
   "metadata": {},
   "outputs": [],
   "source": [
    "def data_gen(conv_feat,labels,batch_size=64,shuffle=True):\n",
    "    labels = np.array(labels)\n",
    "    if shuffle:\n",
    "        index = np.random.permutation(len(conv_feat))\n",
    "        conv_feat = conv_feat[index]\n",
    "        labels = labels[index]\n",
    "    for idx in range(0,len(conv_feat),batch_size):\n",
    "        yield(conv_feat[idx:idx+batch_size],labels[idx:idx+batch_size])"
   ]
  },
  {
   "cell_type": "markdown",
   "metadata": {},
   "source": [
    "### Training the model"
   ]
  },
  {
   "cell_type": "code",
   "execution_count": 13,
   "metadata": {},
   "outputs": [],
   "source": [
    "def train_model(epochs = 1,train = True, validate = False) :\n",
    "    for epoch in range(epochs) :\n",
    "        if train == True :\n",
    "            #=========================TRAINING=================================#\n",
    "            start_time_epoch = time.time()\n",
    "            \n",
    "            model_inception.train()\n",
    "            \n",
    "            loss_history = []\n",
    "            acc_history = []\n",
    "    \n",
    "            print(\"Epoch:\", epoch,\"/\",epochs,\"===============================================\")\n",
    "        \n",
    "            running_loss = 0.0\n",
    "            running_corrects = 0.0\n",
    "\n",
    "\n",
    "            for i, data in enumerate(dset_loaders['train'], 0):\n",
    "                start_time = time.time()\n",
    "\n",
    "                # get the inputs\n",
    "                inputs, classes = data\n",
    "\n",
    "                if use_gpu:\n",
    "                    inputs , classes = inputs.cuda(), classes.cuda()\n",
    "\n",
    "                # calulate outputs and losses\n",
    "                outputs, aux_outputs = model_inception(inputs)\n",
    "                loss = criterion(outputs,classes) + 0.4*criterion(aux_outputs,classes)         \n",
    "\n",
    "                # autograd\n",
    "                optimizer_incep.zero_grad()\n",
    "                loss.backward()\n",
    "                optimizer_incep.step()\n",
    "\n",
    "                # statistics\n",
    "                batch_loss = loss.data.item()\n",
    "                _,preds = torch.max(outputs.data,1)\n",
    "                batch_corrects = torch.sum(preds == classes.data)\n",
    "                running_loss += batch_loss\n",
    "                running_corrects += batch_corrects\n",
    "\n",
    "                print('Batch {:d}/{:d} - Loss: {:.4f} Acc: {:.4f} - Time : {:.2f}s'.format(i+1,len(dset_loaders['train']),\n",
    "                             batch_loss/len(classes), float(batch_corrects)/len(classes), time.time() - start_time), end=\"\\r\")\n",
    "\n",
    "            epoch_loss = running_loss / dset_sizes['train']\n",
    "            epoch_acc = running_corrects.data.item() / dset_sizes['train']\n",
    "            \n",
    "            loss_history.append(epoch_loss)\n",
    "            acc_history.append(epoch_acc)\n",
    "            \n",
    "            print('Epoch {:d} completed in {:.2f} seconds ! Loss: {:.4f} Acc: {:.4f}'.format(\n",
    "                     epoch, time.time() - start_time_epoch, epoch_loss, epoch_acc))\n",
    "            \n",
    "        if validate == True :\n",
    "            #=========================VALIDATING=================================#\n",
    "            \n",
    "            model_inception.eval()\n",
    "            \n",
    "            if train == True :\n",
    "                val_loss_history = []\n",
    "                val_acc_history = []\n",
    "            \n",
    "            val_loss = 0.0\n",
    "            val_corrects = 0.0\n",
    "            \n",
    "            total = 0\n",
    "\n",
    "            for i, data in enumerate(dset_loaders['test'], 0):\n",
    "                start_time = time.time()\n",
    "                \n",
    "                # get the inputs\n",
    "                inputs, classes = data\n",
    "\n",
    "                if use_gpu:\n",
    "                    inputs , classes = inputs.cuda(), classes.cuda()\n",
    "\n",
    "                outputs = model_inception(inputs)\n",
    "\n",
    "                loss = criterion(outputs,classes)        \n",
    "\n",
    "                _,preds = torch.max(outputs.data,1)\n",
    "\n",
    "                # statistics\n",
    "\n",
    "                val_loss += loss.data.item()\n",
    "                val_corrects += torch.sum(preds == classes.data)\n",
    "                total += classes.size(0)\n",
    "                \n",
    "                print('Validating batch {:d}/{:d} - {:.2f}s ...'.format(i+1,len(dset_loaders['test'])\n",
    "                                                                , time.time() - start_time), end=\"\\r\")\n",
    "\n",
    "            val_epoch_loss = val_loss / dset_sizes['test']\n",
    "            val_epoch_acc = val_corrects.data.item() / dset_sizes['test']\n",
    "\n",
    "            print('Val Loss: {:.4f} Val Acc: {:.4f}'.format(\n",
    "                             val_epoch_loss,val_epoch_acc))\n",
    "            \n",
    "            if train == False :\n",
    "                return\n",
    "            else :\n",
    "                val_loss_history.append(val_epoch_loss)\n",
    "                val_acc_history.append(val_epoch_acc)\n",
    "    \n",
    "    if train == False :\n",
    "        return 'On fait rien!'\n",
    "    elif validate == False :\n",
    "        return loss_history, acc_history\n",
    "    else :\n",
    "        return loss_history, acc_history,val_loss_history,val_acc_history"
   ]
  },
  {
   "cell_type": "code",
   "execution_count": 14,
   "metadata": {},
   "outputs": [
    {
     "name": "stdout",
     "output_type": "stream",
     "text": [
      "Epoch: 0 / 15 ===============================================\n",
      "Batch 1010/2125 - Loss: 0.1126 Acc: 0.3438 - Time : 1.18s\r"
     ]
    },
    {
     "name": "stderr",
     "output_type": "stream",
     "text": [
      "/home/foodlovers/miniconda3/lib/python3.7/site-packages/PIL/TiffImagePlugin.py:763: UserWarning: Possibly corrupt EXIF data.  Expecting to read 6 bytes but only got 0. Skipping tag 271\n",
      "  \" Skipping tag %s\" % (size, len(data), tag))\n",
      "/home/foodlovers/miniconda3/lib/python3.7/site-packages/PIL/TiffImagePlugin.py:763: UserWarning: Possibly corrupt EXIF data.  Expecting to read 7 bytes but only got 0. Skipping tag 272\n",
      "  \" Skipping tag %s\" % (size, len(data), tag))\n",
      "/home/foodlovers/miniconda3/lib/python3.7/site-packages/PIL/TiffImagePlugin.py:763: UserWarning: Possibly corrupt EXIF data.  Expecting to read 8 bytes but only got 0. Skipping tag 282\n",
      "  \" Skipping tag %s\" % (size, len(data), tag))\n",
      "/home/foodlovers/miniconda3/lib/python3.7/site-packages/PIL/TiffImagePlugin.py:763: UserWarning: Possibly corrupt EXIF data.  Expecting to read 8 bytes but only got 0. Skipping tag 283\n",
      "  \" Skipping tag %s\" % (size, len(data), tag))\n",
      "/home/foodlovers/miniconda3/lib/python3.7/site-packages/PIL/TiffImagePlugin.py:763: UserWarning: Possibly corrupt EXIF data.  Expecting to read 20 bytes but only got 0. Skipping tag 306\n",
      "  \" Skipping tag %s\" % (size, len(data), tag))\n",
      "/home/foodlovers/miniconda3/lib/python3.7/site-packages/PIL/TiffImagePlugin.py:780: UserWarning: Corrupt EXIF data.  Expecting to read 2 bytes but only got 0. \n",
      "  warnings.warn(str(msg))\n"
     ]
    },
    {
     "name": "stdout",
     "output_type": "stream",
     "text": [
      "Epoch 0 completed in 2521.16 seconds ! Loss: 0.1224 Acc: 0.3394\n",
      "Val Loss: 0.0732 Val Acc: 0.4549 ...\n",
      "Epoch: 1 / 15 ===============================================\n",
      "Batch 708/2125 - Loss: 0.0793 Acc: 0.5938 - Time : 1.18s\r"
     ]
    },
    {
     "name": "stderr",
     "output_type": "stream",
     "text": [
      "/home/foodlovers/miniconda3/lib/python3.7/site-packages/PIL/TiffImagePlugin.py:763: UserWarning: Possibly corrupt EXIF data.  Expecting to read 6 bytes but only got 0. Skipping tag 271\n",
      "  \" Skipping tag %s\" % (size, len(data), tag))\n",
      "/home/foodlovers/miniconda3/lib/python3.7/site-packages/PIL/TiffImagePlugin.py:763: UserWarning: Possibly corrupt EXIF data.  Expecting to read 7 bytes but only got 0. Skipping tag 272\n",
      "  \" Skipping tag %s\" % (size, len(data), tag))\n",
      "/home/foodlovers/miniconda3/lib/python3.7/site-packages/PIL/TiffImagePlugin.py:763: UserWarning: Possibly corrupt EXIF data.  Expecting to read 8 bytes but only got 0. Skipping tag 282\n",
      "  \" Skipping tag %s\" % (size, len(data), tag))\n",
      "/home/foodlovers/miniconda3/lib/python3.7/site-packages/PIL/TiffImagePlugin.py:763: UserWarning: Possibly corrupt EXIF data.  Expecting to read 8 bytes but only got 0. Skipping tag 283\n",
      "  \" Skipping tag %s\" % (size, len(data), tag))\n",
      "/home/foodlovers/miniconda3/lib/python3.7/site-packages/PIL/TiffImagePlugin.py:763: UserWarning: Possibly corrupt EXIF data.  Expecting to read 20 bytes but only got 0. Skipping tag 306\n",
      "  \" Skipping tag %s\" % (size, len(data), tag))\n",
      "/home/foodlovers/miniconda3/lib/python3.7/site-packages/PIL/TiffImagePlugin.py:780: UserWarning: Corrupt EXIF data.  Expecting to read 2 bytes but only got 0. \n",
      "  warnings.warn(str(msg))\n"
     ]
    },
    {
     "name": "stdout",
     "output_type": "stream",
     "text": [
      "Epoch 1 completed in 2526.47 seconds ! Loss: 0.0915 Acc: 0.4945\n",
      "Val Loss: 0.0719 Val Acc: 0.4576 ...\n",
      "Epoch: 2 / 15 ===============================================\n",
      "Batch 1440/2125 - Loss: 0.0826 Acc: 0.5625 - Time : 1.19s\r"
     ]
    },
    {
     "name": "stderr",
     "output_type": "stream",
     "text": [
      "/home/foodlovers/miniconda3/lib/python3.7/site-packages/PIL/TiffImagePlugin.py:763: UserWarning: Possibly corrupt EXIF data.  Expecting to read 6 bytes but only got 0. Skipping tag 271\n",
      "  \" Skipping tag %s\" % (size, len(data), tag))\n",
      "/home/foodlovers/miniconda3/lib/python3.7/site-packages/PIL/TiffImagePlugin.py:763: UserWarning: Possibly corrupt EXIF data.  Expecting to read 7 bytes but only got 0. Skipping tag 272\n",
      "  \" Skipping tag %s\" % (size, len(data), tag))\n",
      "/home/foodlovers/miniconda3/lib/python3.7/site-packages/PIL/TiffImagePlugin.py:763: UserWarning: Possibly corrupt EXIF data.  Expecting to read 8 bytes but only got 0. Skipping tag 282\n",
      "  \" Skipping tag %s\" % (size, len(data), tag))\n",
      "/home/foodlovers/miniconda3/lib/python3.7/site-packages/PIL/TiffImagePlugin.py:763: UserWarning: Possibly corrupt EXIF data.  Expecting to read 8 bytes but only got 0. Skipping tag 283\n",
      "  \" Skipping tag %s\" % (size, len(data), tag))\n",
      "/home/foodlovers/miniconda3/lib/python3.7/site-packages/PIL/TiffImagePlugin.py:763: UserWarning: Possibly corrupt EXIF data.  Expecting to read 20 bytes but only got 0. Skipping tag 306\n",
      "  \" Skipping tag %s\" % (size, len(data), tag))\n",
      "/home/foodlovers/miniconda3/lib/python3.7/site-packages/PIL/TiffImagePlugin.py:780: UserWarning: Corrupt EXIF data.  Expecting to read 2 bytes but only got 0. \n",
      "  warnings.warn(str(msg))\n"
     ]
    },
    {
     "name": "stdout",
     "output_type": "stream",
     "text": [
      "Epoch 2 completed in 2526.48 seconds ! Loss: 0.0763 Acc: 0.5691\n",
      "Val Loss: 0.0628 Val Acc: 0.5349 ...\n",
      "Epoch: 3 / 15 ===============================================\n",
      "Batch 1839/2125 - Loss: 0.0703 Acc: 0.5938 - Time : 1.19s\r"
     ]
    },
    {
     "name": "stderr",
     "output_type": "stream",
     "text": [
      "/home/foodlovers/miniconda3/lib/python3.7/site-packages/PIL/TiffImagePlugin.py:763: UserWarning: Possibly corrupt EXIF data.  Expecting to read 6 bytes but only got 0. Skipping tag 271\n",
      "  \" Skipping tag %s\" % (size, len(data), tag))\n",
      "/home/foodlovers/miniconda3/lib/python3.7/site-packages/PIL/TiffImagePlugin.py:763: UserWarning: Possibly corrupt EXIF data.  Expecting to read 7 bytes but only got 0. Skipping tag 272\n",
      "  \" Skipping tag %s\" % (size, len(data), tag))\n",
      "/home/foodlovers/miniconda3/lib/python3.7/site-packages/PIL/TiffImagePlugin.py:763: UserWarning: Possibly corrupt EXIF data.  Expecting to read 8 bytes but only got 0. Skipping tag 282\n",
      "  \" Skipping tag %s\" % (size, len(data), tag))\n",
      "/home/foodlovers/miniconda3/lib/python3.7/site-packages/PIL/TiffImagePlugin.py:763: UserWarning: Possibly corrupt EXIF data.  Expecting to read 8 bytes but only got 0. Skipping tag 283\n",
      "  \" Skipping tag %s\" % (size, len(data), tag))\n",
      "/home/foodlovers/miniconda3/lib/python3.7/site-packages/PIL/TiffImagePlugin.py:763: UserWarning: Possibly corrupt EXIF data.  Expecting to read 20 bytes but only got 0. Skipping tag 306\n",
      "  \" Skipping tag %s\" % (size, len(data), tag))\n",
      "/home/foodlovers/miniconda3/lib/python3.7/site-packages/PIL/TiffImagePlugin.py:780: UserWarning: Corrupt EXIF data.  Expecting to read 2 bytes but only got 0. \n",
      "  warnings.warn(str(msg))\n"
     ]
    },
    {
     "name": "stdout",
     "output_type": "stream",
     "text": [
      "Epoch 3 completed in 2526.31 seconds ! Loss: 0.0648 Acc: 0.6249\n",
      "Val Loss: 0.0639 Val Acc: 0.5314 ...\n",
      "Epoch: 4 / 15 ===============================================\n",
      "Batch 1428/2125 - Loss: 0.0780 Acc: 0.5312 - Time : 1.19s\r"
     ]
    },
    {
     "name": "stderr",
     "output_type": "stream",
     "text": [
      "/home/foodlovers/miniconda3/lib/python3.7/site-packages/PIL/TiffImagePlugin.py:763: UserWarning: Possibly corrupt EXIF data.  Expecting to read 6 bytes but only got 0. Skipping tag 271\n",
      "  \" Skipping tag %s\" % (size, len(data), tag))\n",
      "/home/foodlovers/miniconda3/lib/python3.7/site-packages/PIL/TiffImagePlugin.py:763: UserWarning: Possibly corrupt EXIF data.  Expecting to read 7 bytes but only got 0. Skipping tag 272\n",
      "  \" Skipping tag %s\" % (size, len(data), tag))\n",
      "/home/foodlovers/miniconda3/lib/python3.7/site-packages/PIL/TiffImagePlugin.py:763: UserWarning: Possibly corrupt EXIF data.  Expecting to read 8 bytes but only got 0. Skipping tag 282\n",
      "  \" Skipping tag %s\" % (size, len(data), tag))\n",
      "/home/foodlovers/miniconda3/lib/python3.7/site-packages/PIL/TiffImagePlugin.py:763: UserWarning: Possibly corrupt EXIF data.  Expecting to read 8 bytes but only got 0. Skipping tag 283\n",
      "  \" Skipping tag %s\" % (size, len(data), tag))\n",
      "/home/foodlovers/miniconda3/lib/python3.7/site-packages/PIL/TiffImagePlugin.py:763: UserWarning: Possibly corrupt EXIF data.  Expecting to read 20 bytes but only got 0. Skipping tag 306\n",
      "  \" Skipping tag %s\" % (size, len(data), tag))\n",
      "/home/foodlovers/miniconda3/lib/python3.7/site-packages/PIL/TiffImagePlugin.py:780: UserWarning: Corrupt EXIF data.  Expecting to read 2 bytes but only got 0. \n",
      "  warnings.warn(str(msg))\n"
     ]
    },
    {
     "name": "stdout",
     "output_type": "stream",
     "text": [
      "Epoch 4 completed in 2522.59 seconds ! Loss: 0.0549 Acc: 0.6760\n",
      "Val Loss: 0.0619 Val Acc: 0.5581 ...\n",
      "Epoch: 5 / 15 ===============================================\n",
      "Batch 492/2125 - Loss: 0.0310 Acc: 0.7188 - Time : 1.17s\r"
     ]
    },
    {
     "name": "stderr",
     "output_type": "stream",
     "text": [
      "/home/foodlovers/miniconda3/lib/python3.7/site-packages/PIL/TiffImagePlugin.py:763: UserWarning: Possibly corrupt EXIF data.  Expecting to read 6 bytes but only got 0. Skipping tag 271\n",
      "  \" Skipping tag %s\" % (size, len(data), tag))\n",
      "/home/foodlovers/miniconda3/lib/python3.7/site-packages/PIL/TiffImagePlugin.py:763: UserWarning: Possibly corrupt EXIF data.  Expecting to read 7 bytes but only got 0. Skipping tag 272\n",
      "  \" Skipping tag %s\" % (size, len(data), tag))\n",
      "/home/foodlovers/miniconda3/lib/python3.7/site-packages/PIL/TiffImagePlugin.py:763: UserWarning: Possibly corrupt EXIF data.  Expecting to read 8 bytes but only got 0. Skipping tag 282\n",
      "  \" Skipping tag %s\" % (size, len(data), tag))\n",
      "/home/foodlovers/miniconda3/lib/python3.7/site-packages/PIL/TiffImagePlugin.py:763: UserWarning: Possibly corrupt EXIF data.  Expecting to read 8 bytes but only got 0. Skipping tag 283\n",
      "  \" Skipping tag %s\" % (size, len(data), tag))\n",
      "/home/foodlovers/miniconda3/lib/python3.7/site-packages/PIL/TiffImagePlugin.py:763: UserWarning: Possibly corrupt EXIF data.  Expecting to read 20 bytes but only got 0. Skipping tag 306\n",
      "  \" Skipping tag %s\" % (size, len(data), tag))\n",
      "/home/foodlovers/miniconda3/lib/python3.7/site-packages/PIL/TiffImagePlugin.py:780: UserWarning: Corrupt EXIF data.  Expecting to read 2 bytes but only got 0. \n",
      "  warnings.warn(str(msg))\n"
     ]
    },
    {
     "name": "stdout",
     "output_type": "stream",
     "text": [
      "Epoch 5 completed in 2502.38 seconds ! Loss: 0.0466 Acc: 0.7152\n",
      "Val Loss: 0.0638 Val Acc: 0.5561 ...\n",
      "Epoch: 6 / 15 ===============================================\n",
      "Batch 755/2125 - Loss: 0.0527 Acc: 0.6562 - Time : 1.18s\r"
     ]
    },
    {
     "name": "stderr",
     "output_type": "stream",
     "text": [
      "/home/foodlovers/miniconda3/lib/python3.7/site-packages/PIL/TiffImagePlugin.py:763: UserWarning: Possibly corrupt EXIF data.  Expecting to read 6 bytes but only got 0. Skipping tag 271\n",
      "  \" Skipping tag %s\" % (size, len(data), tag))\n",
      "/home/foodlovers/miniconda3/lib/python3.7/site-packages/PIL/TiffImagePlugin.py:763: UserWarning: Possibly corrupt EXIF data.  Expecting to read 7 bytes but only got 0. Skipping tag 272\n",
      "  \" Skipping tag %s\" % (size, len(data), tag))\n",
      "/home/foodlovers/miniconda3/lib/python3.7/site-packages/PIL/TiffImagePlugin.py:763: UserWarning: Possibly corrupt EXIF data.  Expecting to read 8 bytes but only got 0. Skipping tag 282\n",
      "  \" Skipping tag %s\" % (size, len(data), tag))\n",
      "/home/foodlovers/miniconda3/lib/python3.7/site-packages/PIL/TiffImagePlugin.py:763: UserWarning: Possibly corrupt EXIF data.  Expecting to read 8 bytes but only got 0. Skipping tag 283\n",
      "  \" Skipping tag %s\" % (size, len(data), tag))\n",
      "/home/foodlovers/miniconda3/lib/python3.7/site-packages/PIL/TiffImagePlugin.py:763: UserWarning: Possibly corrupt EXIF data.  Expecting to read 20 bytes but only got 0. Skipping tag 306\n",
      "  \" Skipping tag %s\" % (size, len(data), tag))\n",
      "/home/foodlovers/miniconda3/lib/python3.7/site-packages/PIL/TiffImagePlugin.py:780: UserWarning: Corrupt EXIF data.  Expecting to read 2 bytes but only got 0. \n",
      "  warnings.warn(str(msg))\n"
     ]
    },
    {
     "name": "stdout",
     "output_type": "stream",
     "text": [
      "Epoch 6 completed in 2504.02 seconds ! Loss: 0.0392 Acc: 0.7521\n",
      "Val Loss: 0.0651 Val Acc: 0.5637 ...\n",
      "Epoch: 7 / 15 ===============================================\n",
      "Batch 857/2125 - Loss: 0.0487 Acc: 0.7188 - Time : 1.17s\r"
     ]
    },
    {
     "name": "stderr",
     "output_type": "stream",
     "text": [
      "/home/foodlovers/miniconda3/lib/python3.7/site-packages/PIL/TiffImagePlugin.py:763: UserWarning: Possibly corrupt EXIF data.  Expecting to read 6 bytes but only got 0. Skipping tag 271\n",
      "  \" Skipping tag %s\" % (size, len(data), tag))\n",
      "/home/foodlovers/miniconda3/lib/python3.7/site-packages/PIL/TiffImagePlugin.py:763: UserWarning: Possibly corrupt EXIF data.  Expecting to read 7 bytes but only got 0. Skipping tag 272\n",
      "  \" Skipping tag %s\" % (size, len(data), tag))\n",
      "/home/foodlovers/miniconda3/lib/python3.7/site-packages/PIL/TiffImagePlugin.py:763: UserWarning: Possibly corrupt EXIF data.  Expecting to read 8 bytes but only got 0. Skipping tag 282\n",
      "  \" Skipping tag %s\" % (size, len(data), tag))\n",
      "/home/foodlovers/miniconda3/lib/python3.7/site-packages/PIL/TiffImagePlugin.py:763: UserWarning: Possibly corrupt EXIF data.  Expecting to read 8 bytes but only got 0. Skipping tag 283\n",
      "  \" Skipping tag %s\" % (size, len(data), tag))\n",
      "/home/foodlovers/miniconda3/lib/python3.7/site-packages/PIL/TiffImagePlugin.py:763: UserWarning: Possibly corrupt EXIF data.  Expecting to read 20 bytes but only got 0. Skipping tag 306\n",
      "  \" Skipping tag %s\" % (size, len(data), tag))\n",
      "/home/foodlovers/miniconda3/lib/python3.7/site-packages/PIL/TiffImagePlugin.py:780: UserWarning: Corrupt EXIF data.  Expecting to read 2 bytes but only got 0. \n",
      "  warnings.warn(str(msg))\n"
     ]
    },
    {
     "name": "stdout",
     "output_type": "stream",
     "text": [
      "Epoch 7 completed in 2502.24 seconds ! Loss: 0.0333 Acc: 0.7811\n",
      "Val Loss: 0.0664 Val Acc: 0.5573 ...\n",
      "Epoch: 8 / 15 ===============================================\n",
      "Batch 1944/2125 - Loss: 0.0249 Acc: 0.8750 - Time : 1.17s\r"
     ]
    },
    {
     "name": "stderr",
     "output_type": "stream",
     "text": [
      "/home/foodlovers/miniconda3/lib/python3.7/site-packages/PIL/TiffImagePlugin.py:763: UserWarning: Possibly corrupt EXIF data.  Expecting to read 6 bytes but only got 0. Skipping tag 271\n",
      "  \" Skipping tag %s\" % (size, len(data), tag))\n",
      "/home/foodlovers/miniconda3/lib/python3.7/site-packages/PIL/TiffImagePlugin.py:763: UserWarning: Possibly corrupt EXIF data.  Expecting to read 7 bytes but only got 0. Skipping tag 272\n",
      "  \" Skipping tag %s\" % (size, len(data), tag))\n",
      "/home/foodlovers/miniconda3/lib/python3.7/site-packages/PIL/TiffImagePlugin.py:763: UserWarning: Possibly corrupt EXIF data.  Expecting to read 8 bytes but only got 0. Skipping tag 282\n",
      "  \" Skipping tag %s\" % (size, len(data), tag))\n",
      "/home/foodlovers/miniconda3/lib/python3.7/site-packages/PIL/TiffImagePlugin.py:763: UserWarning: Possibly corrupt EXIF data.  Expecting to read 8 bytes but only got 0. Skipping tag 283\n",
      "  \" Skipping tag %s\" % (size, len(data), tag))\n",
      "/home/foodlovers/miniconda3/lib/python3.7/site-packages/PIL/TiffImagePlugin.py:763: UserWarning: Possibly corrupt EXIF data.  Expecting to read 20 bytes but only got 0. Skipping tag 306\n",
      "  \" Skipping tag %s\" % (size, len(data), tag))\n",
      "/home/foodlovers/miniconda3/lib/python3.7/site-packages/PIL/TiffImagePlugin.py:780: UserWarning: Corrupt EXIF data.  Expecting to read 2 bytes but only got 0. \n",
      "  warnings.warn(str(msg))\n"
     ]
    },
    {
     "name": "stdout",
     "output_type": "stream",
     "text": [
      "Epoch 8 completed in 2501.00 seconds ! Loss: 0.0274 Acc: 0.8165\n",
      "Val Loss: 0.0711 Val Acc: 0.5578 ...\n",
      "Epoch: 9 / 15 ===============================================\n",
      "Batch 50/2125 - Loss: 0.0033 Acc: 1.0000 - Time : 1.18s\r"
     ]
    },
    {
     "name": "stderr",
     "output_type": "stream",
     "text": [
      "/home/foodlovers/miniconda3/lib/python3.7/site-packages/PIL/TiffImagePlugin.py:763: UserWarning: Possibly corrupt EXIF data.  Expecting to read 6 bytes but only got 0. Skipping tag 271\n",
      "  \" Skipping tag %s\" % (size, len(data), tag))\n",
      "/home/foodlovers/miniconda3/lib/python3.7/site-packages/PIL/TiffImagePlugin.py:763: UserWarning: Possibly corrupt EXIF data.  Expecting to read 7 bytes but only got 0. Skipping tag 272\n",
      "  \" Skipping tag %s\" % (size, len(data), tag))\n",
      "/home/foodlovers/miniconda3/lib/python3.7/site-packages/PIL/TiffImagePlugin.py:763: UserWarning: Possibly corrupt EXIF data.  Expecting to read 8 bytes but only got 0. Skipping tag 282\n",
      "  \" Skipping tag %s\" % (size, len(data), tag))\n",
      "/home/foodlovers/miniconda3/lib/python3.7/site-packages/PIL/TiffImagePlugin.py:763: UserWarning: Possibly corrupt EXIF data.  Expecting to read 8 bytes but only got 0. Skipping tag 283\n",
      "  \" Skipping tag %s\" % (size, len(data), tag))\n",
      "/home/foodlovers/miniconda3/lib/python3.7/site-packages/PIL/TiffImagePlugin.py:763: UserWarning: Possibly corrupt EXIF data.  Expecting to read 20 bytes but only got 0. Skipping tag 306\n",
      "  \" Skipping tag %s\" % (size, len(data), tag))\n",
      "/home/foodlovers/miniconda3/lib/python3.7/site-packages/PIL/TiffImagePlugin.py:780: UserWarning: Corrupt EXIF data.  Expecting to read 2 bytes but only got 0. \n",
      "  warnings.warn(str(msg))\n"
     ]
    },
    {
     "name": "stdout",
     "output_type": "stream",
     "text": [
      "Batch 218/2125 - Loss: 0.0105 Acc: 0.9062 - Time : 1.17s\r"
     ]
    },
    {
     "ename": "KeyboardInterrupt",
     "evalue": "",
     "output_type": "error",
     "traceback": [
      "\u001b[0;31m---------------------------------------------------------------------------\u001b[0m",
      "\u001b[0;31mKeyboardInterrupt\u001b[0m                         Traceback (most recent call last)",
      "\u001b[0;32m<ipython-input-14-d6a952bdb2d6>\u001b[0m in \u001b[0;36m<module>\u001b[0;34m\u001b[0m\n\u001b[0;32m----> 1\u001b[0;31m \u001b[0mtrain_model\u001b[0m\u001b[0;34m(\u001b[0m\u001b[0mtrain\u001b[0m\u001b[0;34m=\u001b[0m\u001b[0;32mTrue\u001b[0m\u001b[0;34m,\u001b[0m\u001b[0mvalidate\u001b[0m\u001b[0;34m=\u001b[0m\u001b[0;32mTrue\u001b[0m\u001b[0;34m,\u001b[0m\u001b[0mepochs\u001b[0m \u001b[0;34m=\u001b[0m \u001b[0;36m15\u001b[0m\u001b[0;34m)\u001b[0m\u001b[0;34m\u001b[0m\u001b[0;34m\u001b[0m\u001b[0m\n\u001b[0m",
      "\u001b[0;32m<ipython-input-13-a7eeb3557abe>\u001b[0m in \u001b[0;36mtrain_model\u001b[0;34m(epochs, train, validate)\u001b[0m\n\u001b[1;32m     32\u001b[0m                 \u001b[0moptimizer_incep\u001b[0m\u001b[0;34m.\u001b[0m\u001b[0mzero_grad\u001b[0m\u001b[0;34m(\u001b[0m\u001b[0;34m)\u001b[0m\u001b[0;34m\u001b[0m\u001b[0;34m\u001b[0m\u001b[0m\n\u001b[1;32m     33\u001b[0m                 \u001b[0mloss\u001b[0m\u001b[0;34m.\u001b[0m\u001b[0mbackward\u001b[0m\u001b[0;34m(\u001b[0m\u001b[0;34m)\u001b[0m\u001b[0;34m\u001b[0m\u001b[0;34m\u001b[0m\u001b[0m\n\u001b[0;32m---> 34\u001b[0;31m                 \u001b[0moptimizer_incep\u001b[0m\u001b[0;34m.\u001b[0m\u001b[0mstep\u001b[0m\u001b[0;34m(\u001b[0m\u001b[0;34m)\u001b[0m\u001b[0;34m\u001b[0m\u001b[0;34m\u001b[0m\u001b[0m\n\u001b[0m\u001b[1;32m     35\u001b[0m \u001b[0;34m\u001b[0m\u001b[0m\n\u001b[1;32m     36\u001b[0m                 \u001b[0;31m# statistics\u001b[0m\u001b[0;34m\u001b[0m\u001b[0;34m\u001b[0m\u001b[0;34m\u001b[0m\u001b[0m\n",
      "\u001b[0;32m~/miniconda3/lib/python3.7/site-packages/torch/optim/sgd.py\u001b[0m in \u001b[0;36mstep\u001b[0;34m(self, closure)\u001b[0m\n\u001b[1;32m     99\u001b[0m                     \u001b[0;32melse\u001b[0m\u001b[0;34m:\u001b[0m\u001b[0;34m\u001b[0m\u001b[0;34m\u001b[0m\u001b[0m\n\u001b[1;32m    100\u001b[0m                         \u001b[0mbuf\u001b[0m \u001b[0;34m=\u001b[0m \u001b[0mparam_state\u001b[0m\u001b[0;34m[\u001b[0m\u001b[0;34m'momentum_buffer'\u001b[0m\u001b[0;34m]\u001b[0m\u001b[0;34m\u001b[0m\u001b[0;34m\u001b[0m\u001b[0m\n\u001b[0;32m--> 101\u001b[0;31m                         \u001b[0mbuf\u001b[0m\u001b[0;34m.\u001b[0m\u001b[0mmul_\u001b[0m\u001b[0;34m(\u001b[0m\u001b[0mmomentum\u001b[0m\u001b[0;34m)\u001b[0m\u001b[0;34m.\u001b[0m\u001b[0madd_\u001b[0m\u001b[0;34m(\u001b[0m\u001b[0;36m1\u001b[0m \u001b[0;34m-\u001b[0m \u001b[0mdampening\u001b[0m\u001b[0;34m,\u001b[0m \u001b[0md_p\u001b[0m\u001b[0;34m)\u001b[0m\u001b[0;34m\u001b[0m\u001b[0;34m\u001b[0m\u001b[0m\n\u001b[0m\u001b[1;32m    102\u001b[0m                     \u001b[0;32mif\u001b[0m \u001b[0mnesterov\u001b[0m\u001b[0;34m:\u001b[0m\u001b[0;34m\u001b[0m\u001b[0;34m\u001b[0m\u001b[0m\n\u001b[1;32m    103\u001b[0m                         \u001b[0md_p\u001b[0m \u001b[0;34m=\u001b[0m \u001b[0md_p\u001b[0m\u001b[0;34m.\u001b[0m\u001b[0madd\u001b[0m\u001b[0;34m(\u001b[0m\u001b[0mmomentum\u001b[0m\u001b[0;34m,\u001b[0m \u001b[0mbuf\u001b[0m\u001b[0;34m)\u001b[0m\u001b[0;34m\u001b[0m\u001b[0;34m\u001b[0m\u001b[0m\n",
      "\u001b[0;31mKeyboardInterrupt\u001b[0m: "
     ]
    }
   ],
   "source": [
    "train_model(train=True,validate=True,epochs = 15)"
   ]
  },
  {
   "cell_type": "markdown",
   "metadata": {},
   "source": [
    "### Save model weights"
   ]
  },
  {
   "cell_type": "code",
   "execution_count": 15,
   "metadata": {},
   "outputs": [
    {
     "name": "stdout",
     "output_type": "stream",
     "text": [
      "Model's state_dict:\n",
      "Conv2d_1a_3x3.conv.weight \t torch.Size([32, 3, 3, 3])\n",
      "Conv2d_1a_3x3.bn.weight \t torch.Size([32])\n",
      "Conv2d_1a_3x3.bn.bias \t torch.Size([32])\n",
      "Conv2d_1a_3x3.bn.running_mean \t torch.Size([32])\n",
      "Conv2d_1a_3x3.bn.running_var \t torch.Size([32])\n",
      "Conv2d_1a_3x3.bn.num_batches_tracked \t torch.Size([])\n",
      "Conv2d_2a_3x3.conv.weight \t torch.Size([32, 32, 3, 3])\n",
      "Conv2d_2a_3x3.bn.weight \t torch.Size([32])\n",
      "Conv2d_2a_3x3.bn.bias \t torch.Size([32])\n",
      "Conv2d_2a_3x3.bn.running_mean \t torch.Size([32])\n",
      "Conv2d_2a_3x3.bn.running_var \t torch.Size([32])\n",
      "Conv2d_2a_3x3.bn.num_batches_tracked \t torch.Size([])\n",
      "Conv2d_2b_3x3.conv.weight \t torch.Size([64, 32, 3, 3])\n",
      "Conv2d_2b_3x3.bn.weight \t torch.Size([64])\n",
      "Conv2d_2b_3x3.bn.bias \t torch.Size([64])\n",
      "Conv2d_2b_3x3.bn.running_mean \t torch.Size([64])\n",
      "Conv2d_2b_3x3.bn.running_var \t torch.Size([64])\n",
      "Conv2d_2b_3x3.bn.num_batches_tracked \t torch.Size([])\n",
      "Conv2d_3b_1x1.conv.weight \t torch.Size([80, 64, 1, 1])\n",
      "Conv2d_3b_1x1.bn.weight \t torch.Size([80])\n",
      "Conv2d_3b_1x1.bn.bias \t torch.Size([80])\n",
      "Conv2d_3b_1x1.bn.running_mean \t torch.Size([80])\n",
      "Conv2d_3b_1x1.bn.running_var \t torch.Size([80])\n",
      "Conv2d_3b_1x1.bn.num_batches_tracked \t torch.Size([])\n",
      "Conv2d_4a_3x3.conv.weight \t torch.Size([192, 80, 3, 3])\n",
      "Conv2d_4a_3x3.bn.weight \t torch.Size([192])\n",
      "Conv2d_4a_3x3.bn.bias \t torch.Size([192])\n",
      "Conv2d_4a_3x3.bn.running_mean \t torch.Size([192])\n",
      "Conv2d_4a_3x3.bn.running_var \t torch.Size([192])\n",
      "Conv2d_4a_3x3.bn.num_batches_tracked \t torch.Size([])\n",
      "Mixed_5b.branch1x1.conv.weight \t torch.Size([64, 192, 1, 1])\n",
      "Mixed_5b.branch1x1.bn.weight \t torch.Size([64])\n",
      "Mixed_5b.branch1x1.bn.bias \t torch.Size([64])\n",
      "Mixed_5b.branch1x1.bn.running_mean \t torch.Size([64])\n",
      "Mixed_5b.branch1x1.bn.running_var \t torch.Size([64])\n",
      "Mixed_5b.branch1x1.bn.num_batches_tracked \t torch.Size([])\n",
      "Mixed_5b.branch5x5_1.conv.weight \t torch.Size([48, 192, 1, 1])\n",
      "Mixed_5b.branch5x5_1.bn.weight \t torch.Size([48])\n",
      "Mixed_5b.branch5x5_1.bn.bias \t torch.Size([48])\n",
      "Mixed_5b.branch5x5_1.bn.running_mean \t torch.Size([48])\n",
      "Mixed_5b.branch5x5_1.bn.running_var \t torch.Size([48])\n",
      "Mixed_5b.branch5x5_1.bn.num_batches_tracked \t torch.Size([])\n",
      "Mixed_5b.branch5x5_2.conv.weight \t torch.Size([64, 48, 5, 5])\n",
      "Mixed_5b.branch5x5_2.bn.weight \t torch.Size([64])\n",
      "Mixed_5b.branch5x5_2.bn.bias \t torch.Size([64])\n",
      "Mixed_5b.branch5x5_2.bn.running_mean \t torch.Size([64])\n",
      "Mixed_5b.branch5x5_2.bn.running_var \t torch.Size([64])\n",
      "Mixed_5b.branch5x5_2.bn.num_batches_tracked \t torch.Size([])\n",
      "Mixed_5b.branch3x3dbl_1.conv.weight \t torch.Size([64, 192, 1, 1])\n",
      "Mixed_5b.branch3x3dbl_1.bn.weight \t torch.Size([64])\n",
      "Mixed_5b.branch3x3dbl_1.bn.bias \t torch.Size([64])\n",
      "Mixed_5b.branch3x3dbl_1.bn.running_mean \t torch.Size([64])\n",
      "Mixed_5b.branch3x3dbl_1.bn.running_var \t torch.Size([64])\n",
      "Mixed_5b.branch3x3dbl_1.bn.num_batches_tracked \t torch.Size([])\n",
      "Mixed_5b.branch3x3dbl_2.conv.weight \t torch.Size([96, 64, 3, 3])\n",
      "Mixed_5b.branch3x3dbl_2.bn.weight \t torch.Size([96])\n",
      "Mixed_5b.branch3x3dbl_2.bn.bias \t torch.Size([96])\n",
      "Mixed_5b.branch3x3dbl_2.bn.running_mean \t torch.Size([96])\n",
      "Mixed_5b.branch3x3dbl_2.bn.running_var \t torch.Size([96])\n",
      "Mixed_5b.branch3x3dbl_2.bn.num_batches_tracked \t torch.Size([])\n",
      "Mixed_5b.branch3x3dbl_3.conv.weight \t torch.Size([96, 96, 3, 3])\n",
      "Mixed_5b.branch3x3dbl_3.bn.weight \t torch.Size([96])\n",
      "Mixed_5b.branch3x3dbl_3.bn.bias \t torch.Size([96])\n",
      "Mixed_5b.branch3x3dbl_3.bn.running_mean \t torch.Size([96])\n",
      "Mixed_5b.branch3x3dbl_3.bn.running_var \t torch.Size([96])\n",
      "Mixed_5b.branch3x3dbl_3.bn.num_batches_tracked \t torch.Size([])\n",
      "Mixed_5b.branch_pool.conv.weight \t torch.Size([32, 192, 1, 1])\n",
      "Mixed_5b.branch_pool.bn.weight \t torch.Size([32])\n",
      "Mixed_5b.branch_pool.bn.bias \t torch.Size([32])\n",
      "Mixed_5b.branch_pool.bn.running_mean \t torch.Size([32])\n",
      "Mixed_5b.branch_pool.bn.running_var \t torch.Size([32])\n",
      "Mixed_5b.branch_pool.bn.num_batches_tracked \t torch.Size([])\n",
      "Mixed_5c.branch1x1.conv.weight \t torch.Size([64, 256, 1, 1])\n",
      "Mixed_5c.branch1x1.bn.weight \t torch.Size([64])\n",
      "Mixed_5c.branch1x1.bn.bias \t torch.Size([64])\n",
      "Mixed_5c.branch1x1.bn.running_mean \t torch.Size([64])\n",
      "Mixed_5c.branch1x1.bn.running_var \t torch.Size([64])\n",
      "Mixed_5c.branch1x1.bn.num_batches_tracked \t torch.Size([])\n",
      "Mixed_5c.branch5x5_1.conv.weight \t torch.Size([48, 256, 1, 1])\n",
      "Mixed_5c.branch5x5_1.bn.weight \t torch.Size([48])\n",
      "Mixed_5c.branch5x5_1.bn.bias \t torch.Size([48])\n",
      "Mixed_5c.branch5x5_1.bn.running_mean \t torch.Size([48])\n",
      "Mixed_5c.branch5x5_1.bn.running_var \t torch.Size([48])\n",
      "Mixed_5c.branch5x5_1.bn.num_batches_tracked \t torch.Size([])\n",
      "Mixed_5c.branch5x5_2.conv.weight \t torch.Size([64, 48, 5, 5])\n",
      "Mixed_5c.branch5x5_2.bn.weight \t torch.Size([64])\n",
      "Mixed_5c.branch5x5_2.bn.bias \t torch.Size([64])\n",
      "Mixed_5c.branch5x5_2.bn.running_mean \t torch.Size([64])\n",
      "Mixed_5c.branch5x5_2.bn.running_var \t torch.Size([64])\n",
      "Mixed_5c.branch5x5_2.bn.num_batches_tracked \t torch.Size([])\n",
      "Mixed_5c.branch3x3dbl_1.conv.weight \t torch.Size([64, 256, 1, 1])\n",
      "Mixed_5c.branch3x3dbl_1.bn.weight \t torch.Size([64])\n",
      "Mixed_5c.branch3x3dbl_1.bn.bias \t torch.Size([64])\n",
      "Mixed_5c.branch3x3dbl_1.bn.running_mean \t torch.Size([64])\n",
      "Mixed_5c.branch3x3dbl_1.bn.running_var \t torch.Size([64])\n",
      "Mixed_5c.branch3x3dbl_1.bn.num_batches_tracked \t torch.Size([])\n",
      "Mixed_5c.branch3x3dbl_2.conv.weight \t torch.Size([96, 64, 3, 3])\n",
      "Mixed_5c.branch3x3dbl_2.bn.weight \t torch.Size([96])\n",
      "Mixed_5c.branch3x3dbl_2.bn.bias \t torch.Size([96])\n",
      "Mixed_5c.branch3x3dbl_2.bn.running_mean \t torch.Size([96])\n",
      "Mixed_5c.branch3x3dbl_2.bn.running_var \t torch.Size([96])\n",
      "Mixed_5c.branch3x3dbl_2.bn.num_batches_tracked \t torch.Size([])\n",
      "Mixed_5c.branch3x3dbl_3.conv.weight \t torch.Size([96, 96, 3, 3])\n",
      "Mixed_5c.branch3x3dbl_3.bn.weight \t torch.Size([96])\n",
      "Mixed_5c.branch3x3dbl_3.bn.bias \t torch.Size([96])\n",
      "Mixed_5c.branch3x3dbl_3.bn.running_mean \t torch.Size([96])\n",
      "Mixed_5c.branch3x3dbl_3.bn.running_var \t torch.Size([96])\n",
      "Mixed_5c.branch3x3dbl_3.bn.num_batches_tracked \t torch.Size([])\n",
      "Mixed_5c.branch_pool.conv.weight \t torch.Size([64, 256, 1, 1])\n",
      "Mixed_5c.branch_pool.bn.weight \t torch.Size([64])\n",
      "Mixed_5c.branch_pool.bn.bias \t torch.Size([64])\n",
      "Mixed_5c.branch_pool.bn.running_mean \t torch.Size([64])\n",
      "Mixed_5c.branch_pool.bn.running_var \t torch.Size([64])\n",
      "Mixed_5c.branch_pool.bn.num_batches_tracked \t torch.Size([])\n",
      "Mixed_5d.branch1x1.conv.weight \t torch.Size([64, 288, 1, 1])\n",
      "Mixed_5d.branch1x1.bn.weight \t torch.Size([64])\n",
      "Mixed_5d.branch1x1.bn.bias \t torch.Size([64])\n",
      "Mixed_5d.branch1x1.bn.running_mean \t torch.Size([64])\n",
      "Mixed_5d.branch1x1.bn.running_var \t torch.Size([64])\n",
      "Mixed_5d.branch1x1.bn.num_batches_tracked \t torch.Size([])\n",
      "Mixed_5d.branch5x5_1.conv.weight \t torch.Size([48, 288, 1, 1])\n",
      "Mixed_5d.branch5x5_1.bn.weight \t torch.Size([48])\n",
      "Mixed_5d.branch5x5_1.bn.bias \t torch.Size([48])\n",
      "Mixed_5d.branch5x5_1.bn.running_mean \t torch.Size([48])\n",
      "Mixed_5d.branch5x5_1.bn.running_var \t torch.Size([48])\n",
      "Mixed_5d.branch5x5_1.bn.num_batches_tracked \t torch.Size([])\n",
      "Mixed_5d.branch5x5_2.conv.weight \t torch.Size([64, 48, 5, 5])\n",
      "Mixed_5d.branch5x5_2.bn.weight \t torch.Size([64])\n",
      "Mixed_5d.branch5x5_2.bn.bias \t torch.Size([64])\n",
      "Mixed_5d.branch5x5_2.bn.running_mean \t torch.Size([64])\n",
      "Mixed_5d.branch5x5_2.bn.running_var \t torch.Size([64])\n",
      "Mixed_5d.branch5x5_2.bn.num_batches_tracked \t torch.Size([])\n",
      "Mixed_5d.branch3x3dbl_1.conv.weight \t torch.Size([64, 288, 1, 1])\n",
      "Mixed_5d.branch3x3dbl_1.bn.weight \t torch.Size([64])\n",
      "Mixed_5d.branch3x3dbl_1.bn.bias \t torch.Size([64])\n",
      "Mixed_5d.branch3x3dbl_1.bn.running_mean \t torch.Size([64])\n",
      "Mixed_5d.branch3x3dbl_1.bn.running_var \t torch.Size([64])\n",
      "Mixed_5d.branch3x3dbl_1.bn.num_batches_tracked \t torch.Size([])\n",
      "Mixed_5d.branch3x3dbl_2.conv.weight \t torch.Size([96, 64, 3, 3])\n",
      "Mixed_5d.branch3x3dbl_2.bn.weight \t torch.Size([96])\n",
      "Mixed_5d.branch3x3dbl_2.bn.bias \t torch.Size([96])\n",
      "Mixed_5d.branch3x3dbl_2.bn.running_mean \t torch.Size([96])\n",
      "Mixed_5d.branch3x3dbl_2.bn.running_var \t torch.Size([96])\n",
      "Mixed_5d.branch3x3dbl_2.bn.num_batches_tracked \t torch.Size([])\n",
      "Mixed_5d.branch3x3dbl_3.conv.weight \t torch.Size([96, 96, 3, 3])\n",
      "Mixed_5d.branch3x3dbl_3.bn.weight \t torch.Size([96])\n",
      "Mixed_5d.branch3x3dbl_3.bn.bias \t torch.Size([96])\n",
      "Mixed_5d.branch3x3dbl_3.bn.running_mean \t torch.Size([96])\n",
      "Mixed_5d.branch3x3dbl_3.bn.running_var \t torch.Size([96])\n",
      "Mixed_5d.branch3x3dbl_3.bn.num_batches_tracked \t torch.Size([])\n",
      "Mixed_5d.branch_pool.conv.weight \t torch.Size([64, 288, 1, 1])\n",
      "Mixed_5d.branch_pool.bn.weight \t torch.Size([64])\n",
      "Mixed_5d.branch_pool.bn.bias \t torch.Size([64])\n",
      "Mixed_5d.branch_pool.bn.running_mean \t torch.Size([64])\n",
      "Mixed_5d.branch_pool.bn.running_var \t torch.Size([64])\n",
      "Mixed_5d.branch_pool.bn.num_batches_tracked \t torch.Size([])\n",
      "Mixed_6a.branch3x3.conv.weight \t torch.Size([384, 288, 3, 3])\n",
      "Mixed_6a.branch3x3.bn.weight \t torch.Size([384])\n",
      "Mixed_6a.branch3x3.bn.bias \t torch.Size([384])\n",
      "Mixed_6a.branch3x3.bn.running_mean \t torch.Size([384])\n",
      "Mixed_6a.branch3x3.bn.running_var \t torch.Size([384])\n",
      "Mixed_6a.branch3x3.bn.num_batches_tracked \t torch.Size([])\n",
      "Mixed_6a.branch3x3dbl_1.conv.weight \t torch.Size([64, 288, 1, 1])\n",
      "Mixed_6a.branch3x3dbl_1.bn.weight \t torch.Size([64])\n",
      "Mixed_6a.branch3x3dbl_1.bn.bias \t torch.Size([64])\n",
      "Mixed_6a.branch3x3dbl_1.bn.running_mean \t torch.Size([64])\n",
      "Mixed_6a.branch3x3dbl_1.bn.running_var \t torch.Size([64])\n",
      "Mixed_6a.branch3x3dbl_1.bn.num_batches_tracked \t torch.Size([])\n",
      "Mixed_6a.branch3x3dbl_2.conv.weight \t torch.Size([96, 64, 3, 3])\n",
      "Mixed_6a.branch3x3dbl_2.bn.weight \t torch.Size([96])\n",
      "Mixed_6a.branch3x3dbl_2.bn.bias \t torch.Size([96])\n",
      "Mixed_6a.branch3x3dbl_2.bn.running_mean \t torch.Size([96])\n",
      "Mixed_6a.branch3x3dbl_2.bn.running_var \t torch.Size([96])\n",
      "Mixed_6a.branch3x3dbl_2.bn.num_batches_tracked \t torch.Size([])\n",
      "Mixed_6a.branch3x3dbl_3.conv.weight \t torch.Size([96, 96, 3, 3])\n",
      "Mixed_6a.branch3x3dbl_3.bn.weight \t torch.Size([96])\n",
      "Mixed_6a.branch3x3dbl_3.bn.bias \t torch.Size([96])\n",
      "Mixed_6a.branch3x3dbl_3.bn.running_mean \t torch.Size([96])\n",
      "Mixed_6a.branch3x3dbl_3.bn.running_var \t torch.Size([96])\n",
      "Mixed_6a.branch3x3dbl_3.bn.num_batches_tracked \t torch.Size([])\n",
      "Mixed_6b.branch1x1.conv.weight \t torch.Size([192, 768, 1, 1])\n",
      "Mixed_6b.branch1x1.bn.weight \t torch.Size([192])\n",
      "Mixed_6b.branch1x1.bn.bias \t torch.Size([192])\n",
      "Mixed_6b.branch1x1.bn.running_mean \t torch.Size([192])\n",
      "Mixed_6b.branch1x1.bn.running_var \t torch.Size([192])\n",
      "Mixed_6b.branch1x1.bn.num_batches_tracked \t torch.Size([])\n",
      "Mixed_6b.branch7x7_1.conv.weight \t torch.Size([128, 768, 1, 1])\n",
      "Mixed_6b.branch7x7_1.bn.weight \t torch.Size([128])\n",
      "Mixed_6b.branch7x7_1.bn.bias \t torch.Size([128])\n",
      "Mixed_6b.branch7x7_1.bn.running_mean \t torch.Size([128])\n",
      "Mixed_6b.branch7x7_1.bn.running_var \t torch.Size([128])\n",
      "Mixed_6b.branch7x7_1.bn.num_batches_tracked \t torch.Size([])\n",
      "Mixed_6b.branch7x7_2.conv.weight \t torch.Size([128, 128, 1, 7])\n",
      "Mixed_6b.branch7x7_2.bn.weight \t torch.Size([128])\n",
      "Mixed_6b.branch7x7_2.bn.bias \t torch.Size([128])\n",
      "Mixed_6b.branch7x7_2.bn.running_mean \t torch.Size([128])\n",
      "Mixed_6b.branch7x7_2.bn.running_var \t torch.Size([128])\n",
      "Mixed_6b.branch7x7_2.bn.num_batches_tracked \t torch.Size([])\n",
      "Mixed_6b.branch7x7_3.conv.weight \t torch.Size([192, 128, 7, 1])\n",
      "Mixed_6b.branch7x7_3.bn.weight \t torch.Size([192])\n",
      "Mixed_6b.branch7x7_3.bn.bias \t torch.Size([192])\n",
      "Mixed_6b.branch7x7_3.bn.running_mean \t torch.Size([192])\n",
      "Mixed_6b.branch7x7_3.bn.running_var \t torch.Size([192])\n",
      "Mixed_6b.branch7x7_3.bn.num_batches_tracked \t torch.Size([])\n",
      "Mixed_6b.branch7x7dbl_1.conv.weight \t torch.Size([128, 768, 1, 1])\n",
      "Mixed_6b.branch7x7dbl_1.bn.weight \t torch.Size([128])\n",
      "Mixed_6b.branch7x7dbl_1.bn.bias \t torch.Size([128])\n",
      "Mixed_6b.branch7x7dbl_1.bn.running_mean \t torch.Size([128])\n",
      "Mixed_6b.branch7x7dbl_1.bn.running_var \t torch.Size([128])\n",
      "Mixed_6b.branch7x7dbl_1.bn.num_batches_tracked \t torch.Size([])\n",
      "Mixed_6b.branch7x7dbl_2.conv.weight \t torch.Size([128, 128, 7, 1])\n",
      "Mixed_6b.branch7x7dbl_2.bn.weight \t torch.Size([128])\n",
      "Mixed_6b.branch7x7dbl_2.bn.bias \t torch.Size([128])\n",
      "Mixed_6b.branch7x7dbl_2.bn.running_mean \t torch.Size([128])\n",
      "Mixed_6b.branch7x7dbl_2.bn.running_var \t torch.Size([128])\n",
      "Mixed_6b.branch7x7dbl_2.bn.num_batches_tracked \t torch.Size([])\n",
      "Mixed_6b.branch7x7dbl_3.conv.weight \t torch.Size([128, 128, 1, 7])\n",
      "Mixed_6b.branch7x7dbl_3.bn.weight \t torch.Size([128])\n",
      "Mixed_6b.branch7x7dbl_3.bn.bias \t torch.Size([128])\n",
      "Mixed_6b.branch7x7dbl_3.bn.running_mean \t torch.Size([128])\n",
      "Mixed_6b.branch7x7dbl_3.bn.running_var \t torch.Size([128])\n",
      "Mixed_6b.branch7x7dbl_3.bn.num_batches_tracked \t torch.Size([])\n",
      "Mixed_6b.branch7x7dbl_4.conv.weight \t torch.Size([128, 128, 7, 1])\n",
      "Mixed_6b.branch7x7dbl_4.bn.weight \t torch.Size([128])\n",
      "Mixed_6b.branch7x7dbl_4.bn.bias \t torch.Size([128])\n",
      "Mixed_6b.branch7x7dbl_4.bn.running_mean \t torch.Size([128])\n",
      "Mixed_6b.branch7x7dbl_4.bn.running_var \t torch.Size([128])\n",
      "Mixed_6b.branch7x7dbl_4.bn.num_batches_tracked \t torch.Size([])\n",
      "Mixed_6b.branch7x7dbl_5.conv.weight \t torch.Size([192, 128, 1, 7])\n",
      "Mixed_6b.branch7x7dbl_5.bn.weight \t torch.Size([192])\n",
      "Mixed_6b.branch7x7dbl_5.bn.bias \t torch.Size([192])\n",
      "Mixed_6b.branch7x7dbl_5.bn.running_mean \t torch.Size([192])\n",
      "Mixed_6b.branch7x7dbl_5.bn.running_var \t torch.Size([192])\n",
      "Mixed_6b.branch7x7dbl_5.bn.num_batches_tracked \t torch.Size([])\n",
      "Mixed_6b.branch_pool.conv.weight \t torch.Size([192, 768, 1, 1])\n",
      "Mixed_6b.branch_pool.bn.weight \t torch.Size([192])\n",
      "Mixed_6b.branch_pool.bn.bias \t torch.Size([192])\n",
      "Mixed_6b.branch_pool.bn.running_mean \t torch.Size([192])\n",
      "Mixed_6b.branch_pool.bn.running_var \t torch.Size([192])\n",
      "Mixed_6b.branch_pool.bn.num_batches_tracked \t torch.Size([])\n",
      "Mixed_6c.branch1x1.conv.weight \t torch.Size([192, 768, 1, 1])\n",
      "Mixed_6c.branch1x1.bn.weight \t torch.Size([192])\n",
      "Mixed_6c.branch1x1.bn.bias \t torch.Size([192])\n",
      "Mixed_6c.branch1x1.bn.running_mean \t torch.Size([192])\n",
      "Mixed_6c.branch1x1.bn.running_var \t torch.Size([192])\n",
      "Mixed_6c.branch1x1.bn.num_batches_tracked \t torch.Size([])\n",
      "Mixed_6c.branch7x7_1.conv.weight \t torch.Size([160, 768, 1, 1])\n",
      "Mixed_6c.branch7x7_1.bn.weight \t torch.Size([160])\n",
      "Mixed_6c.branch7x7_1.bn.bias \t torch.Size([160])\n",
      "Mixed_6c.branch7x7_1.bn.running_mean \t torch.Size([160])\n",
      "Mixed_6c.branch7x7_1.bn.running_var \t torch.Size([160])\n",
      "Mixed_6c.branch7x7_1.bn.num_batches_tracked \t torch.Size([])\n",
      "Mixed_6c.branch7x7_2.conv.weight \t torch.Size([160, 160, 1, 7])\n",
      "Mixed_6c.branch7x7_2.bn.weight \t torch.Size([160])\n",
      "Mixed_6c.branch7x7_2.bn.bias \t torch.Size([160])\n",
      "Mixed_6c.branch7x7_2.bn.running_mean \t torch.Size([160])\n",
      "Mixed_6c.branch7x7_2.bn.running_var \t torch.Size([160])\n",
      "Mixed_6c.branch7x7_2.bn.num_batches_tracked \t torch.Size([])\n",
      "Mixed_6c.branch7x7_3.conv.weight \t torch.Size([192, 160, 7, 1])\n",
      "Mixed_6c.branch7x7_3.bn.weight \t torch.Size([192])\n",
      "Mixed_6c.branch7x7_3.bn.bias \t torch.Size([192])\n",
      "Mixed_6c.branch7x7_3.bn.running_mean \t torch.Size([192])\n",
      "Mixed_6c.branch7x7_3.bn.running_var \t torch.Size([192])\n",
      "Mixed_6c.branch7x7_3.bn.num_batches_tracked \t torch.Size([])\n",
      "Mixed_6c.branch7x7dbl_1.conv.weight \t torch.Size([160, 768, 1, 1])\n",
      "Mixed_6c.branch7x7dbl_1.bn.weight \t torch.Size([160])\n",
      "Mixed_6c.branch7x7dbl_1.bn.bias \t torch.Size([160])\n",
      "Mixed_6c.branch7x7dbl_1.bn.running_mean \t torch.Size([160])\n",
      "Mixed_6c.branch7x7dbl_1.bn.running_var \t torch.Size([160])\n",
      "Mixed_6c.branch7x7dbl_1.bn.num_batches_tracked \t torch.Size([])\n",
      "Mixed_6c.branch7x7dbl_2.conv.weight \t torch.Size([160, 160, 7, 1])\n",
      "Mixed_6c.branch7x7dbl_2.bn.weight \t torch.Size([160])\n",
      "Mixed_6c.branch7x7dbl_2.bn.bias \t torch.Size([160])\n",
      "Mixed_6c.branch7x7dbl_2.bn.running_mean \t torch.Size([160])\n",
      "Mixed_6c.branch7x7dbl_2.bn.running_var \t torch.Size([160])\n",
      "Mixed_6c.branch7x7dbl_2.bn.num_batches_tracked \t torch.Size([])\n",
      "Mixed_6c.branch7x7dbl_3.conv.weight \t torch.Size([160, 160, 1, 7])\n",
      "Mixed_6c.branch7x7dbl_3.bn.weight \t torch.Size([160])\n",
      "Mixed_6c.branch7x7dbl_3.bn.bias \t torch.Size([160])\n",
      "Mixed_6c.branch7x7dbl_3.bn.running_mean \t torch.Size([160])\n",
      "Mixed_6c.branch7x7dbl_3.bn.running_var \t torch.Size([160])\n",
      "Mixed_6c.branch7x7dbl_3.bn.num_batches_tracked \t torch.Size([])\n",
      "Mixed_6c.branch7x7dbl_4.conv.weight \t torch.Size([160, 160, 7, 1])\n",
      "Mixed_6c.branch7x7dbl_4.bn.weight \t torch.Size([160])\n",
      "Mixed_6c.branch7x7dbl_4.bn.bias \t torch.Size([160])\n",
      "Mixed_6c.branch7x7dbl_4.bn.running_mean \t torch.Size([160])\n",
      "Mixed_6c.branch7x7dbl_4.bn.running_var \t torch.Size([160])\n",
      "Mixed_6c.branch7x7dbl_4.bn.num_batches_tracked \t torch.Size([])\n",
      "Mixed_6c.branch7x7dbl_5.conv.weight \t torch.Size([192, 160, 1, 7])\n",
      "Mixed_6c.branch7x7dbl_5.bn.weight \t torch.Size([192])\n",
      "Mixed_6c.branch7x7dbl_5.bn.bias \t torch.Size([192])\n",
      "Mixed_6c.branch7x7dbl_5.bn.running_mean \t torch.Size([192])\n",
      "Mixed_6c.branch7x7dbl_5.bn.running_var \t torch.Size([192])\n",
      "Mixed_6c.branch7x7dbl_5.bn.num_batches_tracked \t torch.Size([])\n",
      "Mixed_6c.branch_pool.conv.weight \t torch.Size([192, 768, 1, 1])\n",
      "Mixed_6c.branch_pool.bn.weight \t torch.Size([192])\n",
      "Mixed_6c.branch_pool.bn.bias \t torch.Size([192])\n",
      "Mixed_6c.branch_pool.bn.running_mean \t torch.Size([192])\n",
      "Mixed_6c.branch_pool.bn.running_var \t torch.Size([192])\n",
      "Mixed_6c.branch_pool.bn.num_batches_tracked \t torch.Size([])\n",
      "Mixed_6d.branch1x1.conv.weight \t torch.Size([192, 768, 1, 1])\n",
      "Mixed_6d.branch1x1.bn.weight \t torch.Size([192])\n",
      "Mixed_6d.branch1x1.bn.bias \t torch.Size([192])\n",
      "Mixed_6d.branch1x1.bn.running_mean \t torch.Size([192])\n",
      "Mixed_6d.branch1x1.bn.running_var \t torch.Size([192])\n",
      "Mixed_6d.branch1x1.bn.num_batches_tracked \t torch.Size([])\n",
      "Mixed_6d.branch7x7_1.conv.weight \t torch.Size([160, 768, 1, 1])\n",
      "Mixed_6d.branch7x7_1.bn.weight \t torch.Size([160])\n",
      "Mixed_6d.branch7x7_1.bn.bias \t torch.Size([160])\n",
      "Mixed_6d.branch7x7_1.bn.running_mean \t torch.Size([160])\n",
      "Mixed_6d.branch7x7_1.bn.running_var \t torch.Size([160])\n",
      "Mixed_6d.branch7x7_1.bn.num_batches_tracked \t torch.Size([])\n",
      "Mixed_6d.branch7x7_2.conv.weight \t torch.Size([160, 160, 1, 7])\n",
      "Mixed_6d.branch7x7_2.bn.weight \t torch.Size([160])\n",
      "Mixed_6d.branch7x7_2.bn.bias \t torch.Size([160])\n",
      "Mixed_6d.branch7x7_2.bn.running_mean \t torch.Size([160])\n",
      "Mixed_6d.branch7x7_2.bn.running_var \t torch.Size([160])\n",
      "Mixed_6d.branch7x7_2.bn.num_batches_tracked \t torch.Size([])\n",
      "Mixed_6d.branch7x7_3.conv.weight \t torch.Size([192, 160, 7, 1])\n",
      "Mixed_6d.branch7x7_3.bn.weight \t torch.Size([192])\n",
      "Mixed_6d.branch7x7_3.bn.bias \t torch.Size([192])\n",
      "Mixed_6d.branch7x7_3.bn.running_mean \t torch.Size([192])\n",
      "Mixed_6d.branch7x7_3.bn.running_var \t torch.Size([192])\n",
      "Mixed_6d.branch7x7_3.bn.num_batches_tracked \t torch.Size([])\n",
      "Mixed_6d.branch7x7dbl_1.conv.weight \t torch.Size([160, 768, 1, 1])\n",
      "Mixed_6d.branch7x7dbl_1.bn.weight \t torch.Size([160])\n",
      "Mixed_6d.branch7x7dbl_1.bn.bias \t torch.Size([160])\n",
      "Mixed_6d.branch7x7dbl_1.bn.running_mean \t torch.Size([160])\n",
      "Mixed_6d.branch7x7dbl_1.bn.running_var \t torch.Size([160])\n",
      "Mixed_6d.branch7x7dbl_1.bn.num_batches_tracked \t torch.Size([])\n",
      "Mixed_6d.branch7x7dbl_2.conv.weight \t torch.Size([160, 160, 7, 1])\n",
      "Mixed_6d.branch7x7dbl_2.bn.weight \t torch.Size([160])\n",
      "Mixed_6d.branch7x7dbl_2.bn.bias \t torch.Size([160])\n",
      "Mixed_6d.branch7x7dbl_2.bn.running_mean \t torch.Size([160])\n"
     ]
    },
    {
     "name": "stdout",
     "output_type": "stream",
     "text": [
      "Mixed_6d.branch7x7dbl_2.bn.running_var \t torch.Size([160])\n",
      "Mixed_6d.branch7x7dbl_2.bn.num_batches_tracked \t torch.Size([])\n",
      "Mixed_6d.branch7x7dbl_3.conv.weight \t torch.Size([160, 160, 1, 7])\n",
      "Mixed_6d.branch7x7dbl_3.bn.weight \t torch.Size([160])\n",
      "Mixed_6d.branch7x7dbl_3.bn.bias \t torch.Size([160])\n",
      "Mixed_6d.branch7x7dbl_3.bn.running_mean \t torch.Size([160])\n",
      "Mixed_6d.branch7x7dbl_3.bn.running_var \t torch.Size([160])\n",
      "Mixed_6d.branch7x7dbl_3.bn.num_batches_tracked \t torch.Size([])\n",
      "Mixed_6d.branch7x7dbl_4.conv.weight \t torch.Size([160, 160, 7, 1])\n",
      "Mixed_6d.branch7x7dbl_4.bn.weight \t torch.Size([160])\n",
      "Mixed_6d.branch7x7dbl_4.bn.bias \t torch.Size([160])\n",
      "Mixed_6d.branch7x7dbl_4.bn.running_mean \t torch.Size([160])\n",
      "Mixed_6d.branch7x7dbl_4.bn.running_var \t torch.Size([160])\n",
      "Mixed_6d.branch7x7dbl_4.bn.num_batches_tracked \t torch.Size([])\n",
      "Mixed_6d.branch7x7dbl_5.conv.weight \t torch.Size([192, 160, 1, 7])\n",
      "Mixed_6d.branch7x7dbl_5.bn.weight \t torch.Size([192])\n",
      "Mixed_6d.branch7x7dbl_5.bn.bias \t torch.Size([192])\n",
      "Mixed_6d.branch7x7dbl_5.bn.running_mean \t torch.Size([192])\n",
      "Mixed_6d.branch7x7dbl_5.bn.running_var \t torch.Size([192])\n",
      "Mixed_6d.branch7x7dbl_5.bn.num_batches_tracked \t torch.Size([])\n",
      "Mixed_6d.branch_pool.conv.weight \t torch.Size([192, 768, 1, 1])\n",
      "Mixed_6d.branch_pool.bn.weight \t torch.Size([192])\n",
      "Mixed_6d.branch_pool.bn.bias \t torch.Size([192])\n",
      "Mixed_6d.branch_pool.bn.running_mean \t torch.Size([192])\n",
      "Mixed_6d.branch_pool.bn.running_var \t torch.Size([192])\n",
      "Mixed_6d.branch_pool.bn.num_batches_tracked \t torch.Size([])\n",
      "Mixed_6e.branch1x1.conv.weight \t torch.Size([192, 768, 1, 1])\n",
      "Mixed_6e.branch1x1.bn.weight \t torch.Size([192])\n",
      "Mixed_6e.branch1x1.bn.bias \t torch.Size([192])\n",
      "Mixed_6e.branch1x1.bn.running_mean \t torch.Size([192])\n",
      "Mixed_6e.branch1x1.bn.running_var \t torch.Size([192])\n",
      "Mixed_6e.branch1x1.bn.num_batches_tracked \t torch.Size([])\n",
      "Mixed_6e.branch7x7_1.conv.weight \t torch.Size([192, 768, 1, 1])\n",
      "Mixed_6e.branch7x7_1.bn.weight \t torch.Size([192])\n",
      "Mixed_6e.branch7x7_1.bn.bias \t torch.Size([192])\n",
      "Mixed_6e.branch7x7_1.bn.running_mean \t torch.Size([192])\n",
      "Mixed_6e.branch7x7_1.bn.running_var \t torch.Size([192])\n",
      "Mixed_6e.branch7x7_1.bn.num_batches_tracked \t torch.Size([])\n",
      "Mixed_6e.branch7x7_2.conv.weight \t torch.Size([192, 192, 1, 7])\n",
      "Mixed_6e.branch7x7_2.bn.weight \t torch.Size([192])\n",
      "Mixed_6e.branch7x7_2.bn.bias \t torch.Size([192])\n",
      "Mixed_6e.branch7x7_2.bn.running_mean \t torch.Size([192])\n",
      "Mixed_6e.branch7x7_2.bn.running_var \t torch.Size([192])\n",
      "Mixed_6e.branch7x7_2.bn.num_batches_tracked \t torch.Size([])\n",
      "Mixed_6e.branch7x7_3.conv.weight \t torch.Size([192, 192, 7, 1])\n",
      "Mixed_6e.branch7x7_3.bn.weight \t torch.Size([192])\n",
      "Mixed_6e.branch7x7_3.bn.bias \t torch.Size([192])\n",
      "Mixed_6e.branch7x7_3.bn.running_mean \t torch.Size([192])\n",
      "Mixed_6e.branch7x7_3.bn.running_var \t torch.Size([192])\n",
      "Mixed_6e.branch7x7_3.bn.num_batches_tracked \t torch.Size([])\n",
      "Mixed_6e.branch7x7dbl_1.conv.weight \t torch.Size([192, 768, 1, 1])\n",
      "Mixed_6e.branch7x7dbl_1.bn.weight \t torch.Size([192])\n",
      "Mixed_6e.branch7x7dbl_1.bn.bias \t torch.Size([192])\n",
      "Mixed_6e.branch7x7dbl_1.bn.running_mean \t torch.Size([192])\n",
      "Mixed_6e.branch7x7dbl_1.bn.running_var \t torch.Size([192])\n",
      "Mixed_6e.branch7x7dbl_1.bn.num_batches_tracked \t torch.Size([])\n",
      "Mixed_6e.branch7x7dbl_2.conv.weight \t torch.Size([192, 192, 7, 1])\n",
      "Mixed_6e.branch7x7dbl_2.bn.weight \t torch.Size([192])\n",
      "Mixed_6e.branch7x7dbl_2.bn.bias \t torch.Size([192])\n",
      "Mixed_6e.branch7x7dbl_2.bn.running_mean \t torch.Size([192])\n",
      "Mixed_6e.branch7x7dbl_2.bn.running_var \t torch.Size([192])\n",
      "Mixed_6e.branch7x7dbl_2.bn.num_batches_tracked \t torch.Size([])\n",
      "Mixed_6e.branch7x7dbl_3.conv.weight \t torch.Size([192, 192, 1, 7])\n",
      "Mixed_6e.branch7x7dbl_3.bn.weight \t torch.Size([192])\n",
      "Mixed_6e.branch7x7dbl_3.bn.bias \t torch.Size([192])\n",
      "Mixed_6e.branch7x7dbl_3.bn.running_mean \t torch.Size([192])\n",
      "Mixed_6e.branch7x7dbl_3.bn.running_var \t torch.Size([192])\n",
      "Mixed_6e.branch7x7dbl_3.bn.num_batches_tracked \t torch.Size([])\n",
      "Mixed_6e.branch7x7dbl_4.conv.weight \t torch.Size([192, 192, 7, 1])\n",
      "Mixed_6e.branch7x7dbl_4.bn.weight \t torch.Size([192])\n",
      "Mixed_6e.branch7x7dbl_4.bn.bias \t torch.Size([192])\n",
      "Mixed_6e.branch7x7dbl_4.bn.running_mean \t torch.Size([192])\n",
      "Mixed_6e.branch7x7dbl_4.bn.running_var \t torch.Size([192])\n",
      "Mixed_6e.branch7x7dbl_4.bn.num_batches_tracked \t torch.Size([])\n",
      "Mixed_6e.branch7x7dbl_5.conv.weight \t torch.Size([192, 192, 1, 7])\n",
      "Mixed_6e.branch7x7dbl_5.bn.weight \t torch.Size([192])\n",
      "Mixed_6e.branch7x7dbl_5.bn.bias \t torch.Size([192])\n",
      "Mixed_6e.branch7x7dbl_5.bn.running_mean \t torch.Size([192])\n",
      "Mixed_6e.branch7x7dbl_5.bn.running_var \t torch.Size([192])\n",
      "Mixed_6e.branch7x7dbl_5.bn.num_batches_tracked \t torch.Size([])\n",
      "Mixed_6e.branch_pool.conv.weight \t torch.Size([192, 768, 1, 1])\n",
      "Mixed_6e.branch_pool.bn.weight \t torch.Size([192])\n",
      "Mixed_6e.branch_pool.bn.bias \t torch.Size([192])\n",
      "Mixed_6e.branch_pool.bn.running_mean \t torch.Size([192])\n",
      "Mixed_6e.branch_pool.bn.running_var \t torch.Size([192])\n",
      "Mixed_6e.branch_pool.bn.num_batches_tracked \t torch.Size([])\n",
      "AuxLogits.conv0.conv.weight \t torch.Size([128, 768, 1, 1])\n",
      "AuxLogits.conv0.bn.weight \t torch.Size([128])\n",
      "AuxLogits.conv0.bn.bias \t torch.Size([128])\n",
      "AuxLogits.conv0.bn.running_mean \t torch.Size([128])\n",
      "AuxLogits.conv0.bn.running_var \t torch.Size([128])\n",
      "AuxLogits.conv0.bn.num_batches_tracked \t torch.Size([])\n",
      "AuxLogits.conv1.conv.weight \t torch.Size([768, 128, 5, 5])\n",
      "AuxLogits.conv1.bn.weight \t torch.Size([768])\n",
      "AuxLogits.conv1.bn.bias \t torch.Size([768])\n",
      "AuxLogits.conv1.bn.running_mean \t torch.Size([768])\n",
      "AuxLogits.conv1.bn.running_var \t torch.Size([768])\n",
      "AuxLogits.conv1.bn.num_batches_tracked \t torch.Size([])\n",
      "AuxLogits.fc.weight \t torch.Size([101, 768])\n",
      "AuxLogits.fc.bias \t torch.Size([101])\n",
      "Mixed_7a.branch3x3_1.conv.weight \t torch.Size([192, 768, 1, 1])\n",
      "Mixed_7a.branch3x3_1.bn.weight \t torch.Size([192])\n",
      "Mixed_7a.branch3x3_1.bn.bias \t torch.Size([192])\n",
      "Mixed_7a.branch3x3_1.bn.running_mean \t torch.Size([192])\n",
      "Mixed_7a.branch3x3_1.bn.running_var \t torch.Size([192])\n",
      "Mixed_7a.branch3x3_1.bn.num_batches_tracked \t torch.Size([])\n",
      "Mixed_7a.branch3x3_2.conv.weight \t torch.Size([320, 192, 3, 3])\n",
      "Mixed_7a.branch3x3_2.bn.weight \t torch.Size([320])\n",
      "Mixed_7a.branch3x3_2.bn.bias \t torch.Size([320])\n",
      "Mixed_7a.branch3x3_2.bn.running_mean \t torch.Size([320])\n",
      "Mixed_7a.branch3x3_2.bn.running_var \t torch.Size([320])\n",
      "Mixed_7a.branch3x3_2.bn.num_batches_tracked \t torch.Size([])\n",
      "Mixed_7a.branch7x7x3_1.conv.weight \t torch.Size([192, 768, 1, 1])\n",
      "Mixed_7a.branch7x7x3_1.bn.weight \t torch.Size([192])\n",
      "Mixed_7a.branch7x7x3_1.bn.bias \t torch.Size([192])\n",
      "Mixed_7a.branch7x7x3_1.bn.running_mean \t torch.Size([192])\n",
      "Mixed_7a.branch7x7x3_1.bn.running_var \t torch.Size([192])\n",
      "Mixed_7a.branch7x7x3_1.bn.num_batches_tracked \t torch.Size([])\n",
      "Mixed_7a.branch7x7x3_2.conv.weight \t torch.Size([192, 192, 1, 7])\n",
      "Mixed_7a.branch7x7x3_2.bn.weight \t torch.Size([192])\n",
      "Mixed_7a.branch7x7x3_2.bn.bias \t torch.Size([192])\n",
      "Mixed_7a.branch7x7x3_2.bn.running_mean \t torch.Size([192])\n",
      "Mixed_7a.branch7x7x3_2.bn.running_var \t torch.Size([192])\n",
      "Mixed_7a.branch7x7x3_2.bn.num_batches_tracked \t torch.Size([])\n",
      "Mixed_7a.branch7x7x3_3.conv.weight \t torch.Size([192, 192, 7, 1])\n",
      "Mixed_7a.branch7x7x3_3.bn.weight \t torch.Size([192])\n",
      "Mixed_7a.branch7x7x3_3.bn.bias \t torch.Size([192])\n",
      "Mixed_7a.branch7x7x3_3.bn.running_mean \t torch.Size([192])\n",
      "Mixed_7a.branch7x7x3_3.bn.running_var \t torch.Size([192])\n",
      "Mixed_7a.branch7x7x3_3.bn.num_batches_tracked \t torch.Size([])\n",
      "Mixed_7a.branch7x7x3_4.conv.weight \t torch.Size([192, 192, 3, 3])\n",
      "Mixed_7a.branch7x7x3_4.bn.weight \t torch.Size([192])\n",
      "Mixed_7a.branch7x7x3_4.bn.bias \t torch.Size([192])\n",
      "Mixed_7a.branch7x7x3_4.bn.running_mean \t torch.Size([192])\n",
      "Mixed_7a.branch7x7x3_4.bn.running_var \t torch.Size([192])\n",
      "Mixed_7a.branch7x7x3_4.bn.num_batches_tracked \t torch.Size([])\n",
      "Mixed_7b.branch1x1.conv.weight \t torch.Size([320, 1280, 1, 1])\n",
      "Mixed_7b.branch1x1.bn.weight \t torch.Size([320])\n",
      "Mixed_7b.branch1x1.bn.bias \t torch.Size([320])\n",
      "Mixed_7b.branch1x1.bn.running_mean \t torch.Size([320])\n",
      "Mixed_7b.branch1x1.bn.running_var \t torch.Size([320])\n",
      "Mixed_7b.branch1x1.bn.num_batches_tracked \t torch.Size([])\n",
      "Mixed_7b.branch3x3_1.conv.weight \t torch.Size([384, 1280, 1, 1])\n",
      "Mixed_7b.branch3x3_1.bn.weight \t torch.Size([384])\n",
      "Mixed_7b.branch3x3_1.bn.bias \t torch.Size([384])\n",
      "Mixed_7b.branch3x3_1.bn.running_mean \t torch.Size([384])\n",
      "Mixed_7b.branch3x3_1.bn.running_var \t torch.Size([384])\n",
      "Mixed_7b.branch3x3_1.bn.num_batches_tracked \t torch.Size([])\n",
      "Mixed_7b.branch3x3_2a.conv.weight \t torch.Size([384, 384, 1, 3])\n",
      "Mixed_7b.branch3x3_2a.bn.weight \t torch.Size([384])\n",
      "Mixed_7b.branch3x3_2a.bn.bias \t torch.Size([384])\n",
      "Mixed_7b.branch3x3_2a.bn.running_mean \t torch.Size([384])\n",
      "Mixed_7b.branch3x3_2a.bn.running_var \t torch.Size([384])\n",
      "Mixed_7b.branch3x3_2a.bn.num_batches_tracked \t torch.Size([])\n",
      "Mixed_7b.branch3x3_2b.conv.weight \t torch.Size([384, 384, 3, 1])\n",
      "Mixed_7b.branch3x3_2b.bn.weight \t torch.Size([384])\n",
      "Mixed_7b.branch3x3_2b.bn.bias \t torch.Size([384])\n",
      "Mixed_7b.branch3x3_2b.bn.running_mean \t torch.Size([384])\n",
      "Mixed_7b.branch3x3_2b.bn.running_var \t torch.Size([384])\n",
      "Mixed_7b.branch3x3_2b.bn.num_batches_tracked \t torch.Size([])\n",
      "Mixed_7b.branch3x3dbl_1.conv.weight \t torch.Size([448, 1280, 1, 1])\n",
      "Mixed_7b.branch3x3dbl_1.bn.weight \t torch.Size([448])\n",
      "Mixed_7b.branch3x3dbl_1.bn.bias \t torch.Size([448])\n",
      "Mixed_7b.branch3x3dbl_1.bn.running_mean \t torch.Size([448])\n",
      "Mixed_7b.branch3x3dbl_1.bn.running_var \t torch.Size([448])\n",
      "Mixed_7b.branch3x3dbl_1.bn.num_batches_tracked \t torch.Size([])\n",
      "Mixed_7b.branch3x3dbl_2.conv.weight \t torch.Size([384, 448, 3, 3])\n",
      "Mixed_7b.branch3x3dbl_2.bn.weight \t torch.Size([384])\n",
      "Mixed_7b.branch3x3dbl_2.bn.bias \t torch.Size([384])\n",
      "Mixed_7b.branch3x3dbl_2.bn.running_mean \t torch.Size([384])\n",
      "Mixed_7b.branch3x3dbl_2.bn.running_var \t torch.Size([384])\n",
      "Mixed_7b.branch3x3dbl_2.bn.num_batches_tracked \t torch.Size([])\n",
      "Mixed_7b.branch3x3dbl_3a.conv.weight \t torch.Size([384, 384, 1, 3])\n",
      "Mixed_7b.branch3x3dbl_3a.bn.weight \t torch.Size([384])\n",
      "Mixed_7b.branch3x3dbl_3a.bn.bias \t torch.Size([384])\n",
      "Mixed_7b.branch3x3dbl_3a.bn.running_mean \t torch.Size([384])\n",
      "Mixed_7b.branch3x3dbl_3a.bn.running_var \t torch.Size([384])\n",
      "Mixed_7b.branch3x3dbl_3a.bn.num_batches_tracked \t torch.Size([])\n",
      "Mixed_7b.branch3x3dbl_3b.conv.weight \t torch.Size([384, 384, 3, 1])\n",
      "Mixed_7b.branch3x3dbl_3b.bn.weight \t torch.Size([384])\n",
      "Mixed_7b.branch3x3dbl_3b.bn.bias \t torch.Size([384])\n",
      "Mixed_7b.branch3x3dbl_3b.bn.running_mean \t torch.Size([384])\n",
      "Mixed_7b.branch3x3dbl_3b.bn.running_var \t torch.Size([384])\n",
      "Mixed_7b.branch3x3dbl_3b.bn.num_batches_tracked \t torch.Size([])\n",
      "Mixed_7b.branch_pool.conv.weight \t torch.Size([192, 1280, 1, 1])\n",
      "Mixed_7b.branch_pool.bn.weight \t torch.Size([192])\n",
      "Mixed_7b.branch_pool.bn.bias \t torch.Size([192])\n",
      "Mixed_7b.branch_pool.bn.running_mean \t torch.Size([192])\n",
      "Mixed_7b.branch_pool.bn.running_var \t torch.Size([192])\n",
      "Mixed_7b.branch_pool.bn.num_batches_tracked \t torch.Size([])\n",
      "Mixed_7c.branch1x1.conv.weight \t torch.Size([320, 2048, 1, 1])\n",
      "Mixed_7c.branch1x1.bn.weight \t torch.Size([320])\n",
      "Mixed_7c.branch1x1.bn.bias \t torch.Size([320])\n",
      "Mixed_7c.branch1x1.bn.running_mean \t torch.Size([320])\n",
      "Mixed_7c.branch1x1.bn.running_var \t torch.Size([320])\n",
      "Mixed_7c.branch1x1.bn.num_batches_tracked \t torch.Size([])\n",
      "Mixed_7c.branch3x3_1.conv.weight \t torch.Size([384, 2048, 1, 1])\n",
      "Mixed_7c.branch3x3_1.bn.weight \t torch.Size([384])\n",
      "Mixed_7c.branch3x3_1.bn.bias \t torch.Size([384])\n",
      "Mixed_7c.branch3x3_1.bn.running_mean \t torch.Size([384])\n",
      "Mixed_7c.branch3x3_1.bn.running_var \t torch.Size([384])\n",
      "Mixed_7c.branch3x3_1.bn.num_batches_tracked \t torch.Size([])\n",
      "Mixed_7c.branch3x3_2a.conv.weight \t torch.Size([384, 384, 1, 3])\n",
      "Mixed_7c.branch3x3_2a.bn.weight \t torch.Size([384])\n",
      "Mixed_7c.branch3x3_2a.bn.bias \t torch.Size([384])\n",
      "Mixed_7c.branch3x3_2a.bn.running_mean \t torch.Size([384])\n",
      "Mixed_7c.branch3x3_2a.bn.running_var \t torch.Size([384])\n",
      "Mixed_7c.branch3x3_2a.bn.num_batches_tracked \t torch.Size([])\n",
      "Mixed_7c.branch3x3_2b.conv.weight \t torch.Size([384, 384, 3, 1])\n",
      "Mixed_7c.branch3x3_2b.bn.weight \t torch.Size([384])\n",
      "Mixed_7c.branch3x3_2b.bn.bias \t torch.Size([384])\n",
      "Mixed_7c.branch3x3_2b.bn.running_mean \t torch.Size([384])\n",
      "Mixed_7c.branch3x3_2b.bn.running_var \t torch.Size([384])\n",
      "Mixed_7c.branch3x3_2b.bn.num_batches_tracked \t torch.Size([])\n",
      "Mixed_7c.branch3x3dbl_1.conv.weight \t torch.Size([448, 2048, 1, 1])\n",
      "Mixed_7c.branch3x3dbl_1.bn.weight \t torch.Size([448])\n",
      "Mixed_7c.branch3x3dbl_1.bn.bias \t torch.Size([448])\n",
      "Mixed_7c.branch3x3dbl_1.bn.running_mean \t torch.Size([448])\n",
      "Mixed_7c.branch3x3dbl_1.bn.running_var \t torch.Size([448])\n",
      "Mixed_7c.branch3x3dbl_1.bn.num_batches_tracked \t torch.Size([])\n",
      "Mixed_7c.branch3x3dbl_2.conv.weight \t torch.Size([384, 448, 3, 3])\n",
      "Mixed_7c.branch3x3dbl_2.bn.weight \t torch.Size([384])\n",
      "Mixed_7c.branch3x3dbl_2.bn.bias \t torch.Size([384])\n",
      "Mixed_7c.branch3x3dbl_2.bn.running_mean \t torch.Size([384])\n",
      "Mixed_7c.branch3x3dbl_2.bn.running_var \t torch.Size([384])\n",
      "Mixed_7c.branch3x3dbl_2.bn.num_batches_tracked \t torch.Size([])\n",
      "Mixed_7c.branch3x3dbl_3a.conv.weight \t torch.Size([384, 384, 1, 3])\n",
      "Mixed_7c.branch3x3dbl_3a.bn.weight \t torch.Size([384])\n",
      "Mixed_7c.branch3x3dbl_3a.bn.bias \t torch.Size([384])\n",
      "Mixed_7c.branch3x3dbl_3a.bn.running_mean \t torch.Size([384])\n",
      "Mixed_7c.branch3x3dbl_3a.bn.running_var \t torch.Size([384])\n",
      "Mixed_7c.branch3x3dbl_3a.bn.num_batches_tracked \t torch.Size([])\n",
      "Mixed_7c.branch3x3dbl_3b.conv.weight \t torch.Size([384, 384, 3, 1])\n",
      "Mixed_7c.branch3x3dbl_3b.bn.weight \t torch.Size([384])\n"
     ]
    },
    {
     "name": "stdout",
     "output_type": "stream",
     "text": [
      "Mixed_7c.branch3x3dbl_3b.bn.bias \t torch.Size([384])\n",
      "Mixed_7c.branch3x3dbl_3b.bn.running_mean \t torch.Size([384])\n",
      "Mixed_7c.branch3x3dbl_3b.bn.running_var \t torch.Size([384])\n",
      "Mixed_7c.branch3x3dbl_3b.bn.num_batches_tracked \t torch.Size([])\n",
      "Mixed_7c.branch_pool.conv.weight \t torch.Size([192, 2048, 1, 1])\n",
      "Mixed_7c.branch_pool.bn.weight \t torch.Size([192])\n",
      "Mixed_7c.branch_pool.bn.bias \t torch.Size([192])\n",
      "Mixed_7c.branch_pool.bn.running_mean \t torch.Size([192])\n",
      "Mixed_7c.branch_pool.bn.running_var \t torch.Size([192])\n",
      "Mixed_7c.branch_pool.bn.num_batches_tracked \t torch.Size([])\n",
      "fc.weight \t torch.Size([101, 2048])\n",
      "fc.bias \t torch.Size([101])\n"
     ]
    }
   ],
   "source": [
    "# Print model's state_dict\n",
    "print(\"Model's state_dict:\")\n",
    "for param_tensor in model_inception.state_dict():\n",
    "    print(param_tensor, \"\\t\", model_inception.state_dict()[param_tensor].size())"
   ]
  },
  {
   "cell_type": "code",
   "execution_count": 18,
   "metadata": {},
   "outputs": [
    {
     "name": "stdout",
     "output_type": "stream",
     "text": [
      "Saving model to /home/foodlovers/FoodVisor/trained_models/InceptionV3/model_9_epoch.pt ...\n",
      "Done !\n"
     ]
    }
   ],
   "source": [
    "path_save = '/home/foodlovers/FoodVisor/trained_models/InceptionV3/model_9_epoch.pt'\n",
    "print(\"Saving model to\",path_save,\"...\")\n",
    "torch.save(model_inception.state_dict(), path_save)\n",
    "print(\"Done !\")"
   ]
  },
  {
   "cell_type": "markdown",
   "metadata": {},
   "source": [
    "### Validation"
   ]
  },
  {
   "cell_type": "code",
   "execution_count": null,
   "metadata": {},
   "outputs": [],
   "source": [
    "train_model(train=False,validate=True)"
   ]
  },
  {
   "cell_type": "markdown",
   "metadata": {},
   "source": [
    "### Plot loss & accuracy history\n",
    "I forgot to return the history, so I do it by hand ..."
   ]
  },
  {
   "cell_type": "code",
   "execution_count": 19,
   "metadata": {},
   "outputs": [],
   "source": [
    "history=[[0.1224 ,0.0915 ,0.0763 ,0.0648 ,0.0549 ,0.0466 ,0.0392 ,0.0333 ,0.0274 ],\n",
    "[0.3394,0.4945,0.5691,0.6249,0.6760,0.7152,0.7521,0.7811,0.8165],\n",
    "[0.0732 ,0.0719 ,0.0628 ,0.0639 ,0.0619 ,0.0638 ,0.0651 ,0.0664 ,0.0711 ],\n",
    "[0.4549 ,0.4576 ,0.5349 ,0.5314 ,0.5581 ,0.5561 ,0.5637 ,0.5573 ,0.5578 ]]"
   ]
  },
  {
   "cell_type": "code",
   "execution_count": 21,
   "metadata": {},
   "outputs": [
    {
     "data": {
      "text/plain": [
       "Text(0.5, 1.0, 'Loss history')"
      ]
     },
     "execution_count": 21,
     "metadata": {},
     "output_type": "execute_result"
    },
    {
     "data": {
      "image/png": "[encoded data removed]",
      "text/plain": [
       "<Figure size 432x288 with 1 Axes>"
      ]
     },
     "metadata": {
      "needs_background": "light"
     },
     "output_type": "display_data"
    }
   ],
   "source": [
    "plt.plot(history[0],color='red',label='Train')\n",
    "plt.plot(history[2],color='orange',label='Test')\n",
    "plt.legend()\n",
    "plt.plot()\n",
    "plt.title(\"Loss history\")"
   ]
  },
  {
   "cell_type": "code",
   "execution_count": 22,
   "metadata": {},
   "outputs": [
    {
     "data": {
      "text/plain": [
       "Text(0.5, 1.0, 'Training accuracy history')"
      ]
     },
     "execution_count": 22,
     "metadata": {},
     "output_type": "execute_result"
    },
    {
     "data": {
      "image/png": "[encoded data removed]",
      "text/plain": [
       "<Figure size 432x288 with 1 Axes>"
      ]
     },
     "metadata": {
      "needs_background": "light"
     },
     "output_type": "display_data"
    }
   ],
   "source": [
    "plt.plot(history[1],color='red',label='Train')\n",
    "plt.plot(history[3],color='orange',label='Test')\n",
    "plt.legend()\n",
    "plt.plot()\n",
    "plt.title(\"Training accuracy history\")"
   ]
  }
 ],
 "metadata": {
  "kernelspec": {
   "display_name": "Python 3",
   "language": "python",
   "name": "python3"
  },
  "language_info": {
   "codemirror_mode": {
    "name": "ipython",
    "version": 3
   },
   "file_extension": ".py",
   "mimetype": "text/x-python",
   "name": "python",
   "nbconvert_exporter": "python",
   "pygments_lexer": "ipython3",
   "version": "3.7.1"
  }
 },
 "nbformat": 4,
 "nbformat_minor": 2
}
