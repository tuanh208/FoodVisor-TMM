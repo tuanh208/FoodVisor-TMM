{
 "cells": [
  {
   "cell_type": "markdown",
   "metadata": {},
   "source": [
    "# Imports"
   ]
  },
  {
   "cell_type": "code",
   "execution_count": 1,
   "metadata": {},
   "outputs": [],
   "source": [
    "import os\n",
    "import torchvision\n",
    "from torchvision import models,transforms,datasets\n",
    "import torch.nn as nn"
   ]
  },
  {
   "cell_type": "code",
   "execution_count": null,
   "metadata": {},
   "outputs": [],
   "source": [
    "from PIL import Image\n",
    "import numpy as np\n",
    "import matplotlib.pyplot as plt\n",
    "\n",
    "\n",
    "from torch.autograd import Variable\n",
    "\n",
    "\n",
    "import torch\n",
    "import bcolz\n",
    "import time\n",
    "%matplotlib inline"
   ]
  },
  {
   "cell_type": "code",
   "execution_count": null,
   "metadata": {},
   "outputs": [],
   "source": [
    "!pip install bcolz"
   ]
  },
  {
   "cell_type": "code",
   "execution_count": 2,
   "metadata": {},
   "outputs": [],
   "source": [
    "import imp\n",
    "import utils; imp.reload(utils)\n",
    "from utils import *"
   ]
  },
  {
   "cell_type": "markdown",
   "metadata": {},
   "source": [
    "GPU test"
   ]
  },
  {
   "cell_type": "code",
   "execution_count": 3,
   "metadata": {
    "scrolled": true
   },
   "outputs": [
    {
     "name": "stdout",
     "output_type": "stream",
     "text": [
      "Using gpu: True \n"
     ]
    }
   ],
   "source": [
    "use_gpu = torch.cuda.is_available()\n",
    "print('Using gpu: %s ' % use_gpu)"
   ]
  },
  {
   "cell_type": "code",
   "execution_count": null,
   "metadata": {},
   "outputs": [],
   "source": [
    "a = torch.tensor(2)\n",
    "a.cuda()"
   ]
  },
  {
   "cell_type": "code",
   "execution_count": null,
   "metadata": {},
   "outputs": [],
   "source": [
    "use_gpu =  False"
   ]
  },
  {
   "cell_type": "markdown",
   "metadata": {},
   "source": [
    "# Data process"
   ]
  },
  {
   "cell_type": "code",
   "execution_count": 4,
   "metadata": {},
   "outputs": [],
   "source": [
    "# data_dir = 'D:\\\\Tu Beo\\\\Education\\\\FoodVisor\\\\data\\\\UPMC_Food101\\\\images'\n",
    "data_dir = '/home/foodlovers/FoodVisor/data/images'"
   ]
  },
  {
   "cell_type": "code",
   "execution_count": 5,
   "metadata": {},
   "outputs": [],
   "source": [
    "dsets = {x: datasets.ImageFolder(os.path.join(data_dir, x), prep2)\n",
    "         for x in ['train', 'test']}"
   ]
  },
  {
   "cell_type": "code",
   "execution_count": 6,
   "metadata": {},
   "outputs": [
    {
     "data": {
      "text/plain": [
       "101"
      ]
     },
     "execution_count": 6,
     "metadata": {},
     "output_type": "execute_result"
    }
   ],
   "source": [
    "len(dsets['train'].classes)"
   ]
  },
  {
   "cell_type": "code",
   "execution_count": 7,
   "metadata": {
    "scrolled": true
   },
   "outputs": [
    {
     "data": {
      "text/plain": [
       "{'apple_pie': 0,\n",
       " 'baby_back_ribs': 1,\n",
       " 'baklava': 2,\n",
       " 'beef_carpaccio': 3,\n",
       " 'beef_tartare': 4,\n",
       " 'beet_salad': 5,\n",
       " 'beignets': 6,\n",
       " 'bibimbap': 7,\n",
       " 'bread_pudding': 8,\n",
       " 'breakfast_burrito': 9,\n",
       " 'bruschetta': 10,\n",
       " 'caesar_salad': 11,\n",
       " 'cannoli': 12,\n",
       " 'caprese_salad': 13,\n",
       " 'carrot_cake': 14,\n",
       " 'ceviche': 15,\n",
       " 'cheese_plate': 16,\n",
       " 'cheesecake': 17,\n",
       " 'chicken_curry': 18,\n",
       " 'chicken_quesadilla': 19,\n",
       " 'chicken_wings': 20,\n",
       " 'chocolate_cake': 21,\n",
       " 'chocolate_mousse': 22,\n",
       " 'churros': 23,\n",
       " 'clam_chowder': 24,\n",
       " 'club_sandwich': 25,\n",
       " 'crab_cakes': 26,\n",
       " 'creme_brulee': 27,\n",
       " 'croque_madame': 28,\n",
       " 'cup_cakes': 29,\n",
       " 'deviled_eggs': 30,\n",
       " 'donuts': 31,\n",
       " 'dumplings': 32,\n",
       " 'edamame': 33,\n",
       " 'eggs_benedict': 34,\n",
       " 'escargots': 35,\n",
       " 'falafel': 36,\n",
       " 'filet_mignon': 37,\n",
       " 'fish_and_chips': 38,\n",
       " 'foie_gras': 39,\n",
       " 'french_fries': 40,\n",
       " 'french_onion_soup': 41,\n",
       " 'french_toast': 42,\n",
       " 'fried_calamari': 43,\n",
       " 'fried_rice': 44,\n",
       " 'frozen_yogurt': 45,\n",
       " 'garlic_bread': 46,\n",
       " 'gnocchi': 47,\n",
       " 'greek_salad': 48,\n",
       " 'grilled_cheese_sandwich': 49,\n",
       " 'grilled_salmon': 50,\n",
       " 'guacamole': 51,\n",
       " 'gyoza': 52,\n",
       " 'hamburger': 53,\n",
       " 'hot_and_sour_soup': 54,\n",
       " 'hot_dog': 55,\n",
       " 'huevos_rancheros': 56,\n",
       " 'hummus': 57,\n",
       " 'ice_cream': 58,\n",
       " 'lasagna': 59,\n",
       " 'lobster_bisque': 60,\n",
       " 'lobster_roll_sandwich': 61,\n",
       " 'macaroni_and_cheese': 62,\n",
       " 'macarons': 63,\n",
       " 'miso_soup': 64,\n",
       " 'mussels': 65,\n",
       " 'nachos': 66,\n",
       " 'omelette': 67,\n",
       " 'onion_rings': 68,\n",
       " 'oysters': 69,\n",
       " 'pad_thai': 70,\n",
       " 'paella': 71,\n",
       " 'pancakes': 72,\n",
       " 'panna_cotta': 73,\n",
       " 'peking_duck': 74,\n",
       " 'pho': 75,\n",
       " 'pizza': 76,\n",
       " 'pork_chop': 77,\n",
       " 'poutine': 78,\n",
       " 'prime_rib': 79,\n",
       " 'pulled_pork_sandwich': 80,\n",
       " 'ramen': 81,\n",
       " 'ravioli': 82,\n",
       " 'red_velvet_cake': 83,\n",
       " 'risotto': 84,\n",
       " 'samosa': 85,\n",
       " 'sashimi': 86,\n",
       " 'scallops': 87,\n",
       " 'seaweed_salad': 88,\n",
       " 'shrimp_and_grits': 89,\n",
       " 'spaghetti_bolognese': 90,\n",
       " 'spaghetti_carbonara': 91,\n",
       " 'spring_rolls': 92,\n",
       " 'steak': 93,\n",
       " 'strawberry_shortcake': 94,\n",
       " 'sushi': 95,\n",
       " 'tacos': 96,\n",
       " 'takoyaki': 97,\n",
       " 'tiramisu': 98,\n",
       " 'tuna_tartare': 99,\n",
       " 'waffles': 100}"
      ]
     },
     "execution_count": 7,
     "metadata": {},
     "output_type": "execute_result"
    }
   ],
   "source": [
    "dsets['train'].class_to_idx"
   ]
  },
  {
   "cell_type": "code",
   "execution_count": 8,
   "metadata": {
    "scrolled": true
   },
   "outputs": [
    {
     "data": {
      "text/plain": [
       "[('/home/foodlovers/FoodVisor/data/images/train/apple_pie/apple_pie_0.jpg', 0),\n",
       " ('/home/foodlovers/FoodVisor/data/images/train/apple_pie/apple_pie_100.jpg',\n",
       "  0),\n",
       " ('/home/foodlovers/FoodVisor/data/images/train/apple_pie/apple_pie_101.jpg',\n",
       "  0),\n",
       " ('/home/foodlovers/FoodVisor/data/images/train/apple_pie/apple_pie_102.jpg',\n",
       "  0),\n",
       " ('/home/foodlovers/FoodVisor/data/images/train/apple_pie/apple_pie_104.jpg',\n",
       "  0)]"
      ]
     },
     "execution_count": 8,
     "metadata": {},
     "output_type": "execute_result"
    }
   ],
   "source": [
    "dsets['train'].imgs[:5]"
   ]
  },
  {
   "cell_type": "code",
   "execution_count": 9,
   "metadata": {},
   "outputs": [],
   "source": [
    "dset_classes = dsets['train'].classes"
   ]
  },
  {
   "cell_type": "code",
   "execution_count": 10,
   "metadata": {},
   "outputs": [
    {
     "data": {
      "text/plain": [
       "{'train': 67988, 'test': 22716}"
      ]
     },
     "execution_count": 10,
     "metadata": {},
     "output_type": "execute_result"
    }
   ],
   "source": [
    "dset_sizes = {x: len(dsets[x]) for x in ['train', 'test']}\n",
    "dset_sizes"
   ]
  },
  {
   "cell_type": "markdown",
   "metadata": {},
   "source": [
    "Dataset loaders"
   ]
  },
  {
   "cell_type": "code",
   "execution_count": 11,
   "metadata": {},
   "outputs": [],
   "source": [
    "dset_loaders = {x: torch.utils.data.DataLoader(dsets[x], batch_size=64,\n",
    "                                               shuffle=shuffle_valtrain(x), num_workers=6)\n",
    "                for x in ['train', 'test']}"
   ]
  },
  {
   "cell_type": "code",
   "execution_count": 32,
   "metadata": {},
   "outputs": [],
   "source": [
    "dataset_valid = torch.utils.data.DataLoader(dsets['test'], batch_size=5, shuffle=True, num_workers=6)"
   ]
  },
  {
   "cell_type": "code",
   "execution_count": 33,
   "metadata": {},
   "outputs": [
    {
     "data": {
      "text/plain": [
       "4544"
      ]
     },
     "execution_count": 33,
     "metadata": {},
     "output_type": "execute_result"
    }
   ],
   "source": [
    "len(dataset_valid)"
   ]
  },
  {
   "cell_type": "code",
   "execution_count": 34,
   "metadata": {},
   "outputs": [],
   "source": [
    "count = 0\n",
    "for data in dataset_valid:\n",
    "    if count == 0:\n",
    "        inputs_try,labels_try = data\n",
    "    else:\n",
    "        break\n",
    "    count += 1"
   ]
  },
  {
   "cell_type": "code",
   "execution_count": 36,
   "metadata": {},
   "outputs": [
    {
     "data": {
      "text/plain": [
       "tensor([12, 21, 64, 28, 69])"
      ]
     },
     "execution_count": 36,
     "metadata": {},
     "output_type": "execute_result"
    }
   ],
   "source": [
    "labels_try"
   ]
  },
  {
   "cell_type": "code",
   "execution_count": 35,
   "metadata": {},
   "outputs": [
    {
     "data": {
      "text/plain": [
       "torch.Size([5, 3, 299, 299])"
      ]
     },
     "execution_count": 35,
     "metadata": {},
     "output_type": "execute_result"
    }
   ],
   "source": [
    "inputs_try.shape"
   ]
  },
  {
   "cell_type": "code",
   "execution_count": 37,
   "metadata": {},
   "outputs": [
    {
     "name": "stderr",
     "output_type": "stream",
     "text": [
      "Clipping input data to the valid range for imshow with RGB data ([0..1] for floats or [0..255] for integers).\n"
     ]
    },
    {
     "data": {
      "image/png": "[encoded data removed]",
      "text/plain": [
       "<Figure size 432x288 with 1 Axes>"
      ]
     },
     "metadata": {
      "needs_background": "light"
     },
     "output_type": "display_data"
    }
   ],
   "source": [
    "# Make a grid from batch\n",
    "out = torchvision.utils.make_grid(inputs_try)\n",
    "\n",
    "imshow(out, title=[dset_classes[x] for x in labels_try])"
   ]
  },
  {
   "cell_type": "code",
   "execution_count": 38,
   "metadata": {},
   "outputs": [
    {
     "name": "stderr",
     "output_type": "stream",
     "text": [
      "Clipping input data to the valid range for imshow with RGB data ([0..1] for floats or [0..255] for integers).\n"
     ]
    },
    {
     "data": {
      "image/png": "[encoded data removed]",
      "text/plain": [
       "<Figure size 432x288 with 1 Axes>"
      ]
     },
     "metadata": {
      "needs_background": "light"
     },
     "output_type": "display_data"
    }
   ],
   "source": [
    "# Get a batch of training data\n",
    "inputs, classes = next(iter(dset_loaders['train']))\n",
    "\n",
    "n_images = 8\n",
    "\n",
    "# Make a grid from batch\n",
    "out = torchvision.utils.make_grid(inputs[0:n_images])\n",
    "\n",
    "imshow(out, title=[dset_classes[x] for x in classes[0:n_images]])"
   ]
  },
  {
   "cell_type": "code",
   "execution_count": 39,
   "metadata": {},
   "outputs": [
    {
     "name": "stderr",
     "output_type": "stream",
     "text": [
      "Clipping input data to the valid range for imshow with RGB data ([0..1] for floats or [0..255] for integers).\n"
     ]
    },
    {
     "data": {
      "image/png": "[encoded data removed]",
      "text/plain": [
       "<Figure size 432x288 with 1 Axes>"
      ]
     },
     "metadata": {
      "needs_background": "light"
     },
     "output_type": "display_data"
    }
   ],
   "source": [
    "# Get a batch of validation data\n",
    "inputs, classes = next(iter(dset_loaders['test']))\n",
    "\n",
    "n_images = 8\n",
    "\n",
    "# Make a grid from batch\n",
    "out = torchvision.utils.make_grid(inputs[0:n_images])\n",
    "\n",
    "imshow(out, title=[dset_classes[x] for x in classes[0:n_images]])"
   ]
  },
  {
   "cell_type": "markdown",
   "metadata": {},
   "source": [
    "# Creating InceptionV3 Model"
   ]
  },
  {
   "cell_type": "code",
   "execution_count": 12,
   "metadata": {},
   "outputs": [],
   "source": [
    "model_inception = models.inception_v3(pretrained=True)"
   ]
  },
  {
   "cell_type": "code",
   "execution_count": 40,
   "metadata": {},
   "outputs": [],
   "source": [
    "inputs_try , labels_try = var_cgpu(inputs_try,use_gpu),var_cgpu(labels_try,use_gpu)\n",
    "\n",
    "if use_gpu:\n",
    "    model_inception = model_inception.cuda()"
   ]
  },
  {
   "cell_type": "code",
   "execution_count": 49,
   "metadata": {},
   "outputs": [],
   "source": [
    "outputs_try,__ = model_inception(inputs_try)"
   ]
  },
  {
   "cell_type": "code",
   "execution_count": 44,
   "metadata": {},
   "outputs": [
    {
     "data": {
      "text/plain": [
       "torch.Size([5, 3, 299, 299])"
      ]
     },
     "execution_count": 44,
     "metadata": {},
     "output_type": "execute_result"
    }
   ],
   "source": [
    "inputs_try.shape"
   ]
  },
  {
   "cell_type": "code",
   "execution_count": 50,
   "metadata": {},
   "outputs": [
    {
     "data": {
      "text/plain": [
       "tensor([[-0.2230,  2.0739, -0.5778,  ..., -0.2321,  1.6761, -0.6474],\n",
       "        [ 0.2218, -0.3957, -0.6131,  ..., -0.8964, -0.2849, -0.9670],\n",
       "        [ 0.1317, -0.7243,  0.5551,  ...,  0.1682, -0.3799,  0.7765],\n",
       "        [-0.0037, -1.0820, -0.2419,  ...,  1.0321,  0.8284, -0.1686],\n",
       "        [-0.8316, -0.3049, -0.2360,  ..., -0.4303, -1.7498,  0.6267]],\n",
       "       device='cuda:0', grad_fn=<AddmmBackward>)"
      ]
     },
     "execution_count": 50,
     "metadata": {},
     "output_type": "execute_result"
    }
   ],
   "source": [
    "outputs_try"
   ]
  },
  {
   "cell_type": "code",
   "execution_count": 51,
   "metadata": {},
   "outputs": [
    {
     "data": {
      "text/plain": [
       "torch.Size([5, 1000])"
      ]
     },
     "execution_count": 51,
     "metadata": {},
     "output_type": "execute_result"
    }
   ],
   "source": [
    "outputs_try.shape"
   ]
  },
  {
   "cell_type": "markdown",
   "metadata": {},
   "source": [
    "### Modifying the last layer and setting the gradient false to all layers"
   ]
  },
  {
   "cell_type": "code",
   "execution_count": 13,
   "metadata": {
    "scrolled": true
   },
   "outputs": [
    {
     "name": "stdout",
     "output_type": "stream",
     "text": [
      "Inception3(\n",
      "  (Conv2d_1a_3x3): BasicConv2d(\n",
      "    (conv): Conv2d(3, 32, kernel_size=(3, 3), stride=(2, 2), bias=False)\n",
      "    (bn): BatchNorm2d(32, eps=0.001, momentum=0.1, affine=True, track_running_stats=True)\n",
      "  )\n",
      "  (Conv2d_2a_3x3): BasicConv2d(\n",
      "    (conv): Conv2d(32, 32, kernel_size=(3, 3), stride=(1, 1), bias=False)\n",
      "    (bn): BatchNorm2d(32, eps=0.001, momentum=0.1, affine=True, track_running_stats=True)\n",
      "  )\n",
      "  (Conv2d_2b_3x3): BasicConv2d(\n",
      "    (conv): Conv2d(32, 64, kernel_size=(3, 3), stride=(1, 1), padding=(1, 1), bias=False)\n",
      "    (bn): BatchNorm2d(64, eps=0.001, momentum=0.1, affine=True, track_running_stats=True)\n",
      "  )\n",
      "  (Conv2d_3b_1x1): BasicConv2d(\n",
      "    (conv): Conv2d(64, 80, kernel_size=(1, 1), stride=(1, 1), bias=False)\n",
      "    (bn): BatchNorm2d(80, eps=0.001, momentum=0.1, affine=True, track_running_stats=True)\n",
      "  )\n",
      "  (Conv2d_4a_3x3): BasicConv2d(\n",
      "    (conv): Conv2d(80, 192, kernel_size=(3, 3), stride=(1, 1), bias=False)\n",
      "    (bn): BatchNorm2d(192, eps=0.001, momentum=0.1, affine=True, track_running_stats=True)\n",
      "  )\n",
      "  (Mixed_5b): InceptionA(\n",
      "    (branch1x1): BasicConv2d(\n",
      "      (conv): Conv2d(192, 64, kernel_size=(1, 1), stride=(1, 1), bias=False)\n",
      "      (bn): BatchNorm2d(64, eps=0.001, momentum=0.1, affine=True, track_running_stats=True)\n",
      "    )\n",
      "    (branch5x5_1): BasicConv2d(\n",
      "      (conv): Conv2d(192, 48, kernel_size=(1, 1), stride=(1, 1), bias=False)\n",
      "      (bn): BatchNorm2d(48, eps=0.001, momentum=0.1, affine=True, track_running_stats=True)\n",
      "    )\n",
      "    (branch5x5_2): BasicConv2d(\n",
      "      (conv): Conv2d(48, 64, kernel_size=(5, 5), stride=(1, 1), padding=(2, 2), bias=False)\n",
      "      (bn): BatchNorm2d(64, eps=0.001, momentum=0.1, affine=True, track_running_stats=True)\n",
      "    )\n",
      "    (branch3x3dbl_1): BasicConv2d(\n",
      "      (conv): Conv2d(192, 64, kernel_size=(1, 1), stride=(1, 1), bias=False)\n",
      "      (bn): BatchNorm2d(64, eps=0.001, momentum=0.1, affine=True, track_running_stats=True)\n",
      "    )\n",
      "    (branch3x3dbl_2): BasicConv2d(\n",
      "      (conv): Conv2d(64, 96, kernel_size=(3, 3), stride=(1, 1), padding=(1, 1), bias=False)\n",
      "      (bn): BatchNorm2d(96, eps=0.001, momentum=0.1, affine=True, track_running_stats=True)\n",
      "    )\n",
      "    (branch3x3dbl_3): BasicConv2d(\n",
      "      (conv): Conv2d(96, 96, kernel_size=(3, 3), stride=(1, 1), padding=(1, 1), bias=False)\n",
      "      (bn): BatchNorm2d(96, eps=0.001, momentum=0.1, affine=True, track_running_stats=True)\n",
      "    )\n",
      "    (branch_pool): BasicConv2d(\n",
      "      (conv): Conv2d(192, 32, kernel_size=(1, 1), stride=(1, 1), bias=False)\n",
      "      (bn): BatchNorm2d(32, eps=0.001, momentum=0.1, affine=True, track_running_stats=True)\n",
      "    )\n",
      "  )\n",
      "  (Mixed_5c): InceptionA(\n",
      "    (branch1x1): BasicConv2d(\n",
      "      (conv): Conv2d(256, 64, kernel_size=(1, 1), stride=(1, 1), bias=False)\n",
      "      (bn): BatchNorm2d(64, eps=0.001, momentum=0.1, affine=True, track_running_stats=True)\n",
      "    )\n",
      "    (branch5x5_1): BasicConv2d(\n",
      "      (conv): Conv2d(256, 48, kernel_size=(1, 1), stride=(1, 1), bias=False)\n",
      "      (bn): BatchNorm2d(48, eps=0.001, momentum=0.1, affine=True, track_running_stats=True)\n",
      "    )\n",
      "    (branch5x5_2): BasicConv2d(\n",
      "      (conv): Conv2d(48, 64, kernel_size=(5, 5), stride=(1, 1), padding=(2, 2), bias=False)\n",
      "      (bn): BatchNorm2d(64, eps=0.001, momentum=0.1, affine=True, track_running_stats=True)\n",
      "    )\n",
      "    (branch3x3dbl_1): BasicConv2d(\n",
      "      (conv): Conv2d(256, 64, kernel_size=(1, 1), stride=(1, 1), bias=False)\n",
      "      (bn): BatchNorm2d(64, eps=0.001, momentum=0.1, affine=True, track_running_stats=True)\n",
      "    )\n",
      "    (branch3x3dbl_2): BasicConv2d(\n",
      "      (conv): Conv2d(64, 96, kernel_size=(3, 3), stride=(1, 1), padding=(1, 1), bias=False)\n",
      "      (bn): BatchNorm2d(96, eps=0.001, momentum=0.1, affine=True, track_running_stats=True)\n",
      "    )\n",
      "    (branch3x3dbl_3): BasicConv2d(\n",
      "      (conv): Conv2d(96, 96, kernel_size=(3, 3), stride=(1, 1), padding=(1, 1), bias=False)\n",
      "      (bn): BatchNorm2d(96, eps=0.001, momentum=0.1, affine=True, track_running_stats=True)\n",
      "    )\n",
      "    (branch_pool): BasicConv2d(\n",
      "      (conv): Conv2d(256, 64, kernel_size=(1, 1), stride=(1, 1), bias=False)\n",
      "      (bn): BatchNorm2d(64, eps=0.001, momentum=0.1, affine=True, track_running_stats=True)\n",
      "    )\n",
      "  )\n",
      "  (Mixed_5d): InceptionA(\n",
      "    (branch1x1): BasicConv2d(\n",
      "      (conv): Conv2d(288, 64, kernel_size=(1, 1), stride=(1, 1), bias=False)\n",
      "      (bn): BatchNorm2d(64, eps=0.001, momentum=0.1, affine=True, track_running_stats=True)\n",
      "    )\n",
      "    (branch5x5_1): BasicConv2d(\n",
      "      (conv): Conv2d(288, 48, kernel_size=(1, 1), stride=(1, 1), bias=False)\n",
      "      (bn): BatchNorm2d(48, eps=0.001, momentum=0.1, affine=True, track_running_stats=True)\n",
      "    )\n",
      "    (branch5x5_2): BasicConv2d(\n",
      "      (conv): Conv2d(48, 64, kernel_size=(5, 5), stride=(1, 1), padding=(2, 2), bias=False)\n",
      "      (bn): BatchNorm2d(64, eps=0.001, momentum=0.1, affine=True, track_running_stats=True)\n",
      "    )\n",
      "    (branch3x3dbl_1): BasicConv2d(\n",
      "      (conv): Conv2d(288, 64, kernel_size=(1, 1), stride=(1, 1), bias=False)\n",
      "      (bn): BatchNorm2d(64, eps=0.001, momentum=0.1, affine=True, track_running_stats=True)\n",
      "    )\n",
      "    (branch3x3dbl_2): BasicConv2d(\n",
      "      (conv): Conv2d(64, 96, kernel_size=(3, 3), stride=(1, 1), padding=(1, 1), bias=False)\n",
      "      (bn): BatchNorm2d(96, eps=0.001, momentum=0.1, affine=True, track_running_stats=True)\n",
      "    )\n",
      "    (branch3x3dbl_3): BasicConv2d(\n",
      "      (conv): Conv2d(96, 96, kernel_size=(3, 3), stride=(1, 1), padding=(1, 1), bias=False)\n",
      "      (bn): BatchNorm2d(96, eps=0.001, momentum=0.1, affine=True, track_running_stats=True)\n",
      "    )\n",
      "    (branch_pool): BasicConv2d(\n",
      "      (conv): Conv2d(288, 64, kernel_size=(1, 1), stride=(1, 1), bias=False)\n",
      "      (bn): BatchNorm2d(64, eps=0.001, momentum=0.1, affine=True, track_running_stats=True)\n",
      "    )\n",
      "  )\n",
      "  (Mixed_6a): InceptionB(\n",
      "    (branch3x3): BasicConv2d(\n",
      "      (conv): Conv2d(288, 384, kernel_size=(3, 3), stride=(2, 2), bias=False)\n",
      "      (bn): BatchNorm2d(384, eps=0.001, momentum=0.1, affine=True, track_running_stats=True)\n",
      "    )\n",
      "    (branch3x3dbl_1): BasicConv2d(\n",
      "      (conv): Conv2d(288, 64, kernel_size=(1, 1), stride=(1, 1), bias=False)\n",
      "      (bn): BatchNorm2d(64, eps=0.001, momentum=0.1, affine=True, track_running_stats=True)\n",
      "    )\n",
      "    (branch3x3dbl_2): BasicConv2d(\n",
      "      (conv): Conv2d(64, 96, kernel_size=(3, 3), stride=(1, 1), padding=(1, 1), bias=False)\n",
      "      (bn): BatchNorm2d(96, eps=0.001, momentum=0.1, affine=True, track_running_stats=True)\n",
      "    )\n",
      "    (branch3x3dbl_3): BasicConv2d(\n",
      "      (conv): Conv2d(96, 96, kernel_size=(3, 3), stride=(2, 2), bias=False)\n",
      "      (bn): BatchNorm2d(96, eps=0.001, momentum=0.1, affine=True, track_running_stats=True)\n",
      "    )\n",
      "  )\n",
      "  (Mixed_6b): InceptionC(\n",
      "    (branch1x1): BasicConv2d(\n",
      "      (conv): Conv2d(768, 192, kernel_size=(1, 1), stride=(1, 1), bias=False)\n",
      "      (bn): BatchNorm2d(192, eps=0.001, momentum=0.1, affine=True, track_running_stats=True)\n",
      "    )\n",
      "    (branch7x7_1): BasicConv2d(\n",
      "      (conv): Conv2d(768, 128, kernel_size=(1, 1), stride=(1, 1), bias=False)\n",
      "      (bn): BatchNorm2d(128, eps=0.001, momentum=0.1, affine=True, track_running_stats=True)\n",
      "    )\n",
      "    (branch7x7_2): BasicConv2d(\n",
      "      (conv): Conv2d(128, 128, kernel_size=(1, 7), stride=(1, 1), padding=(0, 3), bias=False)\n",
      "      (bn): BatchNorm2d(128, eps=0.001, momentum=0.1, affine=True, track_running_stats=True)\n",
      "    )\n",
      "    (branch7x7_3): BasicConv2d(\n",
      "      (conv): Conv2d(128, 192, kernel_size=(7, 1), stride=(1, 1), padding=(3, 0), bias=False)\n",
      "      (bn): BatchNorm2d(192, eps=0.001, momentum=0.1, affine=True, track_running_stats=True)\n",
      "    )\n",
      "    (branch7x7dbl_1): BasicConv2d(\n",
      "      (conv): Conv2d(768, 128, kernel_size=(1, 1), stride=(1, 1), bias=False)\n",
      "      (bn): BatchNorm2d(128, eps=0.001, momentum=0.1, affine=True, track_running_stats=True)\n",
      "    )\n",
      "    (branch7x7dbl_2): BasicConv2d(\n",
      "      (conv): Conv2d(128, 128, kernel_size=(7, 1), stride=(1, 1), padding=(3, 0), bias=False)\n",
      "      (bn): BatchNorm2d(128, eps=0.001, momentum=0.1, affine=True, track_running_stats=True)\n",
      "    )\n",
      "    (branch7x7dbl_3): BasicConv2d(\n",
      "      (conv): Conv2d(128, 128, kernel_size=(1, 7), stride=(1, 1), padding=(0, 3), bias=False)\n",
      "      (bn): BatchNorm2d(128, eps=0.001, momentum=0.1, affine=True, track_running_stats=True)\n",
      "    )\n",
      "    (branch7x7dbl_4): BasicConv2d(\n",
      "      (conv): Conv2d(128, 128, kernel_size=(7, 1), stride=(1, 1), padding=(3, 0), bias=False)\n",
      "      (bn): BatchNorm2d(128, eps=0.001, momentum=0.1, affine=True, track_running_stats=True)\n",
      "    )\n",
      "    (branch7x7dbl_5): BasicConv2d(\n",
      "      (conv): Conv2d(128, 192, kernel_size=(1, 7), stride=(1, 1), padding=(0, 3), bias=False)\n",
      "      (bn): BatchNorm2d(192, eps=0.001, momentum=0.1, affine=True, track_running_stats=True)\n",
      "    )\n",
      "    (branch_pool): BasicConv2d(\n",
      "      (conv): Conv2d(768, 192, kernel_size=(1, 1), stride=(1, 1), bias=False)\n",
      "      (bn): BatchNorm2d(192, eps=0.001, momentum=0.1, affine=True, track_running_stats=True)\n",
      "    )\n",
      "  )\n",
      "  (Mixed_6c): InceptionC(\n",
      "    (branch1x1): BasicConv2d(\n",
      "      (conv): Conv2d(768, 192, kernel_size=(1, 1), stride=(1, 1), bias=False)\n",
      "      (bn): BatchNorm2d(192, eps=0.001, momentum=0.1, affine=True, track_running_stats=True)\n",
      "    )\n",
      "    (branch7x7_1): BasicConv2d(\n",
      "      (conv): Conv2d(768, 160, kernel_size=(1, 1), stride=(1, 1), bias=False)\n",
      "      (bn): BatchNorm2d(160, eps=0.001, momentum=0.1, affine=True, track_running_stats=True)\n",
      "    )\n",
      "    (branch7x7_2): BasicConv2d(\n",
      "      (conv): Conv2d(160, 160, kernel_size=(1, 7), stride=(1, 1), padding=(0, 3), bias=False)\n",
      "      (bn): BatchNorm2d(160, eps=0.001, momentum=0.1, affine=True, track_running_stats=True)\n",
      "    )\n",
      "    (branch7x7_3): BasicConv2d(\n",
      "      (conv): Conv2d(160, 192, kernel_size=(7, 1), stride=(1, 1), padding=(3, 0), bias=False)\n",
      "      (bn): BatchNorm2d(192, eps=0.001, momentum=0.1, affine=True, track_running_stats=True)\n",
      "    )\n",
      "    (branch7x7dbl_1): BasicConv2d(\n",
      "      (conv): Conv2d(768, 160, kernel_size=(1, 1), stride=(1, 1), bias=False)\n",
      "      (bn): BatchNorm2d(160, eps=0.001, momentum=0.1, affine=True, track_running_stats=True)\n",
      "    )\n",
      "    (branch7x7dbl_2): BasicConv2d(\n",
      "      (conv): Conv2d(160, 160, kernel_size=(7, 1), stride=(1, 1), padding=(3, 0), bias=False)\n",
      "      (bn): BatchNorm2d(160, eps=0.001, momentum=0.1, affine=True, track_running_stats=True)\n",
      "    )\n",
      "    (branch7x7dbl_3): BasicConv2d(\n",
      "      (conv): Conv2d(160, 160, kernel_size=(1, 7), stride=(1, 1), padding=(0, 3), bias=False)\n",
      "      (bn): BatchNorm2d(160, eps=0.001, momentum=0.1, affine=True, track_running_stats=True)\n",
      "    )\n",
      "    (branch7x7dbl_4): BasicConv2d(\n",
      "      (conv): Conv2d(160, 160, kernel_size=(7, 1), stride=(1, 1), padding=(3, 0), bias=False)\n",
      "      (bn): BatchNorm2d(160, eps=0.001, momentum=0.1, affine=True, track_running_stats=True)\n",
      "    )\n",
      "    (branch7x7dbl_5): BasicConv2d(\n",
      "      (conv): Conv2d(160, 192, kernel_size=(1, 7), stride=(1, 1), padding=(0, 3), bias=False)\n",
      "      (bn): BatchNorm2d(192, eps=0.001, momentum=0.1, affine=True, track_running_stats=True)\n",
      "    )\n",
      "    (branch_pool): BasicConv2d(\n",
      "      (conv): Conv2d(768, 192, kernel_size=(1, 1), stride=(1, 1), bias=False)\n",
      "      (bn): BatchNorm2d(192, eps=0.001, momentum=0.1, affine=True, track_running_stats=True)\n",
      "    )\n",
      "  )\n",
      "  (Mixed_6d): InceptionC(\n",
      "    (branch1x1): BasicConv2d(\n",
      "      (conv): Conv2d(768, 192, kernel_size=(1, 1), stride=(1, 1), bias=False)\n",
      "      (bn): BatchNorm2d(192, eps=0.001, momentum=0.1, affine=True, track_running_stats=True)\n",
      "    )\n",
      "    (branch7x7_1): BasicConv2d(\n",
      "      (conv): Conv2d(768, 160, kernel_size=(1, 1), stride=(1, 1), bias=False)\n",
      "      (bn): BatchNorm2d(160, eps=0.001, momentum=0.1, affine=True, track_running_stats=True)\n",
      "    )\n",
      "    (branch7x7_2): BasicConv2d(\n",
      "      (conv): Conv2d(160, 160, kernel_size=(1, 7), stride=(1, 1), padding=(0, 3), bias=False)\n",
      "      (bn): BatchNorm2d(160, eps=0.001, momentum=0.1, affine=True, track_running_stats=True)\n",
      "    )\n",
      "    (branch7x7_3): BasicConv2d(\n",
      "      (conv): Conv2d(160, 192, kernel_size=(7, 1), stride=(1, 1), padding=(3, 0), bias=False)\n",
      "      (bn): BatchNorm2d(192, eps=0.001, momentum=0.1, affine=True, track_running_stats=True)\n",
      "    )\n",
      "    (branch7x7dbl_1): BasicConv2d(\n",
      "      (conv): Conv2d(768, 160, kernel_size=(1, 1), stride=(1, 1), bias=False)\n",
      "      (bn): BatchNorm2d(160, eps=0.001, momentum=0.1, affine=True, track_running_stats=True)\n",
      "    )\n",
      "    (branch7x7dbl_2): BasicConv2d(\n",
      "      (conv): Conv2d(160, 160, kernel_size=(7, 1), stride=(1, 1), padding=(3, 0), bias=False)\n",
      "      (bn): BatchNorm2d(160, eps=0.001, momentum=0.1, affine=True, track_running_stats=True)\n",
      "    )\n",
      "    (branch7x7dbl_3): BasicConv2d(\n",
      "      (conv): Conv2d(160, 160, kernel_size=(1, 7), stride=(1, 1), padding=(0, 3), bias=False)\n",
      "      (bn): BatchNorm2d(160, eps=0.001, momentum=0.1, affine=True, track_running_stats=True)\n",
      "    )\n",
      "    (branch7x7dbl_4): BasicConv2d(\n",
      "      (conv): Conv2d(160, 160, kernel_size=(7, 1), stride=(1, 1), padding=(3, 0), bias=False)\n",
      "      (bn): BatchNorm2d(160, eps=0.001, momentum=0.1, affine=True, track_running_stats=True)\n",
      "    )\n",
      "    (branch7x7dbl_5): BasicConv2d(\n",
      "      (conv): Conv2d(160, 192, kernel_size=(1, 7), stride=(1, 1), padding=(0, 3), bias=False)\n",
      "      (bn): BatchNorm2d(192, eps=0.001, momentum=0.1, affine=True, track_running_stats=True)\n",
      "    )\n",
      "    (branch_pool): BasicConv2d(\n",
      "      (conv): Conv2d(768, 192, kernel_size=(1, 1), stride=(1, 1), bias=False)\n",
      "      (bn): BatchNorm2d(192, eps=0.001, momentum=0.1, affine=True, track_running_stats=True)\n",
      "    )\n",
      "  )\n",
      "  (Mixed_6e): InceptionC(\n",
      "    (branch1x1): BasicConv2d(\n",
      "      (conv): Conv2d(768, 192, kernel_size=(1, 1), stride=(1, 1), bias=False)\n",
      "      (bn): BatchNorm2d(192, eps=0.001, momentum=0.1, affine=True, track_running_stats=True)\n",
      "    )\n",
      "    (branch7x7_1): BasicConv2d(\n",
      "      (conv): Conv2d(768, 192, kernel_size=(1, 1), stride=(1, 1), bias=False)\n",
      "      (bn): BatchNorm2d(192, eps=0.001, momentum=0.1, affine=True, track_running_stats=True)\n",
      "    )\n",
      "    (branch7x7_2): BasicConv2d(\n",
      "      (conv): Conv2d(192, 192, kernel_size=(1, 7), stride=(1, 1), padding=(0, 3), bias=False)\n",
      "      (bn): BatchNorm2d(192, eps=0.001, momentum=0.1, affine=True, track_running_stats=True)\n",
      "    )\n",
      "    (branch7x7_3): BasicConv2d(\n",
      "      (conv): Conv2d(192, 192, kernel_size=(7, 1), stride=(1, 1), padding=(3, 0), bias=False)\n",
      "      (bn): BatchNorm2d(192, eps=0.001, momentum=0.1, affine=True, track_running_stats=True)\n",
      "    )\n",
      "    (branch7x7dbl_1): BasicConv2d(\n",
      "      (conv): Conv2d(768, 192, kernel_size=(1, 1), stride=(1, 1), bias=False)\n",
      "      (bn): BatchNorm2d(192, eps=0.001, momentum=0.1, affine=True, track_running_stats=True)\n",
      "    )\n",
      "    (branch7x7dbl_2): BasicConv2d(\n",
      "      (conv): Conv2d(192, 192, kernel_size=(7, 1), stride=(1, 1), padding=(3, 0), bias=False)\n",
      "      (bn): BatchNorm2d(192, eps=0.001, momentum=0.1, affine=True, track_running_stats=True)\n",
      "    )\n",
      "    (branch7x7dbl_3): BasicConv2d(\n",
      "      (conv): Conv2d(192, 192, kernel_size=(1, 7), stride=(1, 1), padding=(0, 3), bias=False)\n",
      "      (bn): BatchNorm2d(192, eps=0.001, momentum=0.1, affine=True, track_running_stats=True)\n",
      "    )\n",
      "    (branch7x7dbl_4): BasicConv2d(\n",
      "      (conv): Conv2d(192, 192, kernel_size=(7, 1), stride=(1, 1), padding=(3, 0), bias=False)\n",
      "      (bn): BatchNorm2d(192, eps=0.001, momentum=0.1, affine=True, track_running_stats=True)\n",
      "    )\n",
      "    (branch7x7dbl_5): BasicConv2d(\n",
      "      (conv): Conv2d(192, 192, kernel_size=(1, 7), stride=(1, 1), padding=(0, 3), bias=False)\n",
      "      (bn): BatchNorm2d(192, eps=0.001, momentum=0.1, affine=True, track_running_stats=True)\n",
      "    )\n",
      "    (branch_pool): BasicConv2d(\n",
      "      (conv): Conv2d(768, 192, kernel_size=(1, 1), stride=(1, 1), bias=False)\n",
      "      (bn): BatchNorm2d(192, eps=0.001, momentum=0.1, affine=True, track_running_stats=True)\n",
      "    )\n",
      "  )\n",
      "  (AuxLogits): InceptionAux(\n",
      "    (conv0): BasicConv2d(\n",
      "      (conv): Conv2d(768, 128, kernel_size=(1, 1), stride=(1, 1), bias=False)\n",
      "      (bn): BatchNorm2d(128, eps=0.001, momentum=0.1, affine=True, track_running_stats=True)\n",
      "    )\n",
      "    (conv1): BasicConv2d(\n",
      "      (conv): Conv2d(128, 768, kernel_size=(5, 5), stride=(1, 1), bias=False)\n",
      "      (bn): BatchNorm2d(768, eps=0.001, momentum=0.1, affine=True, track_running_stats=True)\n",
      "    )\n",
      "    (fc): Linear(in_features=768, out_features=1000, bias=True)\n",
      "  )\n",
      "  (Mixed_7a): InceptionD(\n",
      "    (branch3x3_1): BasicConv2d(\n",
      "      (conv): Conv2d(768, 192, kernel_size=(1, 1), stride=(1, 1), bias=False)\n",
      "      (bn): BatchNorm2d(192, eps=0.001, momentum=0.1, affine=True, track_running_stats=True)\n",
      "    )\n",
      "    (branch3x3_2): BasicConv2d(\n",
      "      (conv): Conv2d(192, 320, kernel_size=(3, 3), stride=(2, 2), bias=False)\n",
      "      (bn): BatchNorm2d(320, eps=0.001, momentum=0.1, affine=True, track_running_stats=True)\n",
      "    )\n",
      "    (branch7x7x3_1): BasicConv2d(\n",
      "      (conv): Conv2d(768, 192, kernel_size=(1, 1), stride=(1, 1), bias=False)\n",
      "      (bn): BatchNorm2d(192, eps=0.001, momentum=0.1, affine=True, track_running_stats=True)\n",
      "    )\n",
      "    (branch7x7x3_2): BasicConv2d(\n",
      "      (conv): Conv2d(192, 192, kernel_size=(1, 7), stride=(1, 1), padding=(0, 3), bias=False)\n",
      "      (bn): BatchNorm2d(192, eps=0.001, momentum=0.1, affine=True, track_running_stats=True)\n",
      "    )\n",
      "    (branch7x7x3_3): BasicConv2d(\n",
      "      (conv): Conv2d(192, 192, kernel_size=(7, 1), stride=(1, 1), padding=(3, 0), bias=False)\n",
      "      (bn): BatchNorm2d(192, eps=0.001, momentum=0.1, affine=True, track_running_stats=True)\n",
      "    )\n",
      "    (branch7x7x3_4): BasicConv2d(\n",
      "      (conv): Conv2d(192, 192, kernel_size=(3, 3), stride=(2, 2), bias=False)\n",
      "      (bn): BatchNorm2d(192, eps=0.001, momentum=0.1, affine=True, track_running_stats=True)\n",
      "    )\n",
      "  )\n",
      "  (Mixed_7b): InceptionE(\n",
      "    (branch1x1): BasicConv2d(\n",
      "      (conv): Conv2d(1280, 320, kernel_size=(1, 1), stride=(1, 1), bias=False)\n",
      "      (bn): BatchNorm2d(320, eps=0.001, momentum=0.1, affine=True, track_running_stats=True)\n",
      "    )\n",
      "    (branch3x3_1): BasicConv2d(\n",
      "      (conv): Conv2d(1280, 384, kernel_size=(1, 1), stride=(1, 1), bias=False)\n",
      "      (bn): BatchNorm2d(384, eps=0.001, momentum=0.1, affine=True, track_running_stats=True)\n",
      "    )\n",
      "    (branch3x3_2a): BasicConv2d(\n",
      "      (conv): Conv2d(384, 384, kernel_size=(1, 3), stride=(1, 1), padding=(0, 1), bias=False)\n",
      "      (bn): BatchNorm2d(384, eps=0.001, momentum=0.1, affine=True, track_running_stats=True)\n",
      "    )\n",
      "    (branch3x3_2b): BasicConv2d(\n",
      "      (conv): Conv2d(384, 384, kernel_size=(3, 1), stride=(1, 1), padding=(1, 0), bias=False)\n",
      "      (bn): BatchNorm2d(384, eps=0.001, momentum=0.1, affine=True, track_running_stats=True)\n",
      "    )\n",
      "    (branch3x3dbl_1): BasicConv2d(\n",
      "      (conv): Conv2d(1280, 448, kernel_size=(1, 1), stride=(1, 1), bias=False)\n",
      "      (bn): BatchNorm2d(448, eps=0.001, momentum=0.1, affine=True, track_running_stats=True)\n",
      "    )\n",
      "    (branch3x3dbl_2): BasicConv2d(\n",
      "      (conv): Conv2d(448, 384, kernel_size=(3, 3), stride=(1, 1), padding=(1, 1), bias=False)\n",
      "      (bn): BatchNorm2d(384, eps=0.001, momentum=0.1, affine=True, track_running_stats=True)\n",
      "    )\n",
      "    (branch3x3dbl_3a): BasicConv2d(\n",
      "      (conv): Conv2d(384, 384, kernel_size=(1, 3), stride=(1, 1), padding=(0, 1), bias=False)\n",
      "      (bn): BatchNorm2d(384, eps=0.001, momentum=0.1, affine=True, track_running_stats=True)\n",
      "    )\n",
      "    (branch3x3dbl_3b): BasicConv2d(\n",
      "      (conv): Conv2d(384, 384, kernel_size=(3, 1), stride=(1, 1), padding=(1, 0), bias=False)\n",
      "      (bn): BatchNorm2d(384, eps=0.001, momentum=0.1, affine=True, track_running_stats=True)\n",
      "    )\n",
      "    (branch_pool): BasicConv2d(\n",
      "      (conv): Conv2d(1280, 192, kernel_size=(1, 1), stride=(1, 1), bias=False)\n",
      "      (bn): BatchNorm2d(192, eps=0.001, momentum=0.1, affine=True, track_running_stats=True)\n",
      "    )\n",
      "  )\n",
      "  (Mixed_7c): InceptionE(\n",
      "    (branch1x1): BasicConv2d(\n",
      "      (conv): Conv2d(2048, 320, kernel_size=(1, 1), stride=(1, 1), bias=False)\n",
      "      (bn): BatchNorm2d(320, eps=0.001, momentum=0.1, affine=True, track_running_stats=True)\n",
      "    )\n",
      "    (branch3x3_1): BasicConv2d(\n",
      "      (conv): Conv2d(2048, 384, kernel_size=(1, 1), stride=(1, 1), bias=False)\n",
      "      (bn): BatchNorm2d(384, eps=0.001, momentum=0.1, affine=True, track_running_stats=True)\n",
      "    )\n",
      "    (branch3x3_2a): BasicConv2d(\n",
      "      (conv): Conv2d(384, 384, kernel_size=(1, 3), stride=(1, 1), padding=(0, 1), bias=False)\n",
      "      (bn): BatchNorm2d(384, eps=0.001, momentum=0.1, affine=True, track_running_stats=True)\n",
      "    )\n",
      "    (branch3x3_2b): BasicConv2d(\n",
      "      (conv): Conv2d(384, 384, kernel_size=(3, 1), stride=(1, 1), padding=(1, 0), bias=False)\n",
      "      (bn): BatchNorm2d(384, eps=0.001, momentum=0.1, affine=True, track_running_stats=True)\n",
      "    )\n",
      "    (branch3x3dbl_1): BasicConv2d(\n",
      "      (conv): Conv2d(2048, 448, kernel_size=(1, 1), stride=(1, 1), bias=False)\n",
      "      (bn): BatchNorm2d(448, eps=0.001, momentum=0.1, affine=True, track_running_stats=True)\n",
      "    )\n",
      "    (branch3x3dbl_2): BasicConv2d(\n",
      "      (conv): Conv2d(448, 384, kernel_size=(3, 3), stride=(1, 1), padding=(1, 1), bias=False)\n",
      "      (bn): BatchNorm2d(384, eps=0.001, momentum=0.1, affine=True, track_running_stats=True)\n",
      "    )\n",
      "    (branch3x3dbl_3a): BasicConv2d(\n",
      "      (conv): Conv2d(384, 384, kernel_size=(1, 3), stride=(1, 1), padding=(0, 1), bias=False)\n",
      "      (bn): BatchNorm2d(384, eps=0.001, momentum=0.1, affine=True, track_running_stats=True)\n",
      "    )\n",
      "    (branch3x3dbl_3b): BasicConv2d(\n",
      "      (conv): Conv2d(384, 384, kernel_size=(3, 1), stride=(1, 1), padding=(1, 0), bias=False)\n",
      "      (bn): BatchNorm2d(384, eps=0.001, momentum=0.1, affine=True, track_running_stats=True)\n",
      "    )\n",
      "    (branch_pool): BasicConv2d(\n",
      "      (conv): Conv2d(2048, 192, kernel_size=(1, 1), stride=(1, 1), bias=False)\n",
      "      (bn): BatchNorm2d(192, eps=0.001, momentum=0.1, affine=True, track_running_stats=True)\n",
      "    )\n",
      "  )\n",
      "  (fc): Linear(in_features=2048, out_features=1000, bias=True)\n",
      ")\n"
     ]
    }
   ],
   "source": [
    "print(model_inception)"
   ]
  },
  {
   "cell_type": "code",
   "execution_count": 14,
   "metadata": {},
   "outputs": [],
   "source": [
    "for param in model_inception.parameters():\n",
    "    param.requires_grad = False"
   ]
  },
  {
   "cell_type": "code",
   "execution_count": 15,
   "metadata": {},
   "outputs": [],
   "source": [
    "model_inception.fc = nn.Linear(2048, 101)"
   ]
  },
  {
   "cell_type": "code",
   "execution_count": 53,
   "metadata": {},
   "outputs": [],
   "source": [
    "model_inception.AuxLogits.fc = nn.Linear(768, 101)"
   ]
  },
  {
   "cell_type": "code",
   "execution_count": 16,
   "metadata": {},
   "outputs": [
    {
     "name": "stdout",
     "output_type": "stream",
     "text": [
      "Linear(in_features=2048, out_features=101, bias=True)\n"
     ]
    }
   ],
   "source": [
    "print(model_inception.fc)"
   ]
  },
  {
   "cell_type": "code",
   "execution_count": 56,
   "metadata": {},
   "outputs": [],
   "source": [
    "if use_gpu:\n",
    "    model_inception = model_inception.cuda()"
   ]
  },
  {
   "cell_type": "markdown",
   "metadata": {},
   "source": [
    "## Calculating training data"
   ]
  },
  {
   "cell_type": "code",
   "execution_count": 20,
   "metadata": {},
   "outputs": [],
   "source": [
    "def preconvfeat(dataset):\n",
    "    conv_features = []\n",
    "    labels_list = []\n",
    "    count = 0\n",
    "    for data in dataset:\n",
    "        print(count)\n",
    "        count += 1\n",
    "        inputs,labels = data\n",
    "        \n",
    "        #x = model_vgg.features(inputs)\n",
    "        conv_features.extend(inputs)\n",
    "        labels_list.extend(labels)\n",
    "        if count == 10 :\n",
    "            break\n",
    "    #conv_features = np.concatenate([[feat] for feat in conv_features])\n",
    "    return (conv_features,labels_list)"
   ]
  },
  {
   "cell_type": "code",
   "execution_count": 21,
   "metadata": {
    "scrolled": true
   },
   "outputs": [
    {
     "name": "stdout",
     "output_type": "stream",
     "text": [
      "0\n",
      "1\n",
      "2\n",
      "3\n",
      "4\n",
      "5\n",
      "6\n",
      "7\n",
      "8\n",
      "9\n",
      "CPU times: user 28.7 ms, sys: 133 ms, total: 162 ms\n",
      "Wall time: 11.8 s\n"
     ]
    }
   ],
   "source": [
    "%%time\n",
    "conv_feat_train,labels_train = preconvfeat(dset_loaders['train'])"
   ]
  },
  {
   "cell_type": "code",
   "execution_count": 28,
   "metadata": {},
   "outputs": [
    {
     "data": {
      "text/plain": [
       "torch.Size([3, 299, 299])"
      ]
     },
     "execution_count": 28,
     "metadata": {},
     "output_type": "execute_result"
    }
   ],
   "source": [
    "conv_feat_train[0].shape"
   ]
  },
  {
   "cell_type": "markdown",
   "metadata": {},
   "source": [
    "### Save extracted features"
   ]
  },
  {
   "cell_type": "code",
   "execution_count": null,
   "metadata": {},
   "outputs": [],
   "source": [
    "save_array(data_dir+'/vgg16/conv_feat_train.bc',conv_feat_train)\n",
    "save_array(data_dir+'/vgg16/labels_train.bc',labels_train)\n",
    "save_array(data_dir+'/vgg16/conv_feat_val.bc',conv_feat_val)\n",
    "save_array(data_dir+'/vgg16/labels_val.bc',labels_val)"
   ]
  },
  {
   "cell_type": "markdown",
   "metadata": {},
   "source": [
    "### Load extracted features"
   ]
  },
  {
   "cell_type": "code",
   "execution_count": null,
   "metadata": {},
   "outputs": [],
   "source": [
    "conv_feat_train = load_array(data_dir+'\\\\vgg16\\\\conv_feat_train.bc')\n",
    "labels_train = load_array(data_dir+'\\\\vgg16\\\\labels_train.bc')\n",
    "conv_feat_val = load_array(data_dir+'\\\\vgg16\\\\conv_feat_val.bc')\n",
    "labels_val = load_array(data_dir+'\\\\vgg16\\\\labels_val.bc')"
   ]
  },
  {
   "cell_type": "markdown",
   "metadata": {},
   "source": [
    "## Training fully connected module"
   ]
  },
  {
   "cell_type": "markdown",
   "metadata": {},
   "source": [
    "### Creating loss function and optimizer"
   ]
  },
  {
   "cell_type": "code",
   "execution_count": 54,
   "metadata": {},
   "outputs": [],
   "source": [
    "criterion = nn.CrossEntropyLoss()\n",
    "lr = 0.01\n",
    "optimizer_vgg = torch.optim.SGD(model_inception.fc.parameters(),lr = lr)"
   ]
  },
  {
   "cell_type": "markdown",
   "metadata": {},
   "source": [
    "### Creating Data generator"
   ]
  },
  {
   "cell_type": "code",
   "execution_count": 30,
   "metadata": {},
   "outputs": [],
   "source": [
    "def data_gen(conv_feat,labels,batch_size=64,shuffle=True):\n",
    "    labels = np.array(labels)\n",
    "    if shuffle:\n",
    "        index = np.random.permutation(len(conv_feat))\n",
    "        conv_feat = conv_feat[index]\n",
    "        labels = labels[index]\n",
    "    for idx in range(0,len(conv_feat),batch_size):\n",
    "        yield(conv_feat[idx:idx+batch_size],labels[idx:idx+batch_size])"
   ]
  },
  {
   "cell_type": "markdown",
   "metadata": {},
   "source": [
    "### Training the model"
   ]
  },
  {
   "cell_type": "code",
   "execution_count": 40,
   "metadata": {},
   "outputs": [],
   "source": [
    "def train_model(model,size,conv_feat=None,labels=None,epochs=1,optimizer=None,train=True,shuffle=True):\n",
    "    loss_history = []\n",
    "    acc_history = []\n",
    "    \n",
    "    if train:\n",
    "        model.train()\n",
    "    else:\n",
    "        model.eval()\n",
    "        \n",
    "    for epoch in range(epochs):\n",
    "        # batches = data_gen(conv_feat=conv_feat,labels=labels,shuffle=shuffle)\n",
    "        \n",
    "        total = 0\n",
    "        running_loss = 0.0\n",
    "        running_corrects = 0\n",
    "        \n",
    "        for i, data in enumerate(dset_loaders['train'], 0):\n",
    "        # get the inputs\n",
    "            inputs, classes = data\n",
    "            \n",
    "            if use_gpu:\n",
    "                inputs , classes = torch.from_numpy(inputs).cuda(), torch.from_numpy(classes).cuda()\n",
    "            else:\n",
    "                inputs , classes = torch.from_numpy(inputs), torch.from_numpy(classes)\n",
    "                \n",
    "            inputs = inputs.view(inputs.size(0), -1)\n",
    "            outputs = model(inputs)\n",
    "            loss = criterion(outputs,classes)           \n",
    "            if train:\n",
    "                if optimizer is None:\n",
    "                    raise ValueError('Pass optimizer for train mode')\n",
    "                optimizer = optimizer\n",
    "                optimizer.zero_grad()\n",
    "                loss.backward()\n",
    "                optimizer.step()\n",
    "            _,preds = torch.max(outputs.data,1)\n",
    "            # statistics\n",
    "            running_loss += loss.data.item()\n",
    "            running_corrects += torch.sum(preds == classes.data)\n",
    "        epoch_loss = running_loss / size\n",
    "        epoch_acc = running_corrects.data.item() / size\n",
    "        print('Loss: {:.4f} Acc: {:.4f}'.format(\n",
    "                     epoch_loss, epoch_acc))\n",
    "        \n",
    "        loss_history.append(epoch_loss)\n",
    "        acc_history.append(epoch_acc)\n",
    "        \n",
    "    return loss_history,acc_history\n",
    "    "
   ]
  },
  {
   "cell_type": "code",
   "execution_count": 33,
   "metadata": {},
   "outputs": [
    {
     "ename": "TypeError",
     "evalue": "expected np.ndarray (got list)",
     "output_type": "error",
     "traceback": [
      "\u001b[0;31m---------------------------------------------------------------------------\u001b[0m",
      "\u001b[0;31mTypeError\u001b[0m                                 Traceback (most recent call last)",
      "\u001b[0;32m<timed exec>\u001b[0m in \u001b[0;36m<module>\u001b[0;34m\u001b[0m\n",
      "\u001b[0;32m<ipython-input-31-06b933c24a5e>\u001b[0m in \u001b[0;36mtrain_model\u001b[0;34m(model, size, conv_feat, labels, epochs, optimizer, train, shuffle)\u001b[0m\n\u001b[1;32m     15\u001b[0m         \u001b[0;32mfor\u001b[0m \u001b[0minputs\u001b[0m\u001b[0;34m,\u001b[0m\u001b[0mclasses\u001b[0m \u001b[0;32min\u001b[0m \u001b[0mbatches\u001b[0m\u001b[0;34m:\u001b[0m\u001b[0;34m\u001b[0m\u001b[0;34m\u001b[0m\u001b[0m\n\u001b[1;32m     16\u001b[0m             \u001b[0;32mif\u001b[0m \u001b[0muse_gpu\u001b[0m\u001b[0;34m:\u001b[0m\u001b[0;34m\u001b[0m\u001b[0;34m\u001b[0m\u001b[0m\n\u001b[0;32m---> 17\u001b[0;31m                 \u001b[0minputs\u001b[0m \u001b[0;34m,\u001b[0m \u001b[0mclasses\u001b[0m \u001b[0;34m=\u001b[0m \u001b[0mtorch\u001b[0m\u001b[0;34m.\u001b[0m\u001b[0mfrom_numpy\u001b[0m\u001b[0;34m(\u001b[0m\u001b[0minputs\u001b[0m\u001b[0;34m)\u001b[0m\u001b[0;34m.\u001b[0m\u001b[0mcuda\u001b[0m\u001b[0;34m(\u001b[0m\u001b[0;34m)\u001b[0m\u001b[0;34m,\u001b[0m \u001b[0mtorch\u001b[0m\u001b[0;34m.\u001b[0m\u001b[0mfrom_numpy\u001b[0m\u001b[0;34m(\u001b[0m\u001b[0mclasses\u001b[0m\u001b[0;34m)\u001b[0m\u001b[0;34m.\u001b[0m\u001b[0mcuda\u001b[0m\u001b[0;34m(\u001b[0m\u001b[0;34m)\u001b[0m\u001b[0;34m\u001b[0m\u001b[0;34m\u001b[0m\u001b[0m\n\u001b[0m\u001b[1;32m     18\u001b[0m             \u001b[0;32melse\u001b[0m\u001b[0;34m:\u001b[0m\u001b[0;34m\u001b[0m\u001b[0;34m\u001b[0m\u001b[0m\n\u001b[1;32m     19\u001b[0m                 \u001b[0minputs\u001b[0m \u001b[0;34m,\u001b[0m \u001b[0mclasses\u001b[0m \u001b[0;34m=\u001b[0m \u001b[0mtorch\u001b[0m\u001b[0;34m.\u001b[0m\u001b[0mfrom_numpy\u001b[0m\u001b[0;34m(\u001b[0m\u001b[0minputs\u001b[0m\u001b[0;34m)\u001b[0m\u001b[0;34m,\u001b[0m \u001b[0mtorch\u001b[0m\u001b[0;34m.\u001b[0m\u001b[0mfrom_numpy\u001b[0m\u001b[0;34m(\u001b[0m\u001b[0mclasses\u001b[0m\u001b[0;34m)\u001b[0m\u001b[0;34m\u001b[0m\u001b[0;34m\u001b[0m\u001b[0m\n",
      "\u001b[0;31mTypeError\u001b[0m: expected np.ndarray (got list)"
     ]
    }
   ],
   "source": [
    "%%time\n",
    "losses_hist, acc_hist = train_model(model=model_inception,size=dset_sizes['train'],conv_feat=conv_feat_train,labels=labels_train,\n",
    "            epochs=10,optimizer=optimizer_vgg,train=True,shuffle=False)"
   ]
  },
  {
   "cell_type": "code",
   "execution_count": 57,
   "metadata": {
    "scrolled": true
   },
   "outputs": [
    {
     "name": "stdout",
     "output_type": "stream",
     "text": [
      "Epoch: 0 ===============================================\n",
      "Batch 1 - Loss: 0.1453 Acc: 0.0000\n",
      "Batch 2 - Loss: 0.1460 Acc: 0.0000\n",
      "Batch 3 - Loss: 0.1449 Acc: 0.0000\n",
      "Batch 4 - Loss: 0.1449 Acc: 0.0000\n",
      "Batch 5 - Loss: 0.1454 Acc: 0.0000\n",
      "Batch 6 - Loss: 0.1470 Acc: 0.0000\n",
      "Batch 7 - Loss: 0.1462 Acc: 0.0000\n",
      "Batch 8 - Loss: 0.1444 Acc: 0.0000\n",
      "Batch 9 - Loss: 0.1454 Acc: 0.0000\n",
      "Batch 10 - Loss: 0.1448 Acc: 0.0000\n",
      "Batch 11 - Loss: 0.1452 Acc: 0.0000\n",
      "Batch 12 - Loss: 0.1446 Acc: 0.0000\n",
      "Batch 13 - Loss: 0.1435 Acc: 0.0000\n",
      "Batch 14 - Loss: 0.1453 Acc: 0.0000\n",
      "Batch 15 - Loss: 0.1457 Acc: 0.0000\n",
      "Batch 16 - Loss: 0.1462 Acc: 0.0000\n",
      "Batch 17 - Loss: 0.1462 Acc: 0.0000\n",
      "Batch 18 - Loss: 0.1458 Acc: 0.0000\n",
      "Batch 19 - Loss: 0.1446 Acc: 0.0000\n",
      "Batch 20 - Loss: 0.1434 Acc: 0.0000\n",
      "Batch 21 - Loss: 0.1442 Acc: 0.0000\n",
      "Batch 22 - Loss: 0.1441 Acc: 0.0000\n",
      "Batch 23 - Loss: 0.1445 Acc: 0.0000\n",
      "Batch 24 - Loss: 0.1455 Acc: 0.0000\n",
      "Batch 25 - Loss: 0.1450 Acc: 0.0000\n",
      "Batch 26 - Loss: 0.1457 Acc: 0.0000\n",
      "Batch 27 - Loss: 0.1476 Acc: 0.0000\n",
      "Batch 28 - Loss: 0.1437 Acc: 0.0000\n",
      "Batch 29 - Loss: 0.1431 Acc: 0.0000\n",
      "Batch 30 - Loss: 0.1441 Acc: 0.0000\n",
      "Batch 31 - Loss: 0.1456 Acc: 0.0000\n",
      "Batch 32 - Loss: 0.1470 Acc: 0.0000\n",
      "Batch 33 - Loss: 0.1442 Acc: 0.0000\n",
      "Batch 34 - Loss: 0.1465 Acc: 0.0000\n",
      "Batch 35 - Loss: 0.1445 Acc: 0.0000\n",
      "Batch 36 - Loss: 0.1446 Acc: 0.0000\n",
      "Batch 37 - Loss: 0.1465 Acc: 0.0000\n",
      "Batch 38 - Loss: 0.1442 Acc: 0.0000\n",
      "Batch 39 - Loss: 0.1448 Acc: 0.0000\n",
      "Batch 40 - Loss: 0.1460 Acc: 0.0000\n",
      "Batch 41 - Loss: 0.1451 Acc: 0.0000\n",
      "Batch 42 - Loss: 0.1457 Acc: 0.0000\n",
      "Batch 43 - Loss: 0.1448 Acc: 0.0000\n",
      "Batch 44 - Loss: 0.1449 Acc: 0.0000\n",
      "Batch 45 - Loss: 0.1464 Acc: 0.0000\n",
      "Batch 46 - Loss: 0.1462 Acc: 0.0000\n",
      "Batch 47 - Loss: 0.1429 Acc: 0.0000\n",
      "Batch 48 - Loss: 0.1459 Acc: 0.0000\n",
      "Batch 49 - Loss: 0.1471 Acc: 0.0000\n",
      "Batch 50 - Loss: 0.1461 Acc: 0.0000\n",
      "Batch 51 - Loss: 0.1436 Acc: 0.0000\n",
      "Batch 52 - Loss: 0.1437 Acc: 0.0000\n",
      "Batch 53 - Loss: 0.1459 Acc: 0.0000\n",
      "Batch 54 - Loss: 0.1462 Acc: 0.0000\n",
      "Batch 55 - Loss: 0.1452 Acc: 0.0000\n",
      "Batch 56 - Loss: 0.1453 Acc: 0.0000\n",
      "Batch 57 - Loss: 0.1473 Acc: 0.0000\n",
      "Batch 58 - Loss: 0.1482 Acc: 0.0000\n",
      "Batch 59 - Loss: 0.1444 Acc: 0.0000\n",
      "Batch 60 - Loss: 0.1436 Acc: 0.0000\n",
      "Batch 61 - Loss: 0.1455 Acc: 0.0000\n",
      "Batch 62 - Loss: 0.1447 Acc: 0.0000\n",
      "Batch 63 - Loss: 0.1433 Acc: 0.0000\n",
      "Batch 64 - Loss: 0.1442 Acc: 0.0000\n",
      "Batch 65 - Loss: 0.1443 Acc: 0.0000\n",
      "Batch 66 - Loss: 0.1442 Acc: 0.0000\n",
      "Batch 67 - Loss: 0.1445 Acc: 0.0000\n",
      "Batch 68 - Loss: 0.1428 Acc: 0.0000\n",
      "Batch 69 - Loss: 0.1421 Acc: 0.0000\n",
      "Batch 70 - Loss: 0.1447 Acc: 0.0000\n",
      "Batch 71 - Loss: 0.1430 Acc: 0.0000\n",
      "Batch 72 - Loss: 0.1439 Acc: 0.0000\n",
      "Batch 73 - Loss: 0.1422 Acc: 0.0000\n",
      "Batch 74 - Loss: 0.1454 Acc: 0.0000\n",
      "Batch 75 - Loss: 0.1453 Acc: 0.0000\n",
      "Batch 76 - Loss: 0.1423 Acc: 0.0000\n",
      "Batch 77 - Loss: 0.1458 Acc: 0.0000\n",
      "Batch 78 - Loss: 0.1431 Acc: 0.0000\n",
      "Batch 79 - Loss: 0.1437 Acc: 0.0000\n",
      "Batch 80 - Loss: 0.1443 Acc: 0.0000\n",
      "Batch 81 - Loss: 0.1442 Acc: 0.0000\n",
      "Batch 82 - Loss: 0.1438 Acc: 0.0000\n",
      "Batch 83 - Loss: 0.1442 Acc: 0.0000\n",
      "Batch 84 - Loss: 0.1444 Acc: 0.0000\n",
      "Batch 85 - Loss: 0.1445 Acc: 0.0000\n",
      "Batch 86 - Loss: 0.1440 Acc: 0.0000\n",
      "Batch 87 - Loss: 0.1443 Acc: 0.0000\n",
      "Batch 88 - Loss: 0.1447 Acc: 0.0000\n",
      "Batch 89 - Loss: 0.1437 Acc: 0.0000\n",
      "Batch 90 - Loss: 0.1419 Acc: 0.0000\n",
      "Batch 91 - Loss: 0.1449 Acc: 0.0000\n",
      "Batch 92 - Loss: 0.1457 Acc: 0.0000\n",
      "Batch 93 - Loss: 0.1463 Acc: 0.0000\n",
      "Batch 94 - Loss: 0.1455 Acc: 0.0000\n",
      "Batch 95 - Loss: 0.1456 Acc: 0.0000\n",
      "Batch 96 - Loss: 0.1425 Acc: 0.0000\n",
      "Batch 97 - Loss: 0.1460 Acc: 0.0000\n",
      "Batch 98 - Loss: 0.1435 Acc: 0.0000\n",
      "Batch 99 - Loss: 0.1450 Acc: 0.0000\n",
      "Batch 100 - Loss: 0.1446 Acc: 0.0000\n",
      "Batch 101 - Loss: 0.1440 Acc: 0.0000\n",
      "Batch 102 - Loss: 0.1454 Acc: 0.0000\n",
      "Batch 103 - Loss: 0.1443 Acc: 0.0000\n",
      "Batch 104 - Loss: 0.1470 Acc: 0.0000\n",
      "Batch 105 - Loss: 0.1442 Acc: 0.0000\n",
      "Batch 106 - Loss: 0.1427 Acc: 0.0000\n",
      "Batch 107 - Loss: 0.1444 Acc: 0.0000\n",
      "Batch 108 - Loss: 0.1435 Acc: 0.0000\n",
      "Batch 109 - Loss: 0.1435 Acc: 0.0000\n",
      "Batch 110 - Loss: 0.1468 Acc: 0.0000\n",
      "Batch 111 - Loss: 0.1441 Acc: 0.0000\n",
      "Batch 112 - Loss: 0.1442 Acc: 0.0000\n",
      "Batch 113 - Loss: 0.1433 Acc: 0.0000\n",
      "Batch 114 - Loss: 0.1457 Acc: 0.0000\n",
      "Batch 115 - Loss: 0.1450 Acc: 0.0000\n",
      "Batch 116 - Loss: 0.1432 Acc: 0.0000\n",
      "Batch 117 - Loss: 0.1434 Acc: 0.0000\n",
      "Batch 118 - Loss: 0.1437 Acc: 0.0000\n",
      "Batch 119 - Loss: 0.1441 Acc: 0.0000\n",
      "Batch 120 - Loss: 0.1462 Acc: 0.0000\n",
      "Batch 121 - Loss: 0.1454 Acc: 0.0000\n",
      "Batch 122 - Loss: 0.1425 Acc: 0.0000\n",
      "Batch 123 - Loss: 0.1451 Acc: 0.0000\n",
      "Batch 124 - Loss: 0.1449 Acc: 0.0000\n",
      "Batch 125 - Loss: 0.1438 Acc: 0.0000\n",
      "Batch 126 - Loss: 0.1457 Acc: 0.0000\n",
      "Batch 127 - Loss: 0.1433 Acc: 0.0000\n",
      "Batch 128 - Loss: 0.1440 Acc: 0.0000\n",
      "Batch 129 - Loss: 0.1454 Acc: 0.0000\n",
      "Batch 130 - Loss: 0.1445 Acc: 0.0000\n",
      "Batch 131 - Loss: 0.1450 Acc: 0.0000\n",
      "Batch 132 - Loss: 0.1418 Acc: 0.0000\n",
      "Batch 133 - Loss: 0.1438 Acc: 0.0000\n",
      "Batch 134 - Loss: 0.1441 Acc: 0.0000\n",
      "Batch 135 - Loss: 0.1432 Acc: 0.0000\n",
      "Batch 136 - Loss: 0.1429 Acc: 0.0000\n",
      "Batch 137 - Loss: 0.1440 Acc: 0.0000\n",
      "Batch 138 - Loss: 0.1457 Acc: 0.0000\n",
      "Batch 139 - Loss: 0.1455 Acc: 0.0000\n",
      "Batch 140 - Loss: 0.1442 Acc: 0.0000\n",
      "Batch 141 - Loss: 0.1448 Acc: 0.0000\n",
      "Batch 142 - Loss: 0.1447 Acc: 0.0000\n",
      "Batch 143 - Loss: 0.1441 Acc: 0.0000\n",
      "Batch 144 - Loss: 0.1440 Acc: 0.0000\n",
      "Batch 145 - Loss: 0.1447 Acc: 0.0000\n",
      "Batch 146 - Loss: 0.1451 Acc: 0.0000\n",
      "Batch 147 - Loss: 0.1445 Acc: 0.0000\n",
      "Batch 148 - Loss: 0.1423 Acc: 0.0000\n",
      "Batch 149 - Loss: 0.1429 Acc: 0.0000\n",
      "Batch 150 - Loss: 0.1442 Acc: 0.0000\n",
      "Batch 151 - Loss: 0.1450 Acc: 0.0000\n",
      "Batch 152 - Loss: 0.1456 Acc: 0.0000\n",
      "Batch 153 - Loss: 0.1447 Acc: 0.0000\n",
      "Batch 154 - Loss: 0.1445 Acc: 0.0000\n",
      "Batch 155 - Loss: 0.1443 Acc: 0.0000\n",
      "Batch 156 - Loss: 0.1457 Acc: 0.0000\n",
      "Batch 157 - Loss: 0.1438 Acc: 0.0000\n",
      "Batch 158 - Loss: 0.1453 Acc: 0.0000\n",
      "Batch 159 - Loss: 0.1453 Acc: 0.0000\n",
      "Batch 160 - Loss: 0.1445 Acc: 0.0000\n",
      "Batch 161 - Loss: 0.1421 Acc: 0.0000\n",
      "Batch 162 - Loss: 0.1454 Acc: 0.0000\n",
      "Batch 163 - Loss: 0.1414 Acc: 0.0000\n",
      "Batch 164 - Loss: 0.1449 Acc: 0.0000\n",
      "Batch 165 - Loss: 0.1417 Acc: 0.0000\n",
      "Batch 166 - Loss: 0.1440 Acc: 0.0000\n",
      "Batch 167 - Loss: 0.1429 Acc: 0.0000\n",
      "Batch 168 - Loss: 0.1441 Acc: 0.0000\n",
      "Batch 169 - Loss: 0.1437 Acc: 0.0000\n",
      "Batch 170 - Loss: 0.1441 Acc: 0.0000\n",
      "Batch 171 - Loss: 0.1436 Acc: 0.0000\n",
      "Batch 172 - Loss: 0.1445 Acc: 0.0000\n",
      "Batch 173 - Loss: 0.1429 Acc: 0.0000\n",
      "Batch 174 - Loss: 0.1474 Acc: 0.0000\n",
      "Batch 175 - Loss: 0.1440 Acc: 0.0000\n",
      "Batch 176 - Loss: 0.1468 Acc: 0.0000\n",
      "Batch 177 - Loss: 0.1463 Acc: 0.0000\n",
      "Batch 178 - Loss: 0.1428 Acc: 0.0000\n",
      "Batch 179 - Loss: 0.1443 Acc: 0.0000\n",
      "Batch 180 - Loss: 0.1452 Acc: 0.0000\n",
      "Batch 181 - Loss: 0.1444 Acc: 0.0000\n",
      "Batch 182 - Loss: 0.1451 Acc: 0.0000\n",
      "Batch 183 - Loss: 0.1446 Acc: 0.0000\n",
      "Batch 184 - Loss: 0.1443 Acc: 0.0000\n",
      "Batch 185 - Loss: 0.1436 Acc: 0.0000\n",
      "Batch 186 - Loss: 0.1446 Acc: 0.0000\n",
      "Batch 187 - Loss: 0.1445 Acc: 0.0000\n",
      "Batch 188 - Loss: 0.1426 Acc: 0.0000\n",
      "Batch 189 - Loss: 0.1425 Acc: 0.0000\n",
      "Batch 190 - Loss: 0.1413 Acc: 0.0000\n",
      "Batch 191 - Loss: 0.1443 Acc: 0.0000\n",
      "Batch 192 - Loss: 0.1420 Acc: 0.0000\n",
      "Batch 193 - Loss: 0.1444 Acc: 0.0000\n",
      "Batch 194 - Loss: 0.1475 Acc: 0.0000\n",
      "Batch 195 - Loss: 0.1451 Acc: 0.0000\n",
      "Batch 196 - Loss: 0.1429 Acc: 0.0000\n",
      "Batch 197 - Loss: 0.1434 Acc: 0.0000\n",
      "Batch 198 - Loss: 0.1444 Acc: 0.0000\n",
      "Batch 199 - Loss: 0.1424 Acc: 0.0000\n",
      "Batch 200 - Loss: 0.1437 Acc: 0.0000\n",
      "Batch 201 - Loss: 0.1445 Acc: 0.0000\n",
      "Batch 202 - Loss: 0.1427 Acc: 0.0000\n",
      "Batch 203 - Loss: 0.1452 Acc: 0.0000\n",
      "Batch 204 - Loss: 0.1431 Acc: 0.0000\n",
      "Batch 205 - Loss: 0.1430 Acc: 0.0000\n",
      "Batch 206 - Loss: 0.1429 Acc: 0.0000\n",
      "Batch 207 - Loss: 0.1446 Acc: 0.0000\n",
      "Batch 208 - Loss: 0.1444 Acc: 0.0000\n",
      "Batch 209 - Loss: 0.1432 Acc: 0.0000\n",
      "Batch 210 - Loss: 0.1436 Acc: 0.0000\n",
      "Batch 211 - Loss: 0.1440 Acc: 0.0000\n",
      "Batch 212 - Loss: 0.1455 Acc: 0.0000\n",
      "Batch 213 - Loss: 0.1449 Acc: 0.0000\n",
      "Batch 214 - Loss: 0.1444 Acc: 0.0000\n",
      "Batch 215 - Loss: 0.1441 Acc: 0.0000\n",
      "Batch 216 - Loss: 0.1442 Acc: 0.0000\n",
      "Batch 217 - Loss: 0.1441 Acc: 0.0000\n",
      "Batch 218 - Loss: 0.1433 Acc: 0.0000\n",
      "Batch 219 - Loss: 0.1419 Acc: 0.0000\n",
      "Batch 220 - Loss: 0.1445 Acc: 0.0000\n",
      "Batch 221 - Loss: 0.1429 Acc: 0.0000\n",
      "Batch 222 - Loss: 0.1438 Acc: 0.0000\n",
      "Batch 223 - Loss: 0.1441 Acc: 0.0000\n"
     ]
    },
    {
     "name": "stdout",
     "output_type": "stream",
     "text": [
      "Batch 224 - Loss: 0.1436 Acc: 0.0000\n",
      "Batch 225 - Loss: 0.1425 Acc: 0.0000\n",
      "Batch 226 - Loss: 0.1446 Acc: 0.0000\n",
      "Batch 227 - Loss: 0.1437 Acc: 0.0000\n",
      "Batch 228 - Loss: 0.1427 Acc: 0.0000\n",
      "Batch 229 - Loss: 0.1426 Acc: 0.0000\n",
      "Batch 230 - Loss: 0.1445 Acc: 0.0000\n",
      "Batch 231 - Loss: 0.1428 Acc: 0.0000\n",
      "Batch 232 - Loss: 0.1440 Acc: 0.0000\n",
      "Batch 233 - Loss: 0.1459 Acc: 0.0000\n",
      "Batch 234 - Loss: 0.1439 Acc: 0.0000\n",
      "Batch 235 - Loss: 0.1432 Acc: 0.0000\n",
      "Batch 236 - Loss: 0.1433 Acc: 0.0000\n",
      "Batch 237 - Loss: 0.1431 Acc: 0.0000\n",
      "Batch 238 - Loss: 0.1414 Acc: 0.0000\n",
      "Batch 239 - Loss: 0.1427 Acc: 0.0000\n",
      "Batch 240 - Loss: 0.1442 Acc: 0.0000\n",
      "Batch 241 - Loss: 0.1438 Acc: 0.0000\n",
      "Batch 242 - Loss: 0.1409 Acc: 0.0000\n",
      "Batch 243 - Loss: 0.1418 Acc: 0.0000\n",
      "Batch 244 - Loss: 0.1422 Acc: 0.0000\n",
      "Batch 245 - Loss: 0.1433 Acc: 0.0000\n",
      "Batch 246 - Loss: 0.1443 Acc: 0.0000\n",
      "Batch 247 - Loss: 0.1411 Acc: 0.0000\n",
      "Batch 248 - Loss: 0.1416 Acc: 0.0000\n",
      "Batch 249 - Loss: 0.1442 Acc: 0.0000\n",
      "Batch 250 - Loss: 0.1427 Acc: 0.0000\n",
      "Batch 251 - Loss: 0.1418 Acc: 0.0000\n",
      "Batch 252 - Loss: 0.1425 Acc: 0.0000\n",
      "Batch 253 - Loss: 0.1436 Acc: 0.0000\n",
      "Batch 254 - Loss: 0.1442 Acc: 0.0000\n",
      "Batch 255 - Loss: 0.1422 Acc: 0.0000\n",
      "Batch 256 - Loss: 0.1417 Acc: 0.0000\n",
      "Batch 257 - Loss: 0.1428 Acc: 0.0000\n",
      "Batch 258 - Loss: 0.1416 Acc: 0.0000\n",
      "Batch 259 - Loss: 0.1439 Acc: 0.0000\n",
      "Batch 260 - Loss: 0.1430 Acc: 0.0000\n",
      "Batch 261 - Loss: 0.1420 Acc: 0.0000\n",
      "Batch 262 - Loss: 0.1428 Acc: 0.0000\n",
      "Batch 263 - Loss: 0.1438 Acc: 0.0000\n",
      "Batch 264 - Loss: 0.1424 Acc: 0.0000\n",
      "Batch 265 - Loss: 0.1422 Acc: 0.0000\n",
      "Batch 266 - Loss: 0.1430 Acc: 0.0000\n",
      "Batch 267 - Loss: 0.1414 Acc: 0.0000\n",
      "Batch 268 - Loss: 0.1442 Acc: 0.0000\n",
      "Batch 269 - Loss: 0.1448 Acc: 0.0000\n",
      "Batch 270 - Loss: 0.1423 Acc: 0.0000\n",
      "Batch 271 - Loss: 0.1431 Acc: 0.0000\n",
      "Batch 272 - Loss: 0.1434 Acc: 0.0000\n",
      "Batch 273 - Loss: 0.1439 Acc: 0.0000\n",
      "Batch 274 - Loss: 0.1405 Acc: 0.0000\n",
      "Batch 275 - Loss: 0.1439 Acc: 0.0000\n",
      "Batch 276 - Loss: 0.1428 Acc: 0.0000\n",
      "Batch 277 - Loss: 0.1410 Acc: 0.0000\n",
      "Batch 278 - Loss: 0.1421 Acc: 0.0000\n",
      "Batch 279 - Loss: 0.1428 Acc: 0.0000\n",
      "Batch 280 - Loss: 0.1432 Acc: 0.0000\n",
      "Batch 281 - Loss: 0.1427 Acc: 0.0000\n",
      "Batch 282 - Loss: 0.1425 Acc: 0.0000\n",
      "Batch 283 - Loss: 0.1418 Acc: 0.0000\n",
      "Batch 284 - Loss: 0.1434 Acc: 0.0000\n",
      "Batch 285 - Loss: 0.1411 Acc: 0.0000\n",
      "Batch 286 - Loss: 0.1422 Acc: 0.0000\n",
      "Batch 287 - Loss: 0.1432 Acc: 0.0000\n",
      "Batch 288 - Loss: 0.1424 Acc: 0.0000\n",
      "Batch 289 - Loss: 0.1423 Acc: 0.0000\n",
      "Batch 290 - Loss: 0.1423 Acc: 0.0000\n",
      "Batch 291 - Loss: 0.1425 Acc: 0.0000\n",
      "Batch 292 - Loss: 0.1419 Acc: 0.0000\n",
      "Batch 293 - Loss: 0.1427 Acc: 0.0000\n",
      "Batch 294 - Loss: 0.1419 Acc: 0.0000\n",
      "Batch 295 - Loss: 0.1420 Acc: 0.0000\n",
      "Batch 296 - Loss: 0.1427 Acc: 0.0000\n",
      "Batch 297 - Loss: 0.1455 Acc: 0.0000\n",
      "Batch 298 - Loss: 0.1433 Acc: 0.0000\n",
      "Batch 299 - Loss: 0.1436 Acc: 0.0000\n",
      "Batch 300 - Loss: 0.1429 Acc: 0.0000\n",
      "Batch 301 - Loss: 0.1425 Acc: 0.0000\n",
      "Batch 302 - Loss: 0.1426 Acc: 0.0000\n",
      "Batch 303 - Loss: 0.1417 Acc: 0.0000\n",
      "Batch 304 - Loss: 0.1433 Acc: 0.0000\n",
      "Batch 305 - Loss: 0.1443 Acc: 0.0000\n",
      "Batch 306 - Loss: 0.1417 Acc: 0.0000\n",
      "Batch 307 - Loss: 0.1414 Acc: 0.0000\n",
      "Batch 308 - Loss: 0.1422 Acc: 0.0000\n",
      "Batch 309 - Loss: 0.1449 Acc: 0.0000\n",
      "Batch 310 - Loss: 0.1414 Acc: 0.0000\n"
     ]
    },
    {
     "name": "stderr",
     "output_type": "stream",
     "text": [
      "Traceback (most recent call last):\n",
      "  File \"/home/foodlovers/miniconda3/lib/python3.7/multiprocessing/queues.py\", line 242, in _feed\n",
      "    send_bytes(obj)\n",
      "  File \"/home/foodlovers/miniconda3/lib/python3.7/multiprocessing/connection.py\", line 200, in send_bytes\n",
      "    self._send_bytes(m[offset:offset + size])\n",
      "  File \"/home/foodlovers/miniconda3/lib/python3.7/multiprocessing/connection.py\", line 404, in _send_bytes\n",
      "    self._send(header + buf)\n",
      "Traceback (most recent call last):\n",
      "  File \"/home/foodlovers/miniconda3/lib/python3.7/multiprocessing/queues.py\", line 242, in _feed\n",
      "    send_bytes(obj)\n",
      "  File \"/home/foodlovers/miniconda3/lib/python3.7/multiprocessing/connection.py\", line 200, in send_bytes\n",
      "    self._send_bytes(m[offset:offset + size])\n",
      "  File \"/home/foodlovers/miniconda3/lib/python3.7/multiprocessing/connection.py\", line 404, in _send_bytes\n",
      "    self._send(header + buf)\n",
      "  File \"/home/foodlovers/miniconda3/lib/python3.7/multiprocessing/connection.py\", line 368, in _send\n",
      "    n = write(self._handle, buf)\n",
      "BrokenPipeError: [Errno 32] Broken pipe\n",
      "Traceback (most recent call last):\n",
      "  File \"/home/foodlovers/miniconda3/lib/python3.7/multiprocessing/queues.py\", line 242, in _feed\n",
      "    send_bytes(obj)\n",
      "  File \"/home/foodlovers/miniconda3/lib/python3.7/multiprocessing/connection.py\", line 200, in send_bytes\n",
      "    self._send_bytes(m[offset:offset + size])\n",
      "  File \"/home/foodlovers/miniconda3/lib/python3.7/multiprocessing/connection.py\", line 404, in _send_bytes\n",
      "    self._send(header + buf)\n",
      "  File \"/home/foodlovers/miniconda3/lib/python3.7/multiprocessing/connection.py\", line 368, in _send\n",
      "    n = write(self._handle, buf)\n",
      "BrokenPipeError: [Errno 32] Broken pipe\n",
      "Traceback (most recent call last):\n",
      "  File \"/home/foodlovers/miniconda3/lib/python3.7/multiprocessing/queues.py\", line 242, in _feed\n",
      "    send_bytes(obj)\n",
      "  File \"/home/foodlovers/miniconda3/lib/python3.7/multiprocessing/connection.py\", line 200, in send_bytes\n",
      "    self._send_bytes(m[offset:offset + size])\n",
      "  File \"/home/foodlovers/miniconda3/lib/python3.7/multiprocessing/connection.py\", line 404, in _send_bytes\n",
      "    self._send(header + buf)\n",
      "  File \"/home/foodlovers/miniconda3/lib/python3.7/multiprocessing/connection.py\", line 368, in _send\n",
      "    n = write(self._handle, buf)\n",
      "BrokenPipeError: [Errno 32] Broken pipe\n",
      "  File \"/home/foodlovers/miniconda3/lib/python3.7/multiprocessing/connection.py\", line 368, in _send\n",
      "    n = write(self._handle, buf)\n",
      "BrokenPipeError: [Errno 32] Broken pipe\n",
      "Traceback (most recent call last):\n",
      "  File \"/home/foodlovers/miniconda3/lib/python3.7/multiprocessing/queues.py\", line 242, in _feed\n",
      "    send_bytes(obj)\n",
      "  File \"/home/foodlovers/miniconda3/lib/python3.7/multiprocessing/connection.py\", line 200, in send_bytes\n",
      "    self._send_bytes(m[offset:offset + size])\n",
      "  File \"/home/foodlovers/miniconda3/lib/python3.7/multiprocessing/connection.py\", line 404, in _send_bytes\n",
      "    self._send(header + buf)\n",
      "  File \"/home/foodlovers/miniconda3/lib/python3.7/multiprocessing/connection.py\", line 368, in _send\n",
      "    n = write(self._handle, buf)\n",
      "BrokenPipeError: [Errno 32] Broken pipe\n",
      "Traceback (most recent call last):\n",
      "  File \"/home/foodlovers/miniconda3/lib/python3.7/multiprocessing/queues.py\", line 242, in _feed\n",
      "    send_bytes(obj)\n",
      "  File \"/home/foodlovers/miniconda3/lib/python3.7/multiprocessing/connection.py\", line 200, in send_bytes\n",
      "    self._send_bytes(m[offset:offset + size])\n",
      "  File \"/home/foodlovers/miniconda3/lib/python3.7/multiprocessing/connection.py\", line 404, in _send_bytes\n",
      "    self._send(header + buf)\n",
      "  File \"/home/foodlovers/miniconda3/lib/python3.7/multiprocessing/connection.py\", line 368, in _send\n",
      "    n = write(self._handle, buf)\n",
      "BrokenPipeError: [Errno 32] Broken pipe\n"
     ]
    },
    {
     "ename": "KeyboardInterrupt",
     "evalue": "",
     "output_type": "error",
     "traceback": [
      "\u001b[0;31m---------------------------------------------------------------------------\u001b[0m",
      "\u001b[0;31mKeyboardInterrupt\u001b[0m                         Traceback (most recent call last)",
      "\u001b[0;32m<ipython-input-57-97756359fae0>\u001b[0m in \u001b[0;36m<module>\u001b[0;34m\u001b[0m\n\u001b[1;32m     24\u001b[0m         \u001b[0m_\u001b[0m\u001b[0;34m,\u001b[0m\u001b[0mpreds\u001b[0m \u001b[0;34m=\u001b[0m \u001b[0mtorch\u001b[0m\u001b[0;34m.\u001b[0m\u001b[0mmax\u001b[0m\u001b[0;34m(\u001b[0m\u001b[0moutputs\u001b[0m\u001b[0;34m.\u001b[0m\u001b[0mdata\u001b[0m\u001b[0;34m,\u001b[0m\u001b[0;36m1\u001b[0m\u001b[0;34m)\u001b[0m\u001b[0;34m\u001b[0m\u001b[0;34m\u001b[0m\u001b[0m\n\u001b[1;32m     25\u001b[0m         \u001b[0;31m# statistics\u001b[0m\u001b[0;34m\u001b[0m\u001b[0;34m\u001b[0m\u001b[0;34m\u001b[0m\u001b[0m\n\u001b[0;32m---> 26\u001b[0;31m         \u001b[0mbatch_loss\u001b[0m \u001b[0;34m=\u001b[0m \u001b[0mloss\u001b[0m\u001b[0;34m.\u001b[0m\u001b[0mdata\u001b[0m\u001b[0;34m.\u001b[0m\u001b[0mitem\u001b[0m\u001b[0;34m(\u001b[0m\u001b[0;34m)\u001b[0m\u001b[0;34m\u001b[0m\u001b[0;34m\u001b[0m\u001b[0m\n\u001b[0m\u001b[1;32m     27\u001b[0m         \u001b[0mbatch_corrects\u001b[0m \u001b[0;34m=\u001b[0m \u001b[0mtorch\u001b[0m\u001b[0;34m.\u001b[0m\u001b[0msum\u001b[0m\u001b[0;34m(\u001b[0m\u001b[0mpreds\u001b[0m \u001b[0;34m==\u001b[0m \u001b[0mclasses\u001b[0m\u001b[0;34m.\u001b[0m\u001b[0mdata\u001b[0m\u001b[0;34m)\u001b[0m\u001b[0;34m\u001b[0m\u001b[0;34m\u001b[0m\u001b[0m\n\u001b[1;32m     28\u001b[0m         \u001b[0mrunning_loss\u001b[0m \u001b[0;34m+=\u001b[0m \u001b[0mbatch_loss\u001b[0m\u001b[0;34m\u001b[0m\u001b[0;34m\u001b[0m\u001b[0m\n",
      "\u001b[0;31mKeyboardInterrupt\u001b[0m: "
     ]
    }
   ],
   "source": [
    "for epoch in range(10):\n",
    "    print(\"Epoch:\", epoch,\"===============================================\")\n",
    "\n",
    "    total = 0\n",
    "    running_loss = 0.0\n",
    "    running_corrects = 0\n",
    "\n",
    "    cb = 0\n",
    "    for i, data in enumerate(dset_loaders['train'], 0):\n",
    "        cb += 1\n",
    "        # get the inputs\n",
    "        inputs, classes = data\n",
    "\n",
    "        if use_gpu:\n",
    "            inputs , classes = inputs.cuda(), classes.cuda()\n",
    "        \n",
    "        outputs, aux_outputs = model_inception(inputs)\n",
    "        loss = criterion(outputs,classes) + criterion(aux_outputs,classes)         \n",
    "\n",
    "        optimizer_vgg.zero_grad()\n",
    "        loss.backward()\n",
    "        optimizer_vgg.step()\n",
    "\n",
    "        _,preds = torch.max(outputs.data,1)\n",
    "        # statistics\n",
    "        batch_loss = loss.data.item()\n",
    "        batch_corrects = torch.sum(preds == classes.data)\n",
    "        running_loss += batch_loss\n",
    "        running_corrects += batch_corrects\n",
    "        \n",
    "        print('Batch {:d} - Loss: {:.4f} Acc: {:.4f}'.format(cb,\n",
    "                     batch_loss/64, batch_corrects/64))\n",
    "        \n",
    "    epoch_loss = running_loss / dset_sizes['train']\n",
    "    epoch_acc = running_corrects.data.item() / dset_sizes['train']\n",
    "    print('Loss: {:.4f} Acc: {:.4f}'.format(\n",
    "                     epoch_loss, epoch_acc))"
   ]
  },
  {
   "cell_type": "code",
   "execution_count": 50,
   "metadata": {},
   "outputs": [
    {
     "name": "stdout",
     "output_type": "stream",
     "text": [
      "tensor([70, 83, 30, 92,  0, 92, 94, 15, 77, 92, 69, 95, 49, 49, 95, 21, 52,  3,\n",
      "        14, 92, 26, 77, 49, 49, 65, 30, 36, 79, 21, 15, 50, 23, 52, 81, 92, 92,\n",
      "        52, 99, 77,  5, 49, 79, 52, 65, 73,  7, 24,  7, 81,  9, 87, 72, 52, 92,\n",
      "        30, 80, 65, 49, 31, 79, 20, 16, 96, 80], device='cuda:0')\n"
     ]
    }
   ],
   "source": [
    "for i, data in enumerate(dset_loaders['train'], 0):\n",
    "    # get the inputs\n",
    "        inputs, classes = data\n",
    "        \n",
    "        inputs = inputs.cuda()\n",
    "        classes = classes.cuda()\n",
    "        \n",
    "        outputs,_ = model_inception(inputs)\n",
    "        \n",
    "        _,preds = torch.max(outputs.data,1)\n",
    "        \n",
    "        print(preds)\n",
    "        \n",
    "        break"
   ]
  },
  {
   "cell_type": "markdown",
   "metadata": {},
   "source": [
    "Validation"
   ]
  },
  {
   "cell_type": "code",
   "execution_count": null,
   "metadata": {},
   "outputs": [],
   "source": [
    "train_model(conv_feat=conv_feat_val,labels=labels_val,model=model_vgg.classifier\n",
    "            ,size=dset_sizes['test'],train=False,shuffle=False)"
   ]
  },
  {
   "cell_type": "markdown",
   "metadata": {},
   "source": [
    "Plot loss & accuracy history"
   ]
  },
  {
   "cell_type": "code",
   "execution_count": null,
   "metadata": {},
   "outputs": [],
   "source": [
    "plt.plot(losses_hist)\n",
    "plt.title(\"Loss history\")"
   ]
  },
  {
   "cell_type": "code",
   "execution_count": null,
   "metadata": {},
   "outputs": [],
   "source": [
    "plt.plot(acc_hist)\n",
    "plt.title(\"Training accuracy history\")"
   ]
  },
  {
   "cell_type": "markdown",
   "metadata": {},
   "source": [
    "### Some wrong images"
   ]
  },
  {
   "cell_type": "code",
   "execution_count": null,
   "metadata": {},
   "outputs": [],
   "source": [
    "m_softm = nn.Softmax(dim=1)"
   ]
  },
  {
   "cell_type": "code",
   "execution_count": null,
   "metadata": {},
   "outputs": [],
   "source": [
    "count = 0\n",
    "test_set_loader = torch.utils.data.DataLoader(dsets['test'], batch_size=dset_sizes['test'],\n",
    "                                               shuffle=False, num_workers=0)\n",
    "test_imgs, __ = next(iter(test_set_loader))\n",
    "\n",
    "for i in range(dset_sizes['test']):\n",
    "    feat_val = torch.from_numpy(conv_feat_val[i]).view(1,-1)\n",
    "    label_val = labels_val[i]\n",
    "    \n",
    "    _,pred = torch.max(m_softm(model_vgg.classifier(feat_val).data),1)\n",
    "    \n",
    "    predicted = pred.data.cpu().numpy()[0]\n",
    "    \n",
    "    if predicted != label_val:\n",
    "        #print(dsets['test'].imgs[i])\n",
    "        out = torchvision.utils.make_grid(test_imgs[i])\n",
    "        imshow(out, title=dsets['test'].imgs[i])\n",
    "        count += 1\n",
    "    #if count == 20:\n",
    "    #    break"
   ]
  }
 ],
 "metadata": {
  "kernelspec": {
   "display_name": "Python 3",
   "language": "python",
   "name": "python3"
  },
  "language_info": {
   "codemirror_mode": {
    "name": "ipython",
    "version": 3
   },
   "file_extension": ".py",
   "mimetype": "text/x-python",
   "name": "python",
   "nbconvert_exporter": "python",
   "pygments_lexer": "ipython3",
   "version": "3.7.1"
  }
 },
 "nbformat": 4,
 "nbformat_minor": 2
}
